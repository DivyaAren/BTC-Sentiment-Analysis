{
 "cells": [
  {
   "cell_type": "markdown",
   "metadata": {
    "id": "seA2WRw2d_yD"
   },
   "source": [
    "\n",
    "**Scraping Twitter**\n",
    "In this notebook, we make use of Tweepy to download tweets from Twitter."
   ]
  },
  {
   "cell_type": "code",
   "execution_count": null,
   "metadata": {
    "colab": {
     "base_uri": "https://localhost:8080/"
    },
    "executionInfo": {
     "elapsed": 4901,
     "status": "ok",
     "timestamp": 1617279336032,
     "user": {
      "displayName": "Arun Kumar Baluni",
      "photoUrl": "https://lh3.googleusercontent.com/a-/AOh14GjpnPFgH8iot_iC2OKE_jrhwSLM4C9Nu7Nq2gyA=s64",
      "userId": "04613103974193582505"
     },
     "user_tz": -330
    },
    "id": "QkgWTffmeTgN",
    "outputId": "a1e1ca52-a5cf-461a-c99d-c3b7067657b1"
   },
   "outputs": [],
   "source": [
    "!pip install tweepy"
   ]
  },
  {
   "cell_type": "code",
   "execution_count": null,
   "metadata": {
    "colab": {
     "base_uri": "https://localhost:8080/"
    },
    "executionInfo": {
     "elapsed": 47798,
     "status": "ok",
     "timestamp": 1617279378940,
     "user": {
      "displayName": "Arun Kumar Baluni",
      "photoUrl": "https://lh3.googleusercontent.com/a-/AOh14GjpnPFgH8iot_iC2OKE_jrhwSLM4C9Nu7Nq2gyA=s64",
      "userId": "04613103974193582505"
     },
     "user_tz": -330
    },
    "id": "USD3biUOd7c9",
    "outputId": "ae44b2f4-359e-4b6e-bfe3-76aea1b2c1d0"
   },
   "outputs": [],
   "source": [
    "import datetime\n",
    "import time\n",
    "\n",
    "import pandas as pd\n",
    "import tweepy\n",
    "import csv\n",
    "import os\n",
    "from google.colab import drive\n",
    "drive.mount('/content/drive/')\n",
    "os.chdir('/content/drive/MyDrive/CA683')\n"
   ]
  },
  {
   "cell_type": "code",
   "execution_count": null,
   "metadata": {
    "colab": {
     "base_uri": "https://localhost:8080/",
     "height": 35
    },
    "executionInfo": {
     "elapsed": 47813,
     "status": "ok",
     "timestamp": 1617279378970,
     "user": {
      "displayName": "Arun Kumar Baluni",
      "photoUrl": "https://lh3.googleusercontent.com/a-/AOh14GjpnPFgH8iot_iC2OKE_jrhwSLM4C9Nu7Nq2gyA=s64",
      "userId": "04613103974193582505"
     },
     "user_tz": -330
    },
    "id": "SOvFgDLueOy1",
    "outputId": "db66b645-c3f7-4422-a00f-c1bbbe62970a"
   },
   "outputs": [],
   "source": [
    "tweepy.__version__\n"
   ]
  },
  {
   "cell_type": "code",
   "execution_count": null,
   "metadata": {
    "executionInfo": {
     "elapsed": 1042,
     "status": "ok",
     "timestamp": 1617279381536,
     "user": {
      "displayName": "Arun Kumar Baluni",
      "photoUrl": "https://lh3.googleusercontent.com/a-/AOh14GjpnPFgH8iot_iC2OKE_jrhwSLM4C9Nu7Nq2gyA=s64",
      "userId": "04613103974193582505"
     },
     "user_tz": -330
    },
    "id": "ObXIReN7yBYd"
   },
   "outputs": [],
   "source": [
    "def get_dataframe():\n",
    "    return pd.DataFrame(\n",
    "        columns=[\n",
    "            \"date\",\n",
    "            \"username\",\n",
    "            \"to\",\n",
    "            #\"replies\",\n",
    "            \"retweets\",\n",
    "            \"favorites\",\n",
    "            \"text\",\n",
    "            \"mentions\",\n",
    "            \"hashtags\",\n",
    "            \"id\",\n",
    "            \"permalink\",\n",
    "        ]\n",
    "    )"
   ]
  },
  {
   "cell_type": "code",
   "execution_count": null,
   "metadata": {
    "executionInfo": {
     "elapsed": 960,
     "status": "ok",
     "timestamp": 1617279425596,
     "user": {
      "displayName": "Arun Kumar Baluni",
      "photoUrl": "https://lh3.googleusercontent.com/a-/AOh14GjpnPFgH8iot_iC2OKE_jrhwSLM4C9Nu7Nq2gyA=s64",
      "userId": "04613103974193582505"
     },
     "user_tz": -330
    },
    "id": "nSo_xo9D4QKb"
   },
   "outputs": [],
   "source": [
    "class TweetMiner(object):\n",
    "\n",
    "    result_limit = 20\n",
    "    data = []\n",
    "    api = False\n",
    "\n",
    "    # == OAuth Authentication ==\n",
    "\n",
    "    twitter_keys = {\n",
    "        \"consumer_key\": \"Jn4QNKjZovPaGqAyUALV7fNdc\",\n",
    "        \"consumer_secret\": \"p15WFDyHRbFgtfAgUVYh0Xh5Vy24DRxeVvCbPyAz4ILWyiFjul\",\n",
    "        \"access_token_key\": \"2668453056-VY3fknrYqFHxpN5v0drgP16s6Kpfu0qiMuXcLqa\",\n",
    "        \"access_token_secret\": \"fHkoh33BQ6VJ8gfWszmyFHSrFZNeOJm5RUz48QRXvSvOd\"\n",
    "    }\n",
    "\n",
    "    def __init__(self, keys_dict=twitter_keys, api=api):\n",
    "\n",
    "        self.twitter_keys = keys_dict\n",
    "\n",
    "        auth = tweepy.OAuthHandler(\n",
    "            keys_dict[\"consumer_key\"], keys_dict[\"consumer_secret\"]\n",
    "        )\n",
    "        auth.set_access_token(\n",
    "            keys_dict[\"access_token_key\"], keys_dict[\"access_token_secret\"]\n",
    "        )\n",
    "\n",
    "        self.api = tweepy.API(\n",
    "            auth, wait_on_rate_limit=True, wait_on_rate_limit_notify=True\n",
    "        )\n",
    "        self.twitter_keys = keys_dict\n",
    "\n",
    "    def mine_crypto_currency_tweets(self, query):\n",
    "\n",
    "        last_tweet_id = False\n",
    "        page_num = 1\n",
    "\n",
    "        data = get_dataframe()\n",
    "        cypto_query = f\"#{query}\"\n",
    "        print(\" ===== \", query, cypto_query)\n",
    "        for page in tweepy.Cursor(\n",
    "            self.api.search,\n",
    "            q=cypto_query,\n",
    "            lang=\"en\",\n",
    "            tweet_mode=\"extended\",\n",
    "            #since = \"2021-01-27\",\n",
    "            #until = \"2021-01-28\"\n",
    "            count=1  # max_id=1295144957439690000,\n",
    "        ).pages():\n",
    "            print(\" ...... new page\", page_num)\n",
    "            page_num += 1\n",
    "\n",
    "            for tweet in page:\n",
    "                print(tweet)\n",
    "                mined = {\n",
    "                    \"date\": tweet.created_at,\n",
    "                    \"username\": tweet.user.screen_name,\n",
    "                    \"to\": tweet.in_reply_to_screen_name,\n",
    "                    #\"replies\": tweet.reply_count,\n",
    "                    \"retweets\": tweet.retweet_count,\n",
    "                    \"favorites\": tweet.favorite_count,\n",
    "                    \"text\": tweet.full_text,\n",
    "                    \"mentions\": tweet.entities[\"user_mentions\"],\n",
    "                    \"hashtags\": tweet.entities[\"hashtags\"],\n",
    "                    \"id\": tweet.id,\n",
    "                    \"permalink\": str(\"https://twitter.com/\" + tweet.user.screen_name + \"/status/\" + tweet.id_str)\n",
    "                }\n",
    "\n",
    "                data = data.append(mined, ignore_index=True)\n",
    "\n",
    "        date_label = datetime.datetime.now().strftime(\"%Y%m%d_%H%M%S\")\n",
    "        print(data.head(5))\n",
    "        data.to_csv(\"tweet.csv\", index=False)\n",
    "        #!cp 'tweet.csv' '/content/drive/MyDrive/CA683'\n"
   ]
  },
  {
   "cell_type": "code",
   "execution_count": null,
   "metadata": {
    "executionInfo": {
     "elapsed": 982,
     "status": "ok",
     "timestamp": 1617279429401,
     "user": {
      "displayName": "Arun Kumar Baluni",
      "photoUrl": "https://lh3.googleusercontent.com/a-/AOh14GjpnPFgH8iot_iC2OKE_jrhwSLM4C9Nu7Nq2gyA=s64",
      "userId": "04613103974193582505"
     },
     "user_tz": -330
    },
    "id": "k4NqdDrRAHxN"
   },
   "outputs": [],
   "source": [
    "miner = TweetMiner()"
   ]
  },
  {
   "cell_type": "markdown",
   "metadata": {
    "id": "nc6bOgJ5ejoZ"
   },
   "source": [
    "We will capture below data from the downloaded tweets."
   ]
  },
  {
   "cell_type": "code",
   "execution_count": null,
   "metadata": {
    "colab": {
     "base_uri": "https://localhost:8080/"
    },
    "executionInfo": {
     "elapsed": 6274,
     "status": "ok",
     "timestamp": 1617279436266,
     "user": {
      "displayName": "Arun Kumar Baluni",
      "photoUrl": "https://lh3.googleusercontent.com/a-/AOh14GjpnPFgH8iot_iC2OKE_jrhwSLM4C9Nu7Nq2gyA=s64",
      "userId": "04613103974193582505"
     },
     "user_tz": -330
    },
    "id": "FI6RJ3uYAJHv",
    "outputId": "cce8927f-5367-45bb-843e-d0e4ffdf2b62"
   },
   "outputs": [],
   "source": [
    "def main():\n",
    "  miner.mine_crypto_currency_tweets(query=\"Bitcoin or BTC\")\n",
    "\n",
    "main()"
   ]
  }
 ],
 "metadata": {
  "colab": {
   "authorship_tag": "ABX9TyNmtUme+FDDtzjAt5F88S+y",
   "collapsed_sections": [],
   "name": "twitter_miner.ipynb",
   "provenance": [
    {
     "file_id": "1d0MmPK929TSVQn0GFN-gmpjtzppeHMaS",
     "timestamp": 1616977437848
    }
   ]
  },
  "kernelspec": {
   "display_name": "Python 3",
   "language": "python",
   "name": "python3"
  },
  "language_info": {
   "name": "python"
  }
 },
 "nbformat": 4,
 "nbformat_minor": 4
}