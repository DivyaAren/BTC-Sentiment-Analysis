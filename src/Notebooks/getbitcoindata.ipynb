{
  "nbformat": 4,
  "nbformat_minor": 0,
  "metadata": {
    "colab": {
      "name": "getbitcoindata.ipynb",
      "provenance": [],
      "collapsed_sections": []
    },
    "kernelspec": {
      "name": "python3",
      "display_name": "Python 3"
    },
    "language_info": {
      "name": "python"
    }
  },
  "cells": [
    {
      "cell_type": "code",
      "metadata": {
        "id": "4gtD2bKthBaP"
      },
      "source": [
        "# First import the libraries that we need to use\n",
        "import pandas as pd\n",
        "import requests\n",
        "import json"
      ],
      "execution_count": null,
      "outputs": []
    },
    {
      "cell_type": "code",
      "metadata": {
        "colab": {
          "base_uri": "https://localhost:8080/"
        },
        "id": "orh3I_Vshx46",
        "outputId": "9950bde7-4e41-43c8-ad38-1d554613104c"
      },
      "source": [
        "import os\n",
        "from google.colab import drive\n",
        "drive.mount('/content/drive/', force_remount=True)\n",
        "os.chdir('/content/drive/MyDrive/CA683')"
      ],
      "execution_count": null,
      "outputs": [
        {
          "output_type": "stream",
          "text": [
            "Mounted at /content/drive/\n"
          ],
          "name": "stdout"
        }
      ]
    },
    {
      "cell_type": "code",
      "metadata": {
        "id": "27n_LvHZhI9c"
      },
      "source": [
        "def fetch_daily_data(symbol):\n",
        "  pair_split = symbol.split('/')  # symbol must be in format XXX/XXX ie. BTC/EUR\n",
        "  symbol = pair_split[0] + '-' + pair_split[1]\n",
        "  url = f'https://api.pro.coinbase.com/products/{symbol}/candles?granularity=86400'\n",
        "  response = requests.get(url)\n",
        "  if response.status_code == 200:  # check to make sure the response from server is good\n",
        "    data = pd.DataFrame(json.loads(response.text), columns=['unix', 'low', 'high', 'open', 'close', 'volume'])\n",
        "    data['date'] = pd.to_datetime(data['unix'], unit='s')  # convert to a readable date\n",
        "    data['vol_fiat'] = data['volume'] * data['close']      # multiply the BTC volume by closing price to approximate fiat volume\n",
        "    # if we failed to get any data, print an error...otherwise write the file\n",
        "    if data is None:\n",
        "      print(\"Did not return any data from Coinbase for this symbol\")\n",
        "    else:\n",
        "      data.to_csv(f'Coinbase_{pair_split[0] + pair_split[1]}_dailydata.csv', index=False)\n",
        "  else:\n",
        "    print(\"Did not receieve OK response from Coinbase API\")"
      ],
      "execution_count": null,
      "outputs": []
    },
    {
      "cell_type": "code",
      "metadata": {
        "id": "v47sf6tJhk2j"
      },
      "source": [
        "# we set which pair we want to retrieve data for\n",
        "pair = \"BTC/USD\"\n",
        "fetch_daily_data(symbol=pair)"
      ],
      "execution_count": null,
      "outputs": []
    }
  ]
}