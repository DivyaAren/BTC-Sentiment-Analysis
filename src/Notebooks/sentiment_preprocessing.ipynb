{
  "nbformat": 4,
  "nbformat_minor": 0,
  "metadata": {
    "colab": {
      "name": "sentiment_preprocessing.ipynb",
      "provenance": [],
      "collapsed_sections": []
    },
    "environment": {
      "name": "common-cpu.m65",
      "type": "gcloud",
      "uri": "gcr.io/deeplearning-platform-release/base-cpu:m65"
    },
    "kernelspec": {
      "display_name": "Python 3",
      "language": "python",
      "name": "python3"
    },
    "language_info": {
      "codemirror_mode": {
        "name": "ipython",
        "version": 3
      },
      "file_extension": ".py",
      "mimetype": "text/x-python",
      "name": "python",
      "nbconvert_exporter": "python",
      "pygments_lexer": "ipython3",
      "version": "3.7.10"
    }
  },
  "cells": [
    {
      "cell_type": "code",
      "metadata": {
        "colab": {
          "base_uri": "https://localhost:8080/"
        },
        "id": "sghizAyUifPT",
        "outputId": "fe8120a7-dd6b-45c5-d0c2-c73c010d76d3"
      },
      "source": [
        "!pip install -U -q preprocessor\n",
        "!pip install -U -q vaderSentiment\n",
        "!pip install -U -q nltk\n",
        "!pip install -U -q textblob\n",
        "!pip install -U -q gensim\n",
        "!pip install -U -q tqdm\n",
        "!pip install -U -q bs4\n",
        "!pip install python-Levenshtein\n",
        "!pip install -U -q plotly"
      ],
      "execution_count": 1,
      "outputs": [
        {
          "output_type": "stream",
          "text": [
            "  Building wheel for preprocessor (setup.py) ... \u001b[?25l\u001b[?25hdone\n",
            "\u001b[K     |████████████████████████████████| 133kB 10.0MB/s \n",
            "\u001b[K     |████████████████████████████████| 1.5MB 7.8MB/s \n",
            "\u001b[K     |████████████████████████████████| 23.9MB 1.7MB/s \n",
            "\u001b[K     |████████████████████████████████| 81kB 4.8MB/s \n",
            "\u001b[?25hCollecting python-Levenshtein\n",
            "\u001b[?25l  Downloading https://files.pythonhosted.org/packages/2a/dc/97f2b63ef0fa1fd78dcb7195aca577804f6b2b51e712516cc0e902a9a201/python-Levenshtein-0.12.2.tar.gz (50kB)\n",
            "\u001b[K     |████████████████████████████████| 51kB 3.1MB/s \n",
            "\u001b[?25hRequirement already satisfied: setuptools in /usr/local/lib/python3.7/dist-packages (from python-Levenshtein) (54.2.0)\n",
            "Building wheels for collected packages: python-Levenshtein\n",
            "  Building wheel for python-Levenshtein (setup.py) ... \u001b[?25l\u001b[?25hdone\n",
            "  Created wheel for python-Levenshtein: filename=python_Levenshtein-0.12.2-cp37-cp37m-linux_x86_64.whl size=149820 sha256=4405d9cfe29e554fbcdbae804503546e3495aa79f2904c8452df073e27eaf12c\n",
            "  Stored in directory: /root/.cache/pip/wheels/b3/26/73/4b48503bac73f01cf18e52cd250947049a7f339e940c5df8fc\n",
            "Successfully built python-Levenshtein\n",
            "Installing collected packages: python-Levenshtein\n",
            "Successfully installed python-Levenshtein-0.12.2\n",
            "\u001b[K     |████████████████████████████████| 13.2MB 7.2MB/s \n",
            "\u001b[?25h"
          ],
          "name": "stdout"
        }
      ]
    },
    {
      "cell_type": "code",
      "metadata": {
        "id": "mUMhHuJoiTVn",
        "colab": {
          "base_uri": "https://localhost:8080/",
          "height": 17
        },
        "outputId": "45ca4b27-cda6-4b82-af4c-6f42ab9d2dba"
      },
      "source": [
        "import preprocessor as p\n",
        "from textblob import TextBlob\n",
        "from vaderSentiment.vaderSentiment import SentimentIntensityAnalyzer\n",
        "import pandas as pd\n",
        "import numpy as np\n",
        "import gensim\n",
        "import re\n",
        "from tqdm import tqdm\n",
        "from bs4 import BeautifulSoup\n",
        "import matplotlib.pyplot as plt\n",
        "import plotly.offline as py\n",
        "import plotly.graph_objs as go\n",
        "import seaborn as sns\n",
        "import plotly.io as pio\n",
        "py.init_notebook_mode(connected=True)\n",
        "# Required for plotly to run on colab\n",
        "pio.renderers.default = 'colab'\n",
        "%matplotlib inline"
      ],
      "execution_count": 3,
      "outputs": [
        {
          "output_type": "display_data",
          "data": {
            "text/html": [
              "        <script type=\"text/javascript\">\n",
              "        window.PlotlyConfig = {MathJaxConfig: 'local'};\n",
              "        if (window.MathJax) {MathJax.Hub.Config({SVG: {font: \"STIX-Web\"}});}\n",
              "        if (typeof require !== 'undefined') {\n",
              "        require.undef(\"plotly\");\n",
              "        requirejs.config({\n",
              "            paths: {\n",
              "                'plotly': ['https://cdn.plot.ly/plotly-latest.min']\n",
              "            }\n",
              "        });\n",
              "        require(['plotly'], function(Plotly) {\n",
              "            window._Plotly = Plotly;\n",
              "        });\n",
              "        }\n",
              "        </script>\n",
              "        "
            ]
          },
          "metadata": {
            "tags": []
          }
        }
      ]
    },
    {
      "cell_type": "code",
      "metadata": {
        "id": "k6PSkEBqiTV7"
      },
      "source": [
        "tqdm.pandas()"
      ],
      "execution_count": 4,
      "outputs": []
    },
    {
      "cell_type": "markdown",
      "metadata": {
        "id": "OLOalG56XfUu"
      },
      "source": [
        "**Connects to your google drive**"
      ]
    },
    {
      "cell_type": "code",
      "metadata": {
        "colab": {
          "base_uri": "https://localhost:8080/"
        },
        "id": "3LORlw4_jZMn",
        "outputId": "05e4bbf1-e7e1-4811-f9f7-a468224758f1"
      },
      "source": [
        "import os\n",
        "from google.colab import drive\n",
        "drive.mount('/content/drive/')\n",
        "os.chdir('/content/drive/MyDrive/CA683')"
      ],
      "execution_count": 6,
      "outputs": [
        {
          "output_type": "stream",
          "text": [
            "Mounted at /content/drive/\n"
          ],
          "name": "stdout"
        }
      ]
    },
    {
      "cell_type": "markdown",
      "metadata": {
        "id": "h9vhVtw8iTV9"
      },
      "source": [
        "1. Dataframe with 16 M rows\n",
        "2. Note - To process huge data of 3.9 GB with 16M rows of tweet data, this code was processed in Google Cloud machines with GPU\n",
        "3. Drop useless columns"
      ]
    },
    {
      "cell_type": "code",
      "metadata": {
        "id": "hzeJplYfiTV-"
      },
      "source": [
        "\n",
        "# df = pd.read_csv(\"tweets-bulk.csv\", sep=';', nrows= 12143600, header=0, error_bad_lines=False) \n",
        "# 100,000 rows to test the processing with limited data set\n",
        "df = pd.read_csv(\"tweet_1L.csv\")\n",
        "data = df.drop([\"url\",\"fullname\"],axis=1)\n"
      ],
      "execution_count": 7,
      "outputs": []
    },
    {
      "cell_type": "code",
      "metadata": {
        "colab": {
          "base_uri": "https://localhost:8080/"
        },
        "id": "C3MFHHV1jvxq",
        "outputId": "b64c18ef-65d4-411c-bd6f-3a5d8860e0c2"
      },
      "source": [
        "data.head(2)\n",
        "data.shape"
      ],
      "execution_count": null,
      "outputs": [
        {
          "output_type": "execute_result",
          "data": {
            "text/plain": [
              "(100000, 8)"
            ]
          },
          "metadata": {
            "tags": []
          },
          "execution_count": 6
        }
      ]
    },
    {
      "cell_type": "markdown",
      "metadata": {
        "id": "7ZUDCZN2iTWA"
      },
      "source": [
        "**Clean function using a combination of re and preprocessor**"
      ]
    },
    {
      "cell_type": "code",
      "metadata": {
        "colab": {
          "base_uri": "https://localhost:8080/",
          "height": 128
        },
        "id": "W8T1nGrZiTWC",
        "outputId": "5909a923-a2fc-4f59-dd37-bec5a70193a8"
      },
      "source": [
        "def cleaning(text):\n",
        "    cleantext = p.clean(text)\n",
        "    cleantext = re.sub('[^a-zA-Z ]','',cleantext)\n",
        "    return cleantext\n",
        "def clean(data):\n",
        "    #cleanr = re.compile(\"<.*?>\")\n",
        "    cleanr= re.sub(r\"http\\S+\", \"\", data)\n",
        "    \n",
        "    cleanr= re.sub(r\"pic.\\S+\", \"\", cleanr)\n",
        "    #cleanr= re.sub(cleanr, \"\", data)\n",
        "    #cleantext = re.sub(cleanr,'',data)\n",
        "    cleantext = re.sub('[^a-zA-Z# ]','',cleanr)\n",
        "    clean_hash = re.sub(r\"#\\S+\",\"\",cleantext)\n",
        "    \n",
        "    return clean_hash\n",
        "data[\"text\"] = data.progress_apply(lambda x:clean(str(x[\"text\"])),axis=1)\n",
        "\n",
        "data.head(2)"
      ],
      "execution_count": 8,
      "outputs": [
        {
          "output_type": "stream",
          "text": [
            "100%|██████████| 100000/100000 [00:02<00:00, 41256.56it/s]\n"
          ],
          "name": "stderr"
        },
        {
          "output_type": "execute_result",
          "data": {
            "text/html": [
              "<div>\n",
              "<style scoped>\n",
              "    .dataframe tbody tr th:only-of-type {\n",
              "        vertical-align: middle;\n",
              "    }\n",
              "\n",
              "    .dataframe tbody tr th {\n",
              "        vertical-align: top;\n",
              "    }\n",
              "\n",
              "    .dataframe thead th {\n",
              "        text-align: right;\n",
              "    }\n",
              "</style>\n",
              "<table border=\"1\" class=\"dataframe\">\n",
              "  <thead>\n",
              "    <tr style=\"text-align: right;\">\n",
              "      <th></th>\n",
              "      <th>Unnamed: 0</th>\n",
              "      <th>id</th>\n",
              "      <th>user</th>\n",
              "      <th>timestamp</th>\n",
              "      <th>replies</th>\n",
              "      <th>likes</th>\n",
              "      <th>retweets</th>\n",
              "      <th>text</th>\n",
              "    </tr>\n",
              "  </thead>\n",
              "  <tbody>\n",
              "    <tr>\n",
              "      <th>0</th>\n",
              "      <td>0</td>\n",
              "      <td>1132977055300300800</td>\n",
              "      <td>KamdemAbdiel</td>\n",
              "      <td>2019-05-27 11:49:14+00</td>\n",
              "      <td>0</td>\n",
              "      <td>0</td>\n",
              "      <td>0</td>\n",
              "      <td>appena uscito un nuovo video LES CRYPTOMONNAI...</td>\n",
              "    </tr>\n",
              "    <tr>\n",
              "      <th>1</th>\n",
              "      <td>1</td>\n",
              "      <td>1132977073402736640</td>\n",
              "      <td>bitcointe</td>\n",
              "      <td>2019-05-27 11:49:18+00</td>\n",
              "      <td>0</td>\n",
              "      <td>0</td>\n",
              "      <td>0</td>\n",
              "      <td>Cardano Digitize Currencies EOS   ROI ATampT B...</td>\n",
              "    </tr>\n",
              "  </tbody>\n",
              "</table>\n",
              "</div>"
            ],
            "text/plain": [
              "   Unnamed: 0  ...                                               text\n",
              "0           0  ...   appena uscito un nuovo video LES CRYPTOMONNAI...\n",
              "1           1  ...  Cardano Digitize Currencies EOS   ROI ATampT B...\n",
              "\n",
              "[2 rows x 8 columns]"
            ]
          },
          "metadata": {
            "tags": []
          },
          "execution_count": 8
        }
      ]
    },
    {
      "cell_type": "markdown",
      "metadata": {
        "id": "3tONzbR0iTWG"
      },
      "source": [
        "**Tokenize and Stem and then join the text**"
      ]
    },
    {
      "cell_type": "code",
      "metadata": {
        "colab": {
          "base_uri": "https://localhost:8080/"
        },
        "id": "H5DOlhYZiTWH",
        "outputId": "fbffcadc-28c0-47ae-98f8-1438d9cd5357"
      },
      "source": [
        "from nltk.tokenize import sent_tokenize, word_tokenize\n",
        "from nltk.stem import PorterStemmer\n",
        "from nltk.corpus import stopwords\n",
        "import nltk\n",
        "nltk.download('punkt')\n",
        "nltk.download('stopwords')\n",
        "stopwords = nltk.corpus.stopwords.words('english')\n",
        "porter = PorterStemmer()\n",
        "\n",
        "def stemSentence(sentence):\n",
        "    #Tokenize words list\n",
        "    tokens = [word.lower() for sent in nltk.sent_tokenize(sentence) for word in nltk.word_tokenize(sent)]\n",
        "    stem_sentence=[]\n",
        "    # Create list of word tokens after removing the stopwords\n",
        "    filtered_sentence =[] \n",
        "    for word in tokens:\n",
        "      if word not in stopwords:\n",
        "        stem_sentence.append(porter.stem(word))\n",
        "        stem_sentence.append(\" \")\n",
        "    return \"\".join(stem_sentence)"
      ],
      "execution_count": 10,
      "outputs": [
        {
          "output_type": "stream",
          "text": [
            "[nltk_data] Downloading package punkt to /root/nltk_data...\n",
            "[nltk_data]   Package punkt is already up-to-date!\n",
            "[nltk_data] Downloading package stopwords to /root/nltk_data...\n",
            "[nltk_data]   Package stopwords is already up-to-date!\n"
          ],
          "name": "stderr"
        }
      ]
    },
    {
      "cell_type": "markdown",
      "metadata": {
        "id": "vOQgT3RdiTWJ"
      },
      "source": [
        "**TextBlob functions to calculate Sentiment scores**"
      ]
    },
    {
      "cell_type": "code",
      "metadata": {
        "id": "9pHW86FLiTWL"
      },
      "source": [
        "data[\"subjectivity\"] = np.zeros((data.shape[0],1))\n",
        "data[\"blob_sent\"] = np.zeros((data.shape[0],1))\n",
        "def textblob_sent(text):\n",
        "    text = stemSentence(text)\n",
        "    analysis = TextBlob(str(text))\n",
        "    return analysis.sentiment[0]\n",
        "def textblob_sub(text):\n",
        "    text = stemSentence(text)\n",
        "    analysis = TextBlob(str(text))\n",
        "    return analysis.sentiment[1]"
      ],
      "execution_count": 11,
      "outputs": []
    },
    {
      "cell_type": "code",
      "metadata": {
        "colab": {
          "base_uri": "https://localhost:8080/"
        },
        "id": "BhKvaFpYiTWM",
        "outputId": "1ce33511-2d68-492f-8049-cf53ad6a0870"
      },
      "source": [
        "print(data[\"text\"][6])\n",
        "print(textblob_sent(data[\"text\"][6]))\n",
        "print(textblob_sent(stemSentence(data[\"text\"][6])))"
      ],
      "execution_count": 12,
      "outputs": [
        {
          "output_type": "stream",
          "text": [
            "nwoodfine We have been building on the real  SVWhat have you been building on broken BTC\n",
            "-0.1\n",
            "-0.1\n"
          ],
          "name": "stdout"
        }
      ]
    },
    {
      "cell_type": "markdown",
      "metadata": {
        "id": "cs6OKqIoYhRz"
      },
      "source": [
        "**Calculating blob sentiment for every tweet**"
      ]
    },
    {
      "cell_type": "code",
      "metadata": {
        "id": "upnDfWfFiTWS",
        "colab": {
          "base_uri": "https://localhost:8080/"
        },
        "outputId": "b54d4630-9795-4f06-d881-ecdcea26b681"
      },
      "source": [
        "data[\"blob_sent\"] = data.progress_apply(lambda x:textblob_sent(str(x[\"text\"])),axis=1)"
      ],
      "execution_count": 13,
      "outputs": [
        {
          "output_type": "stream",
          "text": [
            "100%|██████████| 100000/100000 [01:17<00:00, 1283.64it/s]\n"
          ],
          "name": "stderr"
        }
      ]
    },
    {
      "cell_type": "markdown",
      "metadata": {
        "id": "z7osHlR3YrwF"
      },
      "source": [
        "**Save the results to save time for processing again**"
      ]
    },
    {
      "cell_type": "code",
      "metadata": {
        "colab": {
          "base_uri": "https://localhost:8080/",
          "height": 546
        },
        "id": "lqwvEifBYlfR",
        "outputId": "47618268-b93b-4e76-93c2-9b817f5e3396"
      },
      "source": [
        "data.to_csv(\"blob_sent_recorded_1L.csv\")\n",
        "data.head(10)"
      ],
      "execution_count": null,
      "outputs": [
        {
          "output_type": "execute_result",
          "data": {
            "text/html": [
              "<div>\n",
              "<style scoped>\n",
              "    .dataframe tbody tr th:only-of-type {\n",
              "        vertical-align: middle;\n",
              "    }\n",
              "\n",
              "    .dataframe tbody tr th {\n",
              "        vertical-align: top;\n",
              "    }\n",
              "\n",
              "    .dataframe thead th {\n",
              "        text-align: right;\n",
              "    }\n",
              "</style>\n",
              "<table border=\"1\" class=\"dataframe\">\n",
              "  <thead>\n",
              "    <tr style=\"text-align: right;\">\n",
              "      <th></th>\n",
              "      <th>Unnamed: 0</th>\n",
              "      <th>id</th>\n",
              "      <th>user</th>\n",
              "      <th>timestamp</th>\n",
              "      <th>replies</th>\n",
              "      <th>likes</th>\n",
              "      <th>retweets</th>\n",
              "      <th>text</th>\n",
              "      <th>subjectivity</th>\n",
              "      <th>blob_sent</th>\n",
              "    </tr>\n",
              "  </thead>\n",
              "  <tbody>\n",
              "    <tr>\n",
              "      <th>0</th>\n",
              "      <td>0</td>\n",
              "      <td>1132977055300300800</td>\n",
              "      <td>KamdemAbdiel</td>\n",
              "      <td>2019-05-27 11:49:14+00</td>\n",
              "      <td>0</td>\n",
              "      <td>0</td>\n",
              "      <td>0</td>\n",
              "      <td>appena uscito un nuovo video LES CRYPTOMONNAI...</td>\n",
              "      <td>0.0</td>\n",
              "      <td>0.0</td>\n",
              "    </tr>\n",
              "    <tr>\n",
              "      <th>1</th>\n",
              "      <td>1</td>\n",
              "      <td>1132977073402736640</td>\n",
              "      <td>bitcointe</td>\n",
              "      <td>2019-05-27 11:49:18+00</td>\n",
              "      <td>0</td>\n",
              "      <td>0</td>\n",
              "      <td>0</td>\n",
              "      <td>Cardano Digitize Currencies EOS   ROI ATampT B...</td>\n",
              "      <td>0.0</td>\n",
              "      <td>0.0</td>\n",
              "    </tr>\n",
              "    <tr>\n",
              "      <th>2</th>\n",
              "      <td>2</td>\n",
              "      <td>1132977023893139456</td>\n",
              "      <td>3eyedbran</td>\n",
              "      <td>2019-05-27 11:49:06+00</td>\n",
              "      <td>0</td>\n",
              "      <td>2</td>\n",
              "      <td>1</td>\n",
              "      <td>Another Test tweet that wasnt caught in the st...</td>\n",
              "      <td>0.0</td>\n",
              "      <td>0.0</td>\n",
              "    </tr>\n",
              "    <tr>\n",
              "      <th>3</th>\n",
              "      <td>3</td>\n",
              "      <td>1132977089089556481</td>\n",
              "      <td>DetroitCrypto</td>\n",
              "      <td>2019-05-27 11:49:22+00</td>\n",
              "      <td>0</td>\n",
              "      <td>0</td>\n",
              "      <td>0</td>\n",
              "      <td>Current Crypto Prices BTC  USDETH  USDLTC  USD...</td>\n",
              "      <td>0.0</td>\n",
              "      <td>0.0</td>\n",
              "    </tr>\n",
              "    <tr>\n",
              "      <th>4</th>\n",
              "      <td>4</td>\n",
              "      <td>1132977092340191232</td>\n",
              "      <td>mmursaleen72</td>\n",
              "      <td>2019-05-27 11:49:23+00</td>\n",
              "      <td>0</td>\n",
              "      <td>0</td>\n",
              "      <td>0</td>\n",
              "      <td>Spiv Nosar Baz BITCOIN Is An Asset amp NOT A C...</td>\n",
              "      <td>0.0</td>\n",
              "      <td>0.0</td>\n",
              "    </tr>\n",
              "    <tr>\n",
              "      <th>5</th>\n",
              "      <td>5</td>\n",
              "      <td>1132977100309319680</td>\n",
              "      <td>0nurTOKA</td>\n",
              "      <td>2019-05-27 11:49:25+00</td>\n",
              "      <td>0</td>\n",
              "      <td>0</td>\n",
              "      <td>0</td>\n",
              "      <td>inceldii yerden kopsun bakalm  ye kadar bir h...</td>\n",
              "      <td>0.0</td>\n",
              "      <td>0.0</td>\n",
              "    </tr>\n",
              "    <tr>\n",
              "      <th>6</th>\n",
              "      <td>6</td>\n",
              "      <td>1132977101638897665</td>\n",
              "      <td>evilrobotted</td>\n",
              "      <td>2019-05-27 11:49:25+00</td>\n",
              "      <td>0</td>\n",
              "      <td>0</td>\n",
              "      <td>0</td>\n",
              "      <td>nwoodfine We have been building on the real  S...</td>\n",
              "      <td>0.0</td>\n",
              "      <td>-0.1</td>\n",
              "    </tr>\n",
              "    <tr>\n",
              "      <th>7</th>\n",
              "      <td>7</td>\n",
              "      <td>1132977108836323330</td>\n",
              "      <td>jabur_guilherme</td>\n",
              "      <td>2019-05-27 11:49:27+00</td>\n",
              "      <td>0</td>\n",
              "      <td>0</td>\n",
              "      <td>0</td>\n",
              "      <td>pedronauck como investidor vc  um timo dev Sor...</td>\n",
              "      <td>0.0</td>\n",
              "      <td>0.0</td>\n",
              "    </tr>\n",
              "    <tr>\n",
              "      <th>8</th>\n",
              "      <td>8</td>\n",
              "      <td>1132977131850350593</td>\n",
              "      <td>INTBICON</td>\n",
              "      <td>2019-05-27 11:49:32+00</td>\n",
              "      <td>0</td>\n",
              "      <td>0</td>\n",
              "      <td>0</td>\n",
              "      <td></td>\n",
              "      <td>0.0</td>\n",
              "      <td>0.0</td>\n",
              "    </tr>\n",
              "    <tr>\n",
              "      <th>9</th>\n",
              "      <td>9</td>\n",
              "      <td>1132977132714561536</td>\n",
              "      <td>MLWright15</td>\n",
              "      <td>2019-05-27 11:49:32+00</td>\n",
              "      <td>0</td>\n",
              "      <td>0</td>\n",
              "      <td>0</td>\n",
              "      <td>CHANGE IS COMINGGET READY Boom Another CB Jab ...</td>\n",
              "      <td>0.0</td>\n",
              "      <td>0.0</td>\n",
              "    </tr>\n",
              "  </tbody>\n",
              "</table>\n",
              "</div>"
            ],
            "text/plain": [
              "   Unnamed: 0                   id  ... subjectivity blob_sent\n",
              "0           0  1132977055300300800  ...          0.0       0.0\n",
              "1           1  1132977073402736640  ...          0.0       0.0\n",
              "2           2  1132977023893139456  ...          0.0       0.0\n",
              "3           3  1132977089089556481  ...          0.0       0.0\n",
              "4           4  1132977092340191232  ...          0.0       0.0\n",
              "5           5  1132977100309319680  ...          0.0       0.0\n",
              "6           6  1132977101638897665  ...          0.0      -0.1\n",
              "7           7  1132977108836323330  ...          0.0       0.0\n",
              "8           8  1132977131850350593  ...          0.0       0.0\n",
              "9           9  1132977132714561536  ...          0.0       0.0\n",
              "\n",
              "[10 rows x 10 columns]"
            ]
          },
          "metadata": {
            "tags": []
          },
          "execution_count": 11
        }
      ]
    },
    {
      "cell_type": "markdown",
      "metadata": {
        "id": "-90gZVyVY2_m"
      },
      "source": [
        "**Subjectivity calculation for each tweet**"
      ]
    },
    {
      "cell_type": "code",
      "metadata": {
        "id": "yXynXN6ZUDdJ",
        "colab": {
          "base_uri": "https://localhost:8080/"
        },
        "outputId": "cf7c6d62-c91a-4e76-ddcb-840816257359"
      },
      "source": [
        "data[\"subjectivity\"] = data.progress_apply(lambda x:textblob_sub(x[\"text\"]),axis=1)\n",
        "data.to_csv(\"subjectivity_recorded_1L.csv\")\n"
      ],
      "execution_count": 14,
      "outputs": [
        {
          "output_type": "stream",
          "text": [
            "100%|██████████| 100000/100000 [01:18<00:00, 1278.89it/s]\n"
          ],
          "name": "stderr"
        }
      ]
    },
    {
      "cell_type": "code",
      "metadata": {
        "colab": {
          "base_uri": "https://localhost:8080/"
        },
        "id": "EydYHBLsYlfS",
        "outputId": "95bb29bc-00cd-43c8-de52-c11c32968d41"
      },
      "source": [
        "data.shape"
      ],
      "execution_count": null,
      "outputs": [
        {
          "output_type": "execute_result",
          "data": {
            "text/plain": [
              "(100000, 10)"
            ]
          },
          "metadata": {
            "tags": []
          },
          "execution_count": 14
        }
      ]
    },
    {
      "cell_type": "markdown",
      "metadata": {
        "id": "JWNX1QPuZBI7"
      },
      "source": [
        "**Drop rows with zero sentiment and sbjectivity**"
      ]
    },
    {
      "cell_type": "code",
      "metadata": {
        "id": "OpNVtSSKYlfU"
      },
      "source": [
        "index_names = data[ (data['subjectivity'] == 0.0) & (data['blob_sent'] == 0.000000)].index\n",
        "  \n",
        "# drop these given row indexes from dataFrame\n",
        "data.drop(index_names, inplace = True)  "
      ],
      "execution_count": 15,
      "outputs": []
    },
    {
      "cell_type": "code",
      "metadata": {
        "colab": {
          "base_uri": "https://localhost:8080/"
        },
        "id": "JjN31x7uYlfV",
        "outputId": "78811be7-c8ef-4afb-b831-a23cd720b96f"
      },
      "source": [
        "data.shape"
      ],
      "execution_count": null,
      "outputs": [
        {
          "output_type": "execute_result",
          "data": {
            "text/plain": [
              "(39652, 10)"
            ]
          },
          "metadata": {
            "tags": []
          },
          "execution_count": 14
        }
      ]
    },
    {
      "cell_type": "markdown",
      "metadata": {
        "id": "nfAJx0ctiTWT"
      },
      "source": [
        "**Vader sentiment**"
      ]
    },
    {
      "cell_type": "code",
      "metadata": {
        "id": "o1jFJvzOiTWU"
      },
      "source": [
        "sid = SentimentIntensityAnalyzer()\n",
        "def vader(text):\n",
        "    score = sid.polarity_scores(text)\n",
        "    return score[\"compound\"]\n"
      ],
      "execution_count": 36,
      "outputs": []
    },
    {
      "cell_type": "markdown",
      "metadata": {
        "id": "btmVb56xZOVu"
      },
      "source": [
        "**VADER sentiment calculation**"
      ]
    },
    {
      "cell_type": "code",
      "metadata": {
        "id": "uZj5dLjFiTWU",
        "colab": {
          "base_uri": "https://localhost:8080/",
          "height": 714
        },
        "outputId": "9e8bf195-8e2c-4597-ef2e-315660ce21d2"
      },
      "source": [
        "data[\"vader_sent\"] = data.progress_apply(lambda x:vader(str(x[\"text\"])),axis=1)\n",
        "data.head(5)"
      ],
      "execution_count": 37,
      "outputs": [
        {
          "output_type": "stream",
          "text": [
            "100%|██████████| 39652/39652 [00:07<00:00, 5060.45it/s]\n"
          ],
          "name": "stderr"
        },
        {
          "output_type": "execute_result",
          "data": {
            "text/html": [
              "<div>\n",
              "<style scoped>\n",
              "    .dataframe tbody tr th:only-of-type {\n",
              "        vertical-align: middle;\n",
              "    }\n",
              "\n",
              "    .dataframe tbody tr th {\n",
              "        vertical-align: top;\n",
              "    }\n",
              "\n",
              "    .dataframe thead th {\n",
              "        text-align: right;\n",
              "    }\n",
              "</style>\n",
              "<table border=\"1\" class=\"dataframe\">\n",
              "  <thead>\n",
              "    <tr style=\"text-align: right;\">\n",
              "      <th></th>\n",
              "      <th>Unnamed: 0</th>\n",
              "      <th>id</th>\n",
              "      <th>user</th>\n",
              "      <th>timestamp</th>\n",
              "      <th>replies</th>\n",
              "      <th>likes</th>\n",
              "      <th>retweets</th>\n",
              "      <th>text</th>\n",
              "      <th>subjectivity</th>\n",
              "      <th>blob_sent</th>\n",
              "      <th>ad_count</th>\n",
              "      <th>adwords</th>\n",
              "      <th>ad_class</th>\n",
              "      <th>prominent_user</th>\n",
              "      <th>key_count</th>\n",
              "      <th>keywords</th>\n",
              "      <th>RT_score</th>\n",
              "      <th>fav_score</th>\n",
              "      <th>date</th>\n",
              "      <th>time</th>\n",
              "      <th>hour_score</th>\n",
              "      <th>daily_score</th>\n",
              "      <th>Daily Weight</th>\n",
              "      <th>hourly Weight</th>\n",
              "      <th>vader_sent</th>\n",
              "    </tr>\n",
              "    <tr>\n",
              "      <th>time</th>\n",
              "      <th></th>\n",
              "      <th></th>\n",
              "      <th></th>\n",
              "      <th></th>\n",
              "      <th></th>\n",
              "      <th></th>\n",
              "      <th></th>\n",
              "      <th></th>\n",
              "      <th></th>\n",
              "      <th></th>\n",
              "      <th></th>\n",
              "      <th></th>\n",
              "      <th></th>\n",
              "      <th></th>\n",
              "      <th></th>\n",
              "      <th></th>\n",
              "      <th></th>\n",
              "      <th></th>\n",
              "      <th></th>\n",
              "      <th></th>\n",
              "      <th></th>\n",
              "      <th></th>\n",
              "      <th></th>\n",
              "      <th></th>\n",
              "      <th></th>\n",
              "    </tr>\n",
              "  </thead>\n",
              "  <tbody>\n",
              "    <tr>\n",
              "      <th>2019-05-27 11:49:22</th>\n",
              "      <td>3</td>\n",
              "      <td>1132977089089556481</td>\n",
              "      <td>DetroitCrypto</td>\n",
              "      <td>2019-05-27 11:49:22+00</td>\n",
              "      <td>0</td>\n",
              "      <td>0</td>\n",
              "      <td>0</td>\n",
              "      <td>Current Crypto Prices BTC  USDETH  USDLTC  USD...</td>\n",
              "      <td>0.400000</td>\n",
              "      <td>0.000000</td>\n",
              "      <td>0</td>\n",
              "      <td>[]</td>\n",
              "      <td>1</td>\n",
              "      <td>0</td>\n",
              "      <td>0</td>\n",
              "      <td>[]</td>\n",
              "      <td>0.000000</td>\n",
              "      <td>0.000000</td>\n",
              "      <td>2019-05-27 11:49:22</td>\n",
              "      <td>2019-05-27 11:49:22</td>\n",
              "      <td>1</td>\n",
              "      <td>0</td>\n",
              "      <td>0.000000</td>\n",
              "      <td>1.000000</td>\n",
              "      <td>0.0000</td>\n",
              "    </tr>\n",
              "    <tr>\n",
              "      <th>2019-05-27 11:49:25</th>\n",
              "      <td>6</td>\n",
              "      <td>1132977101638897665</td>\n",
              "      <td>evilrobotted</td>\n",
              "      <td>2019-05-27 11:49:25+00</td>\n",
              "      <td>0</td>\n",
              "      <td>0</td>\n",
              "      <td>0</td>\n",
              "      <td>nwoodfine We have been building on the real  S...</td>\n",
              "      <td>0.350000</td>\n",
              "      <td>-0.000000</td>\n",
              "      <td>0</td>\n",
              "      <td>[]</td>\n",
              "      <td>1</td>\n",
              "      <td>0</td>\n",
              "      <td>0</td>\n",
              "      <td>[]</td>\n",
              "      <td>0.000000</td>\n",
              "      <td>0.000000</td>\n",
              "      <td>2019-05-27 11:49:25</td>\n",
              "      <td>2019-05-27 11:49:25</td>\n",
              "      <td>1</td>\n",
              "      <td>0</td>\n",
              "      <td>0.000000</td>\n",
              "      <td>1.000000</td>\n",
              "      <td>-0.4767</td>\n",
              "    </tr>\n",
              "    <tr>\n",
              "      <th>2019-05-27 08:13:06</th>\n",
              "      <td>14</td>\n",
              "      <td>1132922663113023489</td>\n",
              "      <td>CCNMarkets</td>\n",
              "      <td>2019-05-27 08:13:06+00</td>\n",
              "      <td>5</td>\n",
              "      <td>167</td>\n",
              "      <td>68</td>\n",
              "      <td>Bitcoin Price Hits  in New  High Whats Driving...</td>\n",
              "      <td>0.497273</td>\n",
              "      <td>12.919815</td>\n",
              "      <td>0</td>\n",
              "      <td>[]</td>\n",
              "      <td>1</td>\n",
              "      <td>0</td>\n",
              "      <td>0</td>\n",
              "      <td>[]</td>\n",
              "      <td>4.219508</td>\n",
              "      <td>5.117994</td>\n",
              "      <td>2019-05-27 08:13:06</td>\n",
              "      <td>2019-05-27 08:13:06</td>\n",
              "      <td>0</td>\n",
              "      <td>0</td>\n",
              "      <td>9.337502</td>\n",
              "      <td>9.337502</td>\n",
              "      <td>0.0000</td>\n",
              "    </tr>\n",
              "    <tr>\n",
              "      <th>2019-05-27 11:49:17</th>\n",
              "      <td>17</td>\n",
              "      <td>1132977067048525824</td>\n",
              "      <td>malfouh</td>\n",
              "      <td>2019-05-27 11:49:17+00</td>\n",
              "      <td>1</td>\n",
              "      <td>1</td>\n",
              "      <td>1</td>\n",
              "      <td>The QLC airdrop  tokens for every QLC holder...</td>\n",
              "      <td>0.850000</td>\n",
              "      <td>0.000000</td>\n",
              "      <td>1</td>\n",
              "      <td>[airdrop]</td>\n",
              "      <td>1</td>\n",
              "      <td>0</td>\n",
              "      <td>0</td>\n",
              "      <td>[]</td>\n",
              "      <td>0.000000</td>\n",
              "      <td>0.000000</td>\n",
              "      <td>2019-05-27 11:49:17</td>\n",
              "      <td>2019-05-27 11:49:17</td>\n",
              "      <td>1</td>\n",
              "      <td>0</td>\n",
              "      <td>0.000000</td>\n",
              "      <td>1.000000</td>\n",
              "      <td>0.0000</td>\n",
              "    </tr>\n",
              "    <tr>\n",
              "      <th>2019-05-27 11:27:22</th>\n",
              "      <td>18</td>\n",
              "      <td>1132971551471603712</td>\n",
              "      <td>BoilingPointLTC</td>\n",
              "      <td>2019-05-27 11:27:22+00</td>\n",
              "      <td>1</td>\n",
              "      <td>19</td>\n",
              "      <td>6</td>\n",
              "      <td>You have roughly  days left to get your    tic...</td>\n",
              "      <td>0.200000</td>\n",
              "      <td>0.000000</td>\n",
              "      <td>0</td>\n",
              "      <td>[]</td>\n",
              "      <td>1</td>\n",
              "      <td>0</td>\n",
              "      <td>0</td>\n",
              "      <td>[]</td>\n",
              "      <td>1.791759</td>\n",
              "      <td>2.944439</td>\n",
              "      <td>2019-05-27 11:27:22</td>\n",
              "      <td>2019-05-27 11:27:22</td>\n",
              "      <td>0</td>\n",
              "      <td>0</td>\n",
              "      <td>4.736198</td>\n",
              "      <td>4.736198</td>\n",
              "      <td>0.0000</td>\n",
              "    </tr>\n",
              "  </tbody>\n",
              "</table>\n",
              "</div>"
            ],
            "text/plain": [
              "                     Unnamed: 0                   id  ... hourly Weight vader_sent\n",
              "time                                                  ...                         \n",
              "2019-05-27 11:49:22           3  1132977089089556481  ...      1.000000     0.0000\n",
              "2019-05-27 11:49:25           6  1132977101638897665  ...      1.000000    -0.4767\n",
              "2019-05-27 08:13:06          14  1132922663113023489  ...      9.337502     0.0000\n",
              "2019-05-27 11:49:17          17  1132977067048525824  ...      1.000000     0.0000\n",
              "2019-05-27 11:27:22          18  1132971551471603712  ...      4.736198     0.0000\n",
              "\n",
              "[5 rows x 25 columns]"
            ]
          },
          "metadata": {
            "tags": []
          },
          "execution_count": 37
        }
      ]
    },
    {
      "cell_type": "markdown",
      "metadata": {
        "id": "Ap0rx-f6ZYxZ"
      },
      "source": [
        "**Weight corresponding to adwords are calculated here**"
      ]
    },
    {
      "cell_type": "code",
      "metadata": {
        "id": "hLJZAdGXiTWV"
      },
      "source": [
        "adwords = [\"give\",\"referral\",\"referal\",\"bonus\",\"signup\",\"invite\",\"freebitcoin\",\"lucky\",\n",
        "          \"lottery\",\"giveaway\",\"coupon\",\"prizes\",\"enter\",\"airdrop\",\"game\",\"contest\",\"bonuses\"]\n",
        "def contains_word(s, w):\n",
        "    return (' ' + w + ' ') in (' ' + s + ' ')\n",
        "def adchecker(text):\n",
        "    words = []\n",
        "    count = 0\n",
        "    for i in adwords:\n",
        "        if (contains_word(text,i)):\n",
        "            count+= 1\n",
        "            words.append(i)\n",
        "    return count\n",
        "def adword(text):\n",
        "    words = []\n",
        "    count = 0\n",
        "    for i in adwords:\n",
        "        if (contains_word(text,i)):\n",
        "            count+= 1\n",
        "            words.append(i)\n",
        "    return words"
      ],
      "execution_count": 17,
      "outputs": []
    },
    {
      "cell_type": "markdown",
      "metadata": {
        "id": "udx6B0LDZj2h"
      },
      "source": [
        "**Computation of adwords weight**"
      ]
    },
    {
      "cell_type": "code",
      "metadata": {
        "colab": {
          "base_uri": "https://localhost:8080/"
        },
        "id": "HEBFr3GyiTWW",
        "outputId": "da0ed517-8dde-4816-bef5-62913469bb60"
      },
      "source": [
        "data[\"ad_count\"] = np.zeros((data.shape[0],1))\n",
        "data[\"adwords\"] = np.zeros((data.shape[0],1))\n",
        "\n",
        "data[\"ad_count\"] = data.progress_apply(lambda x:adchecker(x[\"text\"]),axis=1)\n",
        "data[\"adwords\"] = data.progress_apply(lambda x:adword(x[\"text\"]),axis=1)\n",
        "\n",
        "# data.to_csv(\"clean100.csv\")\n"
      ],
      "execution_count": 18,
      "outputs": [
        {
          "output_type": "stream",
          "text": [
            "100%|██████████| 39652/39652 [00:00<00:00, 40389.82it/s]\n",
            "100%|██████████| 39652/39652 [00:00<00:00, 39996.39it/s]\n"
          ],
          "name": "stderr"
        }
      ]
    },
    {
      "cell_type": "markdown",
      "metadata": {
        "id": "OiY0Dfm3Zt4H"
      },
      "source": [
        "**Classifies whether a tweet is an ad or not**"
      ]
    },
    {
      "cell_type": "code",
      "metadata": {
        "colab": {
          "base_uri": "https://localhost:8080/"
        },
        "id": "_y91n4ZPiTWW",
        "outputId": "b9b617c6-d0ae-4b4a-cff2-ea13d6c29c31"
      },
      "source": [
        "def ad_classifier(x):\n",
        "    try:\n",
        "        if x >1 :\n",
        "            return 0\n",
        "        else:\n",
        "            return 1\n",
        "    except:\n",
        "        print(x)\n",
        "\n",
        "data[\"ad_class\"] = data.progress_apply(lambda x:ad_classifier(int(x[\"ad_count\"])),axis=1)"
      ],
      "execution_count": 19,
      "outputs": [
        {
          "output_type": "stream",
          "text": [
            "100%|██████████| 39652/39652 [00:00<00:00, 71014.31it/s]\n"
          ],
          "name": "stderr"
        }
      ]
    },
    {
      "cell_type": "markdown",
      "metadata": {
        "id": "zBuVwcw-Z3HV"
      },
      "source": [
        "**Checking counts**"
      ]
    },
    {
      "cell_type": "code",
      "metadata": {
        "colab": {
          "base_uri": "https://localhost:8080/"
        },
        "id": "VGN6TWXL3rFS",
        "outputId": "ab68b01d-810b-4787-9661-fa1795705156"
      },
      "source": [
        "data.astype({'ad_count': 'float64'}).dtypes\n",
        "#nlarg = data.nlargest(30,\"ad_count\")\n",
        "count = data[\"ad_class\"].value_counts()\n",
        "print(count)"
      ],
      "execution_count": 20,
      "outputs": [
        {
          "output_type": "stream",
          "text": [
            "1    39604\n",
            "0       48\n",
            "Name: ad_class, dtype: int64\n"
          ],
          "name": "stdout"
        }
      ]
    },
    {
      "cell_type": "markdown",
      "metadata": {
        "id": "KbtTjqNtZ7H6"
      },
      "source": [
        "**Weightage with promising users**"
      ]
    },
    {
      "cell_type": "code",
      "metadata": {
        "id": "opi0cAdm3wFR",
        "colab": {
          "base_uri": "https://localhost:8080/",
          "height": 683
        },
        "outputId": "21bd4a4e-55b0-47dd-9278-871e98c0c1e4"
      },
      "source": [
        "prominentusers = set(['iamjosephyoung', 'Bitcoin', 'BitcoinMagazine', 'btc', 'BTCNewsletter', 'BTCTN', 'coindesk', 'MoonOverlord',\n",
        "                      'TuurDemeester', 'CryptoCoinsNews', 'LandM_Marius', 'kerooke', 'loomdart', 'GemCrypto', \n",
        "                      'coinnounce', 'MatiGreenspan', 'JWilliamsFstmed', 'VitalikButerin', 'VladZamfir', 'aantonop',\n",
        "                      'ethereumJoseph', 'gavofyork', 'naval', 'tayvano_', 'NickSzabo4', 'cburniske',\n",
        "                      'jwolpert', 'AndrewDARMACAP', 'ricburton', 'bcrypt', 'mikeraymcdonald',\n",
        "                      'evan_van_ness', 'FEhrsam', 'JohnLilic', 'avsa', 'antiprosynth', 'nlw', 'brian_armstrong', \n",
        "                      'twobitidiot', 'APompliano', 'Cointelegraph', 'coinmetrics'])\n",
        "def usernamer(x):\n",
        "    if x in prominentusers:\n",
        "        return 1\n",
        "    else:\n",
        "        return 0\n",
        "data[\"prominent_user\"] = data.progress_apply(lambda x:usernamer(x[\"user\"]),axis=1)\n",
        "\n",
        "data.head(5)\n"
      ],
      "execution_count": 21,
      "outputs": [
        {
          "output_type": "stream",
          "text": [
            "100%|██████████| 39652/39652 [00:00<00:00, 71299.95it/s]\n"
          ],
          "name": "stderr"
        },
        {
          "output_type": "execute_result",
          "data": {
            "text/html": [
              "<div>\n",
              "<style scoped>\n",
              "    .dataframe tbody tr th:only-of-type {\n",
              "        vertical-align: middle;\n",
              "    }\n",
              "\n",
              "    .dataframe tbody tr th {\n",
              "        vertical-align: top;\n",
              "    }\n",
              "\n",
              "    .dataframe thead th {\n",
              "        text-align: right;\n",
              "    }\n",
              "</style>\n",
              "<table border=\"1\" class=\"dataframe\">\n",
              "  <thead>\n",
              "    <tr style=\"text-align: right;\">\n",
              "      <th></th>\n",
              "      <th>Unnamed: 0</th>\n",
              "      <th>id</th>\n",
              "      <th>user</th>\n",
              "      <th>timestamp</th>\n",
              "      <th>replies</th>\n",
              "      <th>likes</th>\n",
              "      <th>retweets</th>\n",
              "      <th>text</th>\n",
              "      <th>subjectivity</th>\n",
              "      <th>blob_sent</th>\n",
              "      <th>ad_count</th>\n",
              "      <th>adwords</th>\n",
              "      <th>ad_class</th>\n",
              "      <th>prominent_user</th>\n",
              "    </tr>\n",
              "  </thead>\n",
              "  <tbody>\n",
              "    <tr>\n",
              "      <th>3</th>\n",
              "      <td>3</td>\n",
              "      <td>1132977089089556481</td>\n",
              "      <td>DetroitCrypto</td>\n",
              "      <td>2019-05-27 11:49:22+00</td>\n",
              "      <td>0</td>\n",
              "      <td>0</td>\n",
              "      <td>0</td>\n",
              "      <td>Current Crypto Prices BTC  USDETH  USDLTC  USD...</td>\n",
              "      <td>0.400000</td>\n",
              "      <td>0.000000</td>\n",
              "      <td>0</td>\n",
              "      <td>[]</td>\n",
              "      <td>1</td>\n",
              "      <td>0</td>\n",
              "    </tr>\n",
              "    <tr>\n",
              "      <th>6</th>\n",
              "      <td>6</td>\n",
              "      <td>1132977101638897665</td>\n",
              "      <td>evilrobotted</td>\n",
              "      <td>2019-05-27 11:49:25+00</td>\n",
              "      <td>0</td>\n",
              "      <td>0</td>\n",
              "      <td>0</td>\n",
              "      <td>nwoodfine We have been building on the real  S...</td>\n",
              "      <td>0.350000</td>\n",
              "      <td>-0.100000</td>\n",
              "      <td>0</td>\n",
              "      <td>[]</td>\n",
              "      <td>1</td>\n",
              "      <td>0</td>\n",
              "    </tr>\n",
              "    <tr>\n",
              "      <th>14</th>\n",
              "      <td>14</td>\n",
              "      <td>1132922663113023489</td>\n",
              "      <td>CCNMarkets</td>\n",
              "      <td>2019-05-27 08:13:06+00</td>\n",
              "      <td>5</td>\n",
              "      <td>167</td>\n",
              "      <td>68</td>\n",
              "      <td>Bitcoin Price Hits  in New  High Whats Driving...</td>\n",
              "      <td>0.497273</td>\n",
              "      <td>0.148182</td>\n",
              "      <td>0</td>\n",
              "      <td>[]</td>\n",
              "      <td>1</td>\n",
              "      <td>0</td>\n",
              "    </tr>\n",
              "    <tr>\n",
              "      <th>17</th>\n",
              "      <td>17</td>\n",
              "      <td>1132977067048525824</td>\n",
              "      <td>malfouh</td>\n",
              "      <td>2019-05-27 11:49:17+00</td>\n",
              "      <td>1</td>\n",
              "      <td>1</td>\n",
              "      <td>1</td>\n",
              "      <td>The QLC airdrop  tokens for every QLC holder...</td>\n",
              "      <td>0.850000</td>\n",
              "      <td>0.250000</td>\n",
              "      <td>1</td>\n",
              "      <td>[airdrop]</td>\n",
              "      <td>1</td>\n",
              "      <td>0</td>\n",
              "    </tr>\n",
              "    <tr>\n",
              "      <th>18</th>\n",
              "      <td>18</td>\n",
              "      <td>1132971551471603712</td>\n",
              "      <td>BoilingPointLTC</td>\n",
              "      <td>2019-05-27 11:27:22+00</td>\n",
              "      <td>1</td>\n",
              "      <td>19</td>\n",
              "      <td>6</td>\n",
              "      <td>You have roughly  days left to get your    tic...</td>\n",
              "      <td>0.200000</td>\n",
              "      <td>0.000000</td>\n",
              "      <td>0</td>\n",
              "      <td>[]</td>\n",
              "      <td>1</td>\n",
              "      <td>0</td>\n",
              "    </tr>\n",
              "  </tbody>\n",
              "</table>\n",
              "</div>"
            ],
            "text/plain": [
              "    Unnamed: 0                   id  ... ad_class prominent_user\n",
              "3            3  1132977089089556481  ...        1              0\n",
              "6            6  1132977101638897665  ...        1              0\n",
              "14          14  1132922663113023489  ...        1              0\n",
              "17          17  1132977067048525824  ...        1              0\n",
              "18          18  1132971551471603712  ...        1              0\n",
              "\n",
              "[5 rows x 14 columns]"
            ]
          },
          "metadata": {
            "tags": []
          },
          "execution_count": 21
        }
      ]
    },
    {
      "cell_type": "markdown",
      "metadata": {
        "id": "lGk7HMtPaFpM"
      },
      "source": [
        "**Weightage with keywords**"
      ]
    },
    {
      "cell_type": "code",
      "metadata": {
        "colab": {
          "base_uri": "https://localhost:8080/"
        },
        "id": "lYdaY3di31Cl",
        "outputId": "75722076-b2d4-401b-8ade-75ce47e042bd"
      },
      "source": [
        "keywords = ['onchain transaction', 'congestion', 'market cap','market cap drop', 'dispersion of returns', 'downturn', 'exchange volume', 'ATH', 'ath', 'atl', 'ATL',\n",
        "            'bear trap', 'btfd', 'BTFD', 'buy wall', 'deflation', 'dump', 'fomo', 'FOMO', 'mooning', 'whale']\n",
        "def keychecker(text):\n",
        "    words = []\n",
        "    count = 0\n",
        "    for i in keywords:\n",
        "        if (contains_word(str(text),i)):\n",
        "            count+= 1\n",
        "            words.append(i)\n",
        "    return count\n",
        "def keyword(text):\n",
        "    words = []\n",
        "    count = 0\n",
        "    for i in keywords:\n",
        "        if (contains_word(str(text),i)):\n",
        "            count+= 1\n",
        "            words.append(i)\n",
        "    return words\n",
        "def contains_word(s, w):\n",
        "    return (' ' + w + ' ') in (' ' + s + ' ')\n",
        "\n",
        "data[\"key_count\"] = data.progress_apply(lambda x:keychecker(x[\"text\"]),axis=1)\n",
        "data[\"keywords\"] = data.progress_apply(lambda x:keyword(x[\"text\"]),axis=1)\n"
      ],
      "execution_count": 22,
      "outputs": [
        {
          "output_type": "stream",
          "text": [
            "100%|██████████| 39652/39652 [00:01<00:00, 35554.08it/s]\n",
            "100%|██████████| 39652/39652 [00:01<00:00, 32452.42it/s]\n"
          ],
          "name": "stderr"
        }
      ]
    },
    {
      "cell_type": "code",
      "metadata": {
        "colab": {
          "base_uri": "https://localhost:8080/",
          "height": 1000
        },
        "id": "Wd1wQ2qP4Bop",
        "outputId": "aeb8af22-0c87-40c1-f030-1e4003e1fa8b"
      },
      "source": [
        "promu = data.nlargest(30,\"key_count\")\n",
        "promu"
      ],
      "execution_count": 24,
      "outputs": [
        {
          "output_type": "execute_result",
          "data": {
            "text/html": [
              "<div>\n",
              "<style scoped>\n",
              "    .dataframe tbody tr th:only-of-type {\n",
              "        vertical-align: middle;\n",
              "    }\n",
              "\n",
              "    .dataframe tbody tr th {\n",
              "        vertical-align: top;\n",
              "    }\n",
              "\n",
              "    .dataframe thead th {\n",
              "        text-align: right;\n",
              "    }\n",
              "</style>\n",
              "<table border=\"1\" class=\"dataframe\">\n",
              "  <thead>\n",
              "    <tr style=\"text-align: right;\">\n",
              "      <th></th>\n",
              "      <th>Unnamed: 0</th>\n",
              "      <th>id</th>\n",
              "      <th>user</th>\n",
              "      <th>timestamp</th>\n",
              "      <th>replies</th>\n",
              "      <th>likes</th>\n",
              "      <th>retweets</th>\n",
              "      <th>text</th>\n",
              "      <th>subjectivity</th>\n",
              "      <th>blob_sent</th>\n",
              "      <th>ad_count</th>\n",
              "      <th>adwords</th>\n",
              "      <th>ad_class</th>\n",
              "      <th>prominent_user</th>\n",
              "      <th>key_count</th>\n",
              "      <th>keywords</th>\n",
              "    </tr>\n",
              "  </thead>\n",
              "  <tbody>\n",
              "    <tr>\n",
              "      <th>70962</th>\n",
              "      <td>70962</td>\n",
              "      <td>1127093880929832960</td>\n",
              "      <td>leb_crypto</td>\n",
              "      <td>2019-05-11 04:11:36+00</td>\n",
              "      <td>0</td>\n",
              "      <td>0</td>\n",
              "      <td>0</td>\n",
              "      <td>We may be seeing FOMO nowHowever Real FOMO kic...</td>\n",
              "      <td>0.300000</td>\n",
              "      <td>0.200000</td>\n",
              "      <td>0</td>\n",
              "      <td>[]</td>\n",
              "      <td>1</td>\n",
              "      <td>0</td>\n",
              "      <td>3</td>\n",
              "      <td>[ATH, fomo, FOMO]</td>\n",
              "    </tr>\n",
              "    <tr>\n",
              "      <th>9396</th>\n",
              "      <td>9396</td>\n",
              "      <td>1126844252347039744</td>\n",
              "      <td>JohnyCrypto1</td>\n",
              "      <td>2019-05-10 11:39:40+00</td>\n",
              "      <td>0</td>\n",
              "      <td>0</td>\n",
              "      <td>0</td>\n",
              "      <td>Breaking  was very easy something doesnt seem ...</td>\n",
              "      <td>0.345238</td>\n",
              "      <td>0.078571</td>\n",
              "      <td>0</td>\n",
              "      <td>[]</td>\n",
              "      <td>1</td>\n",
              "      <td>0</td>\n",
              "      <td>2</td>\n",
              "      <td>[dump, FOMO]</td>\n",
              "    </tr>\n",
              "    <tr>\n",
              "      <th>12892</th>\n",
              "      <td>12892</td>\n",
              "      <td>1126857412571324418</td>\n",
              "      <td>bukshukalaka</td>\n",
              "      <td>2019-05-10 15:05:43+00</td>\n",
              "      <td>0</td>\n",
              "      <td>1</td>\n",
              "      <td>1</td>\n",
              "      <td>jonathanaird fidelity  of half their investors...</td>\n",
              "      <td>0.333333</td>\n",
              "      <td>-0.083333</td>\n",
              "      <td>0</td>\n",
              "      <td>[]</td>\n",
              "      <td>1</td>\n",
              "      <td>0</td>\n",
              "      <td>2</td>\n",
              "      <td>[market cap, fomo]</td>\n",
              "    </tr>\n",
              "    <tr>\n",
              "      <th>23065</th>\n",
              "      <td>23065</td>\n",
              "      <td>1126893173857554433</td>\n",
              "      <td>bitcoinization</td>\n",
              "      <td>2019-05-10 14:54:03+00</td>\n",
              "      <td>0</td>\n",
              "      <td>0</td>\n",
              "      <td>0</td>\n",
              "      <td>realKuzaG Agreed but I believe bitcoin will be...</td>\n",
              "      <td>0.677273</td>\n",
              "      <td>-0.181818</td>\n",
              "      <td>0</td>\n",
              "      <td>[]</td>\n",
              "      <td>1</td>\n",
              "      <td>0</td>\n",
              "      <td>2</td>\n",
              "      <td>[ATH, fomo]</td>\n",
              "    </tr>\n",
              "    <tr>\n",
              "      <th>23826</th>\n",
              "      <td>23826</td>\n",
              "      <td>1126896492055289856</td>\n",
              "      <td>Norcalsteve22</td>\n",
              "      <td>2019-05-10 15:07:15+00</td>\n",
              "      <td>0</td>\n",
              "      <td>0</td>\n",
              "      <td>0</td>\n",
              "      <td>CNik coinbase You think the  mil tether burn m...</td>\n",
              "      <td>0.666667</td>\n",
              "      <td>0.333333</td>\n",
              "      <td>0</td>\n",
              "      <td>[]</td>\n",
              "      <td>1</td>\n",
              "      <td>0</td>\n",
              "      <td>2</td>\n",
              "      <td>[dump, whale]</td>\n",
              "    </tr>\n",
              "    <tr>\n",
              "      <th>33611</th>\n",
              "      <td>33611</td>\n",
              "      <td>1126928662874476551</td>\n",
              "      <td>bradmillscan</td>\n",
              "      <td>2019-05-10 17:15:05+00</td>\n",
              "      <td>0</td>\n",
              "      <td>0</td>\n",
              "      <td>0</td>\n",
              "      <td>whitebuffalo aantonop which is why I dont like...</td>\n",
              "      <td>0.330909</td>\n",
              "      <td>0.287273</td>\n",
              "      <td>0</td>\n",
              "      <td>[]</td>\n",
              "      <td>1</td>\n",
              "      <td>0</td>\n",
              "      <td>2</td>\n",
              "      <td>[fomo, FOMO]</td>\n",
              "    </tr>\n",
              "    <tr>\n",
              "      <th>37026</th>\n",
              "      <td>37026</td>\n",
              "      <td>1126943287191928838</td>\n",
              "      <td>BurniteGeorge</td>\n",
              "      <td>2019-05-10 18:13:11+00</td>\n",
              "      <td>0</td>\n",
              "      <td>0</td>\n",
              "      <td>0</td>\n",
              "      <td>Honestly dont know what to dump my open  intoc...</td>\n",
              "      <td>0.410417</td>\n",
              "      <td>-0.085417</td>\n",
              "      <td>0</td>\n",
              "      <td>[]</td>\n",
              "      <td>1</td>\n",
              "      <td>0</td>\n",
              "      <td>2</td>\n",
              "      <td>[ATH, dump]</td>\n",
              "    </tr>\n",
              "    <tr>\n",
              "      <th>45458</th>\n",
              "      <td>45458</td>\n",
              "      <td>1126983806114762753</td>\n",
              "      <td>rickeyjohnson12</td>\n",
              "      <td>2019-05-10 20:54:12+00</td>\n",
              "      <td>0</td>\n",
              "      <td>0</td>\n",
              "      <td>0</td>\n",
              "      <td>xtdisnkfe Yea that makes a lot of sense I thin...</td>\n",
              "      <td>0.557143</td>\n",
              "      <td>0.177143</td>\n",
              "      <td>0</td>\n",
              "      <td>[]</td>\n",
              "      <td>1</td>\n",
              "      <td>0</td>\n",
              "      <td>2</td>\n",
              "      <td>[dump, FOMO]</td>\n",
              "    </tr>\n",
              "    <tr>\n",
              "      <th>47837</th>\n",
              "      <td>47837</td>\n",
              "      <td>1126998115662192640</td>\n",
              "      <td>danielchiam7</td>\n",
              "      <td>2019-05-10 21:51:04+00</td>\n",
              "      <td>0</td>\n",
              "      <td>0</td>\n",
              "      <td>0</td>\n",
              "      <td>jebus Unless of course they already sold every...</td>\n",
              "      <td>0.100000</td>\n",
              "      <td>0.000000</td>\n",
              "      <td>0</td>\n",
              "      <td>[]</td>\n",
              "      <td>1</td>\n",
              "      <td>0</td>\n",
              "      <td>2</td>\n",
              "      <td>[ATH, FOMO]</td>\n",
              "    </tr>\n",
              "    <tr>\n",
              "      <th>51487</th>\n",
              "      <td>51487</td>\n",
              "      <td>1127016181171310592</td>\n",
              "      <td>bukshukalaka</td>\n",
              "      <td>2019-05-10 23:02:51+00</td>\n",
              "      <td>0</td>\n",
              "      <td>0</td>\n",
              "      <td>0</td>\n",
              "      <td>To me  of half fidelity  trill investments is ...</td>\n",
              "      <td>0.166667</td>\n",
              "      <td>-0.166667</td>\n",
              "      <td>0</td>\n",
              "      <td>[]</td>\n",
              "      <td>1</td>\n",
              "      <td>0</td>\n",
              "      <td>2</td>\n",
              "      <td>[market cap, FOMO]</td>\n",
              "    </tr>\n",
              "    <tr>\n",
              "      <th>57503</th>\n",
              "      <td>57503</td>\n",
              "      <td>1127034179734999040</td>\n",
              "      <td>bnbozo</td>\n",
              "      <td>2019-05-11 00:14:22+00</td>\n",
              "      <td>0</td>\n",
              "      <td>0</td>\n",
              "      <td>0</td>\n",
              "      <td>ripplecrippler NewQuax Btc gonna fomo close to...</td>\n",
              "      <td>0.541667</td>\n",
              "      <td>-0.291667</td>\n",
              "      <td>0</td>\n",
              "      <td>[]</td>\n",
              "      <td>1</td>\n",
              "      <td>0</td>\n",
              "      <td>2</td>\n",
              "      <td>[dump, fomo]</td>\n",
              "    </tr>\n",
              "    <tr>\n",
              "      <th>71449</th>\n",
              "      <td>71449</td>\n",
              "      <td>1127095690411368448</td>\n",
              "      <td>GreenmanSA</td>\n",
              "      <td>2019-05-11 04:18:47+00</td>\n",
              "      <td>0</td>\n",
              "      <td>0</td>\n",
              "      <td>0</td>\n",
              "      <td>Cryptim AltcoinSara BTC money will always flow...</td>\n",
              "      <td>0.250000</td>\n",
              "      <td>0.400000</td>\n",
              "      <td>0</td>\n",
              "      <td>[]</td>\n",
              "      <td>1</td>\n",
              "      <td>0</td>\n",
              "      <td>2</td>\n",
              "      <td>[dump, fomo]</td>\n",
              "    </tr>\n",
              "    <tr>\n",
              "      <th>73030</th>\n",
              "      <td>73030</td>\n",
              "      <td>1127102342958989312</td>\n",
              "      <td>crypto_iwad</td>\n",
              "      <td>2019-05-11 04:45:13+00</td>\n",
              "      <td>0</td>\n",
              "      <td>0</td>\n",
              "      <td>0</td>\n",
              "      <td>Since we discussed FOMO in BTC yesterday it ha...</td>\n",
              "      <td>0.250000</td>\n",
              "      <td>0.000000</td>\n",
              "      <td>0</td>\n",
              "      <td>[]</td>\n",
              "      <td>1</td>\n",
              "      <td>0</td>\n",
              "      <td>2</td>\n",
              "      <td>[market cap, FOMO]</td>\n",
              "    </tr>\n",
              "    <tr>\n",
              "      <th>75202</th>\n",
              "      <td>75202</td>\n",
              "      <td>1127108865236045824</td>\n",
              "      <td>__MagUra__</td>\n",
              "      <td>2019-05-11 05:11:08+00</td>\n",
              "      <td>0</td>\n",
              "      <td>0</td>\n",
              "      <td>0</td>\n",
              "      <td>oh  almost az k Nice onebut if this a surprise...</td>\n",
              "      <td>0.666667</td>\n",
              "      <td>0.500000</td>\n",
              "      <td>0</td>\n",
              "      <td>[]</td>\n",
              "      <td>1</td>\n",
              "      <td>0</td>\n",
              "      <td>2</td>\n",
              "      <td>[dump, FOMO]</td>\n",
              "    </tr>\n",
              "    <tr>\n",
              "      <th>76915</th>\n",
              "      <td>76915</td>\n",
              "      <td>1127115932747177984</td>\n",
              "      <td>CyPhlux</td>\n",
              "      <td>2019-05-11 05:39:13+00</td>\n",
              "      <td>0</td>\n",
              "      <td>0</td>\n",
              "      <td>0</td>\n",
              "      <td>colinashby I think so too but not a positive w...</td>\n",
              "      <td>0.800000</td>\n",
              "      <td>0.850000</td>\n",
              "      <td>0</td>\n",
              "      <td>[]</td>\n",
              "      <td>1</td>\n",
              "      <td>0</td>\n",
              "      <td>2</td>\n",
              "      <td>[dump, fomo]</td>\n",
              "    </tr>\n",
              "    <tr>\n",
              "      <th>81491</th>\n",
              "      <td>81491</td>\n",
              "      <td>1127134621487980544</td>\n",
              "      <td>ghqwer</td>\n",
              "      <td>2019-05-11 06:53:29+00</td>\n",
              "      <td>0</td>\n",
              "      <td>0</td>\n",
              "      <td>0</td>\n",
              "      <td>Its that time of the month again Just like we ...</td>\n",
              "      <td>0.536111</td>\n",
              "      <td>0.250000</td>\n",
              "      <td>0</td>\n",
              "      <td>[]</td>\n",
              "      <td>1</td>\n",
              "      <td>0</td>\n",
              "      <td>2</td>\n",
              "      <td>[dump, whale]</td>\n",
              "    </tr>\n",
              "    <tr>\n",
              "      <th>88217</th>\n",
              "      <td>88217</td>\n",
              "      <td>1127164658794868737</td>\n",
              "      <td>samstoshi</td>\n",
              "      <td>2019-05-11 09:04:43+00</td>\n",
              "      <td>0</td>\n",
              "      <td>1</td>\n",
              "      <td>1</td>\n",
              "      <td>Who else thinks Satoshi is the real MVP of thi...</td>\n",
              "      <td>0.393333</td>\n",
              "      <td>0.200000</td>\n",
              "      <td>1</td>\n",
              "      <td>[game]</td>\n",
              "      <td>1</td>\n",
              "      <td>0</td>\n",
              "      <td>2</td>\n",
              "      <td>[ATH, ATL]</td>\n",
              "    </tr>\n",
              "    <tr>\n",
              "      <th>95485</th>\n",
              "      <td>95485</td>\n",
              "      <td>1127193828274921472</td>\n",
              "      <td>itsmeckLL</td>\n",
              "      <td>2019-05-11 10:48:45+00</td>\n",
              "      <td>0</td>\n",
              "      <td>0</td>\n",
              "      <td>0</td>\n",
              "      <td>Sicarious Based on your experience  if btc dum...</td>\n",
              "      <td>0.750000</td>\n",
              "      <td>-0.275000</td>\n",
              "      <td>0</td>\n",
              "      <td>[]</td>\n",
              "      <td>1</td>\n",
              "      <td>0</td>\n",
              "      <td>2</td>\n",
              "      <td>[dump, mooning]</td>\n",
              "    </tr>\n",
              "    <tr>\n",
              "      <th>123</th>\n",
              "      <td>123</td>\n",
              "      <td>1132865716355510273</td>\n",
              "      <td>CryptoAmb</td>\n",
              "      <td>2019-05-27 04:26:49+00</td>\n",
              "      <td>0</td>\n",
              "      <td>11</td>\n",
              "      <td>6</td>\n",
              "      <td>Bitcoin prices hit  billion market cap for the...</td>\n",
              "      <td>0.333333</td>\n",
              "      <td>0.250000</td>\n",
              "      <td>0</td>\n",
              "      <td>[]</td>\n",
              "      <td>1</td>\n",
              "      <td>0</td>\n",
              "      <td>1</td>\n",
              "      <td>[market cap]</td>\n",
              "    </tr>\n",
              "    <tr>\n",
              "      <th>251</th>\n",
              "      <td>251</td>\n",
              "      <td>1132964354389889024</td>\n",
              "      <td>Graham__Hannah</td>\n",
              "      <td>2019-05-27 08:58:46+00</td>\n",
              "      <td>0</td>\n",
              "      <td>0</td>\n",
              "      <td>0</td>\n",
              "      <td>The Top  Countries Gripped by Bitcoin FOMO Rig...</td>\n",
              "      <td>0.517857</td>\n",
              "      <td>0.392857</td>\n",
              "      <td>0</td>\n",
              "      <td>[]</td>\n",
              "      <td>1</td>\n",
              "      <td>0</td>\n",
              "      <td>1</td>\n",
              "      <td>[FOMO]</td>\n",
              "    </tr>\n",
              "    <tr>\n",
              "      <th>539</th>\n",
              "      <td>539</td>\n",
              "      <td>1132978608539152384</td>\n",
              "      <td>Remi_Vladuceanu</td>\n",
              "      <td>2019-05-27 11:55:24+00</td>\n",
              "      <td>0</td>\n",
              "      <td>0</td>\n",
              "      <td>0</td>\n",
              "      <td>The Top  Countries Gripped by Bitcoin FOMO Rig...</td>\n",
              "      <td>0.517857</td>\n",
              "      <td>0.392857</td>\n",
              "      <td>0</td>\n",
              "      <td>[]</td>\n",
              "      <td>1</td>\n",
              "      <td>0</td>\n",
              "      <td>1</td>\n",
              "      <td>[FOMO]</td>\n",
              "    </tr>\n",
              "    <tr>\n",
              "      <th>709</th>\n",
              "      <td>709</td>\n",
              "      <td>1132979172534624261</td>\n",
              "      <td>d_mazurek524</td>\n",
              "      <td>2019-05-27 11:57:39+00</td>\n",
              "      <td>0</td>\n",
              "      <td>0</td>\n",
              "      <td>0</td>\n",
              "      <td>Lowes ganna fomo into accepting BTC when in hi...</td>\n",
              "      <td>0.300000</td>\n",
              "      <td>0.000000</td>\n",
              "      <td>0</td>\n",
              "      <td>[]</td>\n",
              "      <td>1</td>\n",
              "      <td>0</td>\n",
              "      <td>1</td>\n",
              "      <td>[fomo]</td>\n",
              "    </tr>\n",
              "    <tr>\n",
              "      <th>756</th>\n",
              "      <td>756</td>\n",
              "      <td>1132979358468071424</td>\n",
              "      <td>CammyAmster</td>\n",
              "      <td>2019-05-27 11:58:23+00</td>\n",
              "      <td>0</td>\n",
              "      <td>0</td>\n",
              "      <td>0</td>\n",
              "      <td>The Top  Countries Gripped by Bitcoin FOMO Rig...</td>\n",
              "      <td>0.517857</td>\n",
              "      <td>0.392857</td>\n",
              "      <td>0</td>\n",
              "      <td>[]</td>\n",
              "      <td>1</td>\n",
              "      <td>0</td>\n",
              "      <td>1</td>\n",
              "      <td>[FOMO]</td>\n",
              "    </tr>\n",
              "    <tr>\n",
              "      <th>838</th>\n",
              "      <td>838</td>\n",
              "      <td>1132979604493357057</td>\n",
              "      <td>slam_trade</td>\n",
              "      <td>2019-05-27 11:59:22+00</td>\n",
              "      <td>0</td>\n",
              "      <td>3</td>\n",
              "      <td>1</td>\n",
              "      <td>The Top  Countries Gripped by Bitcoin FOMO Rig...</td>\n",
              "      <td>0.517857</td>\n",
              "      <td>0.392857</td>\n",
              "      <td>0</td>\n",
              "      <td>[]</td>\n",
              "      <td>1</td>\n",
              "      <td>0</td>\n",
              "      <td>1</td>\n",
              "      <td>[FOMO]</td>\n",
              "    </tr>\n",
              "    <tr>\n",
              "      <th>857</th>\n",
              "      <td>857</td>\n",
              "      <td>1132979729773080576</td>\n",
              "      <td>_CryptoReality_</td>\n",
              "      <td>2019-05-27 11:59:51+00</td>\n",
              "      <td>0</td>\n",
              "      <td>0</td>\n",
              "      <td>0</td>\n",
              "      <td>The Top  Countries Gripped by  FOMO Right Now</td>\n",
              "      <td>0.517857</td>\n",
              "      <td>0.392857</td>\n",
              "      <td>0</td>\n",
              "      <td>[]</td>\n",
              "      <td>1</td>\n",
              "      <td>0</td>\n",
              "      <td>1</td>\n",
              "      <td>[FOMO]</td>\n",
              "    </tr>\n",
              "    <tr>\n",
              "      <th>996</th>\n",
              "      <td>996</td>\n",
              "      <td>1132979848333316096</td>\n",
              "      <td>BlockchainAge</td>\n",
              "      <td>2019-05-27 12:00:20+00</td>\n",
              "      <td>0</td>\n",
              "      <td>0</td>\n",
              "      <td>0</td>\n",
              "      <td>The Top  Countries Gripped by Bitcoin FOMO Rig...</td>\n",
              "      <td>0.517857</td>\n",
              "      <td>0.392857</td>\n",
              "      <td>0</td>\n",
              "      <td>[]</td>\n",
              "      <td>1</td>\n",
              "      <td>0</td>\n",
              "      <td>1</td>\n",
              "      <td>[FOMO]</td>\n",
              "    </tr>\n",
              "    <tr>\n",
              "      <th>1277</th>\n",
              "      <td>1277</td>\n",
              "      <td>1132980356917936128</td>\n",
              "      <td>trade2surf</td>\n",
              "      <td>2019-05-27 12:02:21+00</td>\n",
              "      <td>0</td>\n",
              "      <td>0</td>\n",
              "      <td>0</td>\n",
              "      <td>Waiting for btc to retrace  while bsv seems re...</td>\n",
              "      <td>0.454545</td>\n",
              "      <td>0.136364</td>\n",
              "      <td>0</td>\n",
              "      <td>[]</td>\n",
              "      <td>1</td>\n",
              "      <td>0</td>\n",
              "      <td>1</td>\n",
              "      <td>[ATH]</td>\n",
              "    </tr>\n",
              "    <tr>\n",
              "      <th>1368</th>\n",
              "      <td>1368</td>\n",
              "      <td>1132980560484343809</td>\n",
              "      <td>TomasHegedus1</td>\n",
              "      <td>2019-05-27 12:03:10+00</td>\n",
              "      <td>0</td>\n",
              "      <td>0</td>\n",
              "      <td>0</td>\n",
              "      <td>dantherealmn dennisnagpal It looks poor agains...</td>\n",
              "      <td>0.620000</td>\n",
              "      <td>0.092500</td>\n",
              "      <td>0</td>\n",
              "      <td>[]</td>\n",
              "      <td>1</td>\n",
              "      <td>0</td>\n",
              "      <td>1</td>\n",
              "      <td>[fomo]</td>\n",
              "    </tr>\n",
              "    <tr>\n",
              "      <th>1404</th>\n",
              "      <td>1404</td>\n",
              "      <td>1132980666767945729</td>\n",
              "      <td>cryptotuberz</td>\n",
              "      <td>2019-05-27 12:03:35+00</td>\n",
              "      <td>0</td>\n",
              "      <td>0</td>\n",
              "      <td>0</td>\n",
              "      <td>Altcoin Buzz  Bitcoin FOMO is REAL Cryptocurre...</td>\n",
              "      <td>0.300000</td>\n",
              "      <td>0.200000</td>\n",
              "      <td>0</td>\n",
              "      <td>[]</td>\n",
              "      <td>1</td>\n",
              "      <td>0</td>\n",
              "      <td>1</td>\n",
              "      <td>[FOMO]</td>\n",
              "    </tr>\n",
              "    <tr>\n",
              "      <th>1441</th>\n",
              "      <td>1441</td>\n",
              "      <td>1132980698254589952</td>\n",
              "      <td>fklivestolearn</td>\n",
              "      <td>2019-05-27 12:03:42+00</td>\n",
              "      <td>0</td>\n",
              "      <td>4</td>\n",
              "      <td>2</td>\n",
              "      <td>Crypto Update   Cryptos resume the upward tren...</td>\n",
              "      <td>0.750000</td>\n",
              "      <td>0.000000</td>\n",
              "      <td>0</td>\n",
              "      <td>[]</td>\n",
              "      <td>1</td>\n",
              "      <td>0</td>\n",
              "      <td>1</td>\n",
              "      <td>[market cap]</td>\n",
              "    </tr>\n",
              "  </tbody>\n",
              "</table>\n",
              "</div>"
            ],
            "text/plain": [
              "       Unnamed: 0                   id  ... key_count            keywords\n",
              "70962       70962  1127093880929832960  ...         3   [ATH, fomo, FOMO]\n",
              "9396         9396  1126844252347039744  ...         2        [dump, FOMO]\n",
              "12892       12892  1126857412571324418  ...         2  [market cap, fomo]\n",
              "23065       23065  1126893173857554433  ...         2         [ATH, fomo]\n",
              "23826       23826  1126896492055289856  ...         2       [dump, whale]\n",
              "33611       33611  1126928662874476551  ...         2        [fomo, FOMO]\n",
              "37026       37026  1126943287191928838  ...         2         [ATH, dump]\n",
              "45458       45458  1126983806114762753  ...         2        [dump, FOMO]\n",
              "47837       47837  1126998115662192640  ...         2         [ATH, FOMO]\n",
              "51487       51487  1127016181171310592  ...         2  [market cap, FOMO]\n",
              "57503       57503  1127034179734999040  ...         2        [dump, fomo]\n",
              "71449       71449  1127095690411368448  ...         2        [dump, fomo]\n",
              "73030       73030  1127102342958989312  ...         2  [market cap, FOMO]\n",
              "75202       75202  1127108865236045824  ...         2        [dump, FOMO]\n",
              "76915       76915  1127115932747177984  ...         2        [dump, fomo]\n",
              "81491       81491  1127134621487980544  ...         2       [dump, whale]\n",
              "88217       88217  1127164658794868737  ...         2          [ATH, ATL]\n",
              "95485       95485  1127193828274921472  ...         2     [dump, mooning]\n",
              "123           123  1132865716355510273  ...         1        [market cap]\n",
              "251           251  1132964354389889024  ...         1              [FOMO]\n",
              "539           539  1132978608539152384  ...         1              [FOMO]\n",
              "709           709  1132979172534624261  ...         1              [fomo]\n",
              "756           756  1132979358468071424  ...         1              [FOMO]\n",
              "838           838  1132979604493357057  ...         1              [FOMO]\n",
              "857           857  1132979729773080576  ...         1              [FOMO]\n",
              "996           996  1132979848333316096  ...         1              [FOMO]\n",
              "1277         1277  1132980356917936128  ...         1               [ATH]\n",
              "1368         1368  1132980560484343809  ...         1              [fomo]\n",
              "1404         1404  1132980666767945729  ...         1              [FOMO]\n",
              "1441         1441  1132980698254589952  ...         1        [market cap]\n",
              "\n",
              "[30 rows x 16 columns]"
            ]
          },
          "metadata": {
            "tags": []
          },
          "execution_count": 24
        }
      ]
    },
    {
      "cell_type": "markdown",
      "metadata": {
        "id": "Pb-peufnaSPK"
      },
      "source": [
        "**Weightage based on likes and retweets**"
      ]
    },
    {
      "cell_type": "code",
      "metadata": {
        "id": "ewbct0jZ4GRh",
        "colab": {
          "base_uri": "https://localhost:8080/",
          "height": 369
        },
        "outputId": "e6a583fd-f1d5-41db-8bab-e6b84d36b797"
      },
      "source": [
        "def log_score(x):\n",
        "    try:\n",
        "        #x.astype(float)\n",
        "        if int(x)<1:\n",
        "            return 0\n",
        "        else:\n",
        "            return np.log(int(x))\n",
        "    except:\n",
        "        print(x)\n",
        "        return 0\n",
        "data[\"RT_score\"] = data.progress_apply(lambda x:log_score(x[\"retweets\"]),axis=1)\n",
        "data[\"fav_score\"] = data.progress_apply(lambda x:log_score(x[\"likes\"]),axis=1)\n",
        "data.head(2)"
      ],
      "execution_count": 26,
      "outputs": [
        {
          "output_type": "stream",
          "text": [
            "100%|██████████| 39652/39652 [00:00<00:00, 80257.65it/s]\n",
            "100%|██████████| 39652/39652 [00:00<00:00, 79307.44it/s]\n"
          ],
          "name": "stderr"
        },
        {
          "output_type": "execute_result",
          "data": {
            "text/html": [
              "<div>\n",
              "<style scoped>\n",
              "    .dataframe tbody tr th:only-of-type {\n",
              "        vertical-align: middle;\n",
              "    }\n",
              "\n",
              "    .dataframe tbody tr th {\n",
              "        vertical-align: top;\n",
              "    }\n",
              "\n",
              "    .dataframe thead th {\n",
              "        text-align: right;\n",
              "    }\n",
              "</style>\n",
              "<table border=\"1\" class=\"dataframe\">\n",
              "  <thead>\n",
              "    <tr style=\"text-align: right;\">\n",
              "      <th></th>\n",
              "      <th>Unnamed: 0</th>\n",
              "      <th>id</th>\n",
              "      <th>user</th>\n",
              "      <th>timestamp</th>\n",
              "      <th>replies</th>\n",
              "      <th>likes</th>\n",
              "      <th>retweets</th>\n",
              "      <th>text</th>\n",
              "      <th>subjectivity</th>\n",
              "      <th>blob_sent</th>\n",
              "      <th>ad_count</th>\n",
              "      <th>adwords</th>\n",
              "      <th>ad_class</th>\n",
              "      <th>prominent_user</th>\n",
              "      <th>key_count</th>\n",
              "      <th>keywords</th>\n",
              "      <th>RT_score</th>\n",
              "      <th>fav_score</th>\n",
              "    </tr>\n",
              "  </thead>\n",
              "  <tbody>\n",
              "    <tr>\n",
              "      <th>3</th>\n",
              "      <td>3</td>\n",
              "      <td>1132977089089556481</td>\n",
              "      <td>DetroitCrypto</td>\n",
              "      <td>2019-05-27 11:49:22+00</td>\n",
              "      <td>0</td>\n",
              "      <td>0</td>\n",
              "      <td>0</td>\n",
              "      <td>Current Crypto Prices BTC  USDETH  USDLTC  USD...</td>\n",
              "      <td>0.40</td>\n",
              "      <td>0.0</td>\n",
              "      <td>0</td>\n",
              "      <td>[]</td>\n",
              "      <td>1</td>\n",
              "      <td>0</td>\n",
              "      <td>0</td>\n",
              "      <td>[]</td>\n",
              "      <td>0.0</td>\n",
              "      <td>0.0</td>\n",
              "    </tr>\n",
              "    <tr>\n",
              "      <th>6</th>\n",
              "      <td>6</td>\n",
              "      <td>1132977101638897665</td>\n",
              "      <td>evilrobotted</td>\n",
              "      <td>2019-05-27 11:49:25+00</td>\n",
              "      <td>0</td>\n",
              "      <td>0</td>\n",
              "      <td>0</td>\n",
              "      <td>nwoodfine We have been building on the real  S...</td>\n",
              "      <td>0.35</td>\n",
              "      <td>-0.1</td>\n",
              "      <td>0</td>\n",
              "      <td>[]</td>\n",
              "      <td>1</td>\n",
              "      <td>0</td>\n",
              "      <td>0</td>\n",
              "      <td>[]</td>\n",
              "      <td>0.0</td>\n",
              "      <td>0.0</td>\n",
              "    </tr>\n",
              "  </tbody>\n",
              "</table>\n",
              "</div>"
            ],
            "text/plain": [
              "   Unnamed: 0                   id           user  ... keywords  RT_score  fav_score\n",
              "3           3  1132977089089556481  DetroitCrypto  ...       []       0.0        0.0\n",
              "6           6  1132977101638897665   evilrobotted  ...       []       0.0        0.0\n",
              "\n",
              "[2 rows x 18 columns]"
            ]
          },
          "metadata": {
            "tags": []
          },
          "execution_count": 26
        }
      ]
    },
    {
      "cell_type": "code",
      "metadata": {
        "id": "9fVQBKP24vx2"
      },
      "source": [
        "# Timestamp conversion to datetime without localization\n",
        "data[\"date\"] = pd.to_datetime(data[\"timestamp\"],errors= \"coerce\").dt.tz_localize(None)"
      ],
      "execution_count": 28,
      "outputs": []
    },
    {
      "cell_type": "code",
      "metadata": {
        "colab": {
          "base_uri": "https://localhost:8080/"
        },
        "id": "YXo71t3X5Dmx",
        "outputId": "2e4bdc87-aac4-4975-89f4-0b967c08212b"
      },
      "source": [
        "data.info()"
      ],
      "execution_count": null,
      "outputs": [
        {
          "output_type": "stream",
          "text": [
            "<class 'pandas.core.frame.DataFrame'>\n",
            "Int64Index: 39652 entries, 3 to 99998\n",
            "Data columns (total 20 columns):\n",
            " #   Column          Non-Null Count  Dtype         \n",
            "---  ------          --------------  -----         \n",
            " 0   Unnamed: 0      39652 non-null  int64         \n",
            " 1   id              39652 non-null  int64         \n",
            " 2   user            39652 non-null  object        \n",
            " 3   timestamp       39652 non-null  object        \n",
            " 4   replies         39652 non-null  int64         \n",
            " 5   likes           39652 non-null  int64         \n",
            " 6   retweets        39652 non-null  int64         \n",
            " 7   text            39652 non-null  object        \n",
            " 8   subjectivity    39652 non-null  float64       \n",
            " 9   blob_sent       39652 non-null  float64       \n",
            " 10  vader_sent      39652 non-null  float64       \n",
            " 11  ad_count        39652 non-null  int64         \n",
            " 12  adwords         39652 non-null  object        \n",
            " 13  ad_class        39652 non-null  int64         \n",
            " 14  prominent_user  39652 non-null  int64         \n",
            " 15  key_count       39652 non-null  int64         \n",
            " 16  keywords        39652 non-null  object        \n",
            " 17  RT_score        39652 non-null  float64       \n",
            " 18  fav_score       39652 non-null  float64       \n",
            " 19  date            39652 non-null  datetime64[ns]\n",
            "dtypes: datetime64[ns](1), float64(5), int64(9), object(5)\n",
            "memory usage: 6.4+ MB\n"
          ],
          "name": "stdout"
        }
      ]
    },
    {
      "cell_type": "markdown",
      "metadata": {
        "id": "5f20BHxmarzC"
      },
      "source": [
        "**Add time as index**"
      ]
    },
    {
      "cell_type": "code",
      "metadata": {
        "id": "X32HnZ77l6wB"
      },
      "source": [
        "data['time'] = data['date']\n",
        "data.index = data['time']\n"
      ],
      "execution_count": 29,
      "outputs": []
    },
    {
      "cell_type": "markdown",
      "metadata": {
        "id": "VwXZ-9tQbFmp"
      },
      "source": [
        "**Daily and hourly weightage method**"
      ]
    },
    {
      "cell_type": "code",
      "metadata": {
        "colab": {
          "base_uri": "https://localhost:8080/"
        },
        "id": "xLWtbuI_5Jb5",
        "outputId": "ff75cf61-6484-4357-d19a-afe69cf8ad16"
      },
      "source": [
        "def half(duration,x):\n",
        "    try:\n",
        "        if duration == \"daily\":\n",
        "            #print(x)\n",
        "            if int(x) >11:\n",
        "                return 1\n",
        "            else:\n",
        "                return 0\n",
        "        if duration ==\"hourly\":\n",
        "            if int(x) > 30:\n",
        "                return 1\n",
        "            else:\n",
        "                return 0\n",
        "    except:\n",
        "        print(x)\n",
        "        return 0\n",
        "        \n",
        "data[\"hour_score\"] = data.progress_apply(lambda x:half(\"hourly\",x[\"date\"].minute),axis=1)\n",
        "data[\"daily_score\"] = data.progress_apply(lambda x:half(\"daily\",x[\"date\"].hour),axis=1)"
      ],
      "execution_count": 31,
      "outputs": [
        {
          "output_type": "stream",
          "text": [
            "100%|██████████| 39652/39652 [00:00<00:00, 45232.66it/s]\n",
            "100%|██████████| 39652/39652 [00:01<00:00, 39412.51it/s]\n"
          ],
          "name": "stderr"
        }
      ]
    },
    {
      "cell_type": "markdown",
      "metadata": {
        "id": "ygp_ABR9bQwL"
      },
      "source": [
        "**Calculate daily and hourly weights using other attributes calculated in the previous steps**"
      ]
    },
    {
      "cell_type": "code",
      "metadata": {
        "id": "CjFiRNVW550X"
      },
      "source": [
        "data[\"Daily Weight\"] = (data[\"prominent_user\"]+data[\"key_count\"]+data[\"RT_score\"]+data[\"fav_score\"]+data[\"daily_score\"])*data[\"ad_class\"]\n",
        "data[\"hourly Weight\"] = (data[\"prominent_user\"]+data[\"key_count\"]+data[\"RT_score\"]+data[\"fav_score\"]+data[\"hour_score\"])*data[\"ad_class\"]\n"
      ],
      "execution_count": 34,
      "outputs": []
    },
    {
      "cell_type": "markdown",
      "metadata": {
        "id": "e-h8yuBxbvE7"
      },
      "source": [
        "**Fusing daily weight and hourly weight with TextBlob and VADER respectively**"
      ]
    },
    {
      "cell_type": "code",
      "metadata": {
        "id": "0YpHB2vN5-0L"
      },
      "source": [
        "data[\"blob_sent\"] = data[\"blob_sent\"]*data[\"Daily Weight\"]\n",
        "data[\"vader_sent\"] = data[\"vader_sent\"]*data[\"hourly Weight\"]"
      ],
      "execution_count": 38,
      "outputs": []
    },
    {
      "cell_type": "code",
      "metadata": {
        "colab": {
          "base_uri": "https://localhost:8080/"
        },
        "id": "A3--BYAT6CdD",
        "outputId": "579d868e-5fc6-414f-be5c-16b3d9e15702"
      },
      "source": [
        "data.info()"
      ],
      "execution_count": null,
      "outputs": [
        {
          "output_type": "stream",
          "text": [
            "<class 'pandas.core.frame.DataFrame'>\n",
            "Int64Index: 3682809 entries, 3 to 12143593\n",
            "Data columns (total 23 columns):\n",
            " #   Column          Dtype         \n",
            "---  ------          -----         \n",
            " 0   id              object        \n",
            " 1   user            object        \n",
            " 2   timestamp       object        \n",
            " 3   replies         float64       \n",
            " 4   likes           float64       \n",
            " 5   retweets        float64       \n",
            " 6   text            object        \n",
            " 7   subjectivity    float64       \n",
            " 8   blob_sent       float64       \n",
            " 9   vader_sent      float64       \n",
            " 10  ad_count        int64         \n",
            " 11  adwords         object        \n",
            " 12  ad_class        int64         \n",
            " 13  prominent_user  int64         \n",
            " 14  key_count       int64         \n",
            " 15  keywords        object        \n",
            " 16  RT_score        float64       \n",
            " 17  fav_score       float64       \n",
            " 18  date            datetime64[ns]\n",
            " 19  hour_score      int64         \n",
            " 20  daily_score     int64         \n",
            " 21  Daily Weight    float64       \n",
            " 22  hourly Weight   float64       \n",
            "dtypes: datetime64[ns](1), float64(10), int64(6), object(6)\n",
            "memory usage: 674.3+ MB\n"
          ],
          "name": "stdout"
        }
      ]
    },
    {
      "cell_type": "markdown",
      "metadata": {
        "id": "1-RcevKHch_K"
      },
      "source": [
        "**Calculate hourly features**"
      ]
    },
    {
      "cell_type": "code",
      "metadata": {
        "id": "KvA1SuPX6CKZ"
      },
      "source": [
        "sentiment_grouped_hourly = data.groupby(pd.Grouper(key=\"time\", freq=\"1h\")).agg(\n",
        "    Daily_Weight_mean_by_hour = ('Daily Weight', np.mean),\n",
        "    Daily_Weight_count_by_hour = ('Daily Weight', 'count'),\n",
        "    blob_sent_mean_by_hour = ('blob_sent', np.mean),\n",
        "    subjectivity_mean_by_hour = ('subjectivity', np.mean),\n",
        "    vader_sent_mean_by_hour = ('vader_sent', np.mean)\n",
        ")"
      ],
      "execution_count": 39,
      "outputs": []
    },
    {
      "cell_type": "markdown",
      "metadata": {
        "id": "2df6M7eGcoln"
      },
      "source": [
        "**Drop Null rows as data will be missing fo some hour values**"
      ]
    },
    {
      "cell_type": "code",
      "metadata": {
        "colab": {
          "base_uri": "https://localhost:8080/",
          "height": 235
        },
        "id": "fPWZC9-29Bt5",
        "outputId": "22a9388a-9315-4a7d-b3a4-dae9e2696ee5"
      },
      "source": [
        "drop_column_subset = sentiment_grouped_hourly.columns.values[1:]\n",
        "sentiment_grouped_hourly.dropna(subset=drop_column_subset, inplace=True)\n",
        "sentiment_grouped_hourly.head()"
      ],
      "execution_count": 40,
      "outputs": [
        {
          "output_type": "execute_result",
          "data": {
            "text/html": [
              "<div>\n",
              "<style scoped>\n",
              "    .dataframe tbody tr th:only-of-type {\n",
              "        vertical-align: middle;\n",
              "    }\n",
              "\n",
              "    .dataframe tbody tr th {\n",
              "        vertical-align: top;\n",
              "    }\n",
              "\n",
              "    .dataframe thead th {\n",
              "        text-align: right;\n",
              "    }\n",
              "</style>\n",
              "<table border=\"1\" class=\"dataframe\">\n",
              "  <thead>\n",
              "    <tr style=\"text-align: right;\">\n",
              "      <th></th>\n",
              "      <th>Daily_Weight_mean_by_hour</th>\n",
              "      <th>Daily_Weight_count_by_hour</th>\n",
              "      <th>blob_sent_mean_by_hour</th>\n",
              "      <th>subjectivity_mean_by_hour</th>\n",
              "      <th>vader_sent_mean_by_hour</th>\n",
              "    </tr>\n",
              "    <tr>\n",
              "      <th>time</th>\n",
              "      <th></th>\n",
              "      <th></th>\n",
              "      <th></th>\n",
              "      <th></th>\n",
              "      <th></th>\n",
              "    </tr>\n",
              "  </thead>\n",
              "  <tbody>\n",
              "    <tr>\n",
              "      <th>2012-08-02 17:00:00</th>\n",
              "      <td>1.0</td>\n",
              "      <td>1</td>\n",
              "      <td>0.30</td>\n",
              "      <td>0.100000</td>\n",
              "      <td>0.2263</td>\n",
              "    </tr>\n",
              "    <tr>\n",
              "      <th>2013-08-16 18:00:00</th>\n",
              "      <td>1.0</td>\n",
              "      <td>1</td>\n",
              "      <td>0.05</td>\n",
              "      <td>0.150000</td>\n",
              "      <td>0.0000</td>\n",
              "    </tr>\n",
              "    <tr>\n",
              "      <th>2014-02-20 17:00:00</th>\n",
              "      <td>1.0</td>\n",
              "      <td>1</td>\n",
              "      <td>0.10</td>\n",
              "      <td>1.000000</td>\n",
              "      <td>0.0000</td>\n",
              "    </tr>\n",
              "    <tr>\n",
              "      <th>2014-08-01 18:00:00</th>\n",
              "      <td>1.0</td>\n",
              "      <td>1</td>\n",
              "      <td>0.00</td>\n",
              "      <td>0.066667</td>\n",
              "      <td>0.0000</td>\n",
              "    </tr>\n",
              "    <tr>\n",
              "      <th>2014-10-03 05:00:00</th>\n",
              "      <td>0.0</td>\n",
              "      <td>1</td>\n",
              "      <td>0.00</td>\n",
              "      <td>0.066667</td>\n",
              "      <td>-0.4404</td>\n",
              "    </tr>\n",
              "  </tbody>\n",
              "</table>\n",
              "</div>"
            ],
            "text/plain": [
              "                     Daily_Weight_mean_by_hour  ...  vader_sent_mean_by_hour\n",
              "time                                            ...                         \n",
              "2012-08-02 17:00:00                        1.0  ...                   0.2263\n",
              "2013-08-16 18:00:00                        1.0  ...                   0.0000\n",
              "2014-02-20 17:00:00                        1.0  ...                   0.0000\n",
              "2014-08-01 18:00:00                        1.0  ...                   0.0000\n",
              "2014-10-03 05:00:00                        0.0  ...                  -0.4404\n",
              "\n",
              "[5 rows x 5 columns]"
            ]
          },
          "metadata": {
            "tags": []
          },
          "execution_count": 40
        }
      ]
    },
    {
      "cell_type": "markdown",
      "metadata": {
        "id": "HAbSfPdxc0LC"
      },
      "source": [
        "**Method to classify the movement of features**"
      ]
    },
    {
      "cell_type": "code",
      "metadata": {
        "id": "k0XVJZa_CzWE"
      },
      "source": [
        "def movement_classifier(x):\n",
        "    try:\n",
        "        if x >= 0 :\n",
        "            return 1\n",
        "        else:\n",
        "            return 0\n",
        "    except:\n",
        "        print(x)"
      ],
      "execution_count": 41,
      "outputs": []
    },
    {
      "cell_type": "markdown",
      "metadata": {
        "id": "jQS2YODsc6-d"
      },
      "source": [
        "**Calculate differences to apply the movement_classifier**"
      ]
    },
    {
      "cell_type": "code",
      "metadata": {
        "colab": {
          "base_uri": "https://localhost:8080/"
        },
        "id": "kuoD25y36Z8L",
        "outputId": "9c77f485-5354-4296-8fdf-9721f5aa7c41"
      },
      "source": [
        "sentiment_grouped_hourly[\"tweet_diff\"] = sentiment_grouped_hourly[\"Daily_Weight_count_by_hour\"].diff()\n",
        "sentiment_grouped_hourly[\"blob_sent_mean_by_hour_diff\"] = sentiment_grouped_hourly[\"blob_sent_mean_by_hour\"].diff()\n",
        "sentiment_grouped_hourly[\"vader_sent_mean_by_hour_diff\"] = sentiment_grouped_hourly[\"vader_sent_mean_by_hour\"].diff()\n",
        "sentiment_grouped_hourly[\"tweet_movement\"] = sentiment_grouped_hourly[\"tweet_diff\"].progress_apply(lambda x:movement_classifier(x))\n",
        "sentiment_grouped_hourly[\"blob_sent_movement\"] = sentiment_grouped_hourly[\"blob_sent_mean_by_hour_diff\"].progress_apply(lambda x:movement_classifier(x))\n",
        "sentiment_grouped_hourly[\"vader_sent_movement\"] = sentiment_grouped_hourly[\"vader_sent_mean_by_hour_diff\"].progress_apply(lambda x:movement_classifier(x))"
      ],
      "execution_count": 42,
      "outputs": [
        {
          "output_type": "stream",
          "text": [
            "100%|██████████| 1343/1343 [00:00<00:00, 277348.61it/s]\n",
            "100%|██████████| 1343/1343 [00:00<00:00, 269854.86it/s]\n",
            "100%|██████████| 1343/1343 [00:00<00:00, 243840.11it/s]\n"
          ],
          "name": "stderr"
        }
      ]
    },
    {
      "cell_type": "markdown",
      "metadata": {
        "id": "67etw9y3dFgp"
      },
      "source": [
        "**Save the data to save the processing time for future use**"
      ]
    },
    {
      "cell_type": "code",
      "metadata": {
        "id": "BQ-FYORKA1rQ"
      },
      "source": [
        "sentiment_grouped_hourly.head()\n",
        "sentiment_grouped_hourly.to_csv(\"twitter_sentiments_hourly_processed_data.csv\")"
      ],
      "execution_count": 43,
      "outputs": []
    },
    {
      "cell_type": "code",
      "metadata": {
        "colab": {
          "base_uri": "https://localhost:8080/"
        },
        "id": "6WuGDsFf9vJi",
        "outputId": "49d421ca-d4b0-479d-f693-338bac7932de"
      },
      "source": [
        "sentiment_grouped_hourly.info()"
      ],
      "execution_count": 44,
      "outputs": [
        {
          "output_type": "stream",
          "text": [
            "<class 'pandas.core.frame.DataFrame'>\n",
            "DatetimeIndex: 1343 entries, 2012-08-02 17:00:00 to 2019-05-27 12:00:00\n",
            "Data columns (total 11 columns):\n",
            " #   Column                        Non-Null Count  Dtype  \n",
            "---  ------                        --------------  -----  \n",
            " 0   Daily_Weight_mean_by_hour     1343 non-null   float64\n",
            " 1   Daily_Weight_count_by_hour    1343 non-null   int64  \n",
            " 2   blob_sent_mean_by_hour        1343 non-null   float64\n",
            " 3   subjectivity_mean_by_hour     1343 non-null   float64\n",
            " 4   vader_sent_mean_by_hour       1343 non-null   float64\n",
            " 5   tweet_diff                    1342 non-null   float64\n",
            " 6   blob_sent_mean_by_hour_diff   1342 non-null   float64\n",
            " 7   vader_sent_mean_by_hour_diff  1342 non-null   float64\n",
            " 8   tweet_movement                1343 non-null   int64  \n",
            " 9   blob_sent_movement            1343 non-null   int64  \n",
            " 10  vader_sent_movement           1343 non-null   int64  \n",
            "dtypes: float64(7), int64(4)\n",
            "memory usage: 125.9 KB\n"
          ],
          "name": "stdout"
        }
      ]
    },
    {
      "cell_type": "code",
      "metadata": {
        "id": "3gxq_WOLYlf5"
      },
      "source": [
        ""
      ],
      "execution_count": null,
      "outputs": []
    }
  ]
}