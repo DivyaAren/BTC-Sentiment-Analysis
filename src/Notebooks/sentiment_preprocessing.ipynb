{
  "nbformat": 4,
  "nbformat_minor": 0,
  "metadata": {
    "colab": {
      "name": "sentiment_preprocessing.ipynb",
      "provenance": [],
      "collapsed_sections": []
    },
    "environment": {
      "name": "common-cpu.m65",
      "type": "gcloud",
      "uri": "gcr.io/deeplearning-platform-release/base-cpu:m65"
    },
    "kernelspec": {
      "display_name": "Python 3",
      "language": "python",
      "name": "python3"
    },
    "language_info": {
      "codemirror_mode": {
        "name": "ipython",
        "version": 3
      },
      "file_extension": ".py",
      "mimetype": "text/x-python",
      "name": "python",
      "nbconvert_exporter": "python",
      "pygments_lexer": "ipython3",
      "version": "3.7.10"
    }
  },
  "cells": [
    {
      "cell_type": "code",
      "metadata": {
        "colab": {
          "base_uri": "https://localhost:8080/"
        },
        "id": "sghizAyUifPT",
        "outputId": "c6fb5eef-8af1-40d0-eb5f-b08c8812d382"
      },
      "source": [
        "!pip install -U -q preprocessor\n",
        "!pip install -U -q vaderSentiment\n",
        "!pip install -U -q nltk\n",
        "!pip install -U -q textblob\n",
        "!pip install -U -q gensim\n",
        "!pip install -U -q tqdm\n",
        "!pip install -U -q bs4\n",
        "!pip install python-Levenshtein\n",
        "!pip install -U -q plotly"
      ],
      "execution_count": null,
      "outputs": [
        {
          "output_type": "stream",
          "text": [
            "  Building wheel for preprocessor (setup.py) ... \u001b[?25l\u001b[?25hdone\n",
            "\u001b[K     |████████████████████████████████| 133kB 9.1MB/s \n",
            "\u001b[K     |████████████████████████████████| 1.5MB 9.0MB/s \n",
            "\u001b[K     |████████████████████████████████| 23.9MB 1.9MB/s \n",
            "\u001b[K     |████████████████████████████████| 81kB 4.8MB/s \n",
            "\u001b[?25hCollecting python-Levenshtein\n",
            "\u001b[?25l  Downloading https://files.pythonhosted.org/packages/2a/dc/97f2b63ef0fa1fd78dcb7195aca577804f6b2b51e712516cc0e902a9a201/python-Levenshtein-0.12.2.tar.gz (50kB)\n",
            "\u001b[K     |████████████████████████████████| 51kB 3.9MB/s \n",
            "\u001b[?25hRequirement already satisfied: setuptools in /usr/local/lib/python3.7/dist-packages (from python-Levenshtein) (54.2.0)\n",
            "Building wheels for collected packages: python-Levenshtein\n",
            "  Building wheel for python-Levenshtein (setup.py) ... \u001b[?25l\u001b[?25hdone\n",
            "  Created wheel for python-Levenshtein: filename=python_Levenshtein-0.12.2-cp37-cp37m-linux_x86_64.whl size=149807 sha256=2d165ee66720c7626739b0c3bae39a7940fd0542926f26d87628b822e03fa4d5\n",
            "  Stored in directory: /root/.cache/pip/wheels/b3/26/73/4b48503bac73f01cf18e52cd250947049a7f339e940c5df8fc\n",
            "Successfully built python-Levenshtein\n",
            "Installing collected packages: python-Levenshtein\n",
            "Successfully installed python-Levenshtein-0.12.2\n",
            "\u001b[K     |████████████████████████████████| 13.2MB 345kB/s \n",
            "\u001b[?25h"
          ],
          "name": "stdout"
        }
      ]
    },
    {
      "cell_type": "code",
      "metadata": {
        "id": "mUMhHuJoiTVn",
        "colab": {
          "base_uri": "https://localhost:8080/",
          "height": 17
        },
        "outputId": "ea3a6c85-2994-4b96-e321-2a3d1db6ab5b"
      },
      "source": [
        "import preprocessor as p\n",
        "from textblob import TextBlob\n",
        "from vaderSentiment.vaderSentiment import SentimentIntensityAnalyzer\n",
        "import pandas as pd\n",
        "import numpy as np\n",
        "import gensim\n",
        "import re\n",
        "from tqdm import tqdm\n",
        "from bs4 import BeautifulSoup\n",
        "import matplotlib.pyplot as plt\n",
        "import plotly.offline as py\n",
        "import plotly.graph_objs as go\n",
        "import seaborn as sns\n",
        "import plotly.io as pio\n",
        "py.init_notebook_mode(connected=True)\n",
        "# Required for plotly to run on colab\n",
        "pio.renderers.default = 'colab'\n",
        "%matplotlib inline"
      ],
      "execution_count": null,
      "outputs": [
        {
          "output_type": "display_data",
          "data": {
            "text/html": [
              "        <script type=\"text/javascript\">\n",
              "        window.PlotlyConfig = {MathJaxConfig: 'local'};\n",
              "        if (window.MathJax) {MathJax.Hub.Config({SVG: {font: \"STIX-Web\"}});}\n",
              "        if (typeof require !== 'undefined') {\n",
              "        require.undef(\"plotly\");\n",
              "        requirejs.config({\n",
              "            paths: {\n",
              "                'plotly': ['https://cdn.plot.ly/plotly-latest.min']\n",
              "            }\n",
              "        });\n",
              "        require(['plotly'], function(Plotly) {\n",
              "            window._Plotly = Plotly;\n",
              "        });\n",
              "        }\n",
              "        </script>\n",
              "        "
            ]
          },
          "metadata": {
            "tags": []
          }
        }
      ]
    },
    {
      "cell_type": "code",
      "metadata": {
        "id": "k6PSkEBqiTV7"
      },
      "source": [
        "tqdm.pandas()"
      ],
      "execution_count": null,
      "outputs": []
    },
    {
      "cell_type": "code",
      "metadata": {
        "colab": {
          "base_uri": "https://localhost:8080/"
        },
        "id": "3LORlw4_jZMn",
        "outputId": "297fb486-3616-4c2a-8ac1-4265c8190ebb"
      },
      "source": [
        "import os\n",
        "from google.colab import drive\n",
        "drive.mount('/content/drive/')\n",
        "os.chdir('/content/drive/MyDrive/CA683')"
      ],
      "execution_count": null,
      "outputs": [
        {
          "output_type": "stream",
          "text": [
            "Mounted at /content/drive/\n"
          ],
          "name": "stdout"
        }
      ]
    },
    {
      "cell_type": "markdown",
      "metadata": {
        "id": "h9vhVtw8iTV9"
      },
      "source": [
        "1. Dataframe with 16 M rows\n",
        "2. Note - To process huge data of 3.9 GB with 16M rows of tweet data, this code was processed in Google Cloud machines with GPU\n",
        "3. Drop useless columns"
      ]
    },
    {
      "cell_type": "code",
      "metadata": {
        "id": "hzeJplYfiTV-"
      },
      "source": [
        "\n",
        "df = pd.read_csv(\"tweets-bulk.csv\", sep=';', nrows= 12143600, header=0, error_bad_lines=False) \n",
        "#df = pd.read_csv(\"tweet_1L.csv\") -- 100,000 rows to test the processing with limited data set\n",
        "data = df.drop([\"url\",\"fullname\"],axis=1)\n"
      ],
      "execution_count": null,
      "outputs": []
    },
    {
      "cell_type": "code",
      "metadata": {
        "colab": {
          "base_uri": "https://localhost:8080/"
        },
        "id": "C3MFHHV1jvxq",
        "outputId": "b64c18ef-65d4-411c-bd6f-3a5d8860e0c2"
      },
      "source": [
        "data.head(2)\n",
        "data.shape"
      ],
      "execution_count": null,
      "outputs": [
        {
          "output_type": "execute_result",
          "data": {
            "text/plain": [
              "(100000, 8)"
            ]
          },
          "metadata": {
            "tags": []
          },
          "execution_count": 6
        }
      ]
    },
    {
      "cell_type": "markdown",
      "metadata": {
        "id": "7ZUDCZN2iTWA"
      },
      "source": [
        "Clean function using a combination of re and preprocessor"
      ]
    },
    {
      "cell_type": "code",
      "metadata": {
        "colab": {
          "base_uri": "https://localhost:8080/",
          "height": 128
        },
        "id": "W8T1nGrZiTWC",
        "outputId": "87a9ecc0-7003-4b10-dd0d-65208743ee1f"
      },
      "source": [
        "def cleaning(text):\n",
        "    cleantext = p.clean(text)\n",
        "    cleantext = re.sub('[^a-zA-Z ]','',cleantext)\n",
        "    return cleantext\n",
        "def clean(data):\n",
        "    #cleanr = re.compile(\"<.*?>\")\n",
        "    cleanr= re.sub(r\"http\\S+\", \"\", data)\n",
        "    \n",
        "    cleanr= re.sub(r\"pic.\\S+\", \"\", cleanr)\n",
        "    #cleanr= re.sub(cleanr, \"\", data)\n",
        "    #cleantext = re.sub(cleanr,'',data)\n",
        "    cleantext = re.sub('[^a-zA-Z# ]','',cleanr)\n",
        "    clean_hash = re.sub(r\"#\\S+\",\"\",cleantext)\n",
        "    \n",
        "    return clean_hash\n",
        "data[\"text\"] = data.progress_apply(lambda x:clean(str(x[\"text\"])),axis=1)\n",
        "\n",
        "data.head(2)"
      ],
      "execution_count": null,
      "outputs": [
        {
          "output_type": "stream",
          "text": [
            "100%|██████████| 100000/100000 [00:02<00:00, 39636.17it/s]\n"
          ],
          "name": "stderr"
        },
        {
          "output_type": "execute_result",
          "data": {
            "text/html": [
              "<div>\n",
              "<style scoped>\n",
              "    .dataframe tbody tr th:only-of-type {\n",
              "        vertical-align: middle;\n",
              "    }\n",
              "\n",
              "    .dataframe tbody tr th {\n",
              "        vertical-align: top;\n",
              "    }\n",
              "\n",
              "    .dataframe thead th {\n",
              "        text-align: right;\n",
              "    }\n",
              "</style>\n",
              "<table border=\"1\" class=\"dataframe\">\n",
              "  <thead>\n",
              "    <tr style=\"text-align: right;\">\n",
              "      <th></th>\n",
              "      <th>Unnamed: 0</th>\n",
              "      <th>id</th>\n",
              "      <th>user</th>\n",
              "      <th>timestamp</th>\n",
              "      <th>replies</th>\n",
              "      <th>likes</th>\n",
              "      <th>retweets</th>\n",
              "      <th>text</th>\n",
              "    </tr>\n",
              "  </thead>\n",
              "  <tbody>\n",
              "    <tr>\n",
              "      <th>0</th>\n",
              "      <td>0</td>\n",
              "      <td>1132977055300300800</td>\n",
              "      <td>KamdemAbdiel</td>\n",
              "      <td>2019-05-27 11:49:14+00</td>\n",
              "      <td>0</td>\n",
              "      <td>0</td>\n",
              "      <td>0</td>\n",
              "      <td>appena uscito un nuovo video LES CRYPTOMONNAI...</td>\n",
              "    </tr>\n",
              "    <tr>\n",
              "      <th>1</th>\n",
              "      <td>1</td>\n",
              "      <td>1132977073402736640</td>\n",
              "      <td>bitcointe</td>\n",
              "      <td>2019-05-27 11:49:18+00</td>\n",
              "      <td>0</td>\n",
              "      <td>0</td>\n",
              "      <td>0</td>\n",
              "      <td>Cardano Digitize Currencies EOS   ROI ATampT B...</td>\n",
              "    </tr>\n",
              "  </tbody>\n",
              "</table>\n",
              "</div>"
            ],
            "text/plain": [
              "   Unnamed: 0  ...                                               text\n",
              "0           0  ...   appena uscito un nuovo video LES CRYPTOMONNAI...\n",
              "1           1  ...  Cardano Digitize Currencies EOS   ROI ATampT B...\n",
              "\n",
              "[2 rows x 8 columns]"
            ]
          },
          "metadata": {
            "tags": []
          },
          "execution_count": 7
        }
      ]
    },
    {
      "cell_type": "markdown",
      "metadata": {
        "id": "3tONzbR0iTWG"
      },
      "source": [
        "tokenize and stemm and then join text"
      ]
    },
    {
      "cell_type": "code",
      "metadata": {
        "colab": {
          "base_uri": "https://localhost:8080/"
        },
        "id": "H5DOlhYZiTWH",
        "outputId": "82947330-ccd8-419b-c420-4887c23d33b0"
      },
      "source": [
        "from nltk.tokenize import sent_tokenize, word_tokenize\n",
        "from nltk.stem import PorterStemmer\n",
        "from nltk.corpus import stopwords\n",
        "import nltk\n",
        "nltk.download('punkt')\n",
        "nltk.download('stopwords')\n",
        "stopwords = nltk.corpus.stopwords.words('english')\n",
        "porter = PorterStemmer()\n",
        "\n",
        "def stemSentence(sentence):\n",
        "    #token words list\n",
        "    tokens = [word.lower() for sent in nltk.sent_tokenize(sentence) for word in nltk.word_tokenize(sent)]\n",
        "    stem_sentence=[]\n",
        "    # Create list of word tokens after removing stopwords\n",
        "    filtered_sentence =[] \n",
        "    #filtered_sentence = [w for w in token_words if not w in stopwords.words()]\n",
        "    for word in tokens:\n",
        "      if word not in stopwords:\n",
        "        stem_sentence.append(porter.stem(word))\n",
        "        stem_sentence.append(\" \")\n",
        "    return \"\".join(stem_sentence)"
      ],
      "execution_count": null,
      "outputs": [
        {
          "output_type": "stream",
          "text": [
            "[nltk_data] Downloading package punkt to /root/nltk_data...\n",
            "[nltk_data]   Unzipping tokenizers/punkt.zip.\n",
            "[nltk_data] Downloading package stopwords to /root/nltk_data...\n",
            "[nltk_data]   Unzipping corpora/stopwords.zip.\n"
          ],
          "name": "stderr"
        }
      ]
    },
    {
      "cell_type": "markdown",
      "metadata": {
        "id": "vOQgT3RdiTWJ"
      },
      "source": [
        "TextBlob functions"
      ]
    },
    {
      "cell_type": "code",
      "metadata": {
        "id": "9pHW86FLiTWL"
      },
      "source": [
        "data[\"subjectivity\"] = np.zeros((data.shape[0],1))\n",
        "data[\"blob_sent\"] = np.zeros((data.shape[0],1))\n",
        "def textblob_sent(text):\n",
        "    text = stemSentence(text)\n",
        "    analysis = TextBlob(str(text))\n",
        "    return analysis.sentiment[0]\n",
        "def textblob_sub(text):\n",
        "    text = stemSentence(text)\n",
        "    analysis = TextBlob(str(text))\n",
        "    return analysis.sentiment[1]"
      ],
      "execution_count": null,
      "outputs": []
    },
    {
      "cell_type": "code",
      "metadata": {
        "colab": {
          "base_uri": "https://localhost:8080/"
        },
        "id": "BhKvaFpYiTWM",
        "outputId": "c9d3c5ad-c394-4a51-953e-bcced15d607b"
      },
      "source": [
        "print(data[\"text\"][6])\n",
        "print(textblob_sent(data[\"text\"][6]))\n",
        "print(textblob_sent(stemSentence(data[\"text\"][6])))"
      ],
      "execution_count": null,
      "outputs": [
        {
          "output_type": "stream",
          "text": [
            "nwoodfine We have been building on the real  SVWhat have you been building on broken BTC\n",
            "-0.1\n",
            "-0.1\n"
          ],
          "name": "stdout"
        }
      ]
    },
    {
      "cell_type": "code",
      "metadata": {
        "id": "upnDfWfFiTWS",
        "colab": {
          "base_uri": "https://localhost:8080/"
        },
        "outputId": "2270e9a3-c27e-4adf-a16c-816eb2bdea84"
      },
      "source": [
        "data[\"blob_sent\"] = data.progress_apply(lambda x:textblob_sent(str(x[\"text\"])),axis=1)"
      ],
      "execution_count": null,
      "outputs": [
        {
          "output_type": "stream",
          "text": [
            "100%|██████████| 100000/100000 [01:17<00:00, 1297.75it/s]\n"
          ],
          "name": "stderr"
        }
      ]
    },
    {
      "cell_type": "code",
      "metadata": {
        "colab": {
          "base_uri": "https://localhost:8080/",
          "height": 546
        },
        "id": "lqwvEifBYlfR",
        "outputId": "47618268-b93b-4e76-93c2-9b817f5e3396"
      },
      "source": [
        "data.to_csv(\"blob_sent_recorded_1L.csv\")\n",
        "data.head(10)"
      ],
      "execution_count": null,
      "outputs": [
        {
          "output_type": "execute_result",
          "data": {
            "text/html": [
              "<div>\n",
              "<style scoped>\n",
              "    .dataframe tbody tr th:only-of-type {\n",
              "        vertical-align: middle;\n",
              "    }\n",
              "\n",
              "    .dataframe tbody tr th {\n",
              "        vertical-align: top;\n",
              "    }\n",
              "\n",
              "    .dataframe thead th {\n",
              "        text-align: right;\n",
              "    }\n",
              "</style>\n",
              "<table border=\"1\" class=\"dataframe\">\n",
              "  <thead>\n",
              "    <tr style=\"text-align: right;\">\n",
              "      <th></th>\n",
              "      <th>Unnamed: 0</th>\n",
              "      <th>id</th>\n",
              "      <th>user</th>\n",
              "      <th>timestamp</th>\n",
              "      <th>replies</th>\n",
              "      <th>likes</th>\n",
              "      <th>retweets</th>\n",
              "      <th>text</th>\n",
              "      <th>subjectivity</th>\n",
              "      <th>blob_sent</th>\n",
              "    </tr>\n",
              "  </thead>\n",
              "  <tbody>\n",
              "    <tr>\n",
              "      <th>0</th>\n",
              "      <td>0</td>\n",
              "      <td>1132977055300300800</td>\n",
              "      <td>KamdemAbdiel</td>\n",
              "      <td>2019-05-27 11:49:14+00</td>\n",
              "      <td>0</td>\n",
              "      <td>0</td>\n",
              "      <td>0</td>\n",
              "      <td>appena uscito un nuovo video LES CRYPTOMONNAI...</td>\n",
              "      <td>0.0</td>\n",
              "      <td>0.0</td>\n",
              "    </tr>\n",
              "    <tr>\n",
              "      <th>1</th>\n",
              "      <td>1</td>\n",
              "      <td>1132977073402736640</td>\n",
              "      <td>bitcointe</td>\n",
              "      <td>2019-05-27 11:49:18+00</td>\n",
              "      <td>0</td>\n",
              "      <td>0</td>\n",
              "      <td>0</td>\n",
              "      <td>Cardano Digitize Currencies EOS   ROI ATampT B...</td>\n",
              "      <td>0.0</td>\n",
              "      <td>0.0</td>\n",
              "    </tr>\n",
              "    <tr>\n",
              "      <th>2</th>\n",
              "      <td>2</td>\n",
              "      <td>1132977023893139456</td>\n",
              "      <td>3eyedbran</td>\n",
              "      <td>2019-05-27 11:49:06+00</td>\n",
              "      <td>0</td>\n",
              "      <td>2</td>\n",
              "      <td>1</td>\n",
              "      <td>Another Test tweet that wasnt caught in the st...</td>\n",
              "      <td>0.0</td>\n",
              "      <td>0.0</td>\n",
              "    </tr>\n",
              "    <tr>\n",
              "      <th>3</th>\n",
              "      <td>3</td>\n",
              "      <td>1132977089089556481</td>\n",
              "      <td>DetroitCrypto</td>\n",
              "      <td>2019-05-27 11:49:22+00</td>\n",
              "      <td>0</td>\n",
              "      <td>0</td>\n",
              "      <td>0</td>\n",
              "      <td>Current Crypto Prices BTC  USDETH  USDLTC  USD...</td>\n",
              "      <td>0.0</td>\n",
              "      <td>0.0</td>\n",
              "    </tr>\n",
              "    <tr>\n",
              "      <th>4</th>\n",
              "      <td>4</td>\n",
              "      <td>1132977092340191232</td>\n",
              "      <td>mmursaleen72</td>\n",
              "      <td>2019-05-27 11:49:23+00</td>\n",
              "      <td>0</td>\n",
              "      <td>0</td>\n",
              "      <td>0</td>\n",
              "      <td>Spiv Nosar Baz BITCOIN Is An Asset amp NOT A C...</td>\n",
              "      <td>0.0</td>\n",
              "      <td>0.0</td>\n",
              "    </tr>\n",
              "    <tr>\n",
              "      <th>5</th>\n",
              "      <td>5</td>\n",
              "      <td>1132977100309319680</td>\n",
              "      <td>0nurTOKA</td>\n",
              "      <td>2019-05-27 11:49:25+00</td>\n",
              "      <td>0</td>\n",
              "      <td>0</td>\n",
              "      <td>0</td>\n",
              "      <td>inceldii yerden kopsun bakalm  ye kadar bir h...</td>\n",
              "      <td>0.0</td>\n",
              "      <td>0.0</td>\n",
              "    </tr>\n",
              "    <tr>\n",
              "      <th>6</th>\n",
              "      <td>6</td>\n",
              "      <td>1132977101638897665</td>\n",
              "      <td>evilrobotted</td>\n",
              "      <td>2019-05-27 11:49:25+00</td>\n",
              "      <td>0</td>\n",
              "      <td>0</td>\n",
              "      <td>0</td>\n",
              "      <td>nwoodfine We have been building on the real  S...</td>\n",
              "      <td>0.0</td>\n",
              "      <td>-0.1</td>\n",
              "    </tr>\n",
              "    <tr>\n",
              "      <th>7</th>\n",
              "      <td>7</td>\n",
              "      <td>1132977108836323330</td>\n",
              "      <td>jabur_guilherme</td>\n",
              "      <td>2019-05-27 11:49:27+00</td>\n",
              "      <td>0</td>\n",
              "      <td>0</td>\n",
              "      <td>0</td>\n",
              "      <td>pedronauck como investidor vc  um timo dev Sor...</td>\n",
              "      <td>0.0</td>\n",
              "      <td>0.0</td>\n",
              "    </tr>\n",
              "    <tr>\n",
              "      <th>8</th>\n",
              "      <td>8</td>\n",
              "      <td>1132977131850350593</td>\n",
              "      <td>INTBICON</td>\n",
              "      <td>2019-05-27 11:49:32+00</td>\n",
              "      <td>0</td>\n",
              "      <td>0</td>\n",
              "      <td>0</td>\n",
              "      <td></td>\n",
              "      <td>0.0</td>\n",
              "      <td>0.0</td>\n",
              "    </tr>\n",
              "    <tr>\n",
              "      <th>9</th>\n",
              "      <td>9</td>\n",
              "      <td>1132977132714561536</td>\n",
              "      <td>MLWright15</td>\n",
              "      <td>2019-05-27 11:49:32+00</td>\n",
              "      <td>0</td>\n",
              "      <td>0</td>\n",
              "      <td>0</td>\n",
              "      <td>CHANGE IS COMINGGET READY Boom Another CB Jab ...</td>\n",
              "      <td>0.0</td>\n",
              "      <td>0.0</td>\n",
              "    </tr>\n",
              "  </tbody>\n",
              "</table>\n",
              "</div>"
            ],
            "text/plain": [
              "   Unnamed: 0                   id  ... subjectivity blob_sent\n",
              "0           0  1132977055300300800  ...          0.0       0.0\n",
              "1           1  1132977073402736640  ...          0.0       0.0\n",
              "2           2  1132977023893139456  ...          0.0       0.0\n",
              "3           3  1132977089089556481  ...          0.0       0.0\n",
              "4           4  1132977092340191232  ...          0.0       0.0\n",
              "5           5  1132977100309319680  ...          0.0       0.0\n",
              "6           6  1132977101638897665  ...          0.0      -0.1\n",
              "7           7  1132977108836323330  ...          0.0       0.0\n",
              "8           8  1132977131850350593  ...          0.0       0.0\n",
              "9           9  1132977132714561536  ...          0.0       0.0\n",
              "\n",
              "[10 rows x 10 columns]"
            ]
          },
          "metadata": {
            "tags": []
          },
          "execution_count": 11
        }
      ]
    },
    {
      "cell_type": "code",
      "metadata": {
        "id": "yXynXN6ZUDdJ",
        "colab": {
          "base_uri": "https://localhost:8080/"
        },
        "outputId": "bf40ea5e-cabc-472e-b82e-9ad62d9392ee"
      },
      "source": [
        "data[\"subjectivity\"] = data.progress_apply(lambda x:textblob_sub(x[\"text\"]),axis=1)\n",
        "data.to_csv(\"subjectivity_recorded_1L.csv\")\n"
      ],
      "execution_count": null,
      "outputs": [
        {
          "output_type": "stream",
          "text": [
            "100%|██████████| 100000/100000 [01:17<00:00, 1294.09it/s]\n"
          ],
          "name": "stderr"
        }
      ]
    },
    {
      "cell_type": "code",
      "metadata": {
        "colab": {
          "base_uri": "https://localhost:8080/"
        },
        "id": "EydYHBLsYlfS",
        "outputId": "95bb29bc-00cd-43c8-de52-c11c32968d41"
      },
      "source": [
        "data.shape"
      ],
      "execution_count": null,
      "outputs": [
        {
          "output_type": "execute_result",
          "data": {
            "text/plain": [
              "(100000, 10)"
            ]
          },
          "metadata": {
            "tags": []
          },
          "execution_count": 14
        }
      ]
    },
    {
      "cell_type": "code",
      "metadata": {
        "id": "OpNVtSSKYlfU"
      },
      "source": [
        "index_names = data[ (data['subjectivity'] == 0.0) & (data['blob_sent'] == 0.000000)].index\n",
        "  \n",
        "# drop these given row indexes from dataFrame\n",
        "data.drop(index_names, inplace = True)  "
      ],
      "execution_count": null,
      "outputs": []
    },
    {
      "cell_type": "code",
      "metadata": {
        "colab": {
          "base_uri": "https://localhost:8080/"
        },
        "id": "JjN31x7uYlfV",
        "outputId": "78811be7-c8ef-4afb-b831-a23cd720b96f"
      },
      "source": [
        "data.shape"
      ],
      "execution_count": null,
      "outputs": [
        {
          "output_type": "execute_result",
          "data": {
            "text/plain": [
              "(39652, 10)"
            ]
          },
          "metadata": {
            "tags": []
          },
          "execution_count": 14
        }
      ]
    },
    {
      "cell_type": "markdown",
      "metadata": {
        "id": "nfAJx0ctiTWT"
      },
      "source": [
        "Vader sentiment"
      ]
    },
    {
      "cell_type": "code",
      "metadata": {
        "id": "o1jFJvzOiTWU"
      },
      "source": [
        "sid = SentimentIntensityAnalyzer()\n",
        "def vader(text):\n",
        "    score = sid.polarity_scores(text)\n",
        "    return score[\"compound\"]\n"
      ],
      "execution_count": null,
      "outputs": []
    },
    {
      "cell_type": "code",
      "metadata": {
        "id": "uZj5dLjFiTWU",
        "colab": {
          "base_uri": "https://localhost:8080/",
          "height": 323
        },
        "outputId": "d575bfc8-580e-4bd0-a528-16b439b49f0d"
      },
      "source": [
        "data[\"vader_sent\"] = data.progress_apply(lambda x:vader(str(x[\"text\"])),axis=1)\n",
        "data.head(5)"
      ],
      "execution_count": null,
      "outputs": [
        {
          "output_type": "stream",
          "text": [
            "100%|██████████| 39652/39652 [00:07<00:00, 5178.28it/s]\n"
          ],
          "name": "stderr"
        },
        {
          "output_type": "execute_result",
          "data": {
            "text/html": [
              "<div>\n",
              "<style scoped>\n",
              "    .dataframe tbody tr th:only-of-type {\n",
              "        vertical-align: middle;\n",
              "    }\n",
              "\n",
              "    .dataframe tbody tr th {\n",
              "        vertical-align: top;\n",
              "    }\n",
              "\n",
              "    .dataframe thead th {\n",
              "        text-align: right;\n",
              "    }\n",
              "</style>\n",
              "<table border=\"1\" class=\"dataframe\">\n",
              "  <thead>\n",
              "    <tr style=\"text-align: right;\">\n",
              "      <th></th>\n",
              "      <th>Unnamed: 0</th>\n",
              "      <th>id</th>\n",
              "      <th>user</th>\n",
              "      <th>timestamp</th>\n",
              "      <th>replies</th>\n",
              "      <th>likes</th>\n",
              "      <th>retweets</th>\n",
              "      <th>text</th>\n",
              "      <th>subjectivity</th>\n",
              "      <th>blob_sent</th>\n",
              "      <th>vader_sent</th>\n",
              "    </tr>\n",
              "  </thead>\n",
              "  <tbody>\n",
              "    <tr>\n",
              "      <th>3</th>\n",
              "      <td>3</td>\n",
              "      <td>1132977089089556481</td>\n",
              "      <td>DetroitCrypto</td>\n",
              "      <td>2019-05-27 11:49:22+00</td>\n",
              "      <td>0</td>\n",
              "      <td>0</td>\n",
              "      <td>0</td>\n",
              "      <td>Current Crypto Prices BTC  USDETH  USDLTC  USD...</td>\n",
              "      <td>0.400000</td>\n",
              "      <td>0.000000</td>\n",
              "      <td>0.0000</td>\n",
              "    </tr>\n",
              "    <tr>\n",
              "      <th>6</th>\n",
              "      <td>6</td>\n",
              "      <td>1132977101638897665</td>\n",
              "      <td>evilrobotted</td>\n",
              "      <td>2019-05-27 11:49:25+00</td>\n",
              "      <td>0</td>\n",
              "      <td>0</td>\n",
              "      <td>0</td>\n",
              "      <td>nwoodfine We have been building on the real  S...</td>\n",
              "      <td>0.350000</td>\n",
              "      <td>-0.100000</td>\n",
              "      <td>-0.4767</td>\n",
              "    </tr>\n",
              "    <tr>\n",
              "      <th>14</th>\n",
              "      <td>14</td>\n",
              "      <td>1132922663113023489</td>\n",
              "      <td>CCNMarkets</td>\n",
              "      <td>2019-05-27 08:13:06+00</td>\n",
              "      <td>5</td>\n",
              "      <td>167</td>\n",
              "      <td>68</td>\n",
              "      <td>Bitcoin Price Hits  in New  High Whats Driving...</td>\n",
              "      <td>0.497273</td>\n",
              "      <td>0.148182</td>\n",
              "      <td>0.0000</td>\n",
              "    </tr>\n",
              "    <tr>\n",
              "      <th>17</th>\n",
              "      <td>17</td>\n",
              "      <td>1132977067048525824</td>\n",
              "      <td>malfouh</td>\n",
              "      <td>2019-05-27 11:49:17+00</td>\n",
              "      <td>1</td>\n",
              "      <td>1</td>\n",
              "      <td>1</td>\n",
              "      <td>The QLC airdrop  tokens for every QLC holder...</td>\n",
              "      <td>0.850000</td>\n",
              "      <td>0.250000</td>\n",
              "      <td>0.0000</td>\n",
              "    </tr>\n",
              "    <tr>\n",
              "      <th>18</th>\n",
              "      <td>18</td>\n",
              "      <td>1132971551471603712</td>\n",
              "      <td>BoilingPointLTC</td>\n",
              "      <td>2019-05-27 11:27:22+00</td>\n",
              "      <td>1</td>\n",
              "      <td>19</td>\n",
              "      <td>6</td>\n",
              "      <td>You have roughly  days left to get your    tic...</td>\n",
              "      <td>0.200000</td>\n",
              "      <td>0.000000</td>\n",
              "      <td>0.0000</td>\n",
              "    </tr>\n",
              "  </tbody>\n",
              "</table>\n",
              "</div>"
            ],
            "text/plain": [
              "    Unnamed: 0                   id  ... blob_sent vader_sent\n",
              "3            3  1132977089089556481  ...  0.000000     0.0000\n",
              "6            6  1132977101638897665  ... -0.100000    -0.4767\n",
              "14          14  1132922663113023489  ...  0.148182     0.0000\n",
              "17          17  1132977067048525824  ...  0.250000     0.0000\n",
              "18          18  1132971551471603712  ...  0.000000     0.0000\n",
              "\n",
              "[5 rows x 11 columns]"
            ]
          },
          "metadata": {
            "tags": []
          },
          "execution_count": 16
        }
      ]
    },
    {
      "cell_type": "code",
      "metadata": {
        "id": "hLJZAdGXiTWV"
      },
      "source": [
        "adwords = [\"give\",\"referral\",\"referal\",\"bonus\",\"signup\",\"invite\",\"freebitcoin\",\"lucky\",\n",
        "          \"lottery\",\"giveaway\",\"coupon\",\"prizes\",\"enter\",\"airdrop\",\"game\",\"contest\",\"bonuses\"]\n",
        "def contains_word(s, w):\n",
        "    return (' ' + w + ' ') in (' ' + s + ' ')\n",
        "def adchecker(text):\n",
        "    words = []\n",
        "    count = 0\n",
        "    for i in adwords:\n",
        "        if (contains_word(text,i)):\n",
        "            count+= 1\n",
        "            words.append(i)\n",
        "    return count\n",
        "def adword(text):\n",
        "    words = []\n",
        "    count = 0\n",
        "    for i in adwords:\n",
        "        if (contains_word(text,i)):\n",
        "            count+= 1\n",
        "            words.append(i)\n",
        "    return words"
      ],
      "execution_count": null,
      "outputs": []
    },
    {
      "cell_type": "code",
      "metadata": {
        "colab": {
          "base_uri": "https://localhost:8080/"
        },
        "id": "HEBFr3GyiTWW",
        "outputId": "f40f34a1-d996-41ef-af9a-96d3acede6ad"
      },
      "source": [
        "data[\"ad_count\"] = np.zeros((data.shape[0],1))\n",
        "data[\"adwords\"] = np.zeros((data.shape[0],1))\n",
        "\n",
        "data[\"ad_count\"] = data.progress_apply(lambda x:adchecker(x[\"text\"]),axis=1)\n",
        "data[\"adwords\"] = data.progress_apply(lambda x:adword(x[\"text\"]),axis=1)\n",
        "\n",
        "# data.to_csv(\"clean100.csv\")\n"
      ],
      "execution_count": null,
      "outputs": [
        {
          "output_type": "stream",
          "text": [
            "100%|██████████| 39652/39652 [00:00<00:00, 40227.53it/s]\n",
            "100%|██████████| 39652/39652 [00:00<00:00, 40204.41it/s]\n"
          ],
          "name": "stderr"
        }
      ]
    },
    {
      "cell_type": "code",
      "metadata": {
        "colab": {
          "base_uri": "https://localhost:8080/"
        },
        "id": "_y91n4ZPiTWW",
        "outputId": "cda59fe3-23ea-4670-97c2-efc7c714a968"
      },
      "source": [
        "#classify if tweet is ad or not. Needs improvement\n",
        "#0 is ad, 1 is normal\n",
        "def ad_classifier(x):\n",
        "    try:\n",
        "        if x >1 :\n",
        "            return 0\n",
        "        else:\n",
        "            return 1\n",
        "    except:\n",
        "        print(x)\n",
        "\n",
        "data[\"ad_class\"] = data.progress_apply(lambda x:ad_classifier(int(x[\"ad_count\"])),axis=1)"
      ],
      "execution_count": null,
      "outputs": [
        {
          "output_type": "stream",
          "text": [
            "100%|██████████| 39652/39652 [00:00<00:00, 69263.79it/s]\n"
          ],
          "name": "stderr"
        }
      ]
    },
    {
      "cell_type": "code",
      "metadata": {
        "colab": {
          "base_uri": "https://localhost:8080/"
        },
        "id": "VGN6TWXL3rFS",
        "outputId": "1bb8c8af-cbfe-4cc2-8782-31bd701b5bd8"
      },
      "source": [
        "data.astype({'ad_count': 'float64'}).dtypes\n",
        "#nlarg = data.nlargest(30,\"ad_count\")\n",
        "count = data[\"ad_class\"].value_counts()\n",
        "print(count)"
      ],
      "execution_count": null,
      "outputs": [
        {
          "output_type": "stream",
          "text": [
            "1    39604\n",
            "0       48\n",
            "Name: ad_class, dtype: int64\n"
          ],
          "name": "stdout"
        }
      ]
    },
    {
      "cell_type": "code",
      "metadata": {
        "id": "opi0cAdm3wFR",
        "colab": {
          "base_uri": "https://localhost:8080/",
          "height": 683
        },
        "outputId": "34b194bc-e8ef-444f-a574-0c091470c8e1"
      },
      "source": [
        "prominentusers = set(['iamjosephyoung', 'Bitcoin', 'BitcoinMagazine', 'btc', 'BTCNewsletter', 'BTCTN', 'coindesk', 'MoonOverlord',\n",
        "                      'TuurDemeester', 'CryptoCoinsNews', 'LandM_Marius', 'kerooke', 'loomdart', 'GemCrypto', \n",
        "                      'coinnounce', 'MatiGreenspan', 'JWilliamsFstmed', 'VitalikButerin', 'VladZamfir', 'aantonop',\n",
        "                      'ethereumJoseph', 'gavofyork', 'naval', 'tayvano_', 'NickSzabo4', 'cburniske',\n",
        "                      'jwolpert', 'AndrewDARMACAP', 'ricburton', 'bcrypt', 'mikeraymcdonald',\n",
        "                      'evan_van_ness', 'FEhrsam', 'JohnLilic', 'avsa', 'antiprosynth', 'nlw', 'brian_armstrong', \n",
        "                      'twobitidiot', 'APompliano', 'Cointelegraph', 'coinmetrics'])\n",
        "def usernamer(x):\n",
        "    if x in prominentusers:\n",
        "        return 1\n",
        "    else:\n",
        "        return 0\n",
        "data[\"prominent_user\"] = data.progress_apply(lambda x:usernamer(x[\"user\"]),axis=1)\n",
        "\n",
        "data.head(5)\n"
      ],
      "execution_count": null,
      "outputs": [
        {
          "output_type": "stream",
          "text": [
            "100%|██████████| 39652/39652 [00:00<00:00, 88625.10it/s]\n"
          ],
          "name": "stderr"
        },
        {
          "output_type": "execute_result",
          "data": {
            "text/html": [
              "<div>\n",
              "<style scoped>\n",
              "    .dataframe tbody tr th:only-of-type {\n",
              "        vertical-align: middle;\n",
              "    }\n",
              "\n",
              "    .dataframe tbody tr th {\n",
              "        vertical-align: top;\n",
              "    }\n",
              "\n",
              "    .dataframe thead th {\n",
              "        text-align: right;\n",
              "    }\n",
              "</style>\n",
              "<table border=\"1\" class=\"dataframe\">\n",
              "  <thead>\n",
              "    <tr style=\"text-align: right;\">\n",
              "      <th></th>\n",
              "      <th>Unnamed: 0</th>\n",
              "      <th>id</th>\n",
              "      <th>user</th>\n",
              "      <th>timestamp</th>\n",
              "      <th>replies</th>\n",
              "      <th>likes</th>\n",
              "      <th>retweets</th>\n",
              "      <th>text</th>\n",
              "      <th>subjectivity</th>\n",
              "      <th>blob_sent</th>\n",
              "      <th>vader_sent</th>\n",
              "      <th>ad_count</th>\n",
              "      <th>adwords</th>\n",
              "      <th>ad_class</th>\n",
              "      <th>prominent_user</th>\n",
              "    </tr>\n",
              "  </thead>\n",
              "  <tbody>\n",
              "    <tr>\n",
              "      <th>3</th>\n",
              "      <td>3</td>\n",
              "      <td>1132977089089556481</td>\n",
              "      <td>DetroitCrypto</td>\n",
              "      <td>2019-05-27 11:49:22+00</td>\n",
              "      <td>0</td>\n",
              "      <td>0</td>\n",
              "      <td>0</td>\n",
              "      <td>Current Crypto Prices BTC  USDETH  USDLTC  USD...</td>\n",
              "      <td>0.400000</td>\n",
              "      <td>0.000000</td>\n",
              "      <td>0.0000</td>\n",
              "      <td>0</td>\n",
              "      <td>[]</td>\n",
              "      <td>1</td>\n",
              "      <td>0</td>\n",
              "    </tr>\n",
              "    <tr>\n",
              "      <th>6</th>\n",
              "      <td>6</td>\n",
              "      <td>1132977101638897665</td>\n",
              "      <td>evilrobotted</td>\n",
              "      <td>2019-05-27 11:49:25+00</td>\n",
              "      <td>0</td>\n",
              "      <td>0</td>\n",
              "      <td>0</td>\n",
              "      <td>nwoodfine We have been building on the real  S...</td>\n",
              "      <td>0.350000</td>\n",
              "      <td>-0.100000</td>\n",
              "      <td>-0.4767</td>\n",
              "      <td>0</td>\n",
              "      <td>[]</td>\n",
              "      <td>1</td>\n",
              "      <td>0</td>\n",
              "    </tr>\n",
              "    <tr>\n",
              "      <th>14</th>\n",
              "      <td>14</td>\n",
              "      <td>1132922663113023489</td>\n",
              "      <td>CCNMarkets</td>\n",
              "      <td>2019-05-27 08:13:06+00</td>\n",
              "      <td>5</td>\n",
              "      <td>167</td>\n",
              "      <td>68</td>\n",
              "      <td>Bitcoin Price Hits  in New  High Whats Driving...</td>\n",
              "      <td>0.497273</td>\n",
              "      <td>0.148182</td>\n",
              "      <td>0.0000</td>\n",
              "      <td>0</td>\n",
              "      <td>[]</td>\n",
              "      <td>1</td>\n",
              "      <td>0</td>\n",
              "    </tr>\n",
              "    <tr>\n",
              "      <th>17</th>\n",
              "      <td>17</td>\n",
              "      <td>1132977067048525824</td>\n",
              "      <td>malfouh</td>\n",
              "      <td>2019-05-27 11:49:17+00</td>\n",
              "      <td>1</td>\n",
              "      <td>1</td>\n",
              "      <td>1</td>\n",
              "      <td>The QLC airdrop  tokens for every QLC holder...</td>\n",
              "      <td>0.850000</td>\n",
              "      <td>0.250000</td>\n",
              "      <td>0.0000</td>\n",
              "      <td>1</td>\n",
              "      <td>[airdrop]</td>\n",
              "      <td>1</td>\n",
              "      <td>0</td>\n",
              "    </tr>\n",
              "    <tr>\n",
              "      <th>18</th>\n",
              "      <td>18</td>\n",
              "      <td>1132971551471603712</td>\n",
              "      <td>BoilingPointLTC</td>\n",
              "      <td>2019-05-27 11:27:22+00</td>\n",
              "      <td>1</td>\n",
              "      <td>19</td>\n",
              "      <td>6</td>\n",
              "      <td>You have roughly  days left to get your    tic...</td>\n",
              "      <td>0.200000</td>\n",
              "      <td>0.000000</td>\n",
              "      <td>0.0000</td>\n",
              "      <td>0</td>\n",
              "      <td>[]</td>\n",
              "      <td>1</td>\n",
              "      <td>0</td>\n",
              "    </tr>\n",
              "  </tbody>\n",
              "</table>\n",
              "</div>"
            ],
            "text/plain": [
              "    Unnamed: 0                   id  ... ad_class prominent_user\n",
              "3            3  1132977089089556481  ...        1              0\n",
              "6            6  1132977101638897665  ...        1              0\n",
              "14          14  1132922663113023489  ...        1              0\n",
              "17          17  1132977067048525824  ...        1              0\n",
              "18          18  1132971551471603712  ...        1              0\n",
              "\n",
              "[5 rows x 15 columns]"
            ]
          },
          "metadata": {
            "tags": []
          },
          "execution_count": 21
        }
      ]
    },
    {
      "cell_type": "code",
      "metadata": {
        "colab": {
          "base_uri": "https://localhost:8080/"
        },
        "id": "lYdaY3di31Cl",
        "outputId": "30b69fca-af36-4438-b375-cf7b0a29c5de"
      },
      "source": [
        "keywords = ['onchain transaction', 'congestion', 'market cap','market cap drop', 'dispersion of returns', 'downturn', 'exchange volume', 'ATH', 'ath', 'atl', 'ATL',\n",
        "            'bear trap', 'btfd', 'BTFD', 'buy wall', 'deflation', 'dump', 'fomo', 'FOMO', 'mooning', 'whale']\n",
        "def keychecker(text):\n",
        "    words = []\n",
        "    count = 0\n",
        "    for i in keywords:\n",
        "        if (contains_word(str(text),i)):\n",
        "            count+= 1\n",
        "            words.append(i)\n",
        "    return count\n",
        "def keyword(text):\n",
        "    words = []\n",
        "    count = 0\n",
        "    for i in keywords:\n",
        "        if (contains_word(str(text),i)):\n",
        "            count+= 1\n",
        "            words.append(i)\n",
        "    return words\n",
        "def contains_word(s, w):\n",
        "    return (' ' + w + ' ') in (' ' + s + ' ')\n",
        "\n",
        "data[\"key_count\"] = data.progress_apply(lambda x:keychecker(x[\"text\"]),axis=1)\n",
        "data[\"keywords\"] = data.progress_apply(lambda x:keyword(x[\"text\"]),axis=1)\n"
      ],
      "execution_count": null,
      "outputs": [
        {
          "output_type": "stream",
          "text": [
            "100%|██████████| 39652/39652 [00:01<00:00, 33255.60it/s]\n",
            "100%|██████████| 39652/39652 [00:01<00:00, 33864.17it/s]\n"
          ],
          "name": "stderr"
        }
      ]
    },
    {
      "cell_type": "code",
      "metadata": {
        "colab": {
          "base_uri": "https://localhost:8080/",
          "height": 1000
        },
        "id": "Wd1wQ2qP4Bop",
        "outputId": "750530d3-46a9-4fa3-d2d4-bdf6df0c909c"
      },
      "source": [
        "print(data)\n",
        "promu = data.nlargest(30,\"key_count\")\n",
        "promu"
      ],
      "execution_count": null,
      "outputs": [
        {
          "output_type": "stream",
          "text": [
            "       Unnamed: 0                   id  ... key_count keywords\n",
            "3               3  1132977089089556481  ...         0       []\n",
            "6               6  1132977101638897665  ...         0       []\n",
            "14             14  1132922663113023489  ...         0       []\n",
            "17             17  1132977067048525824  ...         0       []\n",
            "18             18  1132971551471603712  ...         0       []\n",
            "...           ...                  ...  ...       ...      ...\n",
            "99989       99989  1127209437041713153  ...         0       []\n",
            "99992       99992  1127209646358450177  ...         0       []\n",
            "99993       99993  1127209718739607552  ...         0       []\n",
            "99994       99994  1127209804521443329  ...         0       []\n",
            "99998       99998  1127210238875193344  ...         0       []\n",
            "\n",
            "[39652 rows x 17 columns]\n"
          ],
          "name": "stdout"
        },
        {
          "output_type": "execute_result",
          "data": {
            "text/html": [
              "<div>\n",
              "<style scoped>\n",
              "    .dataframe tbody tr th:only-of-type {\n",
              "        vertical-align: middle;\n",
              "    }\n",
              "\n",
              "    .dataframe tbody tr th {\n",
              "        vertical-align: top;\n",
              "    }\n",
              "\n",
              "    .dataframe thead th {\n",
              "        text-align: right;\n",
              "    }\n",
              "</style>\n",
              "<table border=\"1\" class=\"dataframe\">\n",
              "  <thead>\n",
              "    <tr style=\"text-align: right;\">\n",
              "      <th></th>\n",
              "      <th>Unnamed: 0</th>\n",
              "      <th>id</th>\n",
              "      <th>user</th>\n",
              "      <th>timestamp</th>\n",
              "      <th>replies</th>\n",
              "      <th>likes</th>\n",
              "      <th>retweets</th>\n",
              "      <th>text</th>\n",
              "      <th>subjectivity</th>\n",
              "      <th>blob_sent</th>\n",
              "      <th>vader_sent</th>\n",
              "      <th>ad_count</th>\n",
              "      <th>adwords</th>\n",
              "      <th>ad_class</th>\n",
              "      <th>prominent_user</th>\n",
              "      <th>key_count</th>\n",
              "      <th>keywords</th>\n",
              "    </tr>\n",
              "  </thead>\n",
              "  <tbody>\n",
              "    <tr>\n",
              "      <th>70962</th>\n",
              "      <td>70962</td>\n",
              "      <td>1127093880929832960</td>\n",
              "      <td>leb_crypto</td>\n",
              "      <td>2019-05-11 04:11:36+00</td>\n",
              "      <td>0</td>\n",
              "      <td>0</td>\n",
              "      <td>0</td>\n",
              "      <td>We may be seeing FOMO nowHowever Real FOMO kic...</td>\n",
              "      <td>0.300000</td>\n",
              "      <td>0.200000</td>\n",
              "      <td>0.0000</td>\n",
              "      <td>0</td>\n",
              "      <td>[]</td>\n",
              "      <td>1</td>\n",
              "      <td>0</td>\n",
              "      <td>3</td>\n",
              "      <td>[ATH, fomo, FOMO]</td>\n",
              "    </tr>\n",
              "    <tr>\n",
              "      <th>9396</th>\n",
              "      <td>9396</td>\n",
              "      <td>1126844252347039744</td>\n",
              "      <td>JohnyCrypto1</td>\n",
              "      <td>2019-05-10 11:39:40+00</td>\n",
              "      <td>0</td>\n",
              "      <td>0</td>\n",
              "      <td>0</td>\n",
              "      <td>Breaking  was very easy something doesnt seem ...</td>\n",
              "      <td>0.345238</td>\n",
              "      <td>0.078571</td>\n",
              "      <td>-0.3832</td>\n",
              "      <td>0</td>\n",
              "      <td>[]</td>\n",
              "      <td>1</td>\n",
              "      <td>0</td>\n",
              "      <td>2</td>\n",
              "      <td>[dump, FOMO]</td>\n",
              "    </tr>\n",
              "    <tr>\n",
              "      <th>12892</th>\n",
              "      <td>12892</td>\n",
              "      <td>1126857412571324418</td>\n",
              "      <td>bukshukalaka</td>\n",
              "      <td>2019-05-10 15:05:43+00</td>\n",
              "      <td>0</td>\n",
              "      <td>1</td>\n",
              "      <td>1</td>\n",
              "      <td>jonathanaird fidelity  of half their investors...</td>\n",
              "      <td>0.333333</td>\n",
              "      <td>-0.083333</td>\n",
              "      <td>0.0000</td>\n",
              "      <td>0</td>\n",
              "      <td>[]</td>\n",
              "      <td>1</td>\n",
              "      <td>0</td>\n",
              "      <td>2</td>\n",
              "      <td>[market cap, fomo]</td>\n",
              "    </tr>\n",
              "    <tr>\n",
              "      <th>23065</th>\n",
              "      <td>23065</td>\n",
              "      <td>1126893173857554433</td>\n",
              "      <td>bitcoinization</td>\n",
              "      <td>2019-05-10 14:54:03+00</td>\n",
              "      <td>0</td>\n",
              "      <td>0</td>\n",
              "      <td>0</td>\n",
              "      <td>realKuzaG Agreed but I believe bitcoin will be...</td>\n",
              "      <td>0.677273</td>\n",
              "      <td>-0.181818</td>\n",
              "      <td>-0.5574</td>\n",
              "      <td>0</td>\n",
              "      <td>[]</td>\n",
              "      <td>1</td>\n",
              "      <td>0</td>\n",
              "      <td>2</td>\n",
              "      <td>[ATH, fomo]</td>\n",
              "    </tr>\n",
              "    <tr>\n",
              "      <th>23826</th>\n",
              "      <td>23826</td>\n",
              "      <td>1126896492055289856</td>\n",
              "      <td>Norcalsteve22</td>\n",
              "      <td>2019-05-10 15:07:15+00</td>\n",
              "      <td>0</td>\n",
              "      <td>0</td>\n",
              "      <td>0</td>\n",
              "      <td>CNik coinbase You think the  mil tether burn m...</td>\n",
              "      <td>0.666667</td>\n",
              "      <td>0.333333</td>\n",
              "      <td>-0.0972</td>\n",
              "      <td>0</td>\n",
              "      <td>[]</td>\n",
              "      <td>1</td>\n",
              "      <td>0</td>\n",
              "      <td>2</td>\n",
              "      <td>[dump, whale]</td>\n",
              "    </tr>\n",
              "    <tr>\n",
              "      <th>33611</th>\n",
              "      <td>33611</td>\n",
              "      <td>1126928662874476551</td>\n",
              "      <td>bradmillscan</td>\n",
              "      <td>2019-05-10 17:15:05+00</td>\n",
              "      <td>0</td>\n",
              "      <td>0</td>\n",
              "      <td>0</td>\n",
              "      <td>whitebuffalo aantonop which is why I dont like...</td>\n",
              "      <td>0.330909</td>\n",
              "      <td>0.287273</td>\n",
              "      <td>0.4922</td>\n",
              "      <td>0</td>\n",
              "      <td>[]</td>\n",
              "      <td>1</td>\n",
              "      <td>0</td>\n",
              "      <td>2</td>\n",
              "      <td>[fomo, FOMO]</td>\n",
              "    </tr>\n",
              "    <tr>\n",
              "      <th>37026</th>\n",
              "      <td>37026</td>\n",
              "      <td>1126943287191928838</td>\n",
              "      <td>BurniteGeorge</td>\n",
              "      <td>2019-05-10 18:13:11+00</td>\n",
              "      <td>0</td>\n",
              "      <td>0</td>\n",
              "      <td>0</td>\n",
              "      <td>Honestly dont know what to dump my open  intoc...</td>\n",
              "      <td>0.410417</td>\n",
              "      <td>-0.085417</td>\n",
              "      <td>-0.2500</td>\n",
              "      <td>0</td>\n",
              "      <td>[]</td>\n",
              "      <td>1</td>\n",
              "      <td>0</td>\n",
              "      <td>2</td>\n",
              "      <td>[ATH, dump]</td>\n",
              "    </tr>\n",
              "    <tr>\n",
              "      <th>45458</th>\n",
              "      <td>45458</td>\n",
              "      <td>1126983806114762753</td>\n",
              "      <td>rickeyjohnson12</td>\n",
              "      <td>2019-05-10 20:54:12+00</td>\n",
              "      <td>0</td>\n",
              "      <td>0</td>\n",
              "      <td>0</td>\n",
              "      <td>xtdisnkfe Yea that makes a lot of sense I thin...</td>\n",
              "      <td>0.557143</td>\n",
              "      <td>0.177143</td>\n",
              "      <td>0.7213</td>\n",
              "      <td>0</td>\n",
              "      <td>[]</td>\n",
              "      <td>1</td>\n",
              "      <td>0</td>\n",
              "      <td>2</td>\n",
              "      <td>[dump, FOMO]</td>\n",
              "    </tr>\n",
              "    <tr>\n",
              "      <th>47837</th>\n",
              "      <td>47837</td>\n",
              "      <td>1126998115662192640</td>\n",
              "      <td>danielchiam7</td>\n",
              "      <td>2019-05-10 21:51:04+00</td>\n",
              "      <td>0</td>\n",
              "      <td>0</td>\n",
              "      <td>0</td>\n",
              "      <td>jebus Unless of course they already sold every...</td>\n",
              "      <td>0.100000</td>\n",
              "      <td>0.000000</td>\n",
              "      <td>-0.2960</td>\n",
              "      <td>0</td>\n",
              "      <td>[]</td>\n",
              "      <td>1</td>\n",
              "      <td>0</td>\n",
              "      <td>2</td>\n",
              "      <td>[ATH, FOMO]</td>\n",
              "    </tr>\n",
              "    <tr>\n",
              "      <th>51487</th>\n",
              "      <td>51487</td>\n",
              "      <td>1127016181171310592</td>\n",
              "      <td>bukshukalaka</td>\n",
              "      <td>2019-05-10 23:02:51+00</td>\n",
              "      <td>0</td>\n",
              "      <td>0</td>\n",
              "      <td>0</td>\n",
              "      <td>To me  of half fidelity  trill investments is ...</td>\n",
              "      <td>0.166667</td>\n",
              "      <td>-0.166667</td>\n",
              "      <td>0.0000</td>\n",
              "      <td>0</td>\n",
              "      <td>[]</td>\n",
              "      <td>1</td>\n",
              "      <td>0</td>\n",
              "      <td>2</td>\n",
              "      <td>[market cap, FOMO]</td>\n",
              "    </tr>\n",
              "    <tr>\n",
              "      <th>57503</th>\n",
              "      <td>57503</td>\n",
              "      <td>1127034179734999040</td>\n",
              "      <td>bnbozo</td>\n",
              "      <td>2019-05-11 00:14:22+00</td>\n",
              "      <td>0</td>\n",
              "      <td>0</td>\n",
              "      <td>0</td>\n",
              "      <td>ripplecrippler NewQuax Btc gonna fomo close to...</td>\n",
              "      <td>0.541667</td>\n",
              "      <td>-0.291667</td>\n",
              "      <td>-0.4588</td>\n",
              "      <td>0</td>\n",
              "      <td>[]</td>\n",
              "      <td>1</td>\n",
              "      <td>0</td>\n",
              "      <td>2</td>\n",
              "      <td>[dump, fomo]</td>\n",
              "    </tr>\n",
              "    <tr>\n",
              "      <th>71449</th>\n",
              "      <td>71449</td>\n",
              "      <td>1127095690411368448</td>\n",
              "      <td>GreenmanSA</td>\n",
              "      <td>2019-05-11 04:18:47+00</td>\n",
              "      <td>0</td>\n",
              "      <td>0</td>\n",
              "      <td>0</td>\n",
              "      <td>Cryptim AltcoinSara BTC money will always flow...</td>\n",
              "      <td>0.250000</td>\n",
              "      <td>0.400000</td>\n",
              "      <td>0.8834</td>\n",
              "      <td>0</td>\n",
              "      <td>[]</td>\n",
              "      <td>1</td>\n",
              "      <td>0</td>\n",
              "      <td>2</td>\n",
              "      <td>[dump, fomo]</td>\n",
              "    </tr>\n",
              "    <tr>\n",
              "      <th>73030</th>\n",
              "      <td>73030</td>\n",
              "      <td>1127102342958989312</td>\n",
              "      <td>crypto_iwad</td>\n",
              "      <td>2019-05-11 04:45:13+00</td>\n",
              "      <td>0</td>\n",
              "      <td>0</td>\n",
              "      <td>0</td>\n",
              "      <td>Since we discussed FOMO in BTC yesterday it ha...</td>\n",
              "      <td>0.250000</td>\n",
              "      <td>0.000000</td>\n",
              "      <td>0.6124</td>\n",
              "      <td>0</td>\n",
              "      <td>[]</td>\n",
              "      <td>1</td>\n",
              "      <td>0</td>\n",
              "      <td>2</td>\n",
              "      <td>[market cap, FOMO]</td>\n",
              "    </tr>\n",
              "    <tr>\n",
              "      <th>75202</th>\n",
              "      <td>75202</td>\n",
              "      <td>1127108865236045824</td>\n",
              "      <td>__MagUra__</td>\n",
              "      <td>2019-05-11 05:11:08+00</td>\n",
              "      <td>0</td>\n",
              "      <td>0</td>\n",
              "      <td>0</td>\n",
              "      <td>oh  almost az k Nice onebut if this a surprise...</td>\n",
              "      <td>0.666667</td>\n",
              "      <td>0.500000</td>\n",
              "      <td>0.5908</td>\n",
              "      <td>0</td>\n",
              "      <td>[]</td>\n",
              "      <td>1</td>\n",
              "      <td>0</td>\n",
              "      <td>2</td>\n",
              "      <td>[dump, FOMO]</td>\n",
              "    </tr>\n",
              "    <tr>\n",
              "      <th>76915</th>\n",
              "      <td>76915</td>\n",
              "      <td>1127115932747177984</td>\n",
              "      <td>CyPhlux</td>\n",
              "      <td>2019-05-11 05:39:13+00</td>\n",
              "      <td>0</td>\n",
              "      <td>0</td>\n",
              "      <td>0</td>\n",
              "      <td>colinashby I think so too but not a positive w...</td>\n",
              "      <td>0.800000</td>\n",
              "      <td>0.850000</td>\n",
              "      <td>-0.1989</td>\n",
              "      <td>0</td>\n",
              "      <td>[]</td>\n",
              "      <td>1</td>\n",
              "      <td>0</td>\n",
              "      <td>2</td>\n",
              "      <td>[dump, fomo]</td>\n",
              "    </tr>\n",
              "    <tr>\n",
              "      <th>81491</th>\n",
              "      <td>81491</td>\n",
              "      <td>1127134621487980544</td>\n",
              "      <td>ghqwer</td>\n",
              "      <td>2019-05-11 06:53:29+00</td>\n",
              "      <td>0</td>\n",
              "      <td>0</td>\n",
              "      <td>0</td>\n",
              "      <td>Its that time of the month again Just like we ...</td>\n",
              "      <td>0.536111</td>\n",
              "      <td>0.250000</td>\n",
              "      <td>0.3205</td>\n",
              "      <td>0</td>\n",
              "      <td>[]</td>\n",
              "      <td>1</td>\n",
              "      <td>0</td>\n",
              "      <td>2</td>\n",
              "      <td>[dump, whale]</td>\n",
              "    </tr>\n",
              "    <tr>\n",
              "      <th>88217</th>\n",
              "      <td>88217</td>\n",
              "      <td>1127164658794868737</td>\n",
              "      <td>samstoshi</td>\n",
              "      <td>2019-05-11 09:04:43+00</td>\n",
              "      <td>0</td>\n",
              "      <td>1</td>\n",
              "      <td>1</td>\n",
              "      <td>Who else thinks Satoshi is the real MVP of thi...</td>\n",
              "      <td>0.393333</td>\n",
              "      <td>0.200000</td>\n",
              "      <td>0.6908</td>\n",
              "      <td>1</td>\n",
              "      <td>[game]</td>\n",
              "      <td>1</td>\n",
              "      <td>0</td>\n",
              "      <td>2</td>\n",
              "      <td>[ATH, ATL]</td>\n",
              "    </tr>\n",
              "    <tr>\n",
              "      <th>95485</th>\n",
              "      <td>95485</td>\n",
              "      <td>1127193828274921472</td>\n",
              "      <td>itsmeckLL</td>\n",
              "      <td>2019-05-11 10:48:45+00</td>\n",
              "      <td>0</td>\n",
              "      <td>0</td>\n",
              "      <td>0</td>\n",
              "      <td>Sicarious Based on your experience  if btc dum...</td>\n",
              "      <td>0.750000</td>\n",
              "      <td>-0.275000</td>\n",
              "      <td>-0.7579</td>\n",
              "      <td>0</td>\n",
              "      <td>[]</td>\n",
              "      <td>1</td>\n",
              "      <td>0</td>\n",
              "      <td>2</td>\n",
              "      <td>[dump, mooning]</td>\n",
              "    </tr>\n",
              "    <tr>\n",
              "      <th>123</th>\n",
              "      <td>123</td>\n",
              "      <td>1132865716355510273</td>\n",
              "      <td>CryptoAmb</td>\n",
              "      <td>2019-05-27 04:26:49+00</td>\n",
              "      <td>0</td>\n",
              "      <td>11</td>\n",
              "      <td>6</td>\n",
              "      <td>Bitcoin prices hit  billion market cap for the...</td>\n",
              "      <td>0.333333</td>\n",
              "      <td>0.250000</td>\n",
              "      <td>0.0000</td>\n",
              "      <td>0</td>\n",
              "      <td>[]</td>\n",
              "      <td>1</td>\n",
              "      <td>0</td>\n",
              "      <td>1</td>\n",
              "      <td>[market cap]</td>\n",
              "    </tr>\n",
              "    <tr>\n",
              "      <th>251</th>\n",
              "      <td>251</td>\n",
              "      <td>1132964354389889024</td>\n",
              "      <td>Graham__Hannah</td>\n",
              "      <td>2019-05-27 08:58:46+00</td>\n",
              "      <td>0</td>\n",
              "      <td>0</td>\n",
              "      <td>0</td>\n",
              "      <td>The Top  Countries Gripped by Bitcoin FOMO Rig...</td>\n",
              "      <td>0.517857</td>\n",
              "      <td>0.392857</td>\n",
              "      <td>0.2023</td>\n",
              "      <td>0</td>\n",
              "      <td>[]</td>\n",
              "      <td>1</td>\n",
              "      <td>0</td>\n",
              "      <td>1</td>\n",
              "      <td>[FOMO]</td>\n",
              "    </tr>\n",
              "    <tr>\n",
              "      <th>539</th>\n",
              "      <td>539</td>\n",
              "      <td>1132978608539152384</td>\n",
              "      <td>Remi_Vladuceanu</td>\n",
              "      <td>2019-05-27 11:55:24+00</td>\n",
              "      <td>0</td>\n",
              "      <td>0</td>\n",
              "      <td>0</td>\n",
              "      <td>The Top  Countries Gripped by Bitcoin FOMO Rig...</td>\n",
              "      <td>0.517857</td>\n",
              "      <td>0.392857</td>\n",
              "      <td>0.2023</td>\n",
              "      <td>0</td>\n",
              "      <td>[]</td>\n",
              "      <td>1</td>\n",
              "      <td>0</td>\n",
              "      <td>1</td>\n",
              "      <td>[FOMO]</td>\n",
              "    </tr>\n",
              "    <tr>\n",
              "      <th>709</th>\n",
              "      <td>709</td>\n",
              "      <td>1132979172534624261</td>\n",
              "      <td>d_mazurek524</td>\n",
              "      <td>2019-05-27 11:57:39+00</td>\n",
              "      <td>0</td>\n",
              "      <td>0</td>\n",
              "      <td>0</td>\n",
              "      <td>Lowes ganna fomo into accepting BTC when in hi...</td>\n",
              "      <td>0.300000</td>\n",
              "      <td>0.000000</td>\n",
              "      <td>0.3818</td>\n",
              "      <td>0</td>\n",
              "      <td>[]</td>\n",
              "      <td>1</td>\n",
              "      <td>0</td>\n",
              "      <td>1</td>\n",
              "      <td>[fomo]</td>\n",
              "    </tr>\n",
              "    <tr>\n",
              "      <th>756</th>\n",
              "      <td>756</td>\n",
              "      <td>1132979358468071424</td>\n",
              "      <td>CammyAmster</td>\n",
              "      <td>2019-05-27 11:58:23+00</td>\n",
              "      <td>0</td>\n",
              "      <td>0</td>\n",
              "      <td>0</td>\n",
              "      <td>The Top  Countries Gripped by Bitcoin FOMO Rig...</td>\n",
              "      <td>0.517857</td>\n",
              "      <td>0.392857</td>\n",
              "      <td>0.2023</td>\n",
              "      <td>0</td>\n",
              "      <td>[]</td>\n",
              "      <td>1</td>\n",
              "      <td>0</td>\n",
              "      <td>1</td>\n",
              "      <td>[FOMO]</td>\n",
              "    </tr>\n",
              "    <tr>\n",
              "      <th>838</th>\n",
              "      <td>838</td>\n",
              "      <td>1132979604493357057</td>\n",
              "      <td>slam_trade</td>\n",
              "      <td>2019-05-27 11:59:22+00</td>\n",
              "      <td>0</td>\n",
              "      <td>3</td>\n",
              "      <td>1</td>\n",
              "      <td>The Top  Countries Gripped by Bitcoin FOMO Rig...</td>\n",
              "      <td>0.517857</td>\n",
              "      <td>0.392857</td>\n",
              "      <td>0.2023</td>\n",
              "      <td>0</td>\n",
              "      <td>[]</td>\n",
              "      <td>1</td>\n",
              "      <td>0</td>\n",
              "      <td>1</td>\n",
              "      <td>[FOMO]</td>\n",
              "    </tr>\n",
              "    <tr>\n",
              "      <th>857</th>\n",
              "      <td>857</td>\n",
              "      <td>1132979729773080576</td>\n",
              "      <td>_CryptoReality_</td>\n",
              "      <td>2019-05-27 11:59:51+00</td>\n",
              "      <td>0</td>\n",
              "      <td>0</td>\n",
              "      <td>0</td>\n",
              "      <td>The Top  Countries Gripped by  FOMO Right Now</td>\n",
              "      <td>0.517857</td>\n",
              "      <td>0.392857</td>\n",
              "      <td>0.2023</td>\n",
              "      <td>0</td>\n",
              "      <td>[]</td>\n",
              "      <td>1</td>\n",
              "      <td>0</td>\n",
              "      <td>1</td>\n",
              "      <td>[FOMO]</td>\n",
              "    </tr>\n",
              "    <tr>\n",
              "      <th>996</th>\n",
              "      <td>996</td>\n",
              "      <td>1132979848333316096</td>\n",
              "      <td>BlockchainAge</td>\n",
              "      <td>2019-05-27 12:00:20+00</td>\n",
              "      <td>0</td>\n",
              "      <td>0</td>\n",
              "      <td>0</td>\n",
              "      <td>The Top  Countries Gripped by Bitcoin FOMO Rig...</td>\n",
              "      <td>0.517857</td>\n",
              "      <td>0.392857</td>\n",
              "      <td>0.2023</td>\n",
              "      <td>0</td>\n",
              "      <td>[]</td>\n",
              "      <td>1</td>\n",
              "      <td>0</td>\n",
              "      <td>1</td>\n",
              "      <td>[FOMO]</td>\n",
              "    </tr>\n",
              "    <tr>\n",
              "      <th>1277</th>\n",
              "      <td>1277</td>\n",
              "      <td>1132980356917936128</td>\n",
              "      <td>trade2surf</td>\n",
              "      <td>2019-05-27 12:02:21+00</td>\n",
              "      <td>0</td>\n",
              "      <td>0</td>\n",
              "      <td>0</td>\n",
              "      <td>Waiting for btc to retrace  while bsv seems re...</td>\n",
              "      <td>0.454545</td>\n",
              "      <td>0.136364</td>\n",
              "      <td>-0.2617</td>\n",
              "      <td>0</td>\n",
              "      <td>[]</td>\n",
              "      <td>1</td>\n",
              "      <td>0</td>\n",
              "      <td>1</td>\n",
              "      <td>[ATH]</td>\n",
              "    </tr>\n",
              "    <tr>\n",
              "      <th>1368</th>\n",
              "      <td>1368</td>\n",
              "      <td>1132980560484343809</td>\n",
              "      <td>TomasHegedus1</td>\n",
              "      <td>2019-05-27 12:03:10+00</td>\n",
              "      <td>0</td>\n",
              "      <td>0</td>\n",
              "      <td>0</td>\n",
              "      <td>dantherealmn dennisnagpal It looks poor agains...</td>\n",
              "      <td>0.620000</td>\n",
              "      <td>0.092500</td>\n",
              "      <td>0.7789</td>\n",
              "      <td>0</td>\n",
              "      <td>[]</td>\n",
              "      <td>1</td>\n",
              "      <td>0</td>\n",
              "      <td>1</td>\n",
              "      <td>[fomo]</td>\n",
              "    </tr>\n",
              "    <tr>\n",
              "      <th>1404</th>\n",
              "      <td>1404</td>\n",
              "      <td>1132980666767945729</td>\n",
              "      <td>cryptotuberz</td>\n",
              "      <td>2019-05-27 12:03:35+00</td>\n",
              "      <td>0</td>\n",
              "      <td>0</td>\n",
              "      <td>0</td>\n",
              "      <td>Altcoin Buzz  Bitcoin FOMO is REAL Cryptocurre...</td>\n",
              "      <td>0.300000</td>\n",
              "      <td>0.200000</td>\n",
              "      <td>0.0000</td>\n",
              "      <td>0</td>\n",
              "      <td>[]</td>\n",
              "      <td>1</td>\n",
              "      <td>0</td>\n",
              "      <td>1</td>\n",
              "      <td>[FOMO]</td>\n",
              "    </tr>\n",
              "    <tr>\n",
              "      <th>1441</th>\n",
              "      <td>1441</td>\n",
              "      <td>1132980698254589952</td>\n",
              "      <td>fklivestolearn</td>\n",
              "      <td>2019-05-27 12:03:42+00</td>\n",
              "      <td>0</td>\n",
              "      <td>4</td>\n",
              "      <td>2</td>\n",
              "      <td>Crypto Update   Cryptos resume the upward tren...</td>\n",
              "      <td>0.750000</td>\n",
              "      <td>0.000000</td>\n",
              "      <td>0.2023</td>\n",
              "      <td>0</td>\n",
              "      <td>[]</td>\n",
              "      <td>1</td>\n",
              "      <td>0</td>\n",
              "      <td>1</td>\n",
              "      <td>[market cap]</td>\n",
              "    </tr>\n",
              "  </tbody>\n",
              "</table>\n",
              "</div>"
            ],
            "text/plain": [
              "       Unnamed: 0                   id  ... key_count            keywords\n",
              "70962       70962  1127093880929832960  ...         3   [ATH, fomo, FOMO]\n",
              "9396         9396  1126844252347039744  ...         2        [dump, FOMO]\n",
              "12892       12892  1126857412571324418  ...         2  [market cap, fomo]\n",
              "23065       23065  1126893173857554433  ...         2         [ATH, fomo]\n",
              "23826       23826  1126896492055289856  ...         2       [dump, whale]\n",
              "33611       33611  1126928662874476551  ...         2        [fomo, FOMO]\n",
              "37026       37026  1126943287191928838  ...         2         [ATH, dump]\n",
              "45458       45458  1126983806114762753  ...         2        [dump, FOMO]\n",
              "47837       47837  1126998115662192640  ...         2         [ATH, FOMO]\n",
              "51487       51487  1127016181171310592  ...         2  [market cap, FOMO]\n",
              "57503       57503  1127034179734999040  ...         2        [dump, fomo]\n",
              "71449       71449  1127095690411368448  ...         2        [dump, fomo]\n",
              "73030       73030  1127102342958989312  ...         2  [market cap, FOMO]\n",
              "75202       75202  1127108865236045824  ...         2        [dump, FOMO]\n",
              "76915       76915  1127115932747177984  ...         2        [dump, fomo]\n",
              "81491       81491  1127134621487980544  ...         2       [dump, whale]\n",
              "88217       88217  1127164658794868737  ...         2          [ATH, ATL]\n",
              "95485       95485  1127193828274921472  ...         2     [dump, mooning]\n",
              "123           123  1132865716355510273  ...         1        [market cap]\n",
              "251           251  1132964354389889024  ...         1              [FOMO]\n",
              "539           539  1132978608539152384  ...         1              [FOMO]\n",
              "709           709  1132979172534624261  ...         1              [fomo]\n",
              "756           756  1132979358468071424  ...         1              [FOMO]\n",
              "838           838  1132979604493357057  ...         1              [FOMO]\n",
              "857           857  1132979729773080576  ...         1              [FOMO]\n",
              "996           996  1132979848333316096  ...         1              [FOMO]\n",
              "1277         1277  1132980356917936128  ...         1               [ATH]\n",
              "1368         1368  1132980560484343809  ...         1              [fomo]\n",
              "1404         1404  1132980666767945729  ...         1              [FOMO]\n",
              "1441         1441  1132980698254589952  ...         1        [market cap]\n",
              "\n",
              "[30 rows x 17 columns]"
            ]
          },
          "metadata": {
            "tags": []
          },
          "execution_count": 23
        }
      ]
    },
    {
      "cell_type": "code",
      "metadata": {
        "id": "ewbct0jZ4GRh",
        "colab": {
          "base_uri": "https://localhost:8080/",
          "height": 369
        },
        "outputId": "39bed3ca-07d9-4f1b-afd3-7839b6f7b785"
      },
      "source": [
        "def log_score(x):\n",
        "    try:\n",
        "        #x.astype(float)\n",
        "        if int(x)<1:\n",
        "            return 0\n",
        "        else:\n",
        "            return np.log(int(x))\n",
        "    except:\n",
        "        print(x)\n",
        "        return 0\n",
        "   # df[['Mean','Sum']] = df[['height_at_age_10','height_at_age_20']].apply(mean_and_sum(x),axis=1)\n",
        "            #np.log(df.astype(float))\n",
        "data[\"RT_score\"] = data.progress_apply(lambda x:log_score(x[\"retweets\"]),axis=1)\n",
        "#data[\"Reply_score\"] = data.progress_apply(lambda x:log_score(x[\"replies\"]),axis=1)\n",
        "data[\"fav_score\"] = data.progress_apply(lambda x:log_score(x[\"likes\"]),axis=1)\n",
        "#data[\"RT_score\"] = np.log(data[\"retweets\"].astype(float))\n",
        "data.head(2)"
      ],
      "execution_count": null,
      "outputs": [
        {
          "output_type": "stream",
          "text": [
            "100%|██████████| 39652/39652 [00:00<00:00, 84346.78it/s]\n",
            "100%|██████████| 39652/39652 [00:00<00:00, 69929.87it/s]\n"
          ],
          "name": "stderr"
        },
        {
          "output_type": "execute_result",
          "data": {
            "text/html": [
              "<div>\n",
              "<style scoped>\n",
              "    .dataframe tbody tr th:only-of-type {\n",
              "        vertical-align: middle;\n",
              "    }\n",
              "\n",
              "    .dataframe tbody tr th {\n",
              "        vertical-align: top;\n",
              "    }\n",
              "\n",
              "    .dataframe thead th {\n",
              "        text-align: right;\n",
              "    }\n",
              "</style>\n",
              "<table border=\"1\" class=\"dataframe\">\n",
              "  <thead>\n",
              "    <tr style=\"text-align: right;\">\n",
              "      <th></th>\n",
              "      <th>Unnamed: 0</th>\n",
              "      <th>id</th>\n",
              "      <th>user</th>\n",
              "      <th>timestamp</th>\n",
              "      <th>replies</th>\n",
              "      <th>likes</th>\n",
              "      <th>retweets</th>\n",
              "      <th>text</th>\n",
              "      <th>subjectivity</th>\n",
              "      <th>blob_sent</th>\n",
              "      <th>vader_sent</th>\n",
              "      <th>ad_count</th>\n",
              "      <th>adwords</th>\n",
              "      <th>ad_class</th>\n",
              "      <th>prominent_user</th>\n",
              "      <th>key_count</th>\n",
              "      <th>keywords</th>\n",
              "      <th>RT_score</th>\n",
              "      <th>fav_score</th>\n",
              "    </tr>\n",
              "  </thead>\n",
              "  <tbody>\n",
              "    <tr>\n",
              "      <th>3</th>\n",
              "      <td>3</td>\n",
              "      <td>1132977089089556481</td>\n",
              "      <td>DetroitCrypto</td>\n",
              "      <td>2019-05-27 11:49:22+00</td>\n",
              "      <td>0</td>\n",
              "      <td>0</td>\n",
              "      <td>0</td>\n",
              "      <td>Current Crypto Prices BTC  USDETH  USDLTC  USD...</td>\n",
              "      <td>0.40</td>\n",
              "      <td>0.0</td>\n",
              "      <td>0.0000</td>\n",
              "      <td>0</td>\n",
              "      <td>[]</td>\n",
              "      <td>1</td>\n",
              "      <td>0</td>\n",
              "      <td>0</td>\n",
              "      <td>[]</td>\n",
              "      <td>0.0</td>\n",
              "      <td>0.0</td>\n",
              "    </tr>\n",
              "    <tr>\n",
              "      <th>6</th>\n",
              "      <td>6</td>\n",
              "      <td>1132977101638897665</td>\n",
              "      <td>evilrobotted</td>\n",
              "      <td>2019-05-27 11:49:25+00</td>\n",
              "      <td>0</td>\n",
              "      <td>0</td>\n",
              "      <td>0</td>\n",
              "      <td>nwoodfine We have been building on the real  S...</td>\n",
              "      <td>0.35</td>\n",
              "      <td>-0.1</td>\n",
              "      <td>-0.4767</td>\n",
              "      <td>0</td>\n",
              "      <td>[]</td>\n",
              "      <td>1</td>\n",
              "      <td>0</td>\n",
              "      <td>0</td>\n",
              "      <td>[]</td>\n",
              "      <td>0.0</td>\n",
              "      <td>0.0</td>\n",
              "    </tr>\n",
              "  </tbody>\n",
              "</table>\n",
              "</div>"
            ],
            "text/plain": [
              "   Unnamed: 0                   id           user  ... keywords  RT_score  fav_score\n",
              "3           3  1132977089089556481  DetroitCrypto  ...       []       0.0        0.0\n",
              "6           6  1132977101638897665   evilrobotted  ...       []       0.0        0.0\n",
              "\n",
              "[2 rows x 19 columns]"
            ]
          },
          "metadata": {
            "tags": []
          },
          "execution_count": 24
        }
      ]
    },
    {
      "cell_type": "code",
      "metadata": {
        "id": "9fVQBKP24vx2"
      },
      "source": [
        "data[\"date\"] = pd.to_datetime(data[\"timestamp\"],errors= \"coerce\").dt.tz_localize(None)"
      ],
      "execution_count": null,
      "outputs": []
    },
    {
      "cell_type": "code",
      "metadata": {
        "colab": {
          "base_uri": "https://localhost:8080/"
        },
        "id": "YXo71t3X5Dmx",
        "outputId": "2e4bdc87-aac4-4975-89f4-0b967c08212b"
      },
      "source": [
        "data.info()"
      ],
      "execution_count": null,
      "outputs": [
        {
          "output_type": "stream",
          "text": [
            "<class 'pandas.core.frame.DataFrame'>\n",
            "Int64Index: 39652 entries, 3 to 99998\n",
            "Data columns (total 20 columns):\n",
            " #   Column          Non-Null Count  Dtype         \n",
            "---  ------          --------------  -----         \n",
            " 0   Unnamed: 0      39652 non-null  int64         \n",
            " 1   id              39652 non-null  int64         \n",
            " 2   user            39652 non-null  object        \n",
            " 3   timestamp       39652 non-null  object        \n",
            " 4   replies         39652 non-null  int64         \n",
            " 5   likes           39652 non-null  int64         \n",
            " 6   retweets        39652 non-null  int64         \n",
            " 7   text            39652 non-null  object        \n",
            " 8   subjectivity    39652 non-null  float64       \n",
            " 9   blob_sent       39652 non-null  float64       \n",
            " 10  vader_sent      39652 non-null  float64       \n",
            " 11  ad_count        39652 non-null  int64         \n",
            " 12  adwords         39652 non-null  object        \n",
            " 13  ad_class        39652 non-null  int64         \n",
            " 14  prominent_user  39652 non-null  int64         \n",
            " 15  key_count       39652 non-null  int64         \n",
            " 16  keywords        39652 non-null  object        \n",
            " 17  RT_score        39652 non-null  float64       \n",
            " 18  fav_score       39652 non-null  float64       \n",
            " 19  date            39652 non-null  datetime64[ns]\n",
            "dtypes: datetime64[ns](1), float64(5), int64(9), object(5)\n",
            "memory usage: 6.4+ MB\n"
          ],
          "name": "stdout"
        }
      ]
    },
    {
      "cell_type": "code",
      "metadata": {
        "id": "X32HnZ77l6wB"
      },
      "source": [
        "data['time'] = data['date']\n",
        "data.index = data['time']\n"
      ],
      "execution_count": null,
      "outputs": []
    },
    {
      "cell_type": "code",
      "metadata": {
        "id": "pBPhPQH79D-0"
      },
      "source": [
        "# This is additional code to get twitter volume graph\n",
        "sentiment_grouped_weekly = data.groupby(pd.Grouper(key=\"time\", freq=\"1w\")).agg(\n",
        "    tweet_count_by_week = ('text', 'count')\n",
        ")\n",
        "drop_column_subse_week = sentiment_grouped_weekly.columns.values[1:]\n",
        "sentiment_grouped_weekly.dropna(subset=drop_column_subse_week, inplace=True)"
      ],
      "execution_count": null,
      "outputs": []
    },
    {
      "cell_type": "code",
      "metadata": {
        "id": "x7cdGKjJ985J"
      },
      "source": [
        "sentiment_grouped_weekly.index\n",
        "sentiment_grouped_weekly_data = sentiment_grouped_weekly.reset_index()\n",
        "sentiment_grouped_weekly_data.time = pd.to_datetime(sentiment_grouped_weekly_data.time)\n",
        "# sentiment_grouped_weekly_data.index = sentiment_grouped_weekly_data['time']"
      ],
      "execution_count": null,
      "outputs": []
    },
    {
      "cell_type": "code",
      "metadata": {
        "colab": {
          "base_uri": "https://localhost:8080/",
          "height": 204
        },
        "id": "JZmwQKph_qv-",
        "outputId": "afc26c62-bf42-4174-92c1-0b14dc852170"
      },
      "source": [
        "sentiment_grouped_weekly_data.head()\n",
        "# sentiment_grouped_weekly_data = sentiment_grouped_weekly_data[sentiment_grouped_weekly_data[\"tweet_count_by_week\"] > 0]"
      ],
      "execution_count": null,
      "outputs": [
        {
          "output_type": "execute_result",
          "data": {
            "text/html": [
              "<div>\n",
              "<style scoped>\n",
              "    .dataframe tbody tr th:only-of-type {\n",
              "        vertical-align: middle;\n",
              "    }\n",
              "\n",
              "    .dataframe tbody tr th {\n",
              "        vertical-align: top;\n",
              "    }\n",
              "\n",
              "    .dataframe thead th {\n",
              "        text-align: right;\n",
              "    }\n",
              "</style>\n",
              "<table border=\"1\" class=\"dataframe\">\n",
              "  <thead>\n",
              "    <tr style=\"text-align: right;\">\n",
              "      <th></th>\n",
              "      <th>time</th>\n",
              "      <th>tweet_count_by_week</th>\n",
              "    </tr>\n",
              "  </thead>\n",
              "  <tbody>\n",
              "    <tr>\n",
              "      <th>0</th>\n",
              "      <td>2012-08-05</td>\n",
              "      <td>1</td>\n",
              "    </tr>\n",
              "    <tr>\n",
              "      <th>1</th>\n",
              "      <td>2012-08-12</td>\n",
              "      <td>0</td>\n",
              "    </tr>\n",
              "    <tr>\n",
              "      <th>2</th>\n",
              "      <td>2012-08-19</td>\n",
              "      <td>0</td>\n",
              "    </tr>\n",
              "    <tr>\n",
              "      <th>3</th>\n",
              "      <td>2012-08-26</td>\n",
              "      <td>0</td>\n",
              "    </tr>\n",
              "    <tr>\n",
              "      <th>4</th>\n",
              "      <td>2012-09-02</td>\n",
              "      <td>0</td>\n",
              "    </tr>\n",
              "  </tbody>\n",
              "</table>\n",
              "</div>"
            ],
            "text/plain": [
              "        time  tweet_count_by_week\n",
              "0 2012-08-05                    1\n",
              "1 2012-08-12                    0\n",
              "2 2012-08-19                    0\n",
              "3 2012-08-26                    0\n",
              "4 2012-09-02                    0"
            ]
          },
          "metadata": {
            "tags": []
          },
          "execution_count": 37
        }
      ]
    },
    {
      "cell_type": "code",
      "metadata": {
        "colab": {
          "base_uri": "https://localhost:8080/",
          "height": 542
        },
        "id": "86zfaYDG-y0z",
        "outputId": "f1efb131-01c9-43aa-fa03-cee39d359ffa"
      },
      "source": [
        "# plt.plot(sentiment_grouped_weekly_data, x='time')\n",
        "# sentiment_grouped_weekly_data.plot(x='time')\n",
        "\n",
        "btc_trace = go.Scatter(x=sentiment_grouped_weekly_data[\"time\"], y=sentiment_grouped_weekly_data[\"tweet_count_by_week\"], name= 'Tweet count')\n",
        "py.iplot([btc_trace])\n",
        "\n",
        "# plt.plot(sentiment_grouped_weekly_data[\"time\"], sentiment_grouped_weekly_data[\"tweet_count_by_week\"])\n",
        "# plt.show()"
      ],
      "execution_count": null,
      "outputs": [
        {
          "output_type": "display_data",
          "data": {
            "text/html": [
              "<html>\n",
              "<head><meta charset=\"utf-8\" /></head>\n",
              "<body>\n",
              "    <div>            <script src=\"https://cdnjs.cloudflare.com/ajax/libs/mathjax/2.7.5/MathJax.js?config=TeX-AMS-MML_SVG\"></script><script type=\"text/javascript\">if (window.MathJax) {MathJax.Hub.Config({SVG: {font: \"STIX-Web\"}});}</script>                <script type=\"text/javascript\">window.PlotlyConfig = {MathJaxConfig: 'local'};</script>\n",
              "        <script src=\"https://cdn.plot.ly/plotly-latest.min.js\"></script>                <div id=\"450aeecb-511d-4f59-9bae-4bd5dfa016b8\" class=\"plotly-graph-div\" style=\"height:525px; width:100%;\"></div>            <script type=\"text/javascript\">                                    window.PLOTLYENV=window.PLOTLYENV || {};                                    if (document.getElementById(\"450aeecb-511d-4f59-9bae-4bd5dfa016b8\")) {                    Plotly.newPlot(                        \"450aeecb-511d-4f59-9bae-4bd5dfa016b8\",                        [{\"name\": \"Tweet count\", \"type\": \"scatter\", \"x\": [\"2012-08-05T00:00:00\", \"2012-08-12T00:00:00\", \"2012-08-19T00:00:00\", \"2012-08-26T00:00:00\", \"2012-09-02T00:00:00\", \"2012-09-09T00:00:00\", \"2012-09-16T00:00:00\", \"2012-09-23T00:00:00\", \"2012-09-30T00:00:00\", \"2012-10-07T00:00:00\", \"2012-10-14T00:00:00\", \"2012-10-21T00:00:00\", \"2012-10-28T00:00:00\", \"2012-11-04T00:00:00\", \"2012-11-11T00:00:00\", \"2012-11-18T00:00:00\", \"2012-11-25T00:00:00\", \"2012-12-02T00:00:00\", \"2012-12-09T00:00:00\", \"2012-12-16T00:00:00\", \"2012-12-23T00:00:00\", \"2012-12-30T00:00:00\", \"2013-01-06T00:00:00\", \"2013-01-13T00:00:00\", \"2013-01-20T00:00:00\", \"2013-01-27T00:00:00\", \"2013-02-03T00:00:00\", \"2013-02-10T00:00:00\", \"2013-02-17T00:00:00\", \"2013-02-24T00:00:00\", \"2013-03-03T00:00:00\", \"2013-03-10T00:00:00\", \"2013-03-17T00:00:00\", \"2013-03-24T00:00:00\", \"2013-03-31T00:00:00\", \"2013-04-07T00:00:00\", \"2013-04-14T00:00:00\", \"2013-04-21T00:00:00\", \"2013-04-28T00:00:00\", \"2013-05-05T00:00:00\", \"2013-05-12T00:00:00\", \"2013-05-19T00:00:00\", \"2013-05-26T00:00:00\", \"2013-06-02T00:00:00\", \"2013-06-09T00:00:00\", \"2013-06-16T00:00:00\", \"2013-06-23T00:00:00\", \"2013-06-30T00:00:00\", \"2013-07-07T00:00:00\", \"2013-07-14T00:00:00\", \"2013-07-21T00:00:00\", \"2013-07-28T00:00:00\", \"2013-08-04T00:00:00\", \"2013-08-11T00:00:00\", \"2013-08-18T00:00:00\", \"2013-08-25T00:00:00\", \"2013-09-01T00:00:00\", \"2013-09-08T00:00:00\", \"2013-09-15T00:00:00\", \"2013-09-22T00:00:00\", \"2013-09-29T00:00:00\", \"2013-10-06T00:00:00\", \"2013-10-13T00:00:00\", \"2013-10-20T00:00:00\", \"2013-10-27T00:00:00\", \"2013-11-03T00:00:00\", \"2013-11-10T00:00:00\", \"2013-11-17T00:00:00\", \"2013-11-24T00:00:00\", \"2013-12-01T00:00:00\", \"2013-12-08T00:00:00\", \"2013-12-15T00:00:00\", \"2013-12-22T00:00:00\", \"2013-12-29T00:00:00\", \"2014-01-05T00:00:00\", \"2014-01-12T00:00:00\", \"2014-01-19T00:00:00\", \"2014-01-26T00:00:00\", \"2014-02-02T00:00:00\", \"2014-02-09T00:00:00\", \"2014-02-16T00:00:00\", \"2014-02-23T00:00:00\", \"2014-03-02T00:00:00\", \"2014-03-09T00:00:00\", \"2014-03-16T00:00:00\", \"2014-03-23T00:00:00\", \"2014-03-30T00:00:00\", \"2014-04-06T00:00:00\", \"2014-04-13T00:00:00\", \"2014-04-20T00:00:00\", \"2014-04-27T00:00:00\", \"2014-05-04T00:00:00\", \"2014-05-11T00:00:00\", \"2014-05-18T00:00:00\", \"2014-05-25T00:00:00\", \"2014-06-01T00:00:00\", \"2014-06-08T00:00:00\", \"2014-06-15T00:00:00\", \"2014-06-22T00:00:00\", \"2014-06-29T00:00:00\", \"2014-07-06T00:00:00\", \"2014-07-13T00:00:00\", \"2014-07-20T00:00:00\", \"2014-07-27T00:00:00\", \"2014-08-03T00:00:00\", \"2014-08-10T00:00:00\", \"2014-08-17T00:00:00\", \"2014-08-24T00:00:00\", \"2014-08-31T00:00:00\", \"2014-09-07T00:00:00\", \"2014-09-14T00:00:00\", \"2014-09-21T00:00:00\", \"2014-09-28T00:00:00\", \"2014-10-05T00:00:00\", \"2014-10-12T00:00:00\", \"2014-10-19T00:00:00\", \"2014-10-26T00:00:00\", \"2014-11-02T00:00:00\", \"2014-11-09T00:00:00\", \"2014-11-16T00:00:00\", \"2014-11-23T00:00:00\", \"2014-11-30T00:00:00\", \"2014-12-07T00:00:00\", \"2014-12-14T00:00:00\", \"2014-12-21T00:00:00\", \"2014-12-28T00:00:00\", \"2015-01-04T00:00:00\", \"2015-01-11T00:00:00\", \"2015-01-18T00:00:00\", \"2015-01-25T00:00:00\", \"2015-02-01T00:00:00\", \"2015-02-08T00:00:00\", \"2015-02-15T00:00:00\", \"2015-02-22T00:00:00\", \"2015-03-01T00:00:00\", \"2015-03-08T00:00:00\", \"2015-03-15T00:00:00\", \"2015-03-22T00:00:00\", \"2015-03-29T00:00:00\", \"2015-04-05T00:00:00\", \"2015-04-12T00:00:00\", \"2015-04-19T00:00:00\", \"2015-04-26T00:00:00\", \"2015-05-03T00:00:00\", \"2015-05-10T00:00:00\", \"2015-05-17T00:00:00\", \"2015-05-24T00:00:00\", \"2015-05-31T00:00:00\", \"2015-06-07T00:00:00\", \"2015-06-14T00:00:00\", \"2015-06-21T00:00:00\", \"2015-06-28T00:00:00\", \"2015-07-05T00:00:00\", \"2015-07-12T00:00:00\", \"2015-07-19T00:00:00\", \"2015-07-26T00:00:00\", \"2015-08-02T00:00:00\", \"2015-08-09T00:00:00\", \"2015-08-16T00:00:00\", \"2015-08-23T00:00:00\", \"2015-08-30T00:00:00\", \"2015-09-06T00:00:00\", \"2015-09-13T00:00:00\", \"2015-09-20T00:00:00\", \"2015-09-27T00:00:00\", \"2015-10-04T00:00:00\", \"2015-10-11T00:00:00\", \"2015-10-18T00:00:00\", \"2015-10-25T00:00:00\", \"2015-11-01T00:00:00\", \"2015-11-08T00:00:00\", \"2015-11-15T00:00:00\", \"2015-11-22T00:00:00\", \"2015-11-29T00:00:00\", \"2015-12-06T00:00:00\", \"2015-12-13T00:00:00\", \"2015-12-20T00:00:00\", \"2015-12-27T00:00:00\", \"2016-01-03T00:00:00\", \"2016-01-10T00:00:00\", \"2016-01-17T00:00:00\", \"2016-01-24T00:00:00\", \"2016-01-31T00:00:00\", \"2016-02-07T00:00:00\", \"2016-02-14T00:00:00\", \"2016-02-21T00:00:00\", \"2016-02-28T00:00:00\", \"2016-03-06T00:00:00\", \"2016-03-13T00:00:00\", \"2016-03-20T00:00:00\", \"2016-03-27T00:00:00\", \"2016-04-03T00:00:00\", \"2016-04-10T00:00:00\", \"2016-04-17T00:00:00\", \"2016-04-24T00:00:00\", \"2016-05-01T00:00:00\", \"2016-05-08T00:00:00\", \"2016-05-15T00:00:00\", \"2016-05-22T00:00:00\", \"2016-05-29T00:00:00\", \"2016-06-05T00:00:00\", \"2016-06-12T00:00:00\", \"2016-06-19T00:00:00\", \"2016-06-26T00:00:00\", \"2016-07-03T00:00:00\", \"2016-07-10T00:00:00\", \"2016-07-17T00:00:00\", \"2016-07-24T00:00:00\", \"2016-07-31T00:00:00\", \"2016-08-07T00:00:00\", \"2016-08-14T00:00:00\", \"2016-08-21T00:00:00\", \"2016-08-28T00:00:00\", \"2016-09-04T00:00:00\", \"2016-09-11T00:00:00\", \"2016-09-18T00:00:00\", \"2016-09-25T00:00:00\", \"2016-10-02T00:00:00\", \"2016-10-09T00:00:00\", \"2016-10-16T00:00:00\", \"2016-10-23T00:00:00\", \"2016-10-30T00:00:00\", \"2016-11-06T00:00:00\", \"2016-11-13T00:00:00\", \"2016-11-20T00:00:00\", \"2016-11-27T00:00:00\", \"2016-12-04T00:00:00\", \"2016-12-11T00:00:00\", \"2016-12-18T00:00:00\", \"2016-12-25T00:00:00\", \"2017-01-01T00:00:00\", \"2017-01-08T00:00:00\", \"2017-01-15T00:00:00\", \"2017-01-22T00:00:00\", \"2017-01-29T00:00:00\", \"2017-02-05T00:00:00\", \"2017-02-12T00:00:00\", \"2017-02-19T00:00:00\", \"2017-02-26T00:00:00\", \"2017-03-05T00:00:00\", \"2017-03-12T00:00:00\", \"2017-03-19T00:00:00\", \"2017-03-26T00:00:00\", \"2017-04-02T00:00:00\", \"2017-04-09T00:00:00\", \"2017-04-16T00:00:00\", \"2017-04-23T00:00:00\", \"2017-04-30T00:00:00\", \"2017-05-07T00:00:00\", \"2017-05-14T00:00:00\", \"2017-05-21T00:00:00\", \"2017-05-28T00:00:00\", \"2017-06-04T00:00:00\", \"2017-06-11T00:00:00\", \"2017-06-18T00:00:00\", \"2017-06-25T00:00:00\", \"2017-07-02T00:00:00\", \"2017-07-09T00:00:00\", \"2017-07-16T00:00:00\", \"2017-07-23T00:00:00\", \"2017-07-30T00:00:00\", \"2017-08-06T00:00:00\", \"2017-08-13T00:00:00\", \"2017-08-20T00:00:00\", \"2017-08-27T00:00:00\", \"2017-09-03T00:00:00\", \"2017-09-10T00:00:00\", \"2017-09-17T00:00:00\", \"2017-09-24T00:00:00\", \"2017-10-01T00:00:00\", \"2017-10-08T00:00:00\", \"2017-10-15T00:00:00\", \"2017-10-22T00:00:00\", \"2017-10-29T00:00:00\", \"2017-11-05T00:00:00\", \"2017-11-12T00:00:00\", \"2017-11-19T00:00:00\", \"2017-11-26T00:00:00\", \"2017-12-03T00:00:00\", \"2017-12-10T00:00:00\", \"2017-12-17T00:00:00\", \"2017-12-24T00:00:00\", \"2017-12-31T00:00:00\", \"2018-01-07T00:00:00\", \"2018-01-14T00:00:00\", \"2018-01-21T00:00:00\", \"2018-01-28T00:00:00\", \"2018-02-04T00:00:00\", \"2018-02-11T00:00:00\", \"2018-02-18T00:00:00\", \"2018-02-25T00:00:00\", \"2018-03-04T00:00:00\", \"2018-03-11T00:00:00\", \"2018-03-18T00:00:00\", \"2018-03-25T00:00:00\", \"2018-04-01T00:00:00\", \"2018-04-08T00:00:00\", \"2018-04-15T00:00:00\", \"2018-04-22T00:00:00\", \"2018-04-29T00:00:00\", \"2018-05-06T00:00:00\", \"2018-05-13T00:00:00\", \"2018-05-20T00:00:00\", \"2018-05-27T00:00:00\", \"2018-06-03T00:00:00\", \"2018-06-10T00:00:00\", \"2018-06-17T00:00:00\", \"2018-06-24T00:00:00\", \"2018-07-01T00:00:00\", \"2018-07-08T00:00:00\", \"2018-07-15T00:00:00\", \"2018-07-22T00:00:00\", \"2018-07-29T00:00:00\", \"2018-08-05T00:00:00\", \"2018-08-12T00:00:00\", \"2018-08-19T00:00:00\", \"2018-08-26T00:00:00\", \"2018-09-02T00:00:00\", \"2018-09-09T00:00:00\", \"2018-09-16T00:00:00\", \"2018-09-23T00:00:00\", \"2018-09-30T00:00:00\", \"2018-10-07T00:00:00\", \"2018-10-14T00:00:00\", \"2018-10-21T00:00:00\", \"2018-10-28T00:00:00\", \"2018-11-04T00:00:00\", \"2018-11-11T00:00:00\", \"2018-11-18T00:00:00\", \"2018-11-25T00:00:00\", \"2018-12-02T00:00:00\", \"2018-12-09T00:00:00\", \"2018-12-16T00:00:00\", \"2018-12-23T00:00:00\", \"2018-12-30T00:00:00\", \"2019-01-06T00:00:00\", \"2019-01-13T00:00:00\", \"2019-01-20T00:00:00\", \"2019-01-27T00:00:00\", \"2019-02-03T00:00:00\", \"2019-02-10T00:00:00\", \"2019-02-17T00:00:00\", \"2019-02-24T00:00:00\", \"2019-03-03T00:00:00\", \"2019-03-10T00:00:00\", \"2019-03-17T00:00:00\", \"2019-03-24T00:00:00\", \"2019-03-31T00:00:00\", \"2019-04-07T00:00:00\", \"2019-04-14T00:00:00\", \"2019-04-21T00:00:00\", \"2019-04-28T00:00:00\", \"2019-05-05T00:00:00\", \"2019-05-12T00:00:00\", \"2019-05-19T00:00:00\", \"2019-05-26T00:00:00\", \"2019-06-02T00:00:00\"], \"y\": [1, 0, 0, 0, 0, 0, 0, 0, 0, 0, 0, 0, 0, 0, 0, 0, 0, 0, 0, 0, 0, 0, 0, 0, 0, 0, 0, 0, 0, 0, 0, 0, 0, 0, 0, 0, 0, 0, 0, 0, 0, 0, 0, 0, 0, 0, 0, 0, 0, 0, 0, 0, 0, 0, 1, 0, 0, 0, 0, 0, 0, 0, 0, 0, 0, 0, 0, 0, 0, 0, 0, 0, 0, 0, 0, 0, 0, 0, 0, 0, 0, 1, 0, 0, 0, 0, 0, 0, 0, 0, 0, 0, 0, 0, 0, 0, 0, 0, 0, 0, 0, 0, 0, 0, 1, 0, 0, 0, 0, 0, 0, 0, 0, 1, 0, 0, 0, 0, 0, 0, 0, 0, 0, 0, 0, 0, 0, 0, 0, 0, 0, 0, 0, 0, 0, 0, 0, 0, 0, 0, 0, 0, 0, 0, 0, 0, 0, 0, 0, 0, 0, 0, 0, 0, 0, 0, 0, 0, 0, 0, 0, 1, 0, 0, 0, 0, 0, 0, 0, 0, 0, 0, 1, 0, 0, 0, 0, 0, 0, 0, 0, 0, 0, 0, 0, 1, 0, 0, 0, 0, 0, 0, 0, 0, 0, 0, 0, 1, 0, 0, 0, 0, 0, 0, 0, 0, 0, 0, 0, 0, 0, 0, 0, 0, 1, 0, 0, 2, 1, 0, 0, 0, 0, 0, 0, 0, 0, 0, 0, 0, 0, 0, 0, 0, 1, 1, 0, 0, 0, 0, 0, 0, 0, 0, 0, 0, 0, 0, 0, 0, 0, 1, 0, 1, 0, 0, 0, 0, 0, 1, 0, 0, 0, 0, 0, 0, 2, 1, 0, 1, 0, 0, 2, 0, 0, 0, 0, 0, 4, 4, 2, 1, 3, 3, 1, 2, 1, 3, 7, 7, 7, 3, 5, 3, 5, 4, 4, 6, 10, 11, 7, 10, 11, 10, 4, 4, 7, 10, 9, 20, 15, 22, 24, 23, 21, 24, 27, 30, 33, 30, 29, 22, 32, 25, 20, 18, 18, 19, 2, 5, 9, 8, 12, 6, 16, 7, 9, 8, 5, 7, 14, 13, 24, 22, 31, 40, 26, 28, 45, 49, 52, 65, 136, 37423, 75, 73, 798]}],                        {\"template\": {\"data\": {\"bar\": [{\"error_x\": {\"color\": \"#2a3f5f\"}, \"error_y\": {\"color\": \"#2a3f5f\"}, \"marker\": {\"line\": {\"color\": \"#E5ECF6\", \"width\": 0.5}}, \"type\": \"bar\"}], \"barpolar\": [{\"marker\": {\"line\": {\"color\": \"#E5ECF6\", \"width\": 0.5}}, \"type\": \"barpolar\"}], \"carpet\": [{\"aaxis\": {\"endlinecolor\": \"#2a3f5f\", \"gridcolor\": \"white\", \"linecolor\": \"white\", \"minorgridcolor\": \"white\", \"startlinecolor\": \"#2a3f5f\"}, \"baxis\": {\"endlinecolor\": \"#2a3f5f\", \"gridcolor\": \"white\", \"linecolor\": \"white\", \"minorgridcolor\": \"white\", \"startlinecolor\": \"#2a3f5f\"}, \"type\": \"carpet\"}], \"choropleth\": [{\"colorbar\": {\"outlinewidth\": 0, \"ticks\": \"\"}, \"type\": \"choropleth\"}], \"contour\": [{\"colorbar\": {\"outlinewidth\": 0, \"ticks\": \"\"}, \"colorscale\": [[0.0, \"#0d0887\"], [0.1111111111111111, \"#46039f\"], [0.2222222222222222, \"#7201a8\"], [0.3333333333333333, \"#9c179e\"], [0.4444444444444444, \"#bd3786\"], [0.5555555555555556, \"#d8576b\"], [0.6666666666666666, \"#ed7953\"], [0.7777777777777778, \"#fb9f3a\"], [0.8888888888888888, \"#fdca26\"], [1.0, \"#f0f921\"]], \"type\": \"contour\"}], \"contourcarpet\": [{\"colorbar\": {\"outlinewidth\": 0, \"ticks\": \"\"}, \"type\": \"contourcarpet\"}], \"heatmap\": [{\"colorbar\": {\"outlinewidth\": 0, \"ticks\": \"\"}, \"colorscale\": [[0.0, \"#0d0887\"], [0.1111111111111111, \"#46039f\"], [0.2222222222222222, \"#7201a8\"], [0.3333333333333333, \"#9c179e\"], [0.4444444444444444, \"#bd3786\"], [0.5555555555555556, \"#d8576b\"], [0.6666666666666666, \"#ed7953\"], [0.7777777777777778, \"#fb9f3a\"], [0.8888888888888888, \"#fdca26\"], [1.0, \"#f0f921\"]], \"type\": \"heatmap\"}], \"heatmapgl\": [{\"colorbar\": {\"outlinewidth\": 0, \"ticks\": \"\"}, \"colorscale\": [[0.0, \"#0d0887\"], [0.1111111111111111, \"#46039f\"], [0.2222222222222222, \"#7201a8\"], [0.3333333333333333, \"#9c179e\"], [0.4444444444444444, \"#bd3786\"], [0.5555555555555556, \"#d8576b\"], [0.6666666666666666, \"#ed7953\"], [0.7777777777777778, \"#fb9f3a\"], [0.8888888888888888, \"#fdca26\"], [1.0, \"#f0f921\"]], \"type\": \"heatmapgl\"}], \"histogram\": [{\"marker\": {\"colorbar\": {\"outlinewidth\": 0, \"ticks\": \"\"}}, \"type\": \"histogram\"}], \"histogram2d\": [{\"colorbar\": {\"outlinewidth\": 0, \"ticks\": \"\"}, \"colorscale\": [[0.0, \"#0d0887\"], [0.1111111111111111, \"#46039f\"], [0.2222222222222222, \"#7201a8\"], [0.3333333333333333, \"#9c179e\"], [0.4444444444444444, \"#bd3786\"], [0.5555555555555556, \"#d8576b\"], [0.6666666666666666, \"#ed7953\"], [0.7777777777777778, \"#fb9f3a\"], [0.8888888888888888, \"#fdca26\"], [1.0, \"#f0f921\"]], \"type\": \"histogram2d\"}], \"histogram2dcontour\": [{\"colorbar\": {\"outlinewidth\": 0, \"ticks\": \"\"}, \"colorscale\": [[0.0, \"#0d0887\"], [0.1111111111111111, \"#46039f\"], [0.2222222222222222, \"#7201a8\"], [0.3333333333333333, \"#9c179e\"], [0.4444444444444444, \"#bd3786\"], [0.5555555555555556, \"#d8576b\"], [0.6666666666666666, \"#ed7953\"], [0.7777777777777778, \"#fb9f3a\"], [0.8888888888888888, \"#fdca26\"], [1.0, \"#f0f921\"]], \"type\": \"histogram2dcontour\"}], \"mesh3d\": [{\"colorbar\": {\"outlinewidth\": 0, \"ticks\": \"\"}, \"type\": \"mesh3d\"}], \"parcoords\": [{\"line\": {\"colorbar\": {\"outlinewidth\": 0, \"ticks\": \"\"}}, \"type\": \"parcoords\"}], \"pie\": [{\"automargin\": true, \"type\": \"pie\"}], \"scatter\": [{\"marker\": {\"colorbar\": {\"outlinewidth\": 0, \"ticks\": \"\"}}, \"type\": \"scatter\"}], \"scatter3d\": [{\"line\": {\"colorbar\": {\"outlinewidth\": 0, \"ticks\": \"\"}}, \"marker\": {\"colorbar\": {\"outlinewidth\": 0, \"ticks\": \"\"}}, \"type\": \"scatter3d\"}], \"scattercarpet\": [{\"marker\": {\"colorbar\": {\"outlinewidth\": 0, \"ticks\": \"\"}}, \"type\": \"scattercarpet\"}], \"scattergeo\": [{\"marker\": {\"colorbar\": {\"outlinewidth\": 0, \"ticks\": \"\"}}, \"type\": \"scattergeo\"}], \"scattergl\": [{\"marker\": {\"colorbar\": {\"outlinewidth\": 0, \"ticks\": \"\"}}, \"type\": \"scattergl\"}], \"scattermapbox\": [{\"marker\": {\"colorbar\": {\"outlinewidth\": 0, \"ticks\": \"\"}}, \"type\": \"scattermapbox\"}], \"scatterpolar\": [{\"marker\": {\"colorbar\": {\"outlinewidth\": 0, \"ticks\": \"\"}}, \"type\": \"scatterpolar\"}], \"scatterpolargl\": [{\"marker\": {\"colorbar\": {\"outlinewidth\": 0, \"ticks\": \"\"}}, \"type\": \"scatterpolargl\"}], \"scatterternary\": [{\"marker\": {\"colorbar\": {\"outlinewidth\": 0, \"ticks\": \"\"}}, \"type\": \"scatterternary\"}], \"surface\": [{\"colorbar\": {\"outlinewidth\": 0, \"ticks\": \"\"}, \"colorscale\": [[0.0, \"#0d0887\"], [0.1111111111111111, \"#46039f\"], [0.2222222222222222, \"#7201a8\"], [0.3333333333333333, \"#9c179e\"], [0.4444444444444444, \"#bd3786\"], [0.5555555555555556, \"#d8576b\"], [0.6666666666666666, \"#ed7953\"], [0.7777777777777778, \"#fb9f3a\"], [0.8888888888888888, \"#fdca26\"], [1.0, \"#f0f921\"]], \"type\": \"surface\"}], \"table\": [{\"cells\": {\"fill\": {\"color\": \"#EBF0F8\"}, \"line\": {\"color\": \"white\"}}, \"header\": {\"fill\": {\"color\": \"#C8D4E3\"}, \"line\": {\"color\": \"white\"}}, \"type\": \"table\"}]}, \"layout\": {\"annotationdefaults\": {\"arrowcolor\": \"#2a3f5f\", \"arrowhead\": 0, \"arrowwidth\": 1}, \"autotypenumbers\": \"strict\", \"coloraxis\": {\"colorbar\": {\"outlinewidth\": 0, \"ticks\": \"\"}}, \"colorscale\": {\"diverging\": [[0, \"#8e0152\"], [0.1, \"#c51b7d\"], [0.2, \"#de77ae\"], [0.3, \"#f1b6da\"], [0.4, \"#fde0ef\"], [0.5, \"#f7f7f7\"], [0.6, \"#e6f5d0\"], [0.7, \"#b8e186\"], [0.8, \"#7fbc41\"], [0.9, \"#4d9221\"], [1, \"#276419\"]], \"sequential\": [[0.0, \"#0d0887\"], [0.1111111111111111, \"#46039f\"], [0.2222222222222222, \"#7201a8\"], [0.3333333333333333, \"#9c179e\"], [0.4444444444444444, \"#bd3786\"], [0.5555555555555556, \"#d8576b\"], [0.6666666666666666, \"#ed7953\"], [0.7777777777777778, \"#fb9f3a\"], [0.8888888888888888, \"#fdca26\"], [1.0, \"#f0f921\"]], \"sequentialminus\": [[0.0, \"#0d0887\"], [0.1111111111111111, \"#46039f\"], [0.2222222222222222, \"#7201a8\"], [0.3333333333333333, \"#9c179e\"], [0.4444444444444444, \"#bd3786\"], [0.5555555555555556, \"#d8576b\"], [0.6666666666666666, \"#ed7953\"], [0.7777777777777778, \"#fb9f3a\"], [0.8888888888888888, \"#fdca26\"], [1.0, \"#f0f921\"]]}, \"colorway\": [\"#636efa\", \"#EF553B\", \"#00cc96\", \"#ab63fa\", \"#FFA15A\", \"#19d3f3\", \"#FF6692\", \"#B6E880\", \"#FF97FF\", \"#FECB52\"], \"font\": {\"color\": \"#2a3f5f\"}, \"geo\": {\"bgcolor\": \"white\", \"lakecolor\": \"white\", \"landcolor\": \"#E5ECF6\", \"showlakes\": true, \"showland\": true, \"subunitcolor\": \"white\"}, \"hoverlabel\": {\"align\": \"left\"}, \"hovermode\": \"closest\", \"mapbox\": {\"style\": \"light\"}, \"paper_bgcolor\": \"white\", \"plot_bgcolor\": \"#E5ECF6\", \"polar\": {\"angularaxis\": {\"gridcolor\": \"white\", \"linecolor\": \"white\", \"ticks\": \"\"}, \"bgcolor\": \"#E5ECF6\", \"radialaxis\": {\"gridcolor\": \"white\", \"linecolor\": \"white\", \"ticks\": \"\"}}, \"scene\": {\"xaxis\": {\"backgroundcolor\": \"#E5ECF6\", \"gridcolor\": \"white\", \"gridwidth\": 2, \"linecolor\": \"white\", \"showbackground\": true, \"ticks\": \"\", \"zerolinecolor\": \"white\"}, \"yaxis\": {\"backgroundcolor\": \"#E5ECF6\", \"gridcolor\": \"white\", \"gridwidth\": 2, \"linecolor\": \"white\", \"showbackground\": true, \"ticks\": \"\", \"zerolinecolor\": \"white\"}, \"zaxis\": {\"backgroundcolor\": \"#E5ECF6\", \"gridcolor\": \"white\", \"gridwidth\": 2, \"linecolor\": \"white\", \"showbackground\": true, \"ticks\": \"\", \"zerolinecolor\": \"white\"}}, \"shapedefaults\": {\"line\": {\"color\": \"#2a3f5f\"}}, \"ternary\": {\"aaxis\": {\"gridcolor\": \"white\", \"linecolor\": \"white\", \"ticks\": \"\"}, \"baxis\": {\"gridcolor\": \"white\", \"linecolor\": \"white\", \"ticks\": \"\"}, \"bgcolor\": \"#E5ECF6\", \"caxis\": {\"gridcolor\": \"white\", \"linecolor\": \"white\", \"ticks\": \"\"}}, \"title\": {\"x\": 0.05}, \"xaxis\": {\"automargin\": true, \"gridcolor\": \"white\", \"linecolor\": \"white\", \"ticks\": \"\", \"title\": {\"standoff\": 15}, \"zerolinecolor\": \"white\", \"zerolinewidth\": 2}, \"yaxis\": {\"automargin\": true, \"gridcolor\": \"white\", \"linecolor\": \"white\", \"ticks\": \"\", \"title\": {\"standoff\": 15}, \"zerolinecolor\": \"white\", \"zerolinewidth\": 2}}}},                        {\"responsive\": true}                    ).then(function(){\n",
              "                            \n",
              "var gd = document.getElementById('450aeecb-511d-4f59-9bae-4bd5dfa016b8');\n",
              "var x = new MutationObserver(function (mutations, observer) {{\n",
              "        var display = window.getComputedStyle(gd).display;\n",
              "        if (!display || display === 'none') {{\n",
              "            console.log([gd, 'removed!']);\n",
              "            Plotly.purge(gd);\n",
              "            observer.disconnect();\n",
              "        }}\n",
              "}});\n",
              "\n",
              "// Listen for the removal of the full notebook cells\n",
              "var notebookContainer = gd.closest('#notebook-container');\n",
              "if (notebookContainer) {{\n",
              "    x.observe(notebookContainer, {childList: true});\n",
              "}}\n",
              "\n",
              "// Listen for the clearing of the current output cell\n",
              "var outputEl = gd.closest('.output');\n",
              "if (outputEl) {{\n",
              "    x.observe(outputEl, {childList: true});\n",
              "}}\n",
              "\n",
              "                        })                };                            </script>        </div>\n",
              "</body>\n",
              "</html>"
            ]
          },
          "metadata": {
            "tags": []
          }
        }
      ]
    },
    {
      "cell_type": "code",
      "metadata": {
        "colab": {
          "base_uri": "https://localhost:8080/",
          "height": 381
        },
        "id": "46BtwvbBb34G",
        "outputId": "3fb508e1-925f-4cd8-819a-12975600ec4f"
      },
      "source": [
        "# This is additional code to get twitter volume graph\n",
        "\n",
        "data.shape\n",
        "\n",
        "data.head(5)\n",
        "data[\"date2\"] = pd.to_datetime(data[\"timestamp\"],errors= \"coerce\").dt.date\n",
        "data[\"month\"] = pd.to_datetime(data[\"timestamp\"],errors= \"coerce\").dt.month\n",
        "data[\"hour\"] = pd.to_datetime(data[\"timestamp\"],errors= \"coerce\").dt.hour\n",
        "\n",
        "date1 = data[\"date2\"]\n",
        "tweet_val = data[\"text\"]\n",
        "\n",
        "#data['date2'] = pd.to_datetime(data['date2'])\n",
        "\n",
        "frame = { 'Date': date1, 'Tweet': tweet_val }\n",
        "  \n",
        "result = pd.DataFrame(frame)\n",
        "\n",
        "#data_group = data_twitter_vol.groupby(data_twitter_vol['date2']).agg('count')\n",
        "data_twitter_vol.head(5)"
      ],
      "execution_count": null,
      "outputs": [
        {
          "output_type": "error",
          "ename": "AttributeError",
          "evalue": "ignored",
          "traceback": [
            "\u001b[0;31m---------------------------------------------------------------------------\u001b[0m",
            "\u001b[0;31mAttributeError\u001b[0m                            Traceback (most recent call last)",
            "\u001b[0;32m<ipython-input-218-d67d5ae57f05>\u001b[0m in \u001b[0;36m<module>\u001b[0;34m()\u001b[0m\n\u001b[1;32m     19\u001b[0m \u001b[0;34m\u001b[0m\u001b[0m\n\u001b[1;32m     20\u001b[0m \u001b[0;31m# plot the result\u001b[0m\u001b[0;34m\u001b[0m\u001b[0;34m\u001b[0m\u001b[0;34m\u001b[0m\u001b[0m\n\u001b[0;32m---> 21\u001b[0;31m \u001b[0mdf\u001b[0m\u001b[0;34m.\u001b[0m\u001b[0munstack\u001b[0m\u001b[0;34m(\u001b[0m\u001b[0;34m)\u001b[0m\u001b[0;34m.\u001b[0m\u001b[0mplot\u001b[0m\u001b[0;34m(\u001b[0m\u001b[0;34m)\u001b[0m\u001b[0;34m\u001b[0m\u001b[0;34m\u001b[0m\u001b[0m\n\u001b[0m\u001b[1;32m     22\u001b[0m \u001b[0mplt\u001b[0m\u001b[0;34m.\u001b[0m\u001b[0mxticks\u001b[0m\u001b[0;34m(\u001b[0m\u001b[0mrotation\u001b[0m\u001b[0;34m=\u001b[0m\u001b[0;36m45\u001b[0m\u001b[0;34m)\u001b[0m\u001b[0;34m\u001b[0m\u001b[0;34m\u001b[0m\u001b[0m\n\u001b[1;32m     23\u001b[0m \u001b[0mplt\u001b[0m\u001b[0;34m.\u001b[0m\u001b[0mshow\u001b[0m\u001b[0;34m(\u001b[0m\u001b[0;34m)\u001b[0m\u001b[0;34m\u001b[0m\u001b[0;34m\u001b[0m\u001b[0m\n",
            "\u001b[0;32m/usr/local/lib/python3.7/dist-packages/pandas/core/series.py\u001b[0m in \u001b[0;36munstack\u001b[0;34m(self, level, fill_value)\u001b[0m\n\u001b[1;32m   3901\u001b[0m         \u001b[0;32mfrom\u001b[0m \u001b[0mpandas\u001b[0m\u001b[0;34m.\u001b[0m\u001b[0mcore\u001b[0m\u001b[0;34m.\u001b[0m\u001b[0mreshape\u001b[0m\u001b[0;34m.\u001b[0m\u001b[0mreshape\u001b[0m \u001b[0;32mimport\u001b[0m \u001b[0munstack\u001b[0m\u001b[0;34m\u001b[0m\u001b[0;34m\u001b[0m\u001b[0m\n\u001b[1;32m   3902\u001b[0m \u001b[0;34m\u001b[0m\u001b[0m\n\u001b[0;32m-> 3903\u001b[0;31m         \u001b[0;32mreturn\u001b[0m \u001b[0munstack\u001b[0m\u001b[0;34m(\u001b[0m\u001b[0mself\u001b[0m\u001b[0;34m,\u001b[0m \u001b[0mlevel\u001b[0m\u001b[0;34m,\u001b[0m \u001b[0mfill_value\u001b[0m\u001b[0;34m)\u001b[0m\u001b[0;34m\u001b[0m\u001b[0;34m\u001b[0m\u001b[0m\n\u001b[0m\u001b[1;32m   3904\u001b[0m \u001b[0;34m\u001b[0m\u001b[0m\n\u001b[1;32m   3905\u001b[0m     \u001b[0;31m# ----------------------------------------------------------------------\u001b[0m\u001b[0;34m\u001b[0m\u001b[0;34m\u001b[0m\u001b[0;34m\u001b[0m\u001b[0m\n",
            "\u001b[0;32m/usr/local/lib/python3.7/dist-packages/pandas/core/reshape/reshape.py\u001b[0m in \u001b[0;36munstack\u001b[0;34m(obj, level, fill_value)\u001b[0m\n\u001b[1;32m    423\u001b[0m             \u001b[0;32mreturn\u001b[0m \u001b[0m_unstack_extension_series\u001b[0m\u001b[0;34m(\u001b[0m\u001b[0mobj\u001b[0m\u001b[0;34m,\u001b[0m \u001b[0mlevel\u001b[0m\u001b[0;34m,\u001b[0m \u001b[0mfill_value\u001b[0m\u001b[0;34m)\u001b[0m\u001b[0;34m\u001b[0m\u001b[0;34m\u001b[0m\u001b[0m\n\u001b[1;32m    424\u001b[0m         unstacker = _Unstacker(\n\u001b[0;32m--> 425\u001b[0;31m             \u001b[0mobj\u001b[0m\u001b[0;34m.\u001b[0m\u001b[0mindex\u001b[0m\u001b[0;34m,\u001b[0m \u001b[0mlevel\u001b[0m\u001b[0;34m=\u001b[0m\u001b[0mlevel\u001b[0m\u001b[0;34m,\u001b[0m \u001b[0mconstructor\u001b[0m\u001b[0;34m=\u001b[0m\u001b[0mobj\u001b[0m\u001b[0;34m.\u001b[0m\u001b[0m_constructor_expanddim\u001b[0m\u001b[0;34m,\u001b[0m\u001b[0;34m\u001b[0m\u001b[0;34m\u001b[0m\u001b[0m\n\u001b[0m\u001b[1;32m    426\u001b[0m         )\n\u001b[1;32m    427\u001b[0m         return unstacker.get_result(\n",
            "\u001b[0;32m/usr/local/lib/python3.7/dist-packages/pandas/core/reshape/reshape.py\u001b[0m in \u001b[0;36m__init__\u001b[0;34m(self, index, level, constructor)\u001b[0m\n\u001b[1;32m     90\u001b[0m         \u001b[0mself\u001b[0m\u001b[0;34m.\u001b[0m\u001b[0mconstructor\u001b[0m \u001b[0;34m=\u001b[0m \u001b[0mconstructor\u001b[0m\u001b[0;34m\u001b[0m\u001b[0;34m\u001b[0m\u001b[0m\n\u001b[1;32m     91\u001b[0m \u001b[0;34m\u001b[0m\u001b[0m\n\u001b[0;32m---> 92\u001b[0;31m         \u001b[0mself\u001b[0m\u001b[0;34m.\u001b[0m\u001b[0mindex\u001b[0m \u001b[0;34m=\u001b[0m \u001b[0mindex\u001b[0m\u001b[0;34m.\u001b[0m\u001b[0mremove_unused_levels\u001b[0m\u001b[0;34m(\u001b[0m\u001b[0;34m)\u001b[0m\u001b[0;34m\u001b[0m\u001b[0;34m\u001b[0m\u001b[0m\n\u001b[0m\u001b[1;32m     93\u001b[0m \u001b[0;34m\u001b[0m\u001b[0m\n\u001b[1;32m     94\u001b[0m         \u001b[0mself\u001b[0m\u001b[0;34m.\u001b[0m\u001b[0mlevel\u001b[0m \u001b[0;34m=\u001b[0m \u001b[0mself\u001b[0m\u001b[0;34m.\u001b[0m\u001b[0mindex\u001b[0m\u001b[0;34m.\u001b[0m\u001b[0m_get_level_number\u001b[0m\u001b[0;34m(\u001b[0m\u001b[0mlevel\u001b[0m\u001b[0;34m)\u001b[0m\u001b[0;34m\u001b[0m\u001b[0;34m\u001b[0m\u001b[0m\n",
            "\u001b[0;31mAttributeError\u001b[0m: 'Index' object has no attribute 'remove_unused_levels'"
          ]
        }
      ]
    },
    {
      "cell_type": "code",
      "metadata": {
        "colab": {
          "base_uri": "https://localhost:8080/"
        },
        "id": "xLWtbuI_5Jb5",
        "outputId": "3dda1c4d-a33b-4bf7-f49e-1af2ce65e4f7"
      },
      "source": [
        "def half(duration,x):\n",
        "    try:\n",
        "        if duration == \"daily\":\n",
        "            #print(x)\n",
        "            if int(x) >11:\n",
        "                return 1\n",
        "            else:\n",
        "                return 0\n",
        "        if duration ==\"hourly\":\n",
        "            if int(x) > 30:\n",
        "                return 1\n",
        "            else:\n",
        "                return 0\n",
        "    except:\n",
        "        print(x)\n",
        "        return 0\n",
        "        \n",
        "data[\"hour_score\"] = data.progress_apply(lambda x:half(\"hourly\",x[\"date\"].minute),axis=1)\n",
        "data[\"daily_score\"] = data.progress_apply(lambda x:half(\"daily\",x[\"date\"].hour),axis=1)"
      ],
      "execution_count": null,
      "outputs": [
        {
          "output_type": "stream",
          "text": [
            "100%|██████████| 3682809/3682809 [00:49<00:00, 74208.66it/s] \n",
            "100%|██████████| 3682809/3682809 [00:49<00:00, 73979.73it/s] \n"
          ],
          "name": "stderr"
        }
      ]
    },
    {
      "cell_type": "code",
      "metadata": {
        "id": "CjFiRNVW550X"
      },
      "source": [
        "data[\"Daily Weight\"] = (data[\"prominent_user\"]+data[\"key_count\"]+data[\"RT_score\"]+data[\"fav_score\"]+data[\"daily_score\"])*data[\"ad_class\"] #data[\"Reply_score\"]\n",
        "data[\"hourly Weight\"] = (data[\"prominent_user\"]+data[\"key_count\"]+data[\"RT_score\"]+data[\"fav_score\"]+data[\"hour_score\"])*data[\"ad_class\"]  # #+data[\"Reply_score\"]\n"
      ],
      "execution_count": null,
      "outputs": []
    },
    {
      "cell_type": "code",
      "metadata": {
        "id": "0YpHB2vN5-0L"
      },
      "source": [
        "data[\"blob_sent\"] = data[\"blob_sent\"]*data[\"Daily Weight\"]\n",
        "data[\"vader_sent\"] = data[\"vader_sent\"]*data[\"hourly Weight\"]"
      ],
      "execution_count": null,
      "outputs": []
    },
    {
      "cell_type": "code",
      "metadata": {
        "colab": {
          "base_uri": "https://localhost:8080/"
        },
        "id": "A3--BYAT6CdD",
        "outputId": "579d868e-5fc6-414f-be5c-16b3d9e15702"
      },
      "source": [
        "data.info()"
      ],
      "execution_count": null,
      "outputs": [
        {
          "output_type": "stream",
          "text": [
            "<class 'pandas.core.frame.DataFrame'>\n",
            "Int64Index: 3682809 entries, 3 to 12143593\n",
            "Data columns (total 23 columns):\n",
            " #   Column          Dtype         \n",
            "---  ------          -----         \n",
            " 0   id              object        \n",
            " 1   user            object        \n",
            " 2   timestamp       object        \n",
            " 3   replies         float64       \n",
            " 4   likes           float64       \n",
            " 5   retweets        float64       \n",
            " 6   text            object        \n",
            " 7   subjectivity    float64       \n",
            " 8   blob_sent       float64       \n",
            " 9   vader_sent      float64       \n",
            " 10  ad_count        int64         \n",
            " 11  adwords         object        \n",
            " 12  ad_class        int64         \n",
            " 13  prominent_user  int64         \n",
            " 14  key_count       int64         \n",
            " 15  keywords        object        \n",
            " 16  RT_score        float64       \n",
            " 17  fav_score       float64       \n",
            " 18  date            datetime64[ns]\n",
            " 19  hour_score      int64         \n",
            " 20  daily_score     int64         \n",
            " 21  Daily Weight    float64       \n",
            " 22  hourly Weight   float64       \n",
            "dtypes: datetime64[ns](1), float64(10), int64(6), object(6)\n",
            "memory usage: 674.3+ MB\n"
          ],
          "name": "stdout"
        }
      ]
    },
    {
      "cell_type": "code",
      "metadata": {
        "id": "KvA1SuPX6CKZ"
      },
      "source": [
        "# df = data.groupby(['date2','hour']).agg(['mean','count'])\n",
        "# df.columns = [ ' '.join(str(i) for i in col) for col in df.columns]\n",
        "# df.reset_index(inplace=True)\n",
        "# print(df.columns)\n",
        "# data['time'] = data['date']\n",
        "# data.index = data['time']\n",
        "\n",
        "sentiment_grouped_hourly = data.groupby(pd.Grouper(key=\"time\", freq=\"1h\")).agg(\n",
        "    Daily_Weight_mean_by_hour = ('Daily Weight', np.mean),\n",
        "    Daily_Weight_count_by_hour = ('Daily Weight', 'count'),\n",
        "    blob_sent_mean_by_hour = ('blob_sent', np.mean),\n",
        "    subjectivity_mean_by_hour = ('subjectivity', np.mean),\n",
        "    vader_sent_mean_by_hour = ('vader_sent', np.mean)\n",
        ")"
      ],
      "execution_count": null,
      "outputs": []
    },
    {
      "cell_type": "code",
      "metadata": {
        "colab": {
          "base_uri": "https://localhost:8080/",
          "height": 235
        },
        "id": "fPWZC9-29Bt5",
        "outputId": "f0d9ae22-a561-44e0-f5a6-91440841b4b5"
      },
      "source": [
        "drop_column_subset = sentiment_grouped_hourly.columns.values[1:]\n",
        "sentiment_grouped_hourly.dropna(subset=drop_column_subset, inplace=True)\n",
        "sentiment_grouped_hourly.head()"
      ],
      "execution_count": null,
      "outputs": [
        {
          "output_type": "execute_result",
          "data": {
            "text/html": [
              "<div>\n",
              "<style scoped>\n",
              "    .dataframe tbody tr th:only-of-type {\n",
              "        vertical-align: middle;\n",
              "    }\n",
              "\n",
              "    .dataframe tbody tr th {\n",
              "        vertical-align: top;\n",
              "    }\n",
              "\n",
              "    .dataframe thead th {\n",
              "        text-align: right;\n",
              "    }\n",
              "</style>\n",
              "<table border=\"1\" class=\"dataframe\">\n",
              "  <thead>\n",
              "    <tr style=\"text-align: right;\">\n",
              "      <th></th>\n",
              "      <th>Daily_Weight_mean_by_hour</th>\n",
              "      <th>Daily_Weight_count_by_hour</th>\n",
              "      <th>blob_sent_mean_by_hour</th>\n",
              "      <th>subjectivity_mean_by_hour</th>\n",
              "      <th>vader_sent_mean_by_hour</th>\n",
              "    </tr>\n",
              "    <tr>\n",
              "      <th>time</th>\n",
              "      <th></th>\n",
              "      <th></th>\n",
              "      <th></th>\n",
              "      <th></th>\n",
              "      <th></th>\n",
              "    </tr>\n",
              "  </thead>\n",
              "  <tbody>\n",
              "    <tr>\n",
              "      <th>2009-02-18 05:00:00</th>\n",
              "      <td>7.896553</td>\n",
              "      <td>1</td>\n",
              "      <td>0.538401</td>\n",
              "      <td>0.477273</td>\n",
              "      <td>0.000000</td>\n",
              "    </tr>\n",
              "    <tr>\n",
              "      <th>2009-06-19 20:00:00</th>\n",
              "      <td>5.852030</td>\n",
              "      <td>1</td>\n",
              "      <td>4.291489</td>\n",
              "      <td>0.966667</td>\n",
              "      <td>2.699184</td>\n",
              "    </tr>\n",
              "    <tr>\n",
              "      <th>2010-03-11 05:00:00</th>\n",
              "      <td>2.302585</td>\n",
              "      <td>1</td>\n",
              "      <td>0.000000</td>\n",
              "      <td>0.500000</td>\n",
              "      <td>0.000000</td>\n",
              "    </tr>\n",
              "    <tr>\n",
              "      <th>2010-04-30 20:00:00</th>\n",
              "      <td>4.496508</td>\n",
              "      <td>1</td>\n",
              "      <td>1.911016</td>\n",
              "      <td>0.769444</td>\n",
              "      <td>1.545456</td>\n",
              "    </tr>\n",
              "    <tr>\n",
              "      <th>2010-06-19 23:00:00</th>\n",
              "      <td>5.584967</td>\n",
              "      <td>1</td>\n",
              "      <td>0.558497</td>\n",
              "      <td>0.400000</td>\n",
              "      <td>0.431159</td>\n",
              "    </tr>\n",
              "  </tbody>\n",
              "</table>\n",
              "</div>"
            ],
            "text/plain": [
              "                     Daily_Weight_mean_by_hour  Daily_Weight_count_by_hour  \\\n",
              "time                                                                         \n",
              "2009-02-18 05:00:00                   7.896553                           1   \n",
              "2009-06-19 20:00:00                   5.852030                           1   \n",
              "2010-03-11 05:00:00                   2.302585                           1   \n",
              "2010-04-30 20:00:00                   4.496508                           1   \n",
              "2010-06-19 23:00:00                   5.584967                           1   \n",
              "\n",
              "                     blob_sent_mean_by_hour  subjectivity_mean_by_hour  \\\n",
              "time                                                                     \n",
              "2009-02-18 05:00:00                0.538401                   0.477273   \n",
              "2009-06-19 20:00:00                4.291489                   0.966667   \n",
              "2010-03-11 05:00:00                0.000000                   0.500000   \n",
              "2010-04-30 20:00:00                1.911016                   0.769444   \n",
              "2010-06-19 23:00:00                0.558497                   0.400000   \n",
              "\n",
              "                     vader_sent_mean_by_hour  \n",
              "time                                          \n",
              "2009-02-18 05:00:00                 0.000000  \n",
              "2009-06-19 20:00:00                 2.699184  \n",
              "2010-03-11 05:00:00                 0.000000  \n",
              "2010-04-30 20:00:00                 1.545456  \n",
              "2010-06-19 23:00:00                 0.431159  "
            ]
          },
          "metadata": {
            "tags": []
          },
          "execution_count": 34
        }
      ]
    },
    {
      "cell_type": "code",
      "metadata": {
        "id": "k0XVJZa_CzWE"
      },
      "source": [
        "def movement_classifier(x):\n",
        "    try:\n",
        "        if x >= 0 :\n",
        "            return 1\n",
        "        else:\n",
        "            return 0\n",
        "    except:\n",
        "        print(x)"
      ],
      "execution_count": null,
      "outputs": []
    },
    {
      "cell_type": "code",
      "metadata": {
        "colab": {
          "base_uri": "https://localhost:8080/"
        },
        "id": "kuoD25y36Z8L",
        "outputId": "a0d6a81d-0175-4ce6-c981-680e4e1079c4"
      },
      "source": [
        "sentiment_grouped_hourly[\"tweet_diff\"] = sentiment_grouped_hourly[\"Daily_Weight_count_by_hour\"].diff()\n",
        "sentiment_grouped_hourly[\"blob_sent_mean_by_hour_diff\"] = sentiment_grouped_hourly[\"blob_sent_mean_by_hour\"].diff()\n",
        "sentiment_grouped_hourly[\"vader_sent_mean_by_hour_diff\"] = sentiment_grouped_hourly[\"vader_sent_mean_by_hour\"].diff()\n",
        "sentiment_grouped_hourly[\"tweet_movement\"] = sentiment_grouped_hourly[\"tweet_diff\"].progress_apply(lambda x:movement_classifier(x))\n",
        "sentiment_grouped_hourly[\"blob_sent_movement\"] = sentiment_grouped_hourly[\"blob_sent_mean_by_hour_diff\"].progress_apply(lambda x:movement_classifier(x))\n",
        "sentiment_grouped_hourly[\"vader_sent_movement\"] = sentiment_grouped_hourly[\"vader_sent_mean_by_hour_diff\"].progress_apply(lambda x:movement_classifier(x))"
      ],
      "execution_count": null,
      "outputs": [
        {
          "output_type": "stream",
          "text": [
            "100%|██████████| 55347/55347 [00:00<00:00, 781031.69it/s]\n",
            "100%|██████████| 55347/55347 [00:00<00:00, 781036.94it/s]\n",
            "100%|██████████| 55347/55347 [00:00<00:00, 777719.07it/s]\n"
          ],
          "name": "stderr"
        }
      ]
    },
    {
      "cell_type": "code",
      "metadata": {
        "id": "BQ-FYORKA1rQ"
      },
      "source": [
        "sentiment_grouped_hourly.head()\n",
        "sentiment_grouped_hourly.to_csv(\"twitter_sentiments_hourly_processed_data.csv\")"
      ],
      "execution_count": null,
      "outputs": []
    },
    {
      "cell_type": "code",
      "metadata": {
        "colab": {
          "base_uri": "https://localhost:8080/"
        },
        "id": "6WuGDsFf9vJi",
        "outputId": "ce01fb95-3922-49ee-f457-7f64ee2c4cfe"
      },
      "source": [
        "sentiment_grouped_hourly.info()"
      ],
      "execution_count": null,
      "outputs": [
        {
          "output_type": "stream",
          "text": [
            "<class 'pandas.core.frame.DataFrame'>\n",
            "DatetimeIndex: 55347 entries, 2009-02-18 05:00:00 to 2019-07-25 00:00:00\n",
            "Data columns (total 11 columns):\n",
            " #   Column                        Non-Null Count  Dtype  \n",
            "---  ------                        --------------  -----  \n",
            " 0   Daily_Weight_mean_by_hour     55347 non-null  float64\n",
            " 1   Daily_Weight_count_by_hour    55347 non-null  int64  \n",
            " 2   blob_sent_mean_by_hour        55347 non-null  float64\n",
            " 3   subjectivity_mean_by_hour     55347 non-null  float64\n",
            " 4   vader_sent_mean_by_hour       55347 non-null  float64\n",
            " 5   tweet_diff                    55346 non-null  float64\n",
            " 6   blob_sent_mean_by_hour_diff   55346 non-null  float64\n",
            " 7   vader_sent_mean_by_hour_diff  55346 non-null  float64\n",
            " 8   tweet_movement                55347 non-null  int64  \n",
            " 9   blob_sent_movement            55347 non-null  int64  \n",
            " 10  vader_sent_movement           55347 non-null  int64  \n",
            "dtypes: float64(7), int64(4)\n",
            "memory usage: 5.1 MB\n"
          ],
          "name": "stdout"
        }
      ]
    },
    {
      "cell_type": "code",
      "metadata": {
        "id": "3gxq_WOLYlf5"
      },
      "source": [
        ""
      ],
      "execution_count": null,
      "outputs": []
    }
  ]
}