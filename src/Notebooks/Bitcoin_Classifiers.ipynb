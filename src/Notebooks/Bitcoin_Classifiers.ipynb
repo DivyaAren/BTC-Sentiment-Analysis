{
  "nbformat": 4,
  "nbformat_minor": 0,
  "metadata": {
    "kernelspec": {
      "display_name": "Python 3",
      "language": "python",
      "name": "python3"
    },
    "language_info": {
      "codemirror_mode": {
        "name": "ipython",
        "version": 3
      },
      "file_extension": ".py",
      "mimetype": "text/x-python",
      "name": "python",
      "nbconvert_exporter": "python",
      "pygments_lexer": "ipython3",
      "version": "3.8.5"
    },
    "colab": {
      "name": "Bitcoin_Classifiers.ipynb",
      "provenance": [],
      "collapsed_sections": []
    }
  },
  "cells": [
    {
      "cell_type": "code",
      "metadata": {
        "id": "gh2icFf9NjPZ"
      },
      "source": [
        "from sklearn.model_selection import train_test_split\n",
        "#from sklearn.cross_validation import train_test_split\n",
        "import pandas as pd\n",
        "import matplotlib.pyplot as plt\n",
        "import numpy as np"
      ],
      "execution_count": null,
      "outputs": []
    },
    {
      "cell_type": "code",
      "metadata": {
        "id": "MN1Gf7wwo-dL"
      },
      "source": [
        "from sklearn.linear_model import LogisticRegression\n",
        "from sklearn.model_selection import KFold # import KFold\n",
        "from sklearn import metrics"
      ],
      "execution_count": null,
      "outputs": []
    },
    {
      "cell_type": "code",
      "metadata": {
        "colab": {
          "base_uri": "https://localhost:8080/"
        },
        "id": "J2GgMP7T5Uae",
        "outputId": "6750ef12-687e-4298-ab94-41e6254ee0e8"
      },
      "source": [
        "import os\n",
        "from google.colab import drive\n",
        "drive.mount('/content/drive/')\n",
        "os.chdir('/content/drive/MyDrive/CA683')"
      ],
      "execution_count": null,
      "outputs": [
        {
          "output_type": "stream",
          "text": [
            "Mounted at /content/drive/\n"
          ],
          "name": "stdout"
        }
      ]
    },
    {
      "cell_type": "code",
      "metadata": {
        "id": "KvDf2GbUNjPm",
        "colab": {
          "base_uri": "https://localhost:8080/",
          "height": 217
        },
        "outputId": "365649c0-5a25-43ad-d587-adfff1571b06"
      },
      "source": [
        "import matplotlib.pyplot as plt\n",
        "\n",
        "data =pd.read_csv(\"bitcoin_and_sentiments_data.csv\")\n",
        "data.columns\n",
        "data.fillna(inplace=True, value=0)\n",
        "\n",
        "data.head(2)\n",
        "\n",
        "#ax = plt.gca()\n",
        "  \n",
        "#use plot() method on the dataframe\n",
        "#data.plot( x = 'time' , y = 'vader_sent_mean_by_hour', ax = ax )\n",
        "#data.plot( x = 'time' , y = 'blob_sent_mean_by_hour' , ax = ax )\n"
      ],
      "execution_count": null,
      "outputs": [
        {
          "output_type": "execute_result",
          "data": {
            "text/html": [
              "<div>\n",
              "<style scoped>\n",
              "    .dataframe tbody tr th:only-of-type {\n",
              "        vertical-align: middle;\n",
              "    }\n",
              "\n",
              "    .dataframe tbody tr th {\n",
              "        vertical-align: top;\n",
              "    }\n",
              "\n",
              "    .dataframe thead th {\n",
              "        text-align: right;\n",
              "    }\n",
              "</style>\n",
              "<table border=\"1\" class=\"dataframe\">\n",
              "  <thead>\n",
              "    <tr style=\"text-align: right;\">\n",
              "      <th></th>\n",
              "      <th>Unnamed: 0</th>\n",
              "      <th>time</th>\n",
              "      <th>closed_price_by_hour</th>\n",
              "      <th>price_diff</th>\n",
              "      <th>movement</th>\n",
              "      <th>Daily_Weight_mean_by_hour</th>\n",
              "      <th>Daily_Weight_count_by_hour</th>\n",
              "      <th>blob_sent_mean_by_hour</th>\n",
              "      <th>subjectivity_mean_by_hour</th>\n",
              "      <th>vader_sent_mean_by_hour</th>\n",
              "      <th>tweet_diff</th>\n",
              "      <th>blob_sent_mean_by_hour_diff</th>\n",
              "      <th>vader_sent_mean_by_hour_diff</th>\n",
              "      <th>tweet_movement</th>\n",
              "      <th>blob_sent_movement</th>\n",
              "      <th>vader_sent_movement</th>\n",
              "    </tr>\n",
              "  </thead>\n",
              "  <tbody>\n",
              "    <tr>\n",
              "      <th>0</th>\n",
              "      <td>0</td>\n",
              "      <td>2016-02-19 08:00:00</td>\n",
              "      <td>418.409535</td>\n",
              "      <td>1.745839</td>\n",
              "      <td>1</td>\n",
              "      <td>0.0</td>\n",
              "      <td>1</td>\n",
              "      <td>0.000000</td>\n",
              "      <td>0.15</td>\n",
              "      <td>-0.4019</td>\n",
              "      <td>0.0</td>\n",
              "      <td>-3.931830</td>\n",
              "      <td>-0.442529</td>\n",
              "      <td>1</td>\n",
              "      <td>0</td>\n",
              "      <td>0</td>\n",
              "    </tr>\n",
              "    <tr>\n",
              "      <th>1</th>\n",
              "      <td>1</td>\n",
              "      <td>2016-05-15 21:00:00</td>\n",
              "      <td>456.989825</td>\n",
              "      <td>-0.042136</td>\n",
              "      <td>0</td>\n",
              "      <td>1.0</td>\n",
              "      <td>1</td>\n",
              "      <td>0.136364</td>\n",
              "      <td>0.50</td>\n",
              "      <td>0.0000</td>\n",
              "      <td>0.0</td>\n",
              "      <td>0.136364</td>\n",
              "      <td>0.401900</td>\n",
              "      <td>1</td>\n",
              "      <td>1</td>\n",
              "      <td>1</td>\n",
              "    </tr>\n",
              "  </tbody>\n",
              "</table>\n",
              "</div>"
            ],
            "text/plain": [
              "   Unnamed: 0                 time  ...  blob_sent_movement  vader_sent_movement\n",
              "0           0  2016-02-19 08:00:00  ...                   0                    0\n",
              "1           1  2016-05-15 21:00:00  ...                   1                    1\n",
              "\n",
              "[2 rows x 16 columns]"
            ]
          },
          "metadata": {
            "tags": []
          },
          "execution_count": 4
        }
      ]
    },
    {
      "cell_type": "code",
      "metadata": {
        "id": "dYWuqhfHNjPo"
      },
      "source": [
        "# vader = data[\"vader_sent_hourly mean\"].values\n",
        "vader = data[\"vader_sent_mean_by_hour\"].values\n",
        "# blob = data[\"blob_sent_hourly mean\"].values\n",
        "blob = data[\"blob_sent_mean_by_hour\"].values\n",
        "# tweetdir = data[\"tweet dir\"].values\n",
        "tweetdir = data[\"tweet_diff\"].values\n",
        "# tweet_vol = data[\"Daily Weight count\"].values\n",
        "tweet_vol = data[\"Daily_Weight_count_by_hour\"].values\n",
        "# v_move = data[\"vsent dir\"].values\n",
        "v_move = data[\"vader_sent_mean_by_hour_diff\"].values #vader_sent_mean_by_hour diff\n",
        "# b_move = data[\"bsent dir\"].values\n",
        "b_move = data[\"blob_sent_mean_by_hour_diff\"].values #blob_sent_mean_by_hour diff\n",
        "# diff = data['price mov']\n",
        "diff = data['movement'].values # 5hr MA diff movement\n",
        "# multifeat = data.filter([\"vader_sent_hourly mean\",\"blob_sent_hourly mean\",\"tweet dir\",\"Daily Weight count\"])\n",
        "multifeat = data.filter([\"vader_sent_mean_by_hour\",\"blob_sent_mean_by_hour\",\"tweet dir\",\"Daily_Weight_count_by_hour\"])\n",
        "# close = data['Close'].values\n",
        "close = data['closed_price_by_hour'].values"
      ],
      "execution_count": null,
      "outputs": []
    },
    {
      "cell_type": "code",
      "metadata": {
        "id": "wtPM_AkQpH28"
      },
      "source": [
        "features = [multifeat,vader,blob,tweetdir,tweet_vol,v_move,b_move]\n",
        "\n",
        "feature = ['multifeat','vader','blob','tweetdir','tweet_vol','v_move','b_move']"
      ],
      "execution_count": null,
      "outputs": []
    },
    {
      "cell_type": "code",
      "metadata": {
        "id": "_CCyHmB6NjPo"
      },
      "source": [
        "def f1(cm):\n",
        "    aNo = cm[0][0]\n",
        "    ayes = cm[1][0]\n",
        "    pno = cm[0][1]\n",
        "    pyes = cm[1][1]\n",
        "    "
      ],
      "execution_count": null,
      "outputs": []
    },
    {
      "cell_type": "code",
      "metadata": {
        "id": "HaHtnxw6NjPo",
        "colab": {
          "base_uri": "https://localhost:8080/"
        },
        "outputId": "79ccbf05-6900-4f4d-c8cd-a7f87f219db1"
      },
      "source": [
        "#Kfold Cross Validation with Logistic Regression\n",
        "\n",
        "for i in range(len(features)):\n",
        "    if i >0:\n",
        "        xbar = features[i].reshape(-1,1)\n",
        "    else:\n",
        "        xbar = features[i]\n",
        "    kf = KFold(n_splits=10) # Define the split - into 2 folds \n",
        "    \n",
        "    kf.get_n_splits(xbar) # returns the number of splitting iterations in the cross-validator\n",
        "    #KFold(n_splits=10, random_state=None, shuffle=False)\n",
        "    scores = []\n",
        "    f1=[]\n",
        "    mat = np.zeros([2,2])\n",
        "    for train_index, test_index in kf.split(xbar):\n",
        "        #print(\"TRAIN:\", train_index, \"TEST:\", test_index)\n",
        "        X_train, X_test = xbar[train_index[0]:train_index[1189]], xbar[test_index[0]:test_index[132]]\n",
        "        y_train, y_test = diff[train_index[0]:train_index[1189]], diff[test_index[0]:test_index[132]]\n",
        "        logisticRegr = LogisticRegression()\n",
        "        logisticRegr.fit(X_train, y_train)\n",
        "\n",
        "        predictions = logisticRegr.predict(X_test)\n",
        "        score = logisticRegr.score(X_test, y_test)\n",
        "        scores.append(score)\n",
        "        #print(\"{} Score : {}\".format(feature[i],score))\n",
        "        cm = metrics.confusion_matrix(y_test, predictions)\n",
        "        f1_score = metrics.f1_score(y_test,predictions)\n",
        "        f1.append(f1_score)\n",
        "        mat += cm\n",
        "        \n",
        "        #print(cm)\n",
        "    idx = np.mean(scores)\n",
        "    print(\"{} Score : {}\".format(feature[i],round(idx, 3)))\n",
        "    print(round(np.mean(f1), 3))\n",
        "    print(mat)\n",
        "\n"
      ],
      "execution_count": null,
      "outputs": [
        {
          "output_type": "stream",
          "text": [
            "multifeat Score : 0.538\n",
            "0.698\n",
            "[[  3. 604.]\n",
            " [  6. 707.]]\n",
            "vader Score : 0.54\n",
            "0.7\n",
            "[[  0. 607.]\n",
            " [  0. 713.]]\n",
            "blob Score : 0.537\n",
            "0.697\n",
            "[[  2. 605.]\n",
            " [  6. 707.]]\n",
            "tweetdir Score : 0.539\n",
            "0.698\n",
            "[[  8. 599.]\n",
            " [  9. 704.]]\n",
            "tweet_vol Score : 0.54\n",
            "0.7\n",
            "[[  0. 607.]\n",
            " [  0. 713.]]\n",
            "v_move Score : 0.542\n",
            "0.701\n",
            "[[  2. 605.]\n",
            " [  0. 713.]]\n",
            "b_move Score : 0.539\n",
            "0.699\n",
            "[[  3. 604.]\n",
            " [  4. 709.]]\n"
          ],
          "name": "stdout"
        }
      ]
    },
    {
      "cell_type": "code",
      "metadata": {
        "id": "EVQ-D_YWNjPp",
        "colab": {
          "base_uri": "https://localhost:8080/"
        },
        "outputId": "6bc1462e-d6be-430f-9137-b928fdd6287a"
      },
      "source": [
        "print(diff)"
      ],
      "execution_count": null,
      "outputs": [
        {
          "output_type": "stream",
          "text": [
            "[1 0 1 ... 0 0 1]\n"
          ],
          "name": "stdout"
        }
      ]
    },
    {
      "cell_type": "code",
      "metadata": {
        "colab": {
          "base_uri": "https://localhost:8080/"
        },
        "id": "0MZaKz7i53yL",
        "outputId": "b00d1a27-119a-4e08-f9d3-9b8b66e23fd3"
      },
      "source": [
        "#multi feature logistic regression\n",
        "\n",
        "features = [multifeat, vader,blob,tweetdir,tweet_vol]\n",
        "\n",
        "feature = ['multifeat', 'vader','blob','tweet_dir','tweet_volume']\n",
        "\n",
        "scores = []\n",
        "f1=[]\n",
        "mat = np.zeros([2,2])\n",
        "for i in range(len(features)):\n",
        "  df_label = pd.DataFrame(diff)\n",
        "  if i == 0:\n",
        "    X_train, X_test, y_train, y_test = train_test_split(multifeat, df_label, test_size=0.20, random_state=42)\n",
        "  else:\n",
        "    df_feature = pd.DataFrame(features[i])\n",
        "\n",
        "    X_train, X_test, y_train, y_test = train_test_split(df_feature, df_label, test_size=0.20, random_state=42)\n",
        "    #print(y_train)\n",
        "  \n",
        "  logisticRegr = LogisticRegression()\n",
        "  logisticRegr.fit(X_train, y_train)\n",
        "  predictions = logisticRegr.predict(X_test)\n",
        "  score = logisticRegr.score(X_test, y_test)\n",
        "  scores.append(score)\n",
        "  #print(\"{} Score : {}\".format(feature[i],score))\n",
        "  cm = metrics.confusion_matrix(y_test, predictions)\n",
        "  f1_score = metrics.f1_score(y_test,predictions)\n",
        "  f1.append(f1_score)\n",
        "  mat += cm\n",
        "  \n",
        "  #print(cm)\n",
        "  idx = np.mean(scores)\n",
        "  print(\"{} Score : {}\".format(feature[i],round(idx, 3)))\n",
        "  print(\"{} F1 Score : {}\".format(feature[i],round(np.mean(f1), 3)))\n",
        "  print(mat)"
      ],
      "execution_count": null,
      "outputs": [
        {
          "output_type": "stream",
          "text": [
            "multifeat Score : 0.534\n",
            "multifeat F1 Score : 0.694\n",
            "[[  1. 124.]\n",
            " [  1. 142.]]\n",
            "vader Score : 0.534\n",
            "vader F1 Score : 0.695\n",
            "[[  1. 249.]\n",
            " [  1. 285.]]\n",
            "blob Score : 0.534\n",
            "blob F1 Score : 0.695\n",
            "[[  2. 373.]\n",
            " [  2. 427.]]\n",
            "tweet_dir Score : 0.533\n",
            "tweet_dir F1 Score : 0.694\n",
            "[[  3. 497.]\n",
            " [  4. 568.]]\n",
            "tweet_volume Score : 0.533\n",
            "tweet_volume F1 Score : 0.694\n",
            "[[  3. 622.]\n",
            " [  4. 711.]]\n"
          ],
          "name": "stdout"
        },
        {
          "output_type": "stream",
          "text": [
            "/usr/local/lib/python3.7/dist-packages/sklearn/utils/validation.py:760: DataConversionWarning: A column-vector y was passed when a 1d array was expected. Please change the shape of y to (n_samples, ), for example using ravel().\n",
            "  y = column_or_1d(y, warn=True)\n",
            "/usr/local/lib/python3.7/dist-packages/sklearn/utils/validation.py:760: DataConversionWarning: A column-vector y was passed when a 1d array was expected. Please change the shape of y to (n_samples, ), for example using ravel().\n",
            "  y = column_or_1d(y, warn=True)\n",
            "/usr/local/lib/python3.7/dist-packages/sklearn/utils/validation.py:760: DataConversionWarning: A column-vector y was passed when a 1d array was expected. Please change the shape of y to (n_samples, ), for example using ravel().\n",
            "  y = column_or_1d(y, warn=True)\n",
            "/usr/local/lib/python3.7/dist-packages/sklearn/utils/validation.py:760: DataConversionWarning: A column-vector y was passed when a 1d array was expected. Please change the shape of y to (n_samples, ), for example using ravel().\n",
            "  y = column_or_1d(y, warn=True)\n",
            "/usr/local/lib/python3.7/dist-packages/sklearn/utils/validation.py:760: DataConversionWarning: A column-vector y was passed when a 1d array was expected. Please change the shape of y to (n_samples, ), for example using ravel().\n",
            "  y = column_or_1d(y, warn=True)\n"
          ],
          "name": "stderr"
        }
      ]
    },
    {
      "cell_type": "code",
      "metadata": {
        "id": "rv67I3l9NjPq",
        "colab": {
          "base_uri": "https://localhost:8080/",
          "height": 217
        },
        "outputId": "b065b74b-7628-4f99-9b1c-d5ace9f8fb8b"
      },
      "source": [
        "data.head(2)"
      ],
      "execution_count": null,
      "outputs": [
        {
          "output_type": "execute_result",
          "data": {
            "text/html": [
              "<div>\n",
              "<style scoped>\n",
              "    .dataframe tbody tr th:only-of-type {\n",
              "        vertical-align: middle;\n",
              "    }\n",
              "\n",
              "    .dataframe tbody tr th {\n",
              "        vertical-align: top;\n",
              "    }\n",
              "\n",
              "    .dataframe thead th {\n",
              "        text-align: right;\n",
              "    }\n",
              "</style>\n",
              "<table border=\"1\" class=\"dataframe\">\n",
              "  <thead>\n",
              "    <tr style=\"text-align: right;\">\n",
              "      <th></th>\n",
              "      <th>Unnamed: 0</th>\n",
              "      <th>time</th>\n",
              "      <th>closed_price_by_hour</th>\n",
              "      <th>price_diff</th>\n",
              "      <th>movement</th>\n",
              "      <th>Daily_Weight_mean_by_hour</th>\n",
              "      <th>Daily_Weight_count_by_hour</th>\n",
              "      <th>blob_sent_mean_by_hour</th>\n",
              "      <th>subjectivity_mean_by_hour</th>\n",
              "      <th>vader_sent_mean_by_hour</th>\n",
              "      <th>tweet_diff</th>\n",
              "      <th>blob_sent_mean_by_hour_diff</th>\n",
              "      <th>vader_sent_mean_by_hour_diff</th>\n",
              "      <th>tweet_movement</th>\n",
              "      <th>blob_sent_movement</th>\n",
              "      <th>vader_sent_movement</th>\n",
              "    </tr>\n",
              "  </thead>\n",
              "  <tbody>\n",
              "    <tr>\n",
              "      <th>0</th>\n",
              "      <td>0</td>\n",
              "      <td>2016-02-19 08:00:00</td>\n",
              "      <td>418.409535</td>\n",
              "      <td>1.745839</td>\n",
              "      <td>1</td>\n",
              "      <td>0.0</td>\n",
              "      <td>1</td>\n",
              "      <td>0.000000</td>\n",
              "      <td>0.15</td>\n",
              "      <td>-0.4019</td>\n",
              "      <td>0.0</td>\n",
              "      <td>-3.931830</td>\n",
              "      <td>-0.442529</td>\n",
              "      <td>1</td>\n",
              "      <td>0</td>\n",
              "      <td>0</td>\n",
              "    </tr>\n",
              "    <tr>\n",
              "      <th>1</th>\n",
              "      <td>1</td>\n",
              "      <td>2016-05-15 21:00:00</td>\n",
              "      <td>456.989825</td>\n",
              "      <td>-0.042136</td>\n",
              "      <td>0</td>\n",
              "      <td>1.0</td>\n",
              "      <td>1</td>\n",
              "      <td>0.136364</td>\n",
              "      <td>0.50</td>\n",
              "      <td>0.0000</td>\n",
              "      <td>0.0</td>\n",
              "      <td>0.136364</td>\n",
              "      <td>0.401900</td>\n",
              "      <td>1</td>\n",
              "      <td>1</td>\n",
              "      <td>1</td>\n",
              "    </tr>\n",
              "  </tbody>\n",
              "</table>\n",
              "</div>"
            ],
            "text/plain": [
              "   Unnamed: 0                 time  ...  blob_sent_movement  vader_sent_movement\n",
              "0           0  2016-02-19 08:00:00  ...                   0                    0\n",
              "1           1  2016-05-15 21:00:00  ...                   1                    1\n",
              "\n",
              "[2 rows x 16 columns]"
            ]
          },
          "metadata": {
            "tags": []
          },
          "execution_count": 24
        }
      ]
    },
    {
      "cell_type": "code",
      "metadata": {
        "id": "kkYtn36xNjPq",
        "colab": {
          "base_uri": "https://localhost:8080/"
        },
        "outputId": "04ffb510-1ef1-4910-8deb-b540038a7a6b"
      },
      "source": [
        "from sklearn import neighbors\n",
        "scores = []\n",
        "k_neighbours = []\n",
        "feat = data.filter(['closed_price_by_hour','vader_sent_mean_by_hour']).values\n",
        "for i in range(0,len(features)):\n",
        "    df_feature = pd.DataFrame(features[i])\n",
        "    df_label = pd.DataFrame(diff)\n",
        "    for j in range(3,6):\n",
        "        for weights in [\"distance\"]:\n",
        "            print(weights,j)\n",
        "            print(\"Working on {}\".format(feature[i]))\n",
        "            if i == 0:\n",
        "              x_train, x_test, y_train, y_test = train_test_split(multifeat, df_label, test_size=0.20, random_state=0)\n",
        "            #sbar = features[i].reshape(-1,1)\n",
        "            else:    \n",
        "              x_train, x_test, y_train, y_test = train_test_split(df_feature, df_label, test_size=0.20, random_state=0)\n",
        "            knn = neighbors.KNeighborsClassifier(j, weights=weights)\n",
        "            knn.fit(x_train, y_train)\n",
        "            predictions = knn.predict(x_test)\n",
        "            score = knn.score(x_test,y_test)\n",
        "            print(\"The score is : {}\".format(round(score, 3)))\n",
        "            cm = metrics.confusion_matrix(y_test,predictions)\n",
        "            print(cm)\n",
        "            f1 =  metrics.f1_score(y_test,predictions)\n",
        "            print(\"The F1 score is : {} \\n\".format(round(f1, 3)))"
      ],
      "execution_count": null,
      "outputs": [
        {
          "output_type": "stream",
          "text": [
            "distance 3\n",
            "Working on multifeat\n",
            "The score is : 0.519\n",
            "[[66 54]\n",
            " [75 73]]\n",
            "The F1 score is : 0.531 \n",
            "\n",
            "distance 4\n",
            "Working on multifeat\n",
            "The score is : 0.522\n",
            "[[67 53]\n",
            " [75 73]]\n",
            "The F1 score is : 0.533 \n",
            "\n",
            "distance 5\n",
            "Working on multifeat\n",
            "The score is : 0.56\n",
            "[[71 49]\n",
            " [69 79]]\n",
            "The F1 score is : 0.572 \n",
            "\n",
            "distance 3\n",
            "Working on vader\n",
            "The score is : 0.507\n",
            "[[ 95  25]\n",
            " [107  41]]\n",
            "The F1 score is : 0.383 \n",
            "\n",
            "distance 4\n",
            "Working on vader\n",
            "The score is : 0.515\n",
            "[[ 96  24]\n",
            " [106  42]]\n",
            "The F1 score is : 0.393 \n",
            "\n",
            "distance 5\n",
            "Working on vader\n",
            "The score is : 0.522\n",
            "[[ 94  26]\n",
            " [102  46]]\n",
            "The F1 score is : 0.418 \n",
            "\n",
            "distance 3\n",
            "Working on blob\n",
            "The score is : 0.5\n",
            "[[69 51]\n",
            " [83 65]]\n",
            "The F1 score is : 0.492 \n",
            "\n",
            "distance 4\n",
            "Working on blob\n",
            "The score is : 0.5\n",
            "[[71 49]\n",
            " [85 63]]\n",
            "The F1 score is : 0.485 \n",
            "\n",
            "distance 5\n",
            "Working on blob\n",
            "The score is : 0.496\n",
            "[[68 52]\n",
            " [83 65]]\n",
            "The F1 score is : 0.491 \n",
            "\n",
            "distance 3\n",
            "Working on tweet_dir\n",
            "The score is : 0.549\n",
            "[[  5 115]\n",
            " [  6 142]]\n",
            "The F1 score is : 0.701 \n",
            "\n",
            "distance 4\n",
            "Working on tweet_dir\n",
            "The score is : 0.463\n",
            "[[114   6]\n",
            " [138  10]]\n",
            "The F1 score is : 0.122 \n",
            "\n",
            "distance 5\n",
            "Working on tweet_dir\n",
            "The score is : 0.549\n",
            "[[  3 117]\n",
            " [  4 144]]\n"
          ],
          "name": "stdout"
        },
        {
          "output_type": "stream",
          "text": [
            "/usr/local/lib/python3.7/dist-packages/ipykernel_launcher.py:19: DataConversionWarning: A column-vector y was passed when a 1d array was expected. Please change the shape of y to (n_samples, ), for example using ravel().\n",
            "/usr/local/lib/python3.7/dist-packages/ipykernel_launcher.py:19: DataConversionWarning: A column-vector y was passed when a 1d array was expected. Please change the shape of y to (n_samples, ), for example using ravel().\n",
            "/usr/local/lib/python3.7/dist-packages/ipykernel_launcher.py:19: DataConversionWarning: A column-vector y was passed when a 1d array was expected. Please change the shape of y to (n_samples, ), for example using ravel().\n",
            "/usr/local/lib/python3.7/dist-packages/ipykernel_launcher.py:19: DataConversionWarning: A column-vector y was passed when a 1d array was expected. Please change the shape of y to (n_samples, ), for example using ravel().\n",
            "/usr/local/lib/python3.7/dist-packages/ipykernel_launcher.py:19: DataConversionWarning: A column-vector y was passed when a 1d array was expected. Please change the shape of y to (n_samples, ), for example using ravel().\n",
            "/usr/local/lib/python3.7/dist-packages/ipykernel_launcher.py:19: DataConversionWarning: A column-vector y was passed when a 1d array was expected. Please change the shape of y to (n_samples, ), for example using ravel().\n",
            "/usr/local/lib/python3.7/dist-packages/ipykernel_launcher.py:19: DataConversionWarning: A column-vector y was passed when a 1d array was expected. Please change the shape of y to (n_samples, ), for example using ravel().\n",
            "/usr/local/lib/python3.7/dist-packages/ipykernel_launcher.py:19: DataConversionWarning: A column-vector y was passed when a 1d array was expected. Please change the shape of y to (n_samples, ), for example using ravel().\n",
            "/usr/local/lib/python3.7/dist-packages/ipykernel_launcher.py:19: DataConversionWarning: A column-vector y was passed when a 1d array was expected. Please change the shape of y to (n_samples, ), for example using ravel().\n",
            "/usr/local/lib/python3.7/dist-packages/ipykernel_launcher.py:19: DataConversionWarning: A column-vector y was passed when a 1d array was expected. Please change the shape of y to (n_samples, ), for example using ravel().\n",
            "/usr/local/lib/python3.7/dist-packages/ipykernel_launcher.py:19: DataConversionWarning: A column-vector y was passed when a 1d array was expected. Please change the shape of y to (n_samples, ), for example using ravel().\n",
            "/usr/local/lib/python3.7/dist-packages/ipykernel_launcher.py:19: DataConversionWarning: A column-vector y was passed when a 1d array was expected. Please change the shape of y to (n_samples, ), for example using ravel().\n",
            "/usr/local/lib/python3.7/dist-packages/ipykernel_launcher.py:19: DataConversionWarning: A column-vector y was passed when a 1d array was expected. Please change the shape of y to (n_samples, ), for example using ravel().\n"
          ],
          "name": "stderr"
        },
        {
          "output_type": "stream",
          "text": [
            "The F1 score is : 0.704 \n",
            "\n",
            "distance 3\n",
            "Working on tweet_volume\n",
            "The score is : 0.493\n",
            "[[ 21  99]\n",
            " [ 37 111]]\n",
            "The F1 score is : 0.62 \n",
            "\n",
            "distance 4\n",
            "Working on tweet_volume\n",
            "The score is : 0.496\n",
            "[[ 22  98]\n",
            " [ 37 111]]\n",
            "The F1 score is : 0.622 \n",
            "\n",
            "distance 5\n",
            "Working on tweet_volume\n",
            "The score is : 0.493\n",
            "[[ 21  99]\n",
            " [ 37 111]]\n",
            "The F1 score is : 0.62 \n",
            "\n"
          ],
          "name": "stdout"
        },
        {
          "output_type": "stream",
          "text": [
            "/usr/local/lib/python3.7/dist-packages/ipykernel_launcher.py:19: DataConversionWarning: A column-vector y was passed when a 1d array was expected. Please change the shape of y to (n_samples, ), for example using ravel().\n",
            "/usr/local/lib/python3.7/dist-packages/ipykernel_launcher.py:19: DataConversionWarning: A column-vector y was passed when a 1d array was expected. Please change the shape of y to (n_samples, ), for example using ravel().\n"
          ],
          "name": "stderr"
        }
      ]
    },
    {
      "cell_type": "code",
      "metadata": {
        "id": "oICXslLwNjPr",
        "colab": {
          "base_uri": "https://localhost:8080/"
        },
        "outputId": "fdf278ca-f363-43dd-eeeb-303263ca8e11"
      },
      "source": [
        "#random forest\n",
        "from sklearn.ensemble import RandomForestClassifier\n",
        "from sklearn.metrics import classification_report, confusion_matrix, accuracy_score\n",
        "\n",
        "features = [multifeat, vader,blob,tweetdir,tweet_vol,v_move,b_move]\n",
        "\n",
        "feature = ['multifeat', 'vader','blob','tweetdir','tweet_vol','v_move','b_move']\n",
        "for i in range(len(features)):\n",
        "    scores = []\n",
        "    mat = np.zeros([2,2])\n",
        "    df_feature = pd.DataFrame(features[i])\n",
        "    df_label = pd.DataFrame(diff)\n",
        "    for j in range(1,10):\n",
        "        print(\"Working on {} {} estimators\".format(feature[i],j))\n",
        "        #sbar = features[i].reshape(-1,1)\n",
        "\n",
        "        if i == 0:\n",
        "          #x_train, x_test, y_train, y_test = train_test_split(sbar, data[\"movement\"], test_size=0.20, random_state=0)\n",
        "          x_train, x_test, y_train, y_test = train_test_split(multifeat, df_label, test_size=0.20, random_state=0)\n",
        "        else:\n",
        "          x_train, x_test, y_train, y_test = train_test_split(df_feature, df_label, test_size=0.20, random_state=0)\n",
        "        regressor = RandomForestClassifier(n_estimators=j*10, random_state=0,max_depth=i+2)\n",
        "        regressor.fit(x_train, y_train)\n",
        "        y_pred = regressor.predict(x_test)\n",
        "        \n",
        "        #predictions = knn.predict(x_test)\n",
        "        score = regressor.score(x_test,y_test)\n",
        "        #scores.append(score)\n",
        "        print(\"Confusion Matrix is: \\n{}\".format(confusion_matrix(y_test,y_pred)))\n",
        "        \n",
        "        #print(classification_report(y_test,y_pred))\n",
        "        print(\"Accuracy Score is: {}\\n\".format(round(accuracy_score(y_test, y_pred), 3)))\n",
        "        f1 =  metrics.f1_score(y_test,y_pred)\n",
        "        print(\"The F1 score is : {} \\n\".format(round(f1, 3)))\n",
        "        #print(scores)\n",
        "        #print(mat)\n",
        "    #print(\"The score is : {}\".format(score))\n",
        "    #cm = metrics.confusion_matrix(y_test,predictions)\n",
        "    #print(cm)"
      ],
      "execution_count": null,
      "outputs": [
        {
          "output_type": "stream",
          "text": [
            "Working on multifeat 1 estimators\n",
            "Confusion Matrix is: \n",
            "[[ 18 102]\n",
            " [ 12 136]]\n",
            "Accuracy Score is: 0.575\n",
            "\n",
            "The F1 score is : 0.705 \n",
            "\n",
            "Working on multifeat 2 estimators\n",
            "Confusion Matrix is: \n",
            "[[ 13 107]\n",
            " [ 12 136]]\n",
            "Accuracy Score is: 0.556\n",
            "\n",
            "The F1 score is : 0.696 \n",
            "\n",
            "Working on multifeat 3 estimators\n",
            "Confusion Matrix is: \n",
            "[[  9 111]\n",
            " [  7 141]]\n",
            "Accuracy Score is: 0.56\n",
            "\n",
            "The F1 score is : 0.705 \n",
            "\n",
            "Working on multifeat 4 estimators\n"
          ],
          "name": "stdout"
        },
        {
          "output_type": "stream",
          "text": [
            "/usr/local/lib/python3.7/dist-packages/ipykernel_launcher.py:23: DataConversionWarning: A column-vector y was passed when a 1d array was expected. Please change the shape of y to (n_samples,), for example using ravel().\n",
            "/usr/local/lib/python3.7/dist-packages/ipykernel_launcher.py:23: DataConversionWarning: A column-vector y was passed when a 1d array was expected. Please change the shape of y to (n_samples,), for example using ravel().\n",
            "/usr/local/lib/python3.7/dist-packages/ipykernel_launcher.py:23: DataConversionWarning: A column-vector y was passed when a 1d array was expected. Please change the shape of y to (n_samples,), for example using ravel().\n",
            "/usr/local/lib/python3.7/dist-packages/ipykernel_launcher.py:23: DataConversionWarning: A column-vector y was passed when a 1d array was expected. Please change the shape of y to (n_samples,), for example using ravel().\n"
          ],
          "name": "stderr"
        },
        {
          "output_type": "stream",
          "text": [
            "Confusion Matrix is: \n",
            "[[ 12 108]\n",
            " [ 10 138]]\n",
            "Accuracy Score is: 0.56\n",
            "\n",
            "The F1 score is : 0.701 \n",
            "\n",
            "Working on multifeat 5 estimators\n",
            "Confusion Matrix is: \n",
            "[[ 12 108]\n",
            " [  9 139]]\n",
            "Accuracy Score is: 0.563\n",
            "\n",
            "The F1 score is : 0.704 \n",
            "\n",
            "Working on multifeat 6 estimators\n"
          ],
          "name": "stdout"
        },
        {
          "output_type": "stream",
          "text": [
            "/usr/local/lib/python3.7/dist-packages/ipykernel_launcher.py:23: DataConversionWarning: A column-vector y was passed when a 1d array was expected. Please change the shape of y to (n_samples,), for example using ravel().\n",
            "/usr/local/lib/python3.7/dist-packages/ipykernel_launcher.py:23: DataConversionWarning: A column-vector y was passed when a 1d array was expected. Please change the shape of y to (n_samples,), for example using ravel().\n"
          ],
          "name": "stderr"
        },
        {
          "output_type": "stream",
          "text": [
            "Confusion Matrix is: \n",
            "[[ 14 106]\n",
            " [ 12 136]]\n",
            "Accuracy Score is: 0.56\n",
            "\n",
            "The F1 score is : 0.697 \n",
            "\n",
            "Working on multifeat 7 estimators\n",
            "Confusion Matrix is: \n",
            "[[ 14 106]\n",
            " [ 12 136]]\n",
            "Accuracy Score is: 0.56\n",
            "\n",
            "The F1 score is : 0.697 \n",
            "\n",
            "Working on multifeat 8 estimators\n"
          ],
          "name": "stdout"
        },
        {
          "output_type": "stream",
          "text": [
            "/usr/local/lib/python3.7/dist-packages/ipykernel_launcher.py:23: DataConversionWarning: A column-vector y was passed when a 1d array was expected. Please change the shape of y to (n_samples,), for example using ravel().\n",
            "/usr/local/lib/python3.7/dist-packages/ipykernel_launcher.py:23: DataConversionWarning: A column-vector y was passed when a 1d array was expected. Please change the shape of y to (n_samples,), for example using ravel().\n"
          ],
          "name": "stderr"
        },
        {
          "output_type": "stream",
          "text": [
            "Confusion Matrix is: \n",
            "[[ 15 105]\n",
            " [ 13 135]]\n",
            "Accuracy Score is: 0.56\n",
            "\n",
            "The F1 score is : 0.696 \n",
            "\n",
            "Working on multifeat 9 estimators\n",
            "Confusion Matrix is: \n",
            "[[ 12 108]\n",
            " [ 12 136]]\n",
            "Accuracy Score is: 0.552\n",
            "\n",
            "The F1 score is : 0.694 \n",
            "\n",
            "Working on vader 1 estimators\n",
            "Confusion Matrix is: \n",
            "[[  3 117]\n",
            " [  2 146]]\n",
            "Accuracy Score is: 0.556\n",
            "\n",
            "The F1 score is : 0.71 \n",
            "\n",
            "Working on vader 2 estimators\n"
          ],
          "name": "stdout"
        },
        {
          "output_type": "stream",
          "text": [
            "/usr/local/lib/python3.7/dist-packages/ipykernel_launcher.py:23: DataConversionWarning: A column-vector y was passed when a 1d array was expected. Please change the shape of y to (n_samples,), for example using ravel().\n",
            "/usr/local/lib/python3.7/dist-packages/ipykernel_launcher.py:23: DataConversionWarning: A column-vector y was passed when a 1d array was expected. Please change the shape of y to (n_samples,), for example using ravel().\n",
            "/usr/local/lib/python3.7/dist-packages/ipykernel_launcher.py:23: DataConversionWarning: A column-vector y was passed when a 1d array was expected. Please change the shape of y to (n_samples,), for example using ravel().\n"
          ],
          "name": "stderr"
        },
        {
          "output_type": "stream",
          "text": [
            "Confusion Matrix is: \n",
            "[[  5 115]\n",
            " [  3 145]]\n",
            "Accuracy Score is: 0.56\n",
            "\n",
            "The F1 score is : 0.711 \n",
            "\n",
            "Working on vader 3 estimators\n",
            "Confusion Matrix is: \n",
            "[[  8 112]\n",
            " [  6 142]]\n",
            "Accuracy Score is: 0.56\n",
            "\n",
            "The F1 score is : 0.706 \n",
            "\n",
            "Working on vader 4 estimators\n",
            "Confusion Matrix is: \n",
            "[[  6 114]\n",
            " [  5 143]]\n",
            "Accuracy Score is: 0.556\n",
            "\n",
            "The F1 score is : 0.706 \n",
            "\n",
            "Working on vader 5 estimators\n"
          ],
          "name": "stdout"
        },
        {
          "output_type": "stream",
          "text": [
            "/usr/local/lib/python3.7/dist-packages/ipykernel_launcher.py:23: DataConversionWarning: A column-vector y was passed when a 1d array was expected. Please change the shape of y to (n_samples,), for example using ravel().\n",
            "/usr/local/lib/python3.7/dist-packages/ipykernel_launcher.py:23: DataConversionWarning: A column-vector y was passed when a 1d array was expected. Please change the shape of y to (n_samples,), for example using ravel().\n",
            "/usr/local/lib/python3.7/dist-packages/ipykernel_launcher.py:23: DataConversionWarning: A column-vector y was passed when a 1d array was expected. Please change the shape of y to (n_samples,), for example using ravel().\n"
          ],
          "name": "stderr"
        },
        {
          "output_type": "stream",
          "text": [
            "Confusion Matrix is: \n",
            "[[  6 114]\n",
            " [  6 142]]\n",
            "Accuracy Score is: 0.552\n",
            "\n",
            "The F1 score is : 0.703 \n",
            "\n",
            "Working on vader 6 estimators\n",
            "Confusion Matrix is: \n",
            "[[  7 113]\n",
            " [  6 142]]\n",
            "Accuracy Score is: 0.556\n",
            "\n",
            "The F1 score is : 0.705 \n",
            "\n",
            "Working on vader 7 estimators\n"
          ],
          "name": "stdout"
        },
        {
          "output_type": "stream",
          "text": [
            "/usr/local/lib/python3.7/dist-packages/ipykernel_launcher.py:23: DataConversionWarning: A column-vector y was passed when a 1d array was expected. Please change the shape of y to (n_samples,), for example using ravel().\n",
            "/usr/local/lib/python3.7/dist-packages/ipykernel_launcher.py:23: DataConversionWarning: A column-vector y was passed when a 1d array was expected. Please change the shape of y to (n_samples,), for example using ravel().\n"
          ],
          "name": "stderr"
        },
        {
          "output_type": "stream",
          "text": [
            "Confusion Matrix is: \n",
            "[[  7 113]\n",
            " [  6 142]]\n",
            "Accuracy Score is: 0.556\n",
            "\n",
            "The F1 score is : 0.705 \n",
            "\n",
            "Working on vader 8 estimators\n",
            "Confusion Matrix is: \n",
            "[[  8 112]\n",
            " [  7 141]]\n",
            "Accuracy Score is: 0.556\n",
            "\n",
            "The F1 score is : 0.703 \n",
            "\n",
            "Working on vader 9 estimators\n"
          ],
          "name": "stdout"
        },
        {
          "output_type": "stream",
          "text": [
            "/usr/local/lib/python3.7/dist-packages/ipykernel_launcher.py:23: DataConversionWarning: A column-vector y was passed when a 1d array was expected. Please change the shape of y to (n_samples,), for example using ravel().\n",
            "/usr/local/lib/python3.7/dist-packages/ipykernel_launcher.py:23: DataConversionWarning: A column-vector y was passed when a 1d array was expected. Please change the shape of y to (n_samples,), for example using ravel().\n"
          ],
          "name": "stderr"
        },
        {
          "output_type": "stream",
          "text": [
            "Confusion Matrix is: \n",
            "[[  8 112]\n",
            " [  7 141]]\n",
            "Accuracy Score is: 0.556\n",
            "\n",
            "The F1 score is : 0.703 \n",
            "\n",
            "Working on blob 1 estimators\n",
            "Confusion Matrix is: \n",
            "[[ 19 101]\n",
            " [ 20 128]]\n",
            "Accuracy Score is: 0.549\n",
            "\n",
            "The F1 score is : 0.679 \n",
            "\n",
            "Working on blob 2 estimators\n",
            "Confusion Matrix is: \n",
            "[[ 17 103]\n",
            " [ 10 138]]\n",
            "Accuracy Score is: 0.578\n",
            "\n",
            "The F1 score is : 0.71 \n",
            "\n",
            "Working on blob 3 estimators\n",
            "Confusion Matrix is: \n",
            "[[ 17 103]\n",
            " [ 10 138]]\n",
            "Accuracy Score is: 0.578\n",
            "\n",
            "The F1 score is : 0.71 \n",
            "\n",
            "Working on blob 4 estimators\n"
          ],
          "name": "stdout"
        },
        {
          "output_type": "stream",
          "text": [
            "/usr/local/lib/python3.7/dist-packages/ipykernel_launcher.py:23: DataConversionWarning: A column-vector y was passed when a 1d array was expected. Please change the shape of y to (n_samples,), for example using ravel().\n",
            "/usr/local/lib/python3.7/dist-packages/ipykernel_launcher.py:23: DataConversionWarning: A column-vector y was passed when a 1d array was expected. Please change the shape of y to (n_samples,), for example using ravel().\n",
            "/usr/local/lib/python3.7/dist-packages/ipykernel_launcher.py:23: DataConversionWarning: A column-vector y was passed when a 1d array was expected. Please change the shape of y to (n_samples,), for example using ravel().\n",
            "/usr/local/lib/python3.7/dist-packages/ipykernel_launcher.py:23: DataConversionWarning: A column-vector y was passed when a 1d array was expected. Please change the shape of y to (n_samples,), for example using ravel().\n"
          ],
          "name": "stderr"
        },
        {
          "output_type": "stream",
          "text": [
            "Confusion Matrix is: \n",
            "[[ 19 101]\n",
            " [ 15 133]]\n",
            "Accuracy Score is: 0.567\n",
            "\n",
            "The F1 score is : 0.696 \n",
            "\n",
            "Working on blob 5 estimators\n",
            "Confusion Matrix is: \n",
            "[[ 19 101]\n",
            " [ 15 133]]\n",
            "Accuracy Score is: 0.567\n",
            "\n",
            "The F1 score is : 0.696 \n",
            "\n",
            "Working on blob 6 estimators\n"
          ],
          "name": "stdout"
        },
        {
          "output_type": "stream",
          "text": [
            "/usr/local/lib/python3.7/dist-packages/ipykernel_launcher.py:23: DataConversionWarning: A column-vector y was passed when a 1d array was expected. Please change the shape of y to (n_samples,), for example using ravel().\n",
            "/usr/local/lib/python3.7/dist-packages/ipykernel_launcher.py:23: DataConversionWarning: A column-vector y was passed when a 1d array was expected. Please change the shape of y to (n_samples,), for example using ravel().\n"
          ],
          "name": "stderr"
        },
        {
          "output_type": "stream",
          "text": [
            "Confusion Matrix is: \n",
            "[[ 19 101]\n",
            " [ 15 133]]\n",
            "Accuracy Score is: 0.567\n",
            "\n",
            "The F1 score is : 0.696 \n",
            "\n",
            "Working on blob 7 estimators\n",
            "Confusion Matrix is: \n",
            "[[ 26  94]\n",
            " [ 22 126]]\n",
            "Accuracy Score is: 0.567\n",
            "\n",
            "The F1 score is : 0.685 \n",
            "\n",
            "Working on blob 8 estimators\n"
          ],
          "name": "stdout"
        },
        {
          "output_type": "stream",
          "text": [
            "/usr/local/lib/python3.7/dist-packages/ipykernel_launcher.py:23: DataConversionWarning: A column-vector y was passed when a 1d array was expected. Please change the shape of y to (n_samples,), for example using ravel().\n",
            "/usr/local/lib/python3.7/dist-packages/ipykernel_launcher.py:23: DataConversionWarning: A column-vector y was passed when a 1d array was expected. Please change the shape of y to (n_samples,), for example using ravel().\n"
          ],
          "name": "stderr"
        },
        {
          "output_type": "stream",
          "text": [
            "Confusion Matrix is: \n",
            "[[ 26  94]\n",
            " [ 25 123]]\n",
            "Accuracy Score is: 0.556\n",
            "\n",
            "The F1 score is : 0.674 \n",
            "\n",
            "Working on blob 9 estimators\n",
            "Confusion Matrix is: \n",
            "[[ 27  93]\n",
            " [ 25 123]]\n",
            "Accuracy Score is: 0.56\n",
            "\n",
            "The F1 score is : 0.676 \n",
            "\n",
            "Working on tweetdir 1 estimators\n",
            "Confusion Matrix is: \n",
            "[[  3 117]\n",
            " [  3 145]]\n",
            "Accuracy Score is: 0.552\n",
            "\n",
            "The F1 score is : 0.707 \n",
            "\n",
            "Working on tweetdir 2 estimators\n"
          ],
          "name": "stdout"
        },
        {
          "output_type": "stream",
          "text": [
            "/usr/local/lib/python3.7/dist-packages/ipykernel_launcher.py:23: DataConversionWarning: A column-vector y was passed when a 1d array was expected. Please change the shape of y to (n_samples,), for example using ravel().\n",
            "/usr/local/lib/python3.7/dist-packages/ipykernel_launcher.py:23: DataConversionWarning: A column-vector y was passed when a 1d array was expected. Please change the shape of y to (n_samples,), for example using ravel().\n",
            "/usr/local/lib/python3.7/dist-packages/ipykernel_launcher.py:23: DataConversionWarning: A column-vector y was passed when a 1d array was expected. Please change the shape of y to (n_samples,), for example using ravel().\n"
          ],
          "name": "stderr"
        },
        {
          "output_type": "stream",
          "text": [
            "Confusion Matrix is: \n",
            "[[  3 117]\n",
            " [  3 145]]\n",
            "Accuracy Score is: 0.552\n",
            "\n",
            "The F1 score is : 0.707 \n",
            "\n",
            "Working on tweetdir 3 estimators\n",
            "Confusion Matrix is: \n",
            "[[  3 117]\n",
            " [  3 145]]\n",
            "Accuracy Score is: 0.552\n",
            "\n",
            "The F1 score is : 0.707 \n",
            "\n",
            "Working on tweetdir 4 estimators\n",
            "Confusion Matrix is: \n",
            "[[  3 117]\n",
            " [  3 145]]\n",
            "Accuracy Score is: 0.552\n",
            "\n",
            "The F1 score is : 0.707 \n",
            "\n",
            "Working on tweetdir 5 estimators\n"
          ],
          "name": "stdout"
        },
        {
          "output_type": "stream",
          "text": [
            "/usr/local/lib/python3.7/dist-packages/ipykernel_launcher.py:23: DataConversionWarning: A column-vector y was passed when a 1d array was expected. Please change the shape of y to (n_samples,), for example using ravel().\n",
            "/usr/local/lib/python3.7/dist-packages/ipykernel_launcher.py:23: DataConversionWarning: A column-vector y was passed when a 1d array was expected. Please change the shape of y to (n_samples,), for example using ravel().\n",
            "/usr/local/lib/python3.7/dist-packages/ipykernel_launcher.py:23: DataConversionWarning: A column-vector y was passed when a 1d array was expected. Please change the shape of y to (n_samples,), for example using ravel().\n"
          ],
          "name": "stderr"
        },
        {
          "output_type": "stream",
          "text": [
            "Confusion Matrix is: \n",
            "[[  3 117]\n",
            " [  3 145]]\n",
            "Accuracy Score is: 0.552\n",
            "\n",
            "The F1 score is : 0.707 \n",
            "\n",
            "Working on tweetdir 6 estimators\n",
            "Confusion Matrix is: \n",
            "[[  3 117]\n",
            " [  3 145]]\n",
            "Accuracy Score is: 0.552\n",
            "\n",
            "The F1 score is : 0.707 \n",
            "\n",
            "Working on tweetdir 7 estimators\n"
          ],
          "name": "stdout"
        },
        {
          "output_type": "stream",
          "text": [
            "/usr/local/lib/python3.7/dist-packages/ipykernel_launcher.py:23: DataConversionWarning: A column-vector y was passed when a 1d array was expected. Please change the shape of y to (n_samples,), for example using ravel().\n",
            "/usr/local/lib/python3.7/dist-packages/ipykernel_launcher.py:23: DataConversionWarning: A column-vector y was passed when a 1d array was expected. Please change the shape of y to (n_samples,), for example using ravel().\n"
          ],
          "name": "stderr"
        },
        {
          "output_type": "stream",
          "text": [
            "Confusion Matrix is: \n",
            "[[  3 117]\n",
            " [  3 145]]\n",
            "Accuracy Score is: 0.552\n",
            "\n",
            "The F1 score is : 0.707 \n",
            "\n",
            "Working on tweetdir 8 estimators\n",
            "Confusion Matrix is: \n",
            "[[  2 118]\n",
            " [  1 147]]\n",
            "Accuracy Score is: 0.556\n",
            "\n",
            "The F1 score is : 0.712 \n",
            "\n",
            "Working on tweetdir 9 estimators\n"
          ],
          "name": "stdout"
        },
        {
          "output_type": "stream",
          "text": [
            "/usr/local/lib/python3.7/dist-packages/ipykernel_launcher.py:23: DataConversionWarning: A column-vector y was passed when a 1d array was expected. Please change the shape of y to (n_samples,), for example using ravel().\n",
            "/usr/local/lib/python3.7/dist-packages/ipykernel_launcher.py:23: DataConversionWarning: A column-vector y was passed when a 1d array was expected. Please change the shape of y to (n_samples,), for example using ravel().\n"
          ],
          "name": "stderr"
        },
        {
          "output_type": "stream",
          "text": [
            "Confusion Matrix is: \n",
            "[[  3 117]\n",
            " [  2 146]]\n",
            "Accuracy Score is: 0.556\n",
            "\n",
            "The F1 score is : 0.71 \n",
            "\n",
            "Working on tweet_vol 1 estimators\n",
            "Confusion Matrix is: \n",
            "[[  3 117]\n",
            " [  6 142]]\n",
            "Accuracy Score is: 0.541\n",
            "\n",
            "The F1 score is : 0.698 \n",
            "\n",
            "Working on tweet_vol 2 estimators\n",
            "Confusion Matrix is: \n",
            "[[  0 120]\n",
            " [  4 144]]\n",
            "Accuracy Score is: 0.537\n",
            "\n",
            "The F1 score is : 0.699 \n",
            "\n",
            "Working on tweet_vol 3 estimators\n",
            "Confusion Matrix is: \n",
            "[[  1 119]\n",
            " [  3 145]]\n",
            "Accuracy Score is: 0.545\n",
            "\n",
            "The F1 score is : 0.704 \n",
            "\n",
            "Working on tweet_vol 4 estimators\n"
          ],
          "name": "stdout"
        },
        {
          "output_type": "stream",
          "text": [
            "/usr/local/lib/python3.7/dist-packages/ipykernel_launcher.py:23: DataConversionWarning: A column-vector y was passed when a 1d array was expected. Please change the shape of y to (n_samples,), for example using ravel().\n",
            "/usr/local/lib/python3.7/dist-packages/ipykernel_launcher.py:23: DataConversionWarning: A column-vector y was passed when a 1d array was expected. Please change the shape of y to (n_samples,), for example using ravel().\n",
            "/usr/local/lib/python3.7/dist-packages/ipykernel_launcher.py:23: DataConversionWarning: A column-vector y was passed when a 1d array was expected. Please change the shape of y to (n_samples,), for example using ravel().\n",
            "/usr/local/lib/python3.7/dist-packages/ipykernel_launcher.py:23: DataConversionWarning: A column-vector y was passed when a 1d array was expected. Please change the shape of y to (n_samples,), for example using ravel().\n"
          ],
          "name": "stderr"
        },
        {
          "output_type": "stream",
          "text": [
            "Confusion Matrix is: \n",
            "[[  1 119]\n",
            " [  4 144]]\n",
            "Accuracy Score is: 0.541\n",
            "\n",
            "The F1 score is : 0.701 \n",
            "\n",
            "Working on tweet_vol 5 estimators\n",
            "Confusion Matrix is: \n",
            "[[  1 119]\n",
            " [  3 145]]\n",
            "Accuracy Score is: 0.545\n",
            "\n",
            "The F1 score is : 0.704 \n",
            "\n",
            "Working on tweet_vol 6 estimators\n"
          ],
          "name": "stdout"
        },
        {
          "output_type": "stream",
          "text": [
            "/usr/local/lib/python3.7/dist-packages/ipykernel_launcher.py:23: DataConversionWarning: A column-vector y was passed when a 1d array was expected. Please change the shape of y to (n_samples,), for example using ravel().\n",
            "/usr/local/lib/python3.7/dist-packages/ipykernel_launcher.py:23: DataConversionWarning: A column-vector y was passed when a 1d array was expected. Please change the shape of y to (n_samples,), for example using ravel().\n"
          ],
          "name": "stderr"
        },
        {
          "output_type": "stream",
          "text": [
            "Confusion Matrix is: \n",
            "[[  1 119]\n",
            " [  3 145]]\n",
            "Accuracy Score is: 0.545\n",
            "\n",
            "The F1 score is : 0.704 \n",
            "\n",
            "Working on tweet_vol 7 estimators\n",
            "Confusion Matrix is: \n",
            "[[  1 119]\n",
            " [  3 145]]\n",
            "Accuracy Score is: 0.545\n",
            "\n",
            "The F1 score is : 0.704 \n",
            "\n",
            "Working on tweet_vol 8 estimators\n"
          ],
          "name": "stdout"
        },
        {
          "output_type": "stream",
          "text": [
            "/usr/local/lib/python3.7/dist-packages/ipykernel_launcher.py:23: DataConversionWarning: A column-vector y was passed when a 1d array was expected. Please change the shape of y to (n_samples,), for example using ravel().\n",
            "/usr/local/lib/python3.7/dist-packages/ipykernel_launcher.py:23: DataConversionWarning: A column-vector y was passed when a 1d array was expected. Please change the shape of y to (n_samples,), for example using ravel().\n"
          ],
          "name": "stderr"
        },
        {
          "output_type": "stream",
          "text": [
            "Confusion Matrix is: \n",
            "[[  1 119]\n",
            " [  3 145]]\n",
            "Accuracy Score is: 0.545\n",
            "\n",
            "The F1 score is : 0.704 \n",
            "\n",
            "Working on tweet_vol 9 estimators\n",
            "Confusion Matrix is: \n",
            "[[  1 119]\n",
            " [  4 144]]\n",
            "Accuracy Score is: 0.541\n",
            "\n",
            "The F1 score is : 0.701 \n",
            "\n",
            "Working on v_move 1 estimators\n",
            "Confusion Matrix is: \n",
            "[[ 22  98]\n",
            " [ 21 127]]\n",
            "Accuracy Score is: 0.556\n",
            "\n",
            "The F1 score is : 0.681 \n"
          ],
          "name": "stdout"
        },
        {
          "output_type": "stream",
          "text": [
            "/usr/local/lib/python3.7/dist-packages/ipykernel_launcher.py:23: DataConversionWarning: A column-vector y was passed when a 1d array was expected. Please change the shape of y to (n_samples,), for example using ravel().\n",
            "/usr/local/lib/python3.7/dist-packages/ipykernel_launcher.py:23: DataConversionWarning: A column-vector y was passed when a 1d array was expected. Please change the shape of y to (n_samples,), for example using ravel().\n",
            "/usr/local/lib/python3.7/dist-packages/ipykernel_launcher.py:23: DataConversionWarning: A column-vector y was passed when a 1d array was expected. Please change the shape of y to (n_samples,), for example using ravel().\n"
          ],
          "name": "stderr"
        },
        {
          "output_type": "stream",
          "text": [
            "\n",
            "Working on v_move 2 estimators\n",
            "Confusion Matrix is: \n",
            "[[ 18 102]\n",
            " [ 18 130]]\n",
            "Accuracy Score is: 0.552\n",
            "\n",
            "The F1 score is : 0.684 \n",
            "\n",
            "Working on v_move 3 estimators\n",
            "Confusion Matrix is: \n",
            "[[ 20 100]\n",
            " [ 19 129]]\n",
            "Accuracy Score is: 0.556\n",
            "\n",
            "The F1 score is : 0.684 \n",
            "\n",
            "Working on v_move 4 estimators\n"
          ],
          "name": "stdout"
        },
        {
          "output_type": "stream",
          "text": [
            "/usr/local/lib/python3.7/dist-packages/ipykernel_launcher.py:23: DataConversionWarning: A column-vector y was passed when a 1d array was expected. Please change the shape of y to (n_samples,), for example using ravel().\n",
            "/usr/local/lib/python3.7/dist-packages/ipykernel_launcher.py:23: DataConversionWarning: A column-vector y was passed when a 1d array was expected. Please change the shape of y to (n_samples,), for example using ravel().\n",
            "/usr/local/lib/python3.7/dist-packages/ipykernel_launcher.py:23: DataConversionWarning: A column-vector y was passed when a 1d array was expected. Please change the shape of y to (n_samples,), for example using ravel().\n"
          ],
          "name": "stderr"
        },
        {
          "output_type": "stream",
          "text": [
            "Confusion Matrix is: \n",
            "[[ 22  98]\n",
            " [ 21 127]]\n",
            "Accuracy Score is: 0.556\n",
            "\n",
            "The F1 score is : 0.681 \n",
            "\n",
            "Working on v_move 5 estimators\n",
            "Confusion Matrix is: \n",
            "[[ 21  99]\n",
            " [ 23 125]]\n",
            "Accuracy Score is: 0.545\n",
            "\n",
            "The F1 score is : 0.672 \n",
            "\n",
            "Working on v_move 6 estimators\n"
          ],
          "name": "stdout"
        },
        {
          "output_type": "stream",
          "text": [
            "/usr/local/lib/python3.7/dist-packages/ipykernel_launcher.py:23: DataConversionWarning: A column-vector y was passed when a 1d array was expected. Please change the shape of y to (n_samples,), for example using ravel().\n",
            "/usr/local/lib/python3.7/dist-packages/ipykernel_launcher.py:23: DataConversionWarning: A column-vector y was passed when a 1d array was expected. Please change the shape of y to (n_samples,), for example using ravel().\n"
          ],
          "name": "stderr"
        },
        {
          "output_type": "stream",
          "text": [
            "Confusion Matrix is: \n",
            "[[ 22  98]\n",
            " [ 22 126]]\n",
            "Accuracy Score is: 0.552\n",
            "\n",
            "The F1 score is : 0.677 \n",
            "\n",
            "Working on v_move 7 estimators\n",
            "Confusion Matrix is: \n",
            "[[ 24  96]\n",
            " [ 24 124]]\n",
            "Accuracy Score is: 0.552\n",
            "\n",
            "The F1 score is : 0.674 \n",
            "\n",
            "Working on v_move 8 estimators\n"
          ],
          "name": "stdout"
        },
        {
          "output_type": "stream",
          "text": [
            "/usr/local/lib/python3.7/dist-packages/ipykernel_launcher.py:23: DataConversionWarning: A column-vector y was passed when a 1d array was expected. Please change the shape of y to (n_samples,), for example using ravel().\n",
            "/usr/local/lib/python3.7/dist-packages/ipykernel_launcher.py:23: DataConversionWarning: A column-vector y was passed when a 1d array was expected. Please change the shape of y to (n_samples,), for example using ravel().\n"
          ],
          "name": "stderr"
        },
        {
          "output_type": "stream",
          "text": [
            "Confusion Matrix is: \n",
            "[[ 26  94]\n",
            " [ 27 121]]\n",
            "Accuracy Score is: 0.549\n",
            "\n",
            "The F1 score is : 0.667 \n",
            "\n",
            "Working on v_move 9 estimators\n",
            "Confusion Matrix is: \n",
            "[[ 26  94]\n",
            " [ 25 123]]\n",
            "Accuracy Score is: 0.556\n",
            "\n",
            "The F1 score is : 0.674 \n",
            "\n",
            "Working on b_move 1 estimators\n",
            "Confusion Matrix is: \n",
            "[[ 22  98]\n",
            " [ 37 111]]\n",
            "Accuracy Score is: 0.496\n",
            "\n",
            "The F1 score is : 0.622 \n",
            "\n",
            "Working on b_move 2 estimators\n",
            "Confusion Matrix is: \n",
            "[[ 26  94]\n",
            " [ 33 115]]\n",
            "Accuracy Score is: 0.526\n",
            "\n",
            "The F1 score is : 0.644 \n",
            "\n",
            "Working on b_move 3 estimators\n",
            "Confusion Matrix is: \n",
            "[[ 25  95]\n",
            " [ 34 114]]\n",
            "Accuracy Score is: 0.519\n",
            "\n",
            "The F1 score is : 0.639 \n",
            "\n",
            "Working on b_move 4 estimators\n"
          ],
          "name": "stdout"
        },
        {
          "output_type": "stream",
          "text": [
            "/usr/local/lib/python3.7/dist-packages/ipykernel_launcher.py:23: DataConversionWarning: A column-vector y was passed when a 1d array was expected. Please change the shape of y to (n_samples,), for example using ravel().\n",
            "/usr/local/lib/python3.7/dist-packages/ipykernel_launcher.py:23: DataConversionWarning: A column-vector y was passed when a 1d array was expected. Please change the shape of y to (n_samples,), for example using ravel().\n",
            "/usr/local/lib/python3.7/dist-packages/ipykernel_launcher.py:23: DataConversionWarning: A column-vector y was passed when a 1d array was expected. Please change the shape of y to (n_samples,), for example using ravel().\n",
            "/usr/local/lib/python3.7/dist-packages/ipykernel_launcher.py:23: DataConversionWarning: A column-vector y was passed when a 1d array was expected. Please change the shape of y to (n_samples,), for example using ravel().\n"
          ],
          "name": "stderr"
        },
        {
          "output_type": "stream",
          "text": [
            "Confusion Matrix is: \n",
            "[[ 27  93]\n",
            " [ 35 113]]\n",
            "Accuracy Score is: 0.522\n",
            "\n",
            "The F1 score is : 0.638 \n",
            "\n",
            "Working on b_move 5 estimators\n",
            "Confusion Matrix is: \n",
            "[[ 21  99]\n",
            " [ 34 114]]\n",
            "Accuracy Score is: 0.504\n",
            "\n",
            "The F1 score is : 0.632 \n",
            "\n",
            "Working on b_move 6 estimators\n"
          ],
          "name": "stdout"
        },
        {
          "output_type": "stream",
          "text": [
            "/usr/local/lib/python3.7/dist-packages/ipykernel_launcher.py:23: DataConversionWarning: A column-vector y was passed when a 1d array was expected. Please change the shape of y to (n_samples,), for example using ravel().\n",
            "/usr/local/lib/python3.7/dist-packages/ipykernel_launcher.py:23: DataConversionWarning: A column-vector y was passed when a 1d array was expected. Please change the shape of y to (n_samples,), for example using ravel().\n"
          ],
          "name": "stderr"
        },
        {
          "output_type": "stream",
          "text": [
            "Confusion Matrix is: \n",
            "[[ 23  97]\n",
            " [ 35 113]]\n",
            "Accuracy Score is: 0.507\n",
            "\n",
            "The F1 score is : 0.631 \n",
            "\n",
            "Working on b_move 7 estimators\n",
            "Confusion Matrix is: \n",
            "[[ 22  98]\n",
            " [ 33 115]]\n",
            "Accuracy Score is: 0.511\n",
            "\n",
            "The F1 score is : 0.637 \n",
            "\n",
            "Working on b_move 8 estimators\n"
          ],
          "name": "stdout"
        },
        {
          "output_type": "stream",
          "text": [
            "/usr/local/lib/python3.7/dist-packages/ipykernel_launcher.py:23: DataConversionWarning: A column-vector y was passed when a 1d array was expected. Please change the shape of y to (n_samples,), for example using ravel().\n",
            "/usr/local/lib/python3.7/dist-packages/ipykernel_launcher.py:23: DataConversionWarning: A column-vector y was passed when a 1d array was expected. Please change the shape of y to (n_samples,), for example using ravel().\n"
          ],
          "name": "stderr"
        },
        {
          "output_type": "stream",
          "text": [
            "Confusion Matrix is: \n",
            "[[ 22  98]\n",
            " [ 35 113]]\n",
            "Accuracy Score is: 0.504\n",
            "\n",
            "The F1 score is : 0.63 \n",
            "\n",
            "Working on b_move 9 estimators\n",
            "Confusion Matrix is: \n",
            "[[ 21  99]\n",
            " [ 34 114]]\n",
            "Accuracy Score is: 0.504\n",
            "\n",
            "The F1 score is : 0.632 \n",
            "\n"
          ],
          "name": "stdout"
        },
        {
          "output_type": "stream",
          "text": [
            "/usr/local/lib/python3.7/dist-packages/ipykernel_launcher.py:23: DataConversionWarning: A column-vector y was passed when a 1d array was expected. Please change the shape of y to (n_samples,), for example using ravel().\n"
          ],
          "name": "stderr"
        }
      ]
    }
  ]
}