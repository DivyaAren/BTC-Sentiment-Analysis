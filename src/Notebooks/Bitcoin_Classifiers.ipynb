{
  "nbformat": 4,
  "nbformat_minor": 0,
  "metadata": {
    "kernelspec": {
      "display_name": "Python 3",
      "language": "python",
      "name": "python3"
    },
    "language_info": {
      "codemirror_mode": {
        "name": "ipython",
        "version": 3
      },
      "file_extension": ".py",
      "mimetype": "text/x-python",
      "name": "python",
      "nbconvert_exporter": "python",
      "pygments_lexer": "ipython3",
      "version": "3.8.5"
    },
    "colab": {
      "name": "Bitcoin_Classifiers.ipynb",
      "provenance": [],
      "collapsed_sections": []
    }
  },
  "cells": [
    {
      "cell_type": "code",
      "metadata": {
        "id": "gh2icFf9NjPZ"
      },
      "source": [
        "from sklearn.model_selection import train_test_split\n",
        "#from sklearn.cross_validation import train_test_split\n",
        "import pandas as pd\n",
        "import matplotlib.pyplot as plt\n",
        "import numpy as np"
      ],
      "execution_count": 1,
      "outputs": []
    },
    {
      "cell_type": "code",
      "metadata": {
        "id": "MN1Gf7wwo-dL"
      },
      "source": [
        "from sklearn.linear_model import LogisticRegression\n",
        "from sklearn.model_selection import KFold # import KFold\n",
        "from sklearn import metrics"
      ],
      "execution_count": 2,
      "outputs": []
    },
    {
      "cell_type": "markdown",
      "metadata": {
        "id": "W4WH1GtVe0uo"
      },
      "source": [
        "**Connect to drive**"
      ]
    },
    {
      "cell_type": "code",
      "metadata": {
        "colab": {
          "base_uri": "https://localhost:8080/"
        },
        "id": "J2GgMP7T5Uae",
        "outputId": "2afa72ec-cf87-438e-f609-a71639a98703"
      },
      "source": [
        "import os\n",
        "from google.colab import drive\n",
        "drive.mount('/content/drive/')\n",
        "os.chdir('/content/drive/MyDrive/CA683')"
      ],
      "execution_count": 3,
      "outputs": [
        {
          "output_type": "stream",
          "text": [
            "Mounted at /content/drive/\n"
          ],
          "name": "stdout"
        }
      ]
    },
    {
      "cell_type": "markdown",
      "metadata": {
        "id": "Fg_QcBsDfGKw"
      },
      "source": [
        "**Load the merged data**"
      ]
    },
    {
      "cell_type": "code",
      "metadata": {
        "id": "KvDf2GbUNjPm",
        "colab": {
          "base_uri": "https://localhost:8080/",
          "height": 216
        },
        "outputId": "443e3cb2-89af-4cfc-9227-fc39d7d226b6"
      },
      "source": [
        "import matplotlib.pyplot as plt\n",
        "\n",
        "data =pd.read_csv(\"bitcoin_and_sentiments_data.csv\")\n",
        "data.columns\n",
        "data.fillna(inplace=True, value=0)\n",
        "\n",
        "data.head(2)"
      ],
      "execution_count": 5,
      "outputs": [
        {
          "output_type": "execute_result",
          "data": {
            "text/html": [
              "<div>\n",
              "<style scoped>\n",
              "    .dataframe tbody tr th:only-of-type {\n",
              "        vertical-align: middle;\n",
              "    }\n",
              "\n",
              "    .dataframe tbody tr th {\n",
              "        vertical-align: top;\n",
              "    }\n",
              "\n",
              "    .dataframe thead th {\n",
              "        text-align: right;\n",
              "    }\n",
              "</style>\n",
              "<table border=\"1\" class=\"dataframe\">\n",
              "  <thead>\n",
              "    <tr style=\"text-align: right;\">\n",
              "      <th></th>\n",
              "      <th>Unnamed: 0</th>\n",
              "      <th>time</th>\n",
              "      <th>closed_price_by_hour</th>\n",
              "      <th>price_diff</th>\n",
              "      <th>movement</th>\n",
              "      <th>Daily_Weight_mean_by_hour</th>\n",
              "      <th>Daily_Weight_count_by_hour</th>\n",
              "      <th>blob_sent_mean_by_hour</th>\n",
              "      <th>subjectivity_mean_by_hour</th>\n",
              "      <th>vader_sent_mean_by_hour</th>\n",
              "      <th>tweet_diff</th>\n",
              "      <th>blob_sent_mean_by_hour_diff</th>\n",
              "      <th>vader_sent_mean_by_hour_diff</th>\n",
              "      <th>tweet_movement</th>\n",
              "      <th>blob_sent_movement</th>\n",
              "      <th>vader_sent_movement</th>\n",
              "    </tr>\n",
              "  </thead>\n",
              "  <tbody>\n",
              "    <tr>\n",
              "      <th>0</th>\n",
              "      <td>0</td>\n",
              "      <td>2016-02-19 08:00:00</td>\n",
              "      <td>418.409535</td>\n",
              "      <td>1.745839</td>\n",
              "      <td>1</td>\n",
              "      <td>0.0</td>\n",
              "      <td>1</td>\n",
              "      <td>0.0</td>\n",
              "      <td>0.15</td>\n",
              "      <td>-0.4019</td>\n",
              "      <td>0.0</td>\n",
              "      <td>-3.93183</td>\n",
              "      <td>-0.442529</td>\n",
              "      <td>1</td>\n",
              "      <td>0</td>\n",
              "      <td>0</td>\n",
              "    </tr>\n",
              "    <tr>\n",
              "      <th>1</th>\n",
              "      <td>1</td>\n",
              "      <td>2016-03-28 03:00:00</td>\n",
              "      <td>423.431613</td>\n",
              "      <td>0.030249</td>\n",
              "      <td>1</td>\n",
              "      <td>0.0</td>\n",
              "      <td>2</td>\n",
              "      <td>0.0</td>\n",
              "      <td>0.00</td>\n",
              "      <td>0.0000</td>\n",
              "      <td>1.0</td>\n",
              "      <td>0.00000</td>\n",
              "      <td>0.401900</td>\n",
              "      <td>1</td>\n",
              "      <td>1</td>\n",
              "      <td>1</td>\n",
              "    </tr>\n",
              "  </tbody>\n",
              "</table>\n",
              "</div>"
            ],
            "text/plain": [
              "   Unnamed: 0                 time  ...  blob_sent_movement  vader_sent_movement\n",
              "0           0  2016-02-19 08:00:00  ...                   0                    0\n",
              "1           1  2016-03-28 03:00:00  ...                   1                    1\n",
              "\n",
              "[2 rows x 16 columns]"
            ]
          },
          "metadata": {
            "tags": []
          },
          "execution_count": 5
        }
      ]
    },
    {
      "cell_type": "markdown",
      "metadata": {
        "id": "tt12nolifM6s"
      },
      "source": [
        "**Define the features**"
      ]
    },
    {
      "cell_type": "code",
      "metadata": {
        "id": "dYWuqhfHNjPo"
      },
      "source": [
        "vader = data[\"vader_sent_mean_by_hour\"].values\n",
        "blob = data[\"blob_sent_mean_by_hour\"].values\n",
        "tweetdir = data[\"tweet_diff\"].values\n",
        "tweet_vol = data[\"Daily_Weight_count_by_hour\"].values\n",
        "v_move = data[\"vader_sent_mean_by_hour_diff\"].values\n",
        "b_move = data[\"blob_sent_mean_by_hour_diff\"].values\n",
        "diff = data['movement'].values\n",
        "multifeat = data.filter([\"vader_sent_mean_by_hour\",\"blob_sent_mean_by_hour\",\"tweet dir\",\"Daily_Weight_count_by_hour\"])\n",
        "close = data['closed_price_by_hour'].values"
      ],
      "execution_count": 6,
      "outputs": []
    },
    {
      "cell_type": "code",
      "metadata": {
        "id": "wtPM_AkQpH28"
      },
      "source": [
        "features = [multifeat,vader,blob,tweetdir,tweet_vol,v_move,b_move]\n",
        "\n",
        "feature = ['multifeat','vader','blob','tweetdir','tweet_vol','v_move','b_move']"
      ],
      "execution_count": 7,
      "outputs": []
    },
    {
      "cell_type": "code",
      "metadata": {
        "id": "_CCyHmB6NjPo"
      },
      "source": [
        "def f1(cm):\n",
        "    aNo = cm[0][0]\n",
        "    ayes = cm[1][0]\n",
        "    pno = cm[0][1]\n",
        "    pyes = cm[1][1]\n",
        "    "
      ],
      "execution_count": 8,
      "outputs": []
    },
    {
      "cell_type": "markdown",
      "metadata": {
        "id": "iFBVMnPdfYyF"
      },
      "source": [
        "**Kfold Cross Validation with Logistic Regression**"
      ]
    },
    {
      "cell_type": "code",
      "metadata": {
        "id": "HaHtnxw6NjPo",
        "colab": {
          "base_uri": "https://localhost:8080/"
        },
        "outputId": "21cd728d-0de5-4c62-87de-3c903b8cdb37"
      },
      "source": [
        "#Kfold Cross Validation with Logistic Regression\n",
        "\n",
        "for i in range(len(features)):\n",
        "    if i >0:\n",
        "        xbar = features[i].reshape(-1,1)\n",
        "    else:\n",
        "        xbar = features[i]\n",
        "    kf = KFold(n_splits=10) # Define the split - into 2 folds \n",
        "    \n",
        "    kf.get_n_splits(xbar) # returns the number of splitting iterations in the cross-validator\n",
        "    #KFold(n_splits=10, random_state=None, shuffle=False)\n",
        "    scores = []\n",
        "    f1=[]\n",
        "    mat = np.zeros([2,2])\n",
        "    for train_index, test_index in kf.split(xbar):\n",
        "        #print(\"TRAIN:\", train_index, \"TEST:\", test_index)\n",
        "        X_train, X_test = xbar[train_index[0]:train_index[1189]], xbar[test_index[0]:test_index[132]]\n",
        "        y_train, y_test = diff[train_index[0]:train_index[1189]], diff[test_index[0]:test_index[132]]\n",
        "        logisticRegr = LogisticRegression()\n",
        "        logisticRegr.fit(X_train, y_train)\n",
        "\n",
        "        predictions = logisticRegr.predict(X_test)\n",
        "        score = logisticRegr.score(X_test, y_test)\n",
        "        scores.append(score)\n",
        "        #print(\"{} Score : {}\".format(feature[i],score))\n",
        "        cm = metrics.confusion_matrix(y_test, predictions)\n",
        "        f1_score = metrics.f1_score(y_test,predictions)\n",
        "        f1.append(f1_score)\n",
        "        mat += cm\n",
        "        \n",
        "        #print(cm)\n",
        "    idx = np.mean(scores)\n",
        "    print(\"{} Score : {}\".format(feature[i],round(idx, 3)))\n",
        "    print(round(np.mean(f1), 3))\n",
        "    print(mat)\n",
        "\n"
      ],
      "execution_count": 9,
      "outputs": [
        {
          "output_type": "stream",
          "text": [
            "multifeat Score : 0.536\n",
            "0.691\n",
            "[[ 19. 584.]\n",
            " [ 28. 689.]]\n",
            "vader Score : 0.542\n",
            "0.696\n",
            "[[ 19. 584.]\n",
            " [ 21. 696.]]\n",
            "blob Score : 0.542\n",
            "0.7\n",
            "[[  8. 595.]\n",
            " [  9. 708.]]\n",
            "tweetdir Score : 0.539\n",
            "0.696\n",
            "[[ 12. 591.]\n",
            " [ 18. 699.]]\n",
            "tweet_vol Score : 0.543\n",
            "0.703\n",
            "[[  0. 603.]\n",
            " [  0. 717.]]\n",
            "v_move Score : 0.545\n",
            "0.7\n",
            "[[ 19. 584.]\n",
            " [ 16. 701.]]\n",
            "b_move Score : 0.545\n",
            "0.692\n",
            "[[ 41. 562.]\n",
            " [ 39. 678.]]\n"
          ],
          "name": "stdout"
        }
      ]
    },
    {
      "cell_type": "code",
      "metadata": {
        "id": "EVQ-D_YWNjPp",
        "colab": {
          "base_uri": "https://localhost:8080/"
        },
        "outputId": "6bc1462e-d6be-430f-9137-b928fdd6287a"
      },
      "source": [
        "print(diff)"
      ],
      "execution_count": null,
      "outputs": [
        {
          "output_type": "stream",
          "text": [
            "[1 0 1 ... 0 0 1]\n"
          ],
          "name": "stdout"
        }
      ]
    },
    {
      "cell_type": "markdown",
      "metadata": {
        "id": "mK6hFLX9flDQ"
      },
      "source": [
        "**Multi feature logistic regression**"
      ]
    },
    {
      "cell_type": "code",
      "metadata": {
        "colab": {
          "base_uri": "https://localhost:8080/"
        },
        "id": "0MZaKz7i53yL",
        "outputId": "a169b846-9ba8-411c-9266-9e2d0136d05d"
      },
      "source": [
        "#multi feature logistic regression\n",
        "\n",
        "features = [multifeat, vader,blob,tweetdir,tweet_vol]\n",
        "\n",
        "feature = ['multifeat', 'vader','blob','tweet_dir','tweet_volume']\n",
        "\n",
        "scores = []\n",
        "f1=[]\n",
        "mat = np.zeros([2,2])\n",
        "for i in range(len(features)):\n",
        "  df_label = pd.DataFrame(diff)\n",
        "  if i == 0:\n",
        "    X_train, X_test, y_train, y_test = train_test_split(multifeat, df_label, test_size=0.20, random_state=42)\n",
        "  else:\n",
        "    df_feature = pd.DataFrame(features[i])\n",
        "\n",
        "    X_train, X_test, y_train, y_test = train_test_split(df_feature, df_label, test_size=0.20, random_state=42)\n",
        "    #print(y_train)\n",
        "  \n",
        "  logisticRegr = LogisticRegression()\n",
        "  logisticRegr.fit(X_train, y_train)\n",
        "  predictions = logisticRegr.predict(X_test)\n",
        "  score = logisticRegr.score(X_test, y_test)\n",
        "  scores.append(score)\n",
        "  #print(\"{} Score : {}\".format(feature[i],score))\n",
        "  cm = metrics.confusion_matrix(y_test, predictions)\n",
        "  f1_score = metrics.f1_score(y_test,predictions)\n",
        "  f1.append(f1_score)\n",
        "  mat += cm\n",
        "  \n",
        "  #print(cm)\n",
        "  idx = np.mean(scores)\n",
        "  print(\"{} Score : {}\".format(feature[i],round(idx, 3)))\n",
        "  print(\"{} F1 Score : {}\".format(feature[i],round(np.mean(f1), 3)))\n",
        "  print(mat)"
      ],
      "execution_count": 10,
      "outputs": [
        {
          "output_type": "stream",
          "text": [
            "multifeat Score : 0.539\n",
            "multifeat F1 Score : 0.699\n",
            "[[  1. 214.]\n",
            " [  0. 249.]]\n",
            "vader Score : 0.539\n",
            "vader F1 Score : 0.699\n",
            "[[  2. 428.]\n",
            " [  0. 498.]]\n",
            "blob Score : 0.538\n",
            "blob F1 Score : 0.699\n",
            "[[  2. 643.]\n",
            " [  0. 747.]]\n",
            "tweet_dir Score : 0.537\n",
            "tweet_dir F1 Score : 0.698\n",
            "[[  2. 858.]\n",
            " [  2. 994.]]\n",
            "tweet_volume Score : 0.537\n",
            "tweet_volume F1 Score : 0.698\n",
            "[[   2. 1073.]\n",
            " [   2. 1243.]]\n"
          ],
          "name": "stdout"
        },
        {
          "output_type": "stream",
          "text": [
            "/usr/local/lib/python3.7/dist-packages/sklearn/utils/validation.py:760: DataConversionWarning: A column-vector y was passed when a 1d array was expected. Please change the shape of y to (n_samples, ), for example using ravel().\n",
            "  y = column_or_1d(y, warn=True)\n",
            "/usr/local/lib/python3.7/dist-packages/sklearn/utils/validation.py:760: DataConversionWarning: A column-vector y was passed when a 1d array was expected. Please change the shape of y to (n_samples, ), for example using ravel().\n",
            "  y = column_or_1d(y, warn=True)\n",
            "/usr/local/lib/python3.7/dist-packages/sklearn/utils/validation.py:760: DataConversionWarning: A column-vector y was passed when a 1d array was expected. Please change the shape of y to (n_samples, ), for example using ravel().\n",
            "  y = column_or_1d(y, warn=True)\n",
            "/usr/local/lib/python3.7/dist-packages/sklearn/utils/validation.py:760: DataConversionWarning: A column-vector y was passed when a 1d array was expected. Please change the shape of y to (n_samples, ), for example using ravel().\n",
            "  y = column_or_1d(y, warn=True)\n",
            "/usr/local/lib/python3.7/dist-packages/sklearn/utils/validation.py:760: DataConversionWarning: A column-vector y was passed when a 1d array was expected. Please change the shape of y to (n_samples, ), for example using ravel().\n",
            "  y = column_or_1d(y, warn=True)\n"
          ],
          "name": "stderr"
        }
      ]
    },
    {
      "cell_type": "code",
      "metadata": {
        "id": "rv67I3l9NjPq",
        "colab": {
          "base_uri": "https://localhost:8080/",
          "height": 217
        },
        "outputId": "b065b74b-7628-4f99-9b1c-d5ace9f8fb8b"
      },
      "source": [
        "data.head(2)"
      ],
      "execution_count": null,
      "outputs": [
        {
          "output_type": "execute_result",
          "data": {
            "text/html": [
              "<div>\n",
              "<style scoped>\n",
              "    .dataframe tbody tr th:only-of-type {\n",
              "        vertical-align: middle;\n",
              "    }\n",
              "\n",
              "    .dataframe tbody tr th {\n",
              "        vertical-align: top;\n",
              "    }\n",
              "\n",
              "    .dataframe thead th {\n",
              "        text-align: right;\n",
              "    }\n",
              "</style>\n",
              "<table border=\"1\" class=\"dataframe\">\n",
              "  <thead>\n",
              "    <tr style=\"text-align: right;\">\n",
              "      <th></th>\n",
              "      <th>Unnamed: 0</th>\n",
              "      <th>time</th>\n",
              "      <th>closed_price_by_hour</th>\n",
              "      <th>price_diff</th>\n",
              "      <th>movement</th>\n",
              "      <th>Daily_Weight_mean_by_hour</th>\n",
              "      <th>Daily_Weight_count_by_hour</th>\n",
              "      <th>blob_sent_mean_by_hour</th>\n",
              "      <th>subjectivity_mean_by_hour</th>\n",
              "      <th>vader_sent_mean_by_hour</th>\n",
              "      <th>tweet_diff</th>\n",
              "      <th>blob_sent_mean_by_hour_diff</th>\n",
              "      <th>vader_sent_mean_by_hour_diff</th>\n",
              "      <th>tweet_movement</th>\n",
              "      <th>blob_sent_movement</th>\n",
              "      <th>vader_sent_movement</th>\n",
              "    </tr>\n",
              "  </thead>\n",
              "  <tbody>\n",
              "    <tr>\n",
              "      <th>0</th>\n",
              "      <td>0</td>\n",
              "      <td>2016-02-19 08:00:00</td>\n",
              "      <td>418.409535</td>\n",
              "      <td>1.745839</td>\n",
              "      <td>1</td>\n",
              "      <td>0.0</td>\n",
              "      <td>1</td>\n",
              "      <td>0.000000</td>\n",
              "      <td>0.15</td>\n",
              "      <td>-0.4019</td>\n",
              "      <td>0.0</td>\n",
              "      <td>-3.931830</td>\n",
              "      <td>-0.442529</td>\n",
              "      <td>1</td>\n",
              "      <td>0</td>\n",
              "      <td>0</td>\n",
              "    </tr>\n",
              "    <tr>\n",
              "      <th>1</th>\n",
              "      <td>1</td>\n",
              "      <td>2016-05-15 21:00:00</td>\n",
              "      <td>456.989825</td>\n",
              "      <td>-0.042136</td>\n",
              "      <td>0</td>\n",
              "      <td>1.0</td>\n",
              "      <td>1</td>\n",
              "      <td>0.136364</td>\n",
              "      <td>0.50</td>\n",
              "      <td>0.0000</td>\n",
              "      <td>0.0</td>\n",
              "      <td>0.136364</td>\n",
              "      <td>0.401900</td>\n",
              "      <td>1</td>\n",
              "      <td>1</td>\n",
              "      <td>1</td>\n",
              "    </tr>\n",
              "  </tbody>\n",
              "</table>\n",
              "</div>"
            ],
            "text/plain": [
              "   Unnamed: 0                 time  ...  blob_sent_movement  vader_sent_movement\n",
              "0           0  2016-02-19 08:00:00  ...                   0                    0\n",
              "1           1  2016-05-15 21:00:00  ...                   1                    1\n",
              "\n",
              "[2 rows x 16 columns]"
            ]
          },
          "metadata": {
            "tags": []
          },
          "execution_count": 24
        }
      ]
    },
    {
      "cell_type": "markdown",
      "metadata": {
        "id": "3XKTb2smfsja"
      },
      "source": [
        "**KNN approach**"
      ]
    },
    {
      "cell_type": "code",
      "metadata": {
        "id": "kkYtn36xNjPq",
        "colab": {
          "base_uri": "https://localhost:8080/"
        },
        "outputId": "2c1c5ffc-dbdd-4b19-d344-6a60d40f2801"
      },
      "source": [
        "from sklearn import neighbors\n",
        "scores = []\n",
        "k_neighbours = []\n",
        "feat = data.filter(['closed_price_by_hour','vader_sent_mean_by_hour']).values\n",
        "for i in range(0,len(features)):\n",
        "    df_feature = pd.DataFrame(features[i])\n",
        "    df_label = pd.DataFrame(diff)\n",
        "    for j in range(3,6):\n",
        "        for weights in [\"distance\"]:\n",
        "            print(weights,j)\n",
        "            print(\"Working on {}\".format(feature[i]))\n",
        "            if i == 0:\n",
        "              x_train, x_test, y_train, y_test = train_test_split(multifeat, df_label, test_size=0.20, random_state=0)\n",
        "            #sbar = features[i].reshape(-1,1)\n",
        "            else:    \n",
        "              x_train, x_test, y_train, y_test = train_test_split(df_feature, df_label, test_size=0.20, random_state=0)\n",
        "            knn = neighbors.KNeighborsClassifier(j, weights=weights)\n",
        "            knn.fit(x_train, y_train)\n",
        "            predictions = knn.predict(x_test)\n",
        "            score = knn.score(x_test,y_test)\n",
        "            print(\"The score is : {}\".format(round(score, 3)))\n",
        "            cm = metrics.confusion_matrix(y_test,predictions)\n",
        "            print(cm)\n",
        "            f1 =  metrics.f1_score(y_test,predictions)\n",
        "            print(\"The F1 score is : {} \\n\".format(round(f1, 3)))"
      ],
      "execution_count": 11,
      "outputs": [
        {
          "output_type": "stream",
          "text": [
            "distance 3\n",
            "Working on multifeat\n",
            "The score is : 0.496\n",
            "[[147  69]\n",
            " [165  83]]\n",
            "The F1 score is : 0.415 \n",
            "\n",
            "distance 4\n",
            "Working on multifeat\n",
            "The score is : 0.491\n",
            "[[148  68]\n",
            " [168  80]]\n",
            "The F1 score is : 0.404 \n",
            "\n",
            "distance 5\n",
            "Working on multifeat\n",
            "The score is : 0.502\n",
            "[[146  70]\n",
            " [161  87]]\n",
            "The F1 score is : 0.43 \n",
            "\n",
            "distance 3\n",
            "Working on vader\n",
            "The score is : 0.481\n",
            "[[175  41]\n",
            " [200  48]]\n",
            "The F1 score is : 0.285 \n",
            "\n",
            "distance 4\n",
            "Working on vader\n",
            "The score is : 0.485\n",
            "[[175  41]\n",
            " [198  50]]\n",
            "The F1 score is : 0.295 \n",
            "\n",
            "distance 5\n",
            "Working on vader\n",
            "The score is : 0.487\n",
            "[[175  41]\n",
            " [197  51]]\n",
            "The F1 score is : 0.3 \n",
            "\n",
            "distance 3\n",
            "Working on blob\n",
            "The score is : 0.537\n",
            "[[ 32 184]\n",
            " [ 31 217]]\n",
            "The F1 score is : 0.669 \n",
            "\n",
            "distance 4\n",
            "Working on blob\n",
            "The score is : 0.489\n",
            "[[161  55]\n",
            " [182  66]]\n",
            "The F1 score is : 0.358 \n",
            "\n",
            "distance 5\n",
            "Working on blob\n"
          ],
          "name": "stdout"
        },
        {
          "output_type": "stream",
          "text": [
            "/usr/local/lib/python3.7/dist-packages/ipykernel_launcher.py:18: DataConversionWarning: A column-vector y was passed when a 1d array was expected. Please change the shape of y to (n_samples, ), for example using ravel().\n",
            "/usr/local/lib/python3.7/dist-packages/ipykernel_launcher.py:18: DataConversionWarning: A column-vector y was passed when a 1d array was expected. Please change the shape of y to (n_samples, ), for example using ravel().\n",
            "/usr/local/lib/python3.7/dist-packages/ipykernel_launcher.py:18: DataConversionWarning: A column-vector y was passed when a 1d array was expected. Please change the shape of y to (n_samples, ), for example using ravel().\n",
            "/usr/local/lib/python3.7/dist-packages/ipykernel_launcher.py:18: DataConversionWarning: A column-vector y was passed when a 1d array was expected. Please change the shape of y to (n_samples, ), for example using ravel().\n",
            "/usr/local/lib/python3.7/dist-packages/ipykernel_launcher.py:18: DataConversionWarning: A column-vector y was passed when a 1d array was expected. Please change the shape of y to (n_samples, ), for example using ravel().\n",
            "/usr/local/lib/python3.7/dist-packages/ipykernel_launcher.py:18: DataConversionWarning: A column-vector y was passed when a 1d array was expected. Please change the shape of y to (n_samples, ), for example using ravel().\n",
            "/usr/local/lib/python3.7/dist-packages/ipykernel_launcher.py:18: DataConversionWarning: A column-vector y was passed when a 1d array was expected. Please change the shape of y to (n_samples, ), for example using ravel().\n",
            "/usr/local/lib/python3.7/dist-packages/ipykernel_launcher.py:18: DataConversionWarning: A column-vector y was passed when a 1d array was expected. Please change the shape of y to (n_samples, ), for example using ravel().\n",
            "/usr/local/lib/python3.7/dist-packages/ipykernel_launcher.py:18: DataConversionWarning: A column-vector y was passed when a 1d array was expected. Please change the shape of y to (n_samples, ), for example using ravel().\n"
          ],
          "name": "stderr"
        },
        {
          "output_type": "stream",
          "text": [
            "The score is : 0.476\n",
            "[[151  65]\n",
            " [178  70]]\n",
            "The F1 score is : 0.366 \n",
            "\n",
            "distance 3\n",
            "Working on tweet_dir\n",
            "The score is : 0.502\n",
            "[[ 24 192]\n",
            " [ 39 209]]\n",
            "The F1 score is : 0.644 \n",
            "\n",
            "distance 4\n",
            "Working on tweet_dir\n",
            "The score is : 0.504\n",
            "[[ 25 191]\n",
            " [ 39 209]]\n",
            "The F1 score is : 0.645 \n",
            "\n",
            "distance 5\n",
            "Working on tweet_dir\n",
            "The score is : 0.5\n",
            "[[ 24 192]\n",
            " [ 40 208]]\n",
            "The F1 score is : 0.642 \n",
            "\n",
            "distance 3\n",
            "Working on tweet_volume\n",
            "The score is : 0.504\n",
            "[[  4 212]\n",
            " [ 18 230]]\n",
            "The F1 score is : 0.667 \n",
            "\n",
            "distance 4\n",
            "Working on tweet_volume\n",
            "The score is : 0.504\n",
            "[[  7 209]\n",
            " [ 21 227]]\n",
            "The F1 score is : 0.664 \n",
            "\n",
            "distance 5\n",
            "Working on tweet_volume\n",
            "The score is : 0.511\n",
            "[[  4 212]\n",
            " [ 15 233]]\n",
            "The F1 score is : 0.672 \n",
            "\n"
          ],
          "name": "stdout"
        },
        {
          "output_type": "stream",
          "text": [
            "/usr/local/lib/python3.7/dist-packages/ipykernel_launcher.py:18: DataConversionWarning: A column-vector y was passed when a 1d array was expected. Please change the shape of y to (n_samples, ), for example using ravel().\n",
            "/usr/local/lib/python3.7/dist-packages/ipykernel_launcher.py:18: DataConversionWarning: A column-vector y was passed when a 1d array was expected. Please change the shape of y to (n_samples, ), for example using ravel().\n",
            "/usr/local/lib/python3.7/dist-packages/ipykernel_launcher.py:18: DataConversionWarning: A column-vector y was passed when a 1d array was expected. Please change the shape of y to (n_samples, ), for example using ravel().\n",
            "/usr/local/lib/python3.7/dist-packages/ipykernel_launcher.py:18: DataConversionWarning: A column-vector y was passed when a 1d array was expected. Please change the shape of y to (n_samples, ), for example using ravel().\n",
            "/usr/local/lib/python3.7/dist-packages/ipykernel_launcher.py:18: DataConversionWarning: A column-vector y was passed when a 1d array was expected. Please change the shape of y to (n_samples, ), for example using ravel().\n",
            "/usr/local/lib/python3.7/dist-packages/ipykernel_launcher.py:18: DataConversionWarning: A column-vector y was passed when a 1d array was expected. Please change the shape of y to (n_samples, ), for example using ravel().\n"
          ],
          "name": "stderr"
        }
      ]
    },
    {
      "cell_type": "markdown",
      "metadata": {
        "id": "K1KX_3MyfxuK"
      },
      "source": [
        "**Random Forest Approach**"
      ]
    },
    {
      "cell_type": "code",
      "metadata": {
        "id": "oICXslLwNjPr",
        "colab": {
          "base_uri": "https://localhost:8080/"
        },
        "outputId": "180c1d35-1357-4fdc-b9ef-5c24c77d6acb"
      },
      "source": [
        "#random forest\n",
        "from sklearn.ensemble import RandomForestClassifier\n",
        "from sklearn.metrics import classification_report, confusion_matrix, accuracy_score\n",
        "\n",
        "features = [multifeat, vader,blob,tweetdir,tweet_vol,v_move,b_move]\n",
        "\n",
        "feature = ['multifeat', 'vader','blob','tweetdir','tweet_vol','v_move','b_move']\n",
        "for i in range(len(features)):\n",
        "    scores = []\n",
        "    mat = np.zeros([2,2])\n",
        "    df_feature = pd.DataFrame(features[i])\n",
        "    df_label = pd.DataFrame(diff)\n",
        "    for j in range(1,10):\n",
        "        print(\"Working on {} {} estimators\".format(feature[i],j))\n",
        "        #sbar = features[i].reshape(-1,1)\n",
        "\n",
        "        if i == 0:\n",
        "          #x_train, x_test, y_train, y_test = train_test_split(sbar, data[\"movement\"], test_size=0.20, random_state=0)\n",
        "          x_train, x_test, y_train, y_test = train_test_split(multifeat, df_label, test_size=0.20, random_state=0)\n",
        "        else:\n",
        "          x_train, x_test, y_train, y_test = train_test_split(df_feature, df_label, test_size=0.20, random_state=0)\n",
        "        regressor = RandomForestClassifier(n_estimators=j*10, random_state=0,max_depth=i+2)\n",
        "        regressor.fit(x_train, y_train)\n",
        "        y_pred = regressor.predict(x_test)\n",
        "        \n",
        "        #predictions = knn.predict(x_test)\n",
        "        score = regressor.score(x_test,y_test)\n",
        "        #scores.append(score)\n",
        "        print(\"Confusion Matrix is: \\n{}\".format(confusion_matrix(y_test,y_pred)))\n",
        "        \n",
        "        #print(classification_report(y_test,y_pred))\n",
        "        print(\"Accuracy Score is: {}\\n\".format(round(accuracy_score(y_test, y_pred), 3)))\n",
        "        f1 =  metrics.f1_score(y_test,y_pred)\n",
        "        print(\"The F1 score is : {} \\n\".format(round(f1, 3)))\n",
        "        #print(scores)\n",
        "        #print(mat)\n",
        "    #print(\"The score is : {}\".format(score))\n",
        "    #cm = metrics.confusion_matrix(y_test,predictions)\n",
        "    #print(cm)"
      ],
      "execution_count": 12,
      "outputs": [
        {
          "output_type": "stream",
          "text": [
            "Working on multifeat 1 estimators\n",
            "Confusion Matrix is: \n",
            "[[  2 214]\n",
            " [  4 244]]\n",
            "Accuracy Score is: 0.53\n",
            "\n",
            "The F1 score is : 0.691 \n",
            "\n",
            "Working on multifeat 2 estimators\n",
            "Confusion Matrix is: \n",
            "[[  6 210]\n",
            " [  6 242]]\n",
            "Accuracy Score is: 0.534\n",
            "\n",
            "The F1 score is : 0.691 \n",
            "\n",
            "Working on multifeat 3 estimators\n",
            "Confusion Matrix is: \n",
            "[[  4 212]\n",
            " [  5 243]]\n",
            "Accuracy Score is: 0.532\n",
            "\n",
            "The F1 score is : 0.691 \n",
            "\n",
            "Working on multifeat 4 estimators\n"
          ],
          "name": "stdout"
        },
        {
          "output_type": "stream",
          "text": [
            "/usr/local/lib/python3.7/dist-packages/ipykernel_launcher.py:23: DataConversionWarning: A column-vector y was passed when a 1d array was expected. Please change the shape of y to (n_samples,), for example using ravel().\n",
            "/usr/local/lib/python3.7/dist-packages/ipykernel_launcher.py:23: DataConversionWarning: A column-vector y was passed when a 1d array was expected. Please change the shape of y to (n_samples,), for example using ravel().\n",
            "/usr/local/lib/python3.7/dist-packages/ipykernel_launcher.py:23: DataConversionWarning: A column-vector y was passed when a 1d array was expected. Please change the shape of y to (n_samples,), for example using ravel().\n",
            "/usr/local/lib/python3.7/dist-packages/ipykernel_launcher.py:23: DataConversionWarning: A column-vector y was passed when a 1d array was expected. Please change the shape of y to (n_samples,), for example using ravel().\n"
          ],
          "name": "stderr"
        },
        {
          "output_type": "stream",
          "text": [
            "Confusion Matrix is: \n",
            "[[  4 212]\n",
            " [  7 241]]\n",
            "Accuracy Score is: 0.528\n",
            "\n",
            "The F1 score is : 0.688 \n",
            "\n",
            "Working on multifeat 5 estimators\n",
            "Confusion Matrix is: \n",
            "[[  3 213]\n",
            " [  7 241]]\n",
            "Accuracy Score is: 0.526\n",
            "\n",
            "The F1 score is : 0.687 \n",
            "\n",
            "Working on multifeat 6 estimators\n"
          ],
          "name": "stdout"
        },
        {
          "output_type": "stream",
          "text": [
            "/usr/local/lib/python3.7/dist-packages/ipykernel_launcher.py:23: DataConversionWarning: A column-vector y was passed when a 1d array was expected. Please change the shape of y to (n_samples,), for example using ravel().\n",
            "/usr/local/lib/python3.7/dist-packages/ipykernel_launcher.py:23: DataConversionWarning: A column-vector y was passed when a 1d array was expected. Please change the shape of y to (n_samples,), for example using ravel().\n"
          ],
          "name": "stderr"
        },
        {
          "output_type": "stream",
          "text": [
            "Confusion Matrix is: \n",
            "[[  3 213]\n",
            " [  7 241]]\n",
            "Accuracy Score is: 0.526\n",
            "\n",
            "The F1 score is : 0.687 \n",
            "\n",
            "Working on multifeat 7 estimators\n",
            "Confusion Matrix is: \n",
            "[[  3 213]\n",
            " [  7 241]]\n",
            "Accuracy Score is: 0.526\n",
            "\n",
            "The F1 score is : 0.687 \n",
            "\n",
            "Working on multifeat 8 estimators\n"
          ],
          "name": "stdout"
        },
        {
          "output_type": "stream",
          "text": [
            "/usr/local/lib/python3.7/dist-packages/ipykernel_launcher.py:23: DataConversionWarning: A column-vector y was passed when a 1d array was expected. Please change the shape of y to (n_samples,), for example using ravel().\n",
            "/usr/local/lib/python3.7/dist-packages/ipykernel_launcher.py:23: DataConversionWarning: A column-vector y was passed when a 1d array was expected. Please change the shape of y to (n_samples,), for example using ravel().\n"
          ],
          "name": "stderr"
        },
        {
          "output_type": "stream",
          "text": [
            "Confusion Matrix is: \n",
            "[[  3 213]\n",
            " [  7 241]]\n",
            "Accuracy Score is: 0.526\n",
            "\n",
            "The F1 score is : 0.687 \n",
            "\n",
            "Working on multifeat 9 estimators\n",
            "Confusion Matrix is: \n",
            "[[  3 213]\n",
            " [  7 241]]\n"
          ],
          "name": "stdout"
        },
        {
          "output_type": "stream",
          "text": [
            "/usr/local/lib/python3.7/dist-packages/ipykernel_launcher.py:23: DataConversionWarning: A column-vector y was passed when a 1d array was expected. Please change the shape of y to (n_samples,), for example using ravel().\n",
            "/usr/local/lib/python3.7/dist-packages/ipykernel_launcher.py:23: DataConversionWarning: A column-vector y was passed when a 1d array was expected. Please change the shape of y to (n_samples,), for example using ravel().\n"
          ],
          "name": "stderr"
        },
        {
          "output_type": "stream",
          "text": [
            "Accuracy Score is: 0.526\n",
            "\n",
            "The F1 score is : 0.687 \n",
            "\n",
            "Working on vader 1 estimators\n",
            "Confusion Matrix is: \n",
            "[[  2 214]\n",
            " [  2 246]]\n",
            "Accuracy Score is: 0.534\n",
            "\n",
            "The F1 score is : 0.695 \n",
            "\n",
            "Working on vader 2 estimators\n",
            "Confusion Matrix is: \n",
            "[[  5 211]\n",
            " [  6 242]]\n",
            "Accuracy Score is: 0.532\n",
            "\n",
            "The F1 score is : 0.69 \n",
            "\n",
            "Working on vader 3 estimators\n",
            "Confusion Matrix is: \n",
            "[[  0 216]\n",
            " [  4 244]]\n",
            "Accuracy Score is: 0.526\n",
            "\n",
            "The F1 score is : 0.689 \n",
            "\n",
            "Working on vader 4 estimators\n"
          ],
          "name": "stdout"
        },
        {
          "output_type": "stream",
          "text": [
            "/usr/local/lib/python3.7/dist-packages/ipykernel_launcher.py:23: DataConversionWarning: A column-vector y was passed when a 1d array was expected. Please change the shape of y to (n_samples,), for example using ravel().\n",
            "/usr/local/lib/python3.7/dist-packages/ipykernel_launcher.py:23: DataConversionWarning: A column-vector y was passed when a 1d array was expected. Please change the shape of y to (n_samples,), for example using ravel().\n",
            "/usr/local/lib/python3.7/dist-packages/ipykernel_launcher.py:23: DataConversionWarning: A column-vector y was passed when a 1d array was expected. Please change the shape of y to (n_samples,), for example using ravel().\n"
          ],
          "name": "stderr"
        },
        {
          "output_type": "stream",
          "text": [
            "Confusion Matrix is: \n",
            "[[  2 214]\n",
            " [  4 244]]\n",
            "Accuracy Score is: 0.53\n",
            "\n",
            "The F1 score is : 0.691 \n",
            "\n",
            "Working on vader 5 estimators\n",
            "Confusion Matrix is: \n",
            "[[  1 215]\n",
            " [  3 245]]\n",
            "Accuracy Score is: 0.53\n",
            "\n",
            "The F1 score is : 0.692 \n",
            "\n",
            "Working on vader 6 estimators\n"
          ],
          "name": "stdout"
        },
        {
          "output_type": "stream",
          "text": [
            "/usr/local/lib/python3.7/dist-packages/ipykernel_launcher.py:23: DataConversionWarning: A column-vector y was passed when a 1d array was expected. Please change the shape of y to (n_samples,), for example using ravel().\n",
            "/usr/local/lib/python3.7/dist-packages/ipykernel_launcher.py:23: DataConversionWarning: A column-vector y was passed when a 1d array was expected. Please change the shape of y to (n_samples,), for example using ravel().\n"
          ],
          "name": "stderr"
        },
        {
          "output_type": "stream",
          "text": [
            "Confusion Matrix is: \n",
            "[[  2 214]\n",
            " [  4 244]]\n",
            "Accuracy Score is: 0.53\n",
            "\n",
            "The F1 score is : 0.691 \n",
            "\n",
            "Working on vader 7 estimators\n",
            "Confusion Matrix is: \n",
            "[[  2 214]\n",
            " [  3 245]]\n",
            "Accuracy Score is: 0.532\n",
            "\n",
            "The F1 score is : 0.693 \n",
            "\n",
            "Working on vader 8 estimators\n"
          ],
          "name": "stdout"
        },
        {
          "output_type": "stream",
          "text": [
            "/usr/local/lib/python3.7/dist-packages/ipykernel_launcher.py:23: DataConversionWarning: A column-vector y was passed when a 1d array was expected. Please change the shape of y to (n_samples,), for example using ravel().\n",
            "/usr/local/lib/python3.7/dist-packages/ipykernel_launcher.py:23: DataConversionWarning: A column-vector y was passed when a 1d array was expected. Please change the shape of y to (n_samples,), for example using ravel().\n"
          ],
          "name": "stderr"
        },
        {
          "output_type": "stream",
          "text": [
            "Confusion Matrix is: \n",
            "[[  2 214]\n",
            " [  3 245]]\n",
            "Accuracy Score is: 0.532\n",
            "\n",
            "The F1 score is : 0.693 \n",
            "\n",
            "Working on vader 9 estimators\n",
            "Confusion Matrix is: \n",
            "[[  2 214]\n",
            " [  3 245]]\n",
            "Accuracy Score is: 0.532\n",
            "\n",
            "The F1 score is : 0.693 \n",
            "\n",
            "Working on blob 1 estimators\n"
          ],
          "name": "stdout"
        },
        {
          "output_type": "stream",
          "text": [
            "/usr/local/lib/python3.7/dist-packages/ipykernel_launcher.py:23: DataConversionWarning: A column-vector y was passed when a 1d array was expected. Please change the shape of y to (n_samples,), for example using ravel().\n",
            "/usr/local/lib/python3.7/dist-packages/ipykernel_launcher.py:23: DataConversionWarning: A column-vector y was passed when a 1d array was expected. Please change the shape of y to (n_samples,), for example using ravel().\n"
          ],
          "name": "stderr"
        },
        {
          "output_type": "stream",
          "text": [
            "Confusion Matrix is: \n",
            "[[ 19 197]\n",
            " [ 14 234]]\n",
            "Accuracy Score is: 0.545\n",
            "\n",
            "The F1 score is : 0.689 \n",
            "\n",
            "Working on blob 2 estimators\n",
            "Confusion Matrix is: \n",
            "[[ 12 204]\n",
            " [ 12 236]]\n",
            "Accuracy Score is: 0.534\n",
            "\n",
            "The F1 score is : 0.686 \n",
            "\n",
            "Working on blob 3 estimators\n",
            "Confusion Matrix is: \n",
            "[[ 10 206]\n",
            " [ 12 236]]\n",
            "Accuracy Score is: 0.53\n",
            "\n",
            "The F1 score is : 0.684 \n",
            "\n",
            "Working on blob 4 estimators\n"
          ],
          "name": "stdout"
        },
        {
          "output_type": "stream",
          "text": [
            "/usr/local/lib/python3.7/dist-packages/ipykernel_launcher.py:23: DataConversionWarning: A column-vector y was passed when a 1d array was expected. Please change the shape of y to (n_samples,), for example using ravel().\n",
            "/usr/local/lib/python3.7/dist-packages/ipykernel_launcher.py:23: DataConversionWarning: A column-vector y was passed when a 1d array was expected. Please change the shape of y to (n_samples,), for example using ravel().\n",
            "/usr/local/lib/python3.7/dist-packages/ipykernel_launcher.py:23: DataConversionWarning: A column-vector y was passed when a 1d array was expected. Please change the shape of y to (n_samples,), for example using ravel().\n"
          ],
          "name": "stderr"
        },
        {
          "output_type": "stream",
          "text": [
            "Confusion Matrix is: \n",
            "[[  8 208]\n",
            " [ 11 237]]\n",
            "Accuracy Score is: 0.528\n",
            "\n",
            "The F1 score is : 0.684 \n",
            "\n",
            "Working on blob 5 estimators\n",
            "Confusion Matrix is: \n",
            "[[  6 210]\n",
            " [ 10 238]]\n",
            "Accuracy Score is: 0.526\n",
            "\n",
            "The F1 score is : 0.684 \n",
            "\n",
            "Working on blob 6 estimators\n"
          ],
          "name": "stdout"
        },
        {
          "output_type": "stream",
          "text": [
            "/usr/local/lib/python3.7/dist-packages/ipykernel_launcher.py:23: DataConversionWarning: A column-vector y was passed when a 1d array was expected. Please change the shape of y to (n_samples,), for example using ravel().\n",
            "/usr/local/lib/python3.7/dist-packages/ipykernel_launcher.py:23: DataConversionWarning: A column-vector y was passed when a 1d array was expected. Please change the shape of y to (n_samples,), for example using ravel().\n"
          ],
          "name": "stderr"
        },
        {
          "output_type": "stream",
          "text": [
            "Confusion Matrix is: \n",
            "[[  8 208]\n",
            " [ 10 238]]\n",
            "Accuracy Score is: 0.53\n",
            "\n",
            "The F1 score is : 0.686 \n",
            "\n",
            "Working on blob 7 estimators\n",
            "Confusion Matrix is: \n",
            "[[  7 209]\n",
            " [  9 239]]\n",
            "Accuracy Score is: 0.53\n",
            "\n",
            "The F1 score is : 0.687 \n",
            "\n",
            "Working on blob 8 estimators\n"
          ],
          "name": "stdout"
        },
        {
          "output_type": "stream",
          "text": [
            "/usr/local/lib/python3.7/dist-packages/ipykernel_launcher.py:23: DataConversionWarning: A column-vector y was passed when a 1d array was expected. Please change the shape of y to (n_samples,), for example using ravel().\n",
            "/usr/local/lib/python3.7/dist-packages/ipykernel_launcher.py:23: DataConversionWarning: A column-vector y was passed when a 1d array was expected. Please change the shape of y to (n_samples,), for example using ravel().\n"
          ],
          "name": "stderr"
        },
        {
          "output_type": "stream",
          "text": [
            "Confusion Matrix is: \n",
            "[[  9 207]\n",
            " [ 11 237]]\n",
            "Accuracy Score is: 0.53\n",
            "\n",
            "The F1 score is : 0.685 \n",
            "\n",
            "Working on blob 9 estimators\n"
          ],
          "name": "stdout"
        },
        {
          "output_type": "stream",
          "text": [
            "/usr/local/lib/python3.7/dist-packages/ipykernel_launcher.py:23: DataConversionWarning: A column-vector y was passed when a 1d array was expected. Please change the shape of y to (n_samples,), for example using ravel().\n"
          ],
          "name": "stderr"
        },
        {
          "output_type": "stream",
          "text": [
            "Confusion Matrix is: \n",
            "[[  9 207]\n",
            " [ 10 238]]\n",
            "Accuracy Score is: 0.532\n",
            "\n",
            "The F1 score is : 0.687 \n",
            "\n",
            "Working on tweetdir 1 estimators\n",
            "Confusion Matrix is: \n",
            "[[  4 212]\n",
            " [  6 242]]\n",
            "Accuracy Score is: 0.53\n",
            "\n",
            "The F1 score is : 0.689 \n",
            "\n",
            "Working on tweetdir 2 estimators\n",
            "Confusion Matrix is: \n",
            "[[  4 212]\n",
            " [  6 242]]\n",
            "Accuracy Score is: 0.53\n",
            "\n",
            "The F1 score is : 0.689 \n",
            "\n",
            "Working on tweetdir 3 estimators\n",
            "Confusion Matrix is: \n",
            "[[  4 212]\n",
            " [  7 241]]\n",
            "Accuracy Score is: 0.528\n",
            "\n",
            "The F1 score is : 0.688 \n",
            "\n",
            "Working on tweetdir 4 estimators\n"
          ],
          "name": "stdout"
        },
        {
          "output_type": "stream",
          "text": [
            "/usr/local/lib/python3.7/dist-packages/ipykernel_launcher.py:23: DataConversionWarning: A column-vector y was passed when a 1d array was expected. Please change the shape of y to (n_samples,), for example using ravel().\n",
            "/usr/local/lib/python3.7/dist-packages/ipykernel_launcher.py:23: DataConversionWarning: A column-vector y was passed when a 1d array was expected. Please change the shape of y to (n_samples,), for example using ravel().\n",
            "/usr/local/lib/python3.7/dist-packages/ipykernel_launcher.py:23: DataConversionWarning: A column-vector y was passed when a 1d array was expected. Please change the shape of y to (n_samples,), for example using ravel().\n",
            "/usr/local/lib/python3.7/dist-packages/ipykernel_launcher.py:23: DataConversionWarning: A column-vector y was passed when a 1d array was expected. Please change the shape of y to (n_samples,), for example using ravel().\n"
          ],
          "name": "stderr"
        },
        {
          "output_type": "stream",
          "text": [
            "Confusion Matrix is: \n",
            "[[  5 211]\n",
            " [  7 241]]\n",
            "Accuracy Score is: 0.53\n",
            "\n",
            "The F1 score is : 0.689 \n",
            "\n",
            "Working on tweetdir 5 estimators\n",
            "Confusion Matrix is: \n",
            "[[  4 212]\n",
            " [  5 243]]\n",
            "Accuracy Score is: 0.532\n",
            "\n",
            "The F1 score is : 0.691 \n",
            "\n",
            "Working on tweetdir 6 estimators\n"
          ],
          "name": "stdout"
        },
        {
          "output_type": "stream",
          "text": [
            "/usr/local/lib/python3.7/dist-packages/ipykernel_launcher.py:23: DataConversionWarning: A column-vector y was passed when a 1d array was expected. Please change the shape of y to (n_samples,), for example using ravel().\n",
            "/usr/local/lib/python3.7/dist-packages/ipykernel_launcher.py:23: DataConversionWarning: A column-vector y was passed when a 1d array was expected. Please change the shape of y to (n_samples,), for example using ravel().\n"
          ],
          "name": "stderr"
        },
        {
          "output_type": "stream",
          "text": [
            "Confusion Matrix is: \n",
            "[[  4 212]\n",
            " [  5 243]]\n",
            "Accuracy Score is: 0.532\n",
            "\n",
            "The F1 score is : 0.691 \n",
            "\n",
            "Working on tweetdir 7 estimators\n",
            "Confusion Matrix is: \n",
            "[[  4 212]\n",
            " [  5 243]]\n",
            "Accuracy Score is: 0.532\n",
            "\n",
            "The F1 score is : 0.691 \n",
            "\n",
            "Working on tweetdir 8 estimators\n"
          ],
          "name": "stdout"
        },
        {
          "output_type": "stream",
          "text": [
            "/usr/local/lib/python3.7/dist-packages/ipykernel_launcher.py:23: DataConversionWarning: A column-vector y was passed when a 1d array was expected. Please change the shape of y to (n_samples,), for example using ravel().\n",
            "/usr/local/lib/python3.7/dist-packages/ipykernel_launcher.py:23: DataConversionWarning: A column-vector y was passed when a 1d array was expected. Please change the shape of y to (n_samples,), for example using ravel().\n"
          ],
          "name": "stderr"
        },
        {
          "output_type": "stream",
          "text": [
            "Confusion Matrix is: \n",
            "[[  5 211]\n",
            " [  5 243]]\n",
            "Accuracy Score is: 0.534\n",
            "\n",
            "The F1 score is : 0.692 \n",
            "\n",
            "Working on tweetdir 9 estimators\n"
          ],
          "name": "stdout"
        },
        {
          "output_type": "stream",
          "text": [
            "/usr/local/lib/python3.7/dist-packages/ipykernel_launcher.py:23: DataConversionWarning: A column-vector y was passed when a 1d array was expected. Please change the shape of y to (n_samples,), for example using ravel().\n"
          ],
          "name": "stderr"
        },
        {
          "output_type": "stream",
          "text": [
            "Confusion Matrix is: \n",
            "[[  5 211]\n",
            " [  5 243]]\n",
            "Accuracy Score is: 0.534\n",
            "\n",
            "The F1 score is : 0.692 \n",
            "\n",
            "Working on tweet_vol 1 estimators\n",
            "Confusion Matrix is: \n",
            "[[  2 214]\n",
            " [  6 242]]\n",
            "Accuracy Score is: 0.526\n",
            "\n",
            "The F1 score is : 0.688 \n",
            "\n",
            "Working on tweet_vol 2 estimators\n",
            "Confusion Matrix is: \n",
            "[[  1 215]\n",
            " [  6 242]]\n",
            "Accuracy Score is: 0.524\n",
            "\n",
            "The F1 score is : 0.687 \n",
            "\n",
            "Working on tweet_vol 3 estimators\n",
            "Confusion Matrix is: \n",
            "[[  2 214]\n",
            " [  6 242]]\n",
            "Accuracy Score is: 0.526\n",
            "\n",
            "The F1 score is : 0.688 \n",
            "\n",
            "Working on tweet_vol 4 estimators\n"
          ],
          "name": "stdout"
        },
        {
          "output_type": "stream",
          "text": [
            "/usr/local/lib/python3.7/dist-packages/ipykernel_launcher.py:23: DataConversionWarning: A column-vector y was passed when a 1d array was expected. Please change the shape of y to (n_samples,), for example using ravel().\n",
            "/usr/local/lib/python3.7/dist-packages/ipykernel_launcher.py:23: DataConversionWarning: A column-vector y was passed when a 1d array was expected. Please change the shape of y to (n_samples,), for example using ravel().\n",
            "/usr/local/lib/python3.7/dist-packages/ipykernel_launcher.py:23: DataConversionWarning: A column-vector y was passed when a 1d array was expected. Please change the shape of y to (n_samples,), for example using ravel().\n",
            "/usr/local/lib/python3.7/dist-packages/ipykernel_launcher.py:23: DataConversionWarning: A column-vector y was passed when a 1d array was expected. Please change the shape of y to (n_samples,), for example using ravel().\n"
          ],
          "name": "stderr"
        },
        {
          "output_type": "stream",
          "text": [
            "Confusion Matrix is: \n",
            "[[  1 215]\n",
            " [  6 242]]\n",
            "Accuracy Score is: 0.524\n",
            "\n",
            "The F1 score is : 0.687 \n",
            "\n",
            "Working on tweet_vol 5 estimators\n",
            "Confusion Matrix is: \n",
            "[[  1 215]\n",
            " [  6 242]]\n",
            "Accuracy Score is: 0.524\n",
            "\n",
            "The F1 score is : 0.687 \n",
            "\n",
            "Working on tweet_vol 6 estimators\n"
          ],
          "name": "stdout"
        },
        {
          "output_type": "stream",
          "text": [
            "/usr/local/lib/python3.7/dist-packages/ipykernel_launcher.py:23: DataConversionWarning: A column-vector y was passed when a 1d array was expected. Please change the shape of y to (n_samples,), for example using ravel().\n",
            "/usr/local/lib/python3.7/dist-packages/ipykernel_launcher.py:23: DataConversionWarning: A column-vector y was passed when a 1d array was expected. Please change the shape of y to (n_samples,), for example using ravel().\n"
          ],
          "name": "stderr"
        },
        {
          "output_type": "stream",
          "text": [
            "Confusion Matrix is: \n",
            "[[  1 215]\n",
            " [  6 242]]\n",
            "Accuracy Score is: 0.524\n",
            "\n",
            "The F1 score is : 0.687 \n",
            "\n",
            "Working on tweet_vol 7 estimators\n",
            "Confusion Matrix is: \n",
            "[[  1 215]\n",
            " [  6 242]]\n",
            "Accuracy Score is: 0.524\n",
            "\n",
            "The F1 score is : 0.687 \n",
            "\n",
            "Working on tweet_vol 8 estimators\n"
          ],
          "name": "stdout"
        },
        {
          "output_type": "stream",
          "text": [
            "/usr/local/lib/python3.7/dist-packages/ipykernel_launcher.py:23: DataConversionWarning: A column-vector y was passed when a 1d array was expected. Please change the shape of y to (n_samples,), for example using ravel().\n",
            "/usr/local/lib/python3.7/dist-packages/ipykernel_launcher.py:23: DataConversionWarning: A column-vector y was passed when a 1d array was expected. Please change the shape of y to (n_samples,), for example using ravel().\n"
          ],
          "name": "stderr"
        },
        {
          "output_type": "stream",
          "text": [
            "Confusion Matrix is: \n",
            "[[  1 215]\n",
            " [  3 245]]\n",
            "Accuracy Score is: 0.53\n",
            "\n",
            "The F1 score is : 0.692 \n",
            "\n",
            "Working on tweet_vol 9 estimators\n",
            "Confusion Matrix is: \n",
            "[[  1 215]\n",
            " [  3 245]]\n",
            "Accuracy Score is: 0.53\n",
            "\n"
          ],
          "name": "stdout"
        },
        {
          "output_type": "stream",
          "text": [
            "/usr/local/lib/python3.7/dist-packages/ipykernel_launcher.py:23: DataConversionWarning: A column-vector y was passed when a 1d array was expected. Please change the shape of y to (n_samples,), for example using ravel().\n",
            "/usr/local/lib/python3.7/dist-packages/ipykernel_launcher.py:23: DataConversionWarning: A column-vector y was passed when a 1d array was expected. Please change the shape of y to (n_samples,), for example using ravel().\n"
          ],
          "name": "stderr"
        },
        {
          "output_type": "stream",
          "text": [
            "The F1 score is : 0.692 \n",
            "\n",
            "Working on v_move 1 estimators\n",
            "Confusion Matrix is: \n",
            "[[ 23 193]\n",
            " [ 21 227]]\n",
            "Accuracy Score is: 0.539\n",
            "\n",
            "The F1 score is : 0.68 \n",
            "\n",
            "Working on v_move 2 estimators\n",
            "Confusion Matrix is: \n",
            "[[ 17 199]\n",
            " [ 29 219]]\n",
            "Accuracy Score is: 0.509\n",
            "\n",
            "The F1 score is : 0.658 \n",
            "\n",
            "Working on v_move 3 estimators\n",
            "Confusion Matrix is: \n",
            "[[ 18 198]\n",
            " [ 28 220]]\n",
            "Accuracy Score is: 0.513\n",
            "\n",
            "The F1 score is : 0.661 \n",
            "\n",
            "Working on v_move 4 estimators\n"
          ],
          "name": "stdout"
        },
        {
          "output_type": "stream",
          "text": [
            "/usr/local/lib/python3.7/dist-packages/ipykernel_launcher.py:23: DataConversionWarning: A column-vector y was passed when a 1d array was expected. Please change the shape of y to (n_samples,), for example using ravel().\n",
            "/usr/local/lib/python3.7/dist-packages/ipykernel_launcher.py:23: DataConversionWarning: A column-vector y was passed when a 1d array was expected. Please change the shape of y to (n_samples,), for example using ravel().\n",
            "/usr/local/lib/python3.7/dist-packages/ipykernel_launcher.py:23: DataConversionWarning: A column-vector y was passed when a 1d array was expected. Please change the shape of y to (n_samples,), for example using ravel().\n"
          ],
          "name": "stderr"
        },
        {
          "output_type": "stream",
          "text": [
            "Confusion Matrix is: \n",
            "[[ 20 196]\n",
            " [ 25 223]]\n",
            "Accuracy Score is: 0.524\n",
            "\n",
            "The F1 score is : 0.669 \n",
            "\n",
            "Working on v_move 5 estimators\n",
            "Confusion Matrix is: \n",
            "[[ 19 197]\n",
            " [ 25 223]]\n",
            "Accuracy Score is: 0.522\n",
            "\n",
            "The F1 score is : 0.668 \n",
            "\n",
            "Working on v_move 6 estimators\n"
          ],
          "name": "stdout"
        },
        {
          "output_type": "stream",
          "text": [
            "/usr/local/lib/python3.7/dist-packages/ipykernel_launcher.py:23: DataConversionWarning: A column-vector y was passed when a 1d array was expected. Please change the shape of y to (n_samples,), for example using ravel().\n",
            "/usr/local/lib/python3.7/dist-packages/ipykernel_launcher.py:23: DataConversionWarning: A column-vector y was passed when a 1d array was expected. Please change the shape of y to (n_samples,), for example using ravel().\n"
          ],
          "name": "stderr"
        },
        {
          "output_type": "stream",
          "text": [
            "Confusion Matrix is: \n",
            "[[ 23 193]\n",
            " [ 26 222]]\n",
            "Accuracy Score is: 0.528\n",
            "\n",
            "The F1 score is : 0.67 \n",
            "\n",
            "Working on v_move 7 estimators\n",
            "Confusion Matrix is: \n",
            "[[ 19 197]\n",
            " [ 26 222]]\n",
            "Accuracy Score is: 0.519\n",
            "\n",
            "The F1 score is : 0.666 \n",
            "\n",
            "Working on v_move 8 estimators\n"
          ],
          "name": "stdout"
        },
        {
          "output_type": "stream",
          "text": [
            "/usr/local/lib/python3.7/dist-packages/ipykernel_launcher.py:23: DataConversionWarning: A column-vector y was passed when a 1d array was expected. Please change the shape of y to (n_samples,), for example using ravel().\n",
            "/usr/local/lib/python3.7/dist-packages/ipykernel_launcher.py:23: DataConversionWarning: A column-vector y was passed when a 1d array was expected. Please change the shape of y to (n_samples,), for example using ravel().\n"
          ],
          "name": "stderr"
        },
        {
          "output_type": "stream",
          "text": [
            "Confusion Matrix is: \n",
            "[[ 19 197]\n",
            " [ 24 224]]\n",
            "Accuracy Score is: 0.524\n",
            "\n",
            "The F1 score is : 0.67 \n",
            "\n",
            "Working on v_move 9 estimators\n"
          ],
          "name": "stdout"
        },
        {
          "output_type": "stream",
          "text": [
            "/usr/local/lib/python3.7/dist-packages/ipykernel_launcher.py:23: DataConversionWarning: A column-vector y was passed when a 1d array was expected. Please change the shape of y to (n_samples,), for example using ravel().\n"
          ],
          "name": "stderr"
        },
        {
          "output_type": "stream",
          "text": [
            "Confusion Matrix is: \n",
            "[[ 23 193]\n",
            " [ 26 222]]\n",
            "Accuracy Score is: 0.528\n",
            "\n",
            "The F1 score is : 0.67 \n",
            "\n",
            "Working on b_move 1 estimators\n",
            "Confusion Matrix is: \n",
            "[[ 27 189]\n",
            " [ 22 226]]\n",
            "Accuracy Score is: 0.545\n",
            "\n",
            "The F1 score is : 0.682 \n",
            "\n",
            "Working on b_move 2 estimators\n",
            "Confusion Matrix is: \n",
            "[[ 28 188]\n",
            " [ 22 226]]\n",
            "Accuracy Score is: 0.547\n",
            "\n",
            "The F1 score is : 0.683 \n",
            "\n",
            "Working on b_move 3 estimators\n",
            "Confusion Matrix is: \n",
            "[[ 27 189]\n",
            " [ 21 227]]\n"
          ],
          "name": "stdout"
        },
        {
          "output_type": "stream",
          "text": [
            "/usr/local/lib/python3.7/dist-packages/ipykernel_launcher.py:23: DataConversionWarning: A column-vector y was passed when a 1d array was expected. Please change the shape of y to (n_samples,), for example using ravel().\n",
            "/usr/local/lib/python3.7/dist-packages/ipykernel_launcher.py:23: DataConversionWarning: A column-vector y was passed when a 1d array was expected. Please change the shape of y to (n_samples,), for example using ravel().\n",
            "/usr/local/lib/python3.7/dist-packages/ipykernel_launcher.py:23: DataConversionWarning: A column-vector y was passed when a 1d array was expected. Please change the shape of y to (n_samples,), for example using ravel().\n"
          ],
          "name": "stderr"
        },
        {
          "output_type": "stream",
          "text": [
            "Accuracy Score is: 0.547\n",
            "\n",
            "The F1 score is : 0.684 \n",
            "\n",
            "Working on b_move 4 estimators\n",
            "Confusion Matrix is: \n",
            "[[ 28 188]\n",
            " [ 22 226]]\n",
            "Accuracy Score is: 0.547\n",
            "\n",
            "The F1 score is : 0.683 \n",
            "\n",
            "Working on b_move 5 estimators\n"
          ],
          "name": "stdout"
        },
        {
          "output_type": "stream",
          "text": [
            "/usr/local/lib/python3.7/dist-packages/ipykernel_launcher.py:23: DataConversionWarning: A column-vector y was passed when a 1d array was expected. Please change the shape of y to (n_samples,), for example using ravel().\n",
            "/usr/local/lib/python3.7/dist-packages/ipykernel_launcher.py:23: DataConversionWarning: A column-vector y was passed when a 1d array was expected. Please change the shape of y to (n_samples,), for example using ravel().\n"
          ],
          "name": "stderr"
        },
        {
          "output_type": "stream",
          "text": [
            "Confusion Matrix is: \n",
            "[[ 27 189]\n",
            " [ 22 226]]\n",
            "Accuracy Score is: 0.545\n",
            "\n",
            "The F1 score is : 0.682 \n",
            "\n",
            "Working on b_move 6 estimators\n",
            "Confusion Matrix is: \n",
            "[[ 26 190]\n",
            " [ 21 227]]\n",
            "Accuracy Score is: 0.545\n",
            "\n",
            "The F1 score is : 0.683 \n",
            "\n",
            "Working on b_move 7 estimators\n"
          ],
          "name": "stdout"
        },
        {
          "output_type": "stream",
          "text": [
            "/usr/local/lib/python3.7/dist-packages/ipykernel_launcher.py:23: DataConversionWarning: A column-vector y was passed when a 1d array was expected. Please change the shape of y to (n_samples,), for example using ravel().\n",
            "/usr/local/lib/python3.7/dist-packages/ipykernel_launcher.py:23: DataConversionWarning: A column-vector y was passed when a 1d array was expected. Please change the shape of y to (n_samples,), for example using ravel().\n"
          ],
          "name": "stderr"
        },
        {
          "output_type": "stream",
          "text": [
            "Confusion Matrix is: \n",
            "[[ 25 191]\n",
            " [ 18 230]]\n",
            "Accuracy Score is: 0.55\n",
            "\n",
            "The F1 score is : 0.688 \n",
            "\n",
            "Working on b_move 8 estimators\n"
          ],
          "name": "stdout"
        },
        {
          "output_type": "stream",
          "text": [
            "/usr/local/lib/python3.7/dist-packages/ipykernel_launcher.py:23: DataConversionWarning: A column-vector y was passed when a 1d array was expected. Please change the shape of y to (n_samples,), for example using ravel().\n"
          ],
          "name": "stderr"
        },
        {
          "output_type": "stream",
          "text": [
            "Confusion Matrix is: \n",
            "[[ 25 191]\n",
            " [ 17 231]]\n",
            "Accuracy Score is: 0.552\n",
            "\n",
            "The F1 score is : 0.69 \n",
            "\n",
            "Working on b_move 9 estimators\n"
          ],
          "name": "stdout"
        },
        {
          "output_type": "stream",
          "text": [
            "/usr/local/lib/python3.7/dist-packages/ipykernel_launcher.py:23: DataConversionWarning: A column-vector y was passed when a 1d array was expected. Please change the shape of y to (n_samples,), for example using ravel().\n"
          ],
          "name": "stderr"
        },
        {
          "output_type": "stream",
          "text": [
            "Confusion Matrix is: \n",
            "[[ 25 191]\n",
            " [ 17 231]]\n",
            "Accuracy Score is: 0.552\n",
            "\n",
            "The F1 score is : 0.69 \n",
            "\n"
          ],
          "name": "stdout"
        }
      ]
    }
  ]
}