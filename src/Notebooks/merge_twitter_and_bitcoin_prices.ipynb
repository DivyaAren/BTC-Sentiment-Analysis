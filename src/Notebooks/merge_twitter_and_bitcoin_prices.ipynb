{
  "nbformat": 4,
  "nbformat_minor": 0,
  "metadata": {
    "colab": {
      "name": "merge_twitter_and_bitcoin_prices.ipynb",
      "provenance": [],
      "collapsed_sections": []
    },
    "kernelspec": {
      "name": "python3",
      "display_name": "Python 3"
    },
    "language_info": {
      "name": "python"
    }
  },
  "cells": [
    {
      "cell_type": "markdown",
      "metadata": {
        "id": "BpcMflZ3KNoI"
      },
      "source": [
        "**Author:\n",
        "Bibek Prasad Gupta**"
      ]
    },
    {
      "cell_type": "code",
      "metadata": {
        "colab": {
          "base_uri": "https://localhost:8080/"
        },
        "id": "uhHzL80nw_h_",
        "outputId": "93947e8c-7876-4ed0-b586-b992e10305d3"
      },
      "source": [
        "import pandas as pd\n",
        "import numpy as np\n",
        "import math\n",
        "import io\n",
        "from tqdm import tqdm\n",
        "from datetime import datetime\n",
        "\n",
        "tqdm.pandas()"
      ],
      "execution_count": 1,
      "outputs": [
        {
          "output_type": "stream",
          "text": [
            "/usr/local/lib/python3.7/dist-packages/tqdm/std.py:658: FutureWarning: The Panel class is removed from pandas. Accessing it from the top-level namespace will also be removed in the next version\n",
            "  from pandas import Panel\n"
          ],
          "name": "stderr"
        }
      ]
    },
    {
      "cell_type": "code",
      "metadata": {
        "colab": {
          "base_uri": "https://localhost:8080/"
        },
        "id": "s5gDhkcSxjpV",
        "outputId": "0face959-e110-4847-9931-c13eb61bc5d3"
      },
      "source": [
        "import os\n",
        "from google.colab import drive\n",
        "drive.mount('/content/drive/')\n",
        "os.chdir('/content/drive/MyDrive/CA683')"
      ],
      "execution_count": 2,
      "outputs": [
        {
          "output_type": "stream",
          "text": [
            "Mounted at /content/drive/\n"
          ],
          "name": "stdout"
        }
      ]
    },
    {
      "cell_type": "code",
      "metadata": {
        "id": "Fo5C8-MSyxa_"
      },
      "source": [
        "# data = pd.read_csv(\"bitstampUSD.csv\", nrows=240000)\n",
        "data = pd.read_csv(\"bitstampUSD.csv\")"
      ],
      "execution_count": 3,
      "outputs": []
    },
    {
      "cell_type": "code",
      "metadata": {
        "colab": {
          "base_uri": "https://localhost:8080/",
          "height": 204
        },
        "id": "Mo27ocplzPCk",
        "outputId": "8daabeeb-561e-4856-a881-781a00f8df0d"
      },
      "source": [
        "data.head()"
      ],
      "execution_count": null,
      "outputs": [
        {
          "output_type": "execute_result",
          "data": {
            "text/html": [
              "<div>\n",
              "<style scoped>\n",
              "    .dataframe tbody tr th:only-of-type {\n",
              "        vertical-align: middle;\n",
              "    }\n",
              "\n",
              "    .dataframe tbody tr th {\n",
              "        vertical-align: top;\n",
              "    }\n",
              "\n",
              "    .dataframe thead th {\n",
              "        text-align: right;\n",
              "    }\n",
              "</style>\n",
              "<table border=\"1\" class=\"dataframe\">\n",
              "  <thead>\n",
              "    <tr style=\"text-align: right;\">\n",
              "      <th></th>\n",
              "      <th>Timestamp</th>\n",
              "      <th>Open</th>\n",
              "      <th>High</th>\n",
              "      <th>Low</th>\n",
              "      <th>Close</th>\n",
              "      <th>Volume_(BTC)</th>\n",
              "      <th>Volume_(Currency)</th>\n",
              "      <th>Weighted_Price</th>\n",
              "    </tr>\n",
              "  </thead>\n",
              "  <tbody>\n",
              "    <tr>\n",
              "      <th>0</th>\n",
              "      <td>1325317920</td>\n",
              "      <td>4.39</td>\n",
              "      <td>4.39</td>\n",
              "      <td>4.39</td>\n",
              "      <td>4.39</td>\n",
              "      <td>0.455581</td>\n",
              "      <td>2.0</td>\n",
              "      <td>4.39</td>\n",
              "    </tr>\n",
              "    <tr>\n",
              "      <th>1</th>\n",
              "      <td>1325317980</td>\n",
              "      <td>NaN</td>\n",
              "      <td>NaN</td>\n",
              "      <td>NaN</td>\n",
              "      <td>NaN</td>\n",
              "      <td>NaN</td>\n",
              "      <td>NaN</td>\n",
              "      <td>NaN</td>\n",
              "    </tr>\n",
              "    <tr>\n",
              "      <th>2</th>\n",
              "      <td>1325318040</td>\n",
              "      <td>NaN</td>\n",
              "      <td>NaN</td>\n",
              "      <td>NaN</td>\n",
              "      <td>NaN</td>\n",
              "      <td>NaN</td>\n",
              "      <td>NaN</td>\n",
              "      <td>NaN</td>\n",
              "    </tr>\n",
              "    <tr>\n",
              "      <th>3</th>\n",
              "      <td>1325318100</td>\n",
              "      <td>NaN</td>\n",
              "      <td>NaN</td>\n",
              "      <td>NaN</td>\n",
              "      <td>NaN</td>\n",
              "      <td>NaN</td>\n",
              "      <td>NaN</td>\n",
              "      <td>NaN</td>\n",
              "    </tr>\n",
              "    <tr>\n",
              "      <th>4</th>\n",
              "      <td>1325318160</td>\n",
              "      <td>NaN</td>\n",
              "      <td>NaN</td>\n",
              "      <td>NaN</td>\n",
              "      <td>NaN</td>\n",
              "      <td>NaN</td>\n",
              "      <td>NaN</td>\n",
              "      <td>NaN</td>\n",
              "    </tr>\n",
              "  </tbody>\n",
              "</table>\n",
              "</div>"
            ],
            "text/plain": [
              "    Timestamp  Open  High  ...  Volume_(BTC)  Volume_(Currency)  Weighted_Price\n",
              "0  1325317920  4.39  4.39  ...      0.455581                2.0            4.39\n",
              "1  1325317980   NaN   NaN  ...           NaN                NaN             NaN\n",
              "2  1325318040   NaN   NaN  ...           NaN                NaN             NaN\n",
              "3  1325318100   NaN   NaN  ...           NaN                NaN             NaN\n",
              "4  1325318160   NaN   NaN  ...           NaN                NaN             NaN\n",
              "\n",
              "[5 rows x 8 columns]"
            ]
          },
          "metadata": {
            "tags": []
          },
          "execution_count": 4
        }
      ]
    },
    {
      "cell_type": "code",
      "metadata": {
        "colab": {
          "base_uri": "https://localhost:8080/",
          "height": 204
        },
        "id": "eL_VvciXznGS",
        "outputId": "bec95ebf-e6c7-4a2f-b0ab-1e67fc869f15"
      },
      "source": [
        "# data[data.columns.values] = data[data.columns.values].ffill()\n",
        "columns_to_check_for_null = ['Close']\n",
        "data.shape\n",
        "data.dropna(subset=columns_to_check_for_null, inplace=True)\n",
        "data.head()"
      ],
      "execution_count": 4,
      "outputs": [
        {
          "output_type": "execute_result",
          "data": {
            "text/html": [
              "<div>\n",
              "<style scoped>\n",
              "    .dataframe tbody tr th:only-of-type {\n",
              "        vertical-align: middle;\n",
              "    }\n",
              "\n",
              "    .dataframe tbody tr th {\n",
              "        vertical-align: top;\n",
              "    }\n",
              "\n",
              "    .dataframe thead th {\n",
              "        text-align: right;\n",
              "    }\n",
              "</style>\n",
              "<table border=\"1\" class=\"dataframe\">\n",
              "  <thead>\n",
              "    <tr style=\"text-align: right;\">\n",
              "      <th></th>\n",
              "      <th>Timestamp</th>\n",
              "      <th>Open</th>\n",
              "      <th>High</th>\n",
              "      <th>Low</th>\n",
              "      <th>Close</th>\n",
              "      <th>Volume_(BTC)</th>\n",
              "      <th>Volume_(Currency)</th>\n",
              "      <th>Weighted_Price</th>\n",
              "    </tr>\n",
              "  </thead>\n",
              "  <tbody>\n",
              "    <tr>\n",
              "      <th>0</th>\n",
              "      <td>1325317920</td>\n",
              "      <td>4.39</td>\n",
              "      <td>4.39</td>\n",
              "      <td>4.39</td>\n",
              "      <td>4.39</td>\n",
              "      <td>0.455581</td>\n",
              "      <td>2.000000</td>\n",
              "      <td>4.390000</td>\n",
              "    </tr>\n",
              "    <tr>\n",
              "      <th>478</th>\n",
              "      <td>1325346600</td>\n",
              "      <td>4.39</td>\n",
              "      <td>4.39</td>\n",
              "      <td>4.39</td>\n",
              "      <td>4.39</td>\n",
              "      <td>48.000000</td>\n",
              "      <td>210.720000</td>\n",
              "      <td>4.390000</td>\n",
              "    </tr>\n",
              "    <tr>\n",
              "      <th>547</th>\n",
              "      <td>1325350740</td>\n",
              "      <td>4.50</td>\n",
              "      <td>4.57</td>\n",
              "      <td>4.50</td>\n",
              "      <td>4.57</td>\n",
              "      <td>37.862297</td>\n",
              "      <td>171.380338</td>\n",
              "      <td>4.526411</td>\n",
              "    </tr>\n",
              "    <tr>\n",
              "      <th>548</th>\n",
              "      <td>1325350800</td>\n",
              "      <td>4.58</td>\n",
              "      <td>4.58</td>\n",
              "      <td>4.58</td>\n",
              "      <td>4.58</td>\n",
              "      <td>9.000000</td>\n",
              "      <td>41.220000</td>\n",
              "      <td>4.580000</td>\n",
              "    </tr>\n",
              "    <tr>\n",
              "      <th>1224</th>\n",
              "      <td>1325391360</td>\n",
              "      <td>4.58</td>\n",
              "      <td>4.58</td>\n",
              "      <td>4.58</td>\n",
              "      <td>4.58</td>\n",
              "      <td>1.502000</td>\n",
              "      <td>6.879160</td>\n",
              "      <td>4.580000</td>\n",
              "    </tr>\n",
              "  </tbody>\n",
              "</table>\n",
              "</div>"
            ],
            "text/plain": [
              "       Timestamp  Open  High  ...  Volume_(BTC)  Volume_(Currency)  Weighted_Price\n",
              "0     1325317920  4.39  4.39  ...      0.455581           2.000000        4.390000\n",
              "478   1325346600  4.39  4.39  ...     48.000000         210.720000        4.390000\n",
              "547   1325350740  4.50  4.57  ...     37.862297         171.380338        4.526411\n",
              "548   1325350800  4.58  4.58  ...      9.000000          41.220000        4.580000\n",
              "1224  1325391360  4.58  4.58  ...      1.502000           6.879160        4.580000\n",
              "\n",
              "[5 rows x 8 columns]"
            ]
          },
          "metadata": {
            "tags": []
          },
          "execution_count": 4
        }
      ]
    },
    {
      "cell_type": "code",
      "metadata": {
        "colab": {
          "base_uri": "https://localhost:8080/"
        },
        "id": "QglvkzWD2Dlw",
        "outputId": "8474cb8d-bb6c-4c3f-c306-49a10ceb72d2"
      },
      "source": [
        "data.shape"
      ],
      "execution_count": 5,
      "outputs": [
        {
          "output_type": "execute_result",
          "data": {
            "text/plain": [
              "(3484305, 8)"
            ]
          },
          "metadata": {
            "tags": []
          },
          "execution_count": 5
        }
      ]
    },
    {
      "cell_type": "code",
      "metadata": {
        "colab": {
          "base_uri": "https://localhost:8080/"
        },
        "id": "ueVKIK9k0NN2",
        "outputId": "6a39ed5a-2984-42d0-9fb3-b0d210aef79b"
      },
      "source": [
        "def convert_to_date(x):\n",
        "    try:\n",
        "      return datetime.utcfromtimestamp(x).strftime('%Y-%m-%d %H:%M')\n",
        "    except:\n",
        "        print(x)\n",
        "\n",
        "data[\"date\"] = data.progress_apply(lambda x:convert_to_date(x[\"Timestamp\"]),axis=1)"
      ],
      "execution_count": 6,
      "outputs": [
        {
          "output_type": "stream",
          "text": [
            "100%|██████████| 3484305/3484305 [01:09<00:00, 49898.08it/s]\n"
          ],
          "name": "stderr"
        }
      ]
    },
    {
      "cell_type": "code",
      "metadata": {
        "colab": {
          "base_uri": "https://localhost:8080/"
        },
        "id": "iDCCZdDgz6fT",
        "outputId": "0b46dc81-cc82-4354-dbb7-9c14fd476bfd"
      },
      "source": [
        "data['date']= pd.to_datetime(data['date'], errors= \"coerce\")\n",
        "data.info()"
      ],
      "execution_count": 7,
      "outputs": [
        {
          "output_type": "stream",
          "text": [
            "<class 'pandas.core.frame.DataFrame'>\n",
            "Int64Index: 3484305 entries, 0 to 4727776\n",
            "Data columns (total 9 columns):\n",
            " #   Column             Dtype         \n",
            "---  ------             -----         \n",
            " 0   Timestamp          int64         \n",
            " 1   Open               float64       \n",
            " 2   High               float64       \n",
            " 3   Low                float64       \n",
            " 4   Close              float64       \n",
            " 5   Volume_(BTC)       float64       \n",
            " 6   Volume_(Currency)  float64       \n",
            " 7   Weighted_Price     float64       \n",
            " 8   date               datetime64[ns]\n",
            "dtypes: datetime64[ns](1), float64(7), int64(1)\n",
            "memory usage: 265.8 MB\n"
          ],
          "name": "stdout"
        }
      ]
    },
    {
      "cell_type": "code",
      "metadata": {
        "id": "oCZuM7G3x62j"
      },
      "source": [
        "# Filter rows\n",
        "start_year = pd.to_datetime('2016-01-01')\n",
        "data = data[data['date'] >= start_year]"
      ],
      "execution_count": 8,
      "outputs": []
    },
    {
      "cell_type": "code",
      "metadata": {
        "id": "be3deyYn1xqT"
      },
      "source": [
        "data['time'] = data['date']\n",
        "data.index = data['time']\n",
        "\n",
        "crypto_usd_grouped = data.groupby(pd.Grouper(key=\"time\", freq=\"1h\")).agg(\n",
        "    closed_price_by_hour = ('Close', np.mean)\n",
        ")"
      ],
      "execution_count": 9,
      "outputs": []
    },
    {
      "cell_type": "code",
      "metadata": {
        "colab": {
          "base_uri": "https://localhost:8080/",
          "height": 235
        },
        "id": "-1xlfTdb2t3B",
        "outputId": "0b4a7154-ea3f-4ca5-8fcf-617ed995eef6"
      },
      "source": [
        "crypto_usd_grouped.head()"
      ],
      "execution_count": 10,
      "outputs": [
        {
          "output_type": "execute_result",
          "data": {
            "text/html": [
              "<div>\n",
              "<style scoped>\n",
              "    .dataframe tbody tr th:only-of-type {\n",
              "        vertical-align: middle;\n",
              "    }\n",
              "\n",
              "    .dataframe tbody tr th {\n",
              "        vertical-align: top;\n",
              "    }\n",
              "\n",
              "    .dataframe thead th {\n",
              "        text-align: right;\n",
              "    }\n",
              "</style>\n",
              "<table border=\"1\" class=\"dataframe\">\n",
              "  <thead>\n",
              "    <tr style=\"text-align: right;\">\n",
              "      <th></th>\n",
              "      <th>closed_price_by_hour</th>\n",
              "    </tr>\n",
              "    <tr>\n",
              "      <th>time</th>\n",
              "      <th></th>\n",
              "    </tr>\n",
              "  </thead>\n",
              "  <tbody>\n",
              "    <tr>\n",
              "      <th>2016-01-01 00:00:00</th>\n",
              "      <td>431.466842</td>\n",
              "    </tr>\n",
              "    <tr>\n",
              "      <th>2016-01-01 01:00:00</th>\n",
              "      <td>430.464194</td>\n",
              "    </tr>\n",
              "    <tr>\n",
              "      <th>2016-01-01 02:00:00</th>\n",
              "      <td>431.013462</td>\n",
              "    </tr>\n",
              "    <tr>\n",
              "      <th>2016-01-01 03:00:00</th>\n",
              "      <td>431.600811</td>\n",
              "    </tr>\n",
              "    <tr>\n",
              "      <th>2016-01-01 04:00:00</th>\n",
              "      <td>434.281633</td>\n",
              "    </tr>\n",
              "  </tbody>\n",
              "</table>\n",
              "</div>"
            ],
            "text/plain": [
              "                     closed_price_by_hour\n",
              "time                                     \n",
              "2016-01-01 00:00:00            431.466842\n",
              "2016-01-01 01:00:00            430.464194\n",
              "2016-01-01 02:00:00            431.013462\n",
              "2016-01-01 03:00:00            431.600811\n",
              "2016-01-01 04:00:00            434.281633"
            ]
          },
          "metadata": {
            "tags": []
          },
          "execution_count": 10
        }
      ]
    },
    {
      "cell_type": "code",
      "metadata": {
        "id": "Z6ol-WfMFfhX"
      },
      "source": [
        "def movement_classifier(x):\n",
        "    try:\n",
        "        if x >= 0 :\n",
        "            return 1\n",
        "        else:\n",
        "            return 0\n",
        "    except:\n",
        "        print(x)"
      ],
      "execution_count": 11,
      "outputs": []
    },
    {
      "cell_type": "code",
      "metadata": {
        "colab": {
          "base_uri": "https://localhost:8080/",
          "height": 252
        },
        "id": "tQ1scsnUvgus",
        "outputId": "002434b7-9d15-45d9-be3c-8f46864b2dbd"
      },
      "source": [
        "crypto_usd_grouped.dropna(subset=['closed_price_by_hour'], inplace=True)\n",
        "crypto_usd_grouped[\"price_diff\"] = crypto_usd_grouped[\"closed_price_by_hour\"].diff()\n",
        "crypto_usd_grouped[\"movement\"] = crypto_usd_grouped[\"price_diff\"].progress_apply(lambda x:movement_classifier(x))\n",
        "crypto_usd_grouped.head()"
      ],
      "execution_count": 12,
      "outputs": [
        {
          "output_type": "stream",
          "text": [
            "100%|██████████| 43821/43821 [00:00<00:00, 611548.97it/s]\n"
          ],
          "name": "stderr"
        },
        {
          "output_type": "execute_result",
          "data": {
            "text/html": [
              "<div>\n",
              "<style scoped>\n",
              "    .dataframe tbody tr th:only-of-type {\n",
              "        vertical-align: middle;\n",
              "    }\n",
              "\n",
              "    .dataframe tbody tr th {\n",
              "        vertical-align: top;\n",
              "    }\n",
              "\n",
              "    .dataframe thead th {\n",
              "        text-align: right;\n",
              "    }\n",
              "</style>\n",
              "<table border=\"1\" class=\"dataframe\">\n",
              "  <thead>\n",
              "    <tr style=\"text-align: right;\">\n",
              "      <th></th>\n",
              "      <th>closed_price_by_hour</th>\n",
              "      <th>price_diff</th>\n",
              "      <th>movement</th>\n",
              "    </tr>\n",
              "    <tr>\n",
              "      <th>time</th>\n",
              "      <th></th>\n",
              "      <th></th>\n",
              "      <th></th>\n",
              "    </tr>\n",
              "  </thead>\n",
              "  <tbody>\n",
              "    <tr>\n",
              "      <th>2016-01-01 00:00:00</th>\n",
              "      <td>431.466842</td>\n",
              "      <td>NaN</td>\n",
              "      <td>0</td>\n",
              "    </tr>\n",
              "    <tr>\n",
              "      <th>2016-01-01 01:00:00</th>\n",
              "      <td>430.464194</td>\n",
              "      <td>-1.002649</td>\n",
              "      <td>0</td>\n",
              "    </tr>\n",
              "    <tr>\n",
              "      <th>2016-01-01 02:00:00</th>\n",
              "      <td>431.013462</td>\n",
              "      <td>0.549268</td>\n",
              "      <td>1</td>\n",
              "    </tr>\n",
              "    <tr>\n",
              "      <th>2016-01-01 03:00:00</th>\n",
              "      <td>431.600811</td>\n",
              "      <td>0.587349</td>\n",
              "      <td>1</td>\n",
              "    </tr>\n",
              "    <tr>\n",
              "      <th>2016-01-01 04:00:00</th>\n",
              "      <td>434.281633</td>\n",
              "      <td>2.680822</td>\n",
              "      <td>1</td>\n",
              "    </tr>\n",
              "  </tbody>\n",
              "</table>\n",
              "</div>"
            ],
            "text/plain": [
              "                     closed_price_by_hour  price_diff  movement\n",
              "time                                                           \n",
              "2016-01-01 00:00:00            431.466842         NaN         0\n",
              "2016-01-01 01:00:00            430.464194   -1.002649         0\n",
              "2016-01-01 02:00:00            431.013462    0.549268         1\n",
              "2016-01-01 03:00:00            431.600811    0.587349         1\n",
              "2016-01-01 04:00:00            434.281633    2.680822         1"
            ]
          },
          "metadata": {
            "tags": []
          },
          "execution_count": 12
        }
      ]
    },
    {
      "cell_type": "code",
      "metadata": {
        "colab": {
          "base_uri": "https://localhost:8080/"
        },
        "id": "pa53kRjmxVxa",
        "outputId": "13bb5e05-cd9e-44a7-a0df-42175147fbbb"
      },
      "source": [
        "crypto_usd_grouped.shape"
      ],
      "execution_count": 13,
      "outputs": [
        {
          "output_type": "execute_result",
          "data": {
            "text/plain": [
              "(43821, 3)"
            ]
          },
          "metadata": {
            "tags": []
          },
          "execution_count": 13
        }
      ]
    },
    {
      "cell_type": "code",
      "metadata": {
        "id": "Mrj7Ag_NvAD2"
      },
      "source": [
        "crypto_usd_grouped.to_csv(\"bitcoin_hourly_processed_data.csv\")"
      ],
      "execution_count": 15,
      "outputs": []
    },
    {
      "cell_type": "code",
      "metadata": {
        "id": "ryxIx5woHMr4"
      },
      "source": [
        "# Run sentiment_preprocessing notebook to generate \"twitter_sentiments_hourly_processed_data.csv\" file\n",
        "data_sentiments = pd.read_csv(\"twitter_sentiments_hourly_processed_data.csv\")\n",
        "data_sentiments[\"time\"] = pd.to_datetime(data_sentiments[\"time\"], errors=\"coerce\")\n",
        "data_bitcoin = pd.read_csv(\"bitcoin_hourly_processed_data.csv\")\n",
        "data_bitcoin[\"time\"] = pd.to_datetime(data_bitcoin[\"time\"], errors=\"coerce\")\n",
        "merged_data = pd.merge(data_bitcoin, data_sentiments, on='time')"
      ],
      "execution_count": 16,
      "outputs": []
    },
    {
      "cell_type": "code",
      "metadata": {
        "id": "MhH_JH7TH1AE",
        "colab": {
          "base_uri": "https://localhost:8080/"
        },
        "outputId": "d0039138-045c-4b7f-d82a-4196250c9271"
      },
      "source": [
        "# Final features to train the models\n",
        "merged_data.to_csv(\"bitcoin_and_sentiments_data.csv\")\n",
        "merged_data.columns"
      ],
      "execution_count": 17,
      "outputs": [
        {
          "output_type": "execute_result",
          "data": {
            "text/plain": [
              "Index(['time', 'closed_price_by_hour', 'price_diff', 'movement',\n",
              "       'Daily_Weight_mean_by_hour', 'Daily_Weight_count_by_hour',\n",
              "       'blob_sent_mean_by_hour', 'subjectivity_mean_by_hour',\n",
              "       'vader_sent_mean_by_hour', 'tweet_diff', 'blob_sent_mean_by_hour_diff',\n",
              "       'vader_sent_mean_by_hour_diff', 'tweet_movement', 'blob_sent_movement',\n",
              "       'vader_sent_movement'],\n",
              "      dtype='object')"
            ]
          },
          "metadata": {
            "tags": []
          },
          "execution_count": 17
        }
      ]
    },
    {
      "cell_type": "code",
      "metadata": {
        "colab": {
          "base_uri": "https://localhost:8080/",
          "height": 394
        },
        "id": "ufJMPTD_ZpZt",
        "outputId": "b6633713-e865-4b6f-b1ba-4e1e6ba7642d"
      },
      "source": [
        "merged_data.head()"
      ],
      "execution_count": 18,
      "outputs": [
        {
          "output_type": "execute_result",
          "data": {
            "text/html": [
              "<div>\n",
              "<style scoped>\n",
              "    .dataframe tbody tr th:only-of-type {\n",
              "        vertical-align: middle;\n",
              "    }\n",
              "\n",
              "    .dataframe tbody tr th {\n",
              "        vertical-align: top;\n",
              "    }\n",
              "\n",
              "    .dataframe thead th {\n",
              "        text-align: right;\n",
              "    }\n",
              "</style>\n",
              "<table border=\"1\" class=\"dataframe\">\n",
              "  <thead>\n",
              "    <tr style=\"text-align: right;\">\n",
              "      <th></th>\n",
              "      <th>time</th>\n",
              "      <th>closed_price_by_hour</th>\n",
              "      <th>price_diff</th>\n",
              "      <th>movement</th>\n",
              "      <th>Daily_Weight_mean_by_hour</th>\n",
              "      <th>Daily_Weight_count_by_hour</th>\n",
              "      <th>blob_sent_mean_by_hour</th>\n",
              "      <th>subjectivity_mean_by_hour</th>\n",
              "      <th>vader_sent_mean_by_hour</th>\n",
              "      <th>tweet_diff</th>\n",
              "      <th>blob_sent_mean_by_hour_diff</th>\n",
              "      <th>vader_sent_mean_by_hour_diff</th>\n",
              "      <th>tweet_movement</th>\n",
              "      <th>blob_sent_movement</th>\n",
              "      <th>vader_sent_movement</th>\n",
              "    </tr>\n",
              "  </thead>\n",
              "  <tbody>\n",
              "    <tr>\n",
              "      <th>0</th>\n",
              "      <td>2016-02-19 08:00:00</td>\n",
              "      <td>418.409535</td>\n",
              "      <td>1.745839</td>\n",
              "      <td>1</td>\n",
              "      <td>0.0</td>\n",
              "      <td>1</td>\n",
              "      <td>0.0</td>\n",
              "      <td>0.15</td>\n",
              "      <td>-0.4019</td>\n",
              "      <td>0.0</td>\n",
              "      <td>-3.93183</td>\n",
              "      <td>-0.442529</td>\n",
              "      <td>1</td>\n",
              "      <td>0</td>\n",
              "      <td>0</td>\n",
              "    </tr>\n",
              "    <tr>\n",
              "      <th>1</th>\n",
              "      <td>2016-03-28 03:00:00</td>\n",
              "      <td>423.431613</td>\n",
              "      <td>0.030249</td>\n",
              "      <td>1</td>\n",
              "      <td>0.0</td>\n",
              "      <td>2</td>\n",
              "      <td>0.0</td>\n",
              "      <td>0.00</td>\n",
              "      <td>0.0000</td>\n",
              "      <td>1.0</td>\n",
              "      <td>0.00000</td>\n",
              "      <td>0.401900</td>\n",
              "      <td>1</td>\n",
              "      <td>1</td>\n",
              "      <td>1</td>\n",
              "    </tr>\n",
              "    <tr>\n",
              "      <th>2</th>\n",
              "      <td>2016-03-28 06:00:00</td>\n",
              "      <td>423.297407</td>\n",
              "      <td>-0.787831</td>\n",
              "      <td>0</td>\n",
              "      <td>0.0</td>\n",
              "      <td>1</td>\n",
              "      <td>0.0</td>\n",
              "      <td>0.00</td>\n",
              "      <td>0.0000</td>\n",
              "      <td>-1.0</td>\n",
              "      <td>0.00000</td>\n",
              "      <td>0.000000</td>\n",
              "      <td>0</td>\n",
              "      <td>1</td>\n",
              "      <td>1</td>\n",
              "    </tr>\n",
              "    <tr>\n",
              "      <th>3</th>\n",
              "      <td>2016-05-03 03:00:00</td>\n",
              "      <td>442.347273</td>\n",
              "      <td>0.348523</td>\n",
              "      <td>1</td>\n",
              "      <td>0.0</td>\n",
              "      <td>1</td>\n",
              "      <td>0.0</td>\n",
              "      <td>0.00</td>\n",
              "      <td>0.0000</td>\n",
              "      <td>0.0</td>\n",
              "      <td>0.00000</td>\n",
              "      <td>0.000000</td>\n",
              "      <td>1</td>\n",
              "      <td>1</td>\n",
              "      <td>1</td>\n",
              "    </tr>\n",
              "    <tr>\n",
              "      <th>4</th>\n",
              "      <td>2016-05-03 07:00:00</td>\n",
              "      <td>443.669063</td>\n",
              "      <td>0.486729</td>\n",
              "      <td>1</td>\n",
              "      <td>0.0</td>\n",
              "      <td>1</td>\n",
              "      <td>0.0</td>\n",
              "      <td>0.00</td>\n",
              "      <td>0.0000</td>\n",
              "      <td>0.0</td>\n",
              "      <td>0.00000</td>\n",
              "      <td>0.000000</td>\n",
              "      <td>1</td>\n",
              "      <td>1</td>\n",
              "      <td>1</td>\n",
              "    </tr>\n",
              "  </tbody>\n",
              "</table>\n",
              "</div>"
            ],
            "text/plain": [
              "                 time  ...  vader_sent_movement\n",
              "0 2016-02-19 08:00:00  ...                    0\n",
              "1 2016-03-28 03:00:00  ...                    1\n",
              "2 2016-03-28 06:00:00  ...                    1\n",
              "3 2016-05-03 03:00:00  ...                    1\n",
              "4 2016-05-03 07:00:00  ...                    1\n",
              "\n",
              "[5 rows x 15 columns]"
            ]
          },
          "metadata": {
            "tags": []
          },
          "execution_count": 18
        }
      ]
    }
  ]
}