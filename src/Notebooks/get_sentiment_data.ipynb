{
 "cells": [
  {
   "cell_type": "code",
   "execution_count": null,
   "metadata": {},
   "outputs": [],
   "source": [
    "import requests\n",
    "import time\n",
    "import datetime\n",
    "from coinmarketcapapi import CoinMarketCapAPI, CoinMarketCapAPIError"
   ]
  },
  {
   "cell_type": "code",
   "execution_count": null,
   "metadata": {},
   "outputs": [],
   "source": [
    "# file_name = input(\"dataset name:\")\n",
    "file_name = \"bitcoin_data.csv\"\n",
    "bitcoin_file = open(file_name,\"a\")\n",
    "keys = [\"price_usd\",\"24h_volume_usd\",\"market_cap_usd\",\"available_supply\",\"total_supply\",\"percent_change_1h\",\"percent_change_24h\",\"percent_change_7d\"]\n",
    "vals = [0]*len(keys)\n",
    "\n",
    "while True:\n",
    "    cmc = CoinMarketCapAPI('0b029b89-2e1c-4f1c-8941-2fccd3d54b8e')\n",
    "    r = cmc.cryptocurrency_info(symbol='BTC')\n",
    "    data = r.data\n",
    "    # data = requests.get(\"https://api.coinmarketcap.com/v1/ticker/bitcoin/\").json()[0]\n",
    "    bkc = requests.get(\"https://blockchain.info/ticker\").json()\n",
    "    for d in data.keys():\n",
    "        if d in keys:\n",
    "            indx = keys.index(d)\n",
    "            # vals[indx] = data[d]\n",
    "            vals[indx] = data[d]\n",
    "    for val in vals:\n",
    "        bitcoin_file.write(str(val)+\",\")\n",
    "      \n",
    "    #bitcoin_file.write(\"{},{},\".format(bstamp[\"volume\"],bstamp[\"vwap\"]))\n",
    "    bitcoin_file.write(\"{},{},{}\".format(bkc[\"USD\"][\"sell\"],bkc[\"USD\"][\"buy\"],bkc[\"USD\"][\"15m\"]))\n",
    "    bitcoin_file.write(\",\"+datetime.datetime.now().strftime(\"%y-%m-%d-%H-%M\"))\n",
    "    bitcoin_file.write(\"\\n\")\n",
    "    bitcoin_file.flush()\n",
    "    time.sleep(60)\n",
    "\n"
   ]
  },
  {
   "cell_type": "code",
   "execution_count": null,
   "metadata": {},
   "outputs": [],
   "source": []
  }
 ],
 "metadata": {
  "kernelspec": {
   "display_name": "Python 3",
   "language": "python",
   "name": "python3"
  },
  "language_info": {
   "codemirror_mode": {
    "name": "ipython",
    "version": 3
   },
   "file_extension": ".py",
   "mimetype": "text/x-python",
   "name": "python",
   "nbconvert_exporter": "python",
   "pygments_lexer": "ipython3",
   "version": "3.8.5"
  }
 },
 "nbformat": 4,
 "nbformat_minor": 4
}
