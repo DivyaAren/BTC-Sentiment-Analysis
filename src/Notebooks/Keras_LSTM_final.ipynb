{
  "nbformat": 4,
  "nbformat_minor": 0,
  "metadata": {
    "kernelspec": {
      "display_name": "Python 3",
      "language": "python",
      "name": "python3"
    },
    "language_info": {
      "codemirror_mode": {
        "name": "ipython",
        "version": 3
      },
      "file_extension": ".py",
      "mimetype": "text/x-python",
      "name": "python",
      "nbconvert_exporter": "python",
      "pygments_lexer": "ipython3",
      "version": "3.8.5"
    },
    "colab": {
      "name": "Keras_LSTM_final.ipynb",
      "provenance": [],
      "collapsed_sections": []
    }
  },
  "cells": [
    {
      "cell_type": "code",
      "metadata": {
        "colab": {
          "base_uri": "https://localhost:8080/"
        },
        "id": "2I_rNe3KpkbV",
        "outputId": "ba07a798-e859-4893-fb2b-57e8f7842fe7"
      },
      "source": [
        "import os\n",
        "from google.colab import drive\n",
        "drive.mount('/content/drive/')\n",
        "os.chdir('/content/drive/MyDrive/CA683')"
      ],
      "execution_count": 1,
      "outputs": [
        {
          "output_type": "stream",
          "text": [
            "Mounted at /content/drive/\n"
          ],
          "name": "stdout"
        }
      ]
    },
    {
      "cell_type": "code",
      "metadata": {
        "id": "OubHSyKwpfzC"
      },
      "source": [
        "import pandas as pd\n",
        "import numpy as np\n",
        "data = pd.read_csv(\"bitcoin_and_sentiments_data.csv\")"
      ],
      "execution_count": 2,
      "outputs": []
    },
    {
      "cell_type": "code",
      "metadata": {
        "colab": {
          "base_uri": "https://localhost:8080/"
        },
        "id": "a22pytULpfzK",
        "outputId": "6bb0bc1e-3c5a-47b3-de57-7ed167ad2f7c"
      },
      "source": [
        "print(data.columns)\n",
        "# data = data.filter(['date2','hour','vader_sent_hourly mean','Daily Weight count','Close','price dir','movement'])\n",
        "# data = data.filter(['date2','hour','vader_sent_hourly mean','Daily Weight count','Close','price dir','movement'])\n",
        "# data"
      ],
      "execution_count": 3,
      "outputs": [
        {
          "output_type": "stream",
          "text": [
            "Index(['Unnamed: 0', 'time', 'closed_price_by_hour', 'price_diff', 'movement',\n",
            "       'Daily_Weight_mean_by_hour', 'Daily_Weight_count_by_hour',\n",
            "       'blob_sent_mean_by_hour', 'subjectivity_mean_by_hour',\n",
            "       'vader_sent_mean_by_hour', 'tweet_diff', 'blob_sent_mean_by_hour_diff',\n",
            "       'vader_sent_mean_by_hour_diff', 'tweet_movement', 'blob_sent_movement',\n",
            "       'vader_sent_movement'],\n",
            "      dtype='object')\n"
          ],
          "name": "stdout"
        }
      ]
    },
    {
      "cell_type": "markdown",
      "metadata": {
        "id": "4pq298VEpfzM"
      },
      "source": [
        "# Normalizing values"
      ]
    },
    {
      "cell_type": "code",
      "metadata": {
        "colab": {
          "base_uri": "https://localhost:8080/"
        },
        "id": "EH7X2TzlpfzM",
        "outputId": "dd921437-276d-463e-8aee-49662b9b3ca5"
      },
      "source": [
        "time_len = data.shape[0]\n",
        "print(time_len)\n",
        "# x = data.filter(['vader_sent_hourly mean','Close','Daily Weight count',\"movement\"])\n",
        "x = data.filter(['vader_sent_mean_by_hour','closed_price_by_hour','Daily_Weight_count_by_hour',\"movement\"])\n",
        "\n",
        "from sklearn import preprocessing\n",
        "\n",
        "xx = x.values #returns a numpy array\n",
        "min_max_scaler = preprocessing.MinMaxScaler()\n",
        "x_scaled = min_max_scaler.fit_transform(xx)\n",
        "#df = pd.DataFrame(x_scaled)\n",
        "print(x_scaled)\n"
      ],
      "execution_count": 4,
      "outputs": [
        {
          "output_type": "stream",
          "text": [
            "2320\n",
            "[[3.53246624e-01 0.00000000e+00 0.00000000e+00 1.00000000e+00]\n",
            " [3.70977530e-01 2.74508958e-04 2.18962120e-04 1.00000000e+00]\n",
            " [3.70977530e-01 2.67173228e-04 0.00000000e+00 0.00000000e+00]\n",
            " ...\n",
            " [4.36853522e-01 4.54693565e-01 5.69301511e-03 0.00000000e+00]\n",
            " [3.83598352e-01 4.53293083e-01 1.35099628e-01 0.00000000e+00]\n",
            " [3.71663375e-01 4.58423274e-01 3.29975914e-01 1.00000000e+00]]\n"
          ],
          "name": "stdout"
        }
      ]
    },
    {
      "cell_type": "markdown",
      "metadata": {
        "id": "sn4oeIrPpfzN"
      },
      "source": [
        "# Use series_to_supervised to get time series data"
      ]
    },
    {
      "cell_type": "code",
      "metadata": {
        "scrolled": true,
        "colab": {
          "base_uri": "https://localhost:8080/"
        },
        "id": "1__nwCVOpfzN",
        "outputId": "1dd42bdc-c029-4286-cfdd-cd85e5e8f8f1"
      },
      "source": [
        "\n",
        "from sklearn.preprocessing import LabelEncoder\n",
        "\n",
        "# convert series to supervised learning\n",
        "def series_to_supervised(data, n_in=1, n_out=1, dropnan=True):\n",
        "    n_vars = 1 if type(data) is list else data.shape[1]\n",
        "    df = pd.DataFrame(data)\n",
        "    cols, names = list(), list()\n",
        "# input sequence (t-n, ... t-1)\n",
        "    for i in range(n_in, 0, -1):\n",
        "        cols.append(df.shift(i))\n",
        "        names += [('var%d(t-%d)' % (df.columns[j], i)) for j in range(n_vars)]\n",
        "    # forecast sequence (t, t+1, ... t+n)\n",
        "    for i in range(0, n_out):\n",
        "        cols.append(df.shift(-i))\n",
        "        if i == 0:\n",
        "            names += [('var%d(t)' % (df.columns[j])) for j in range(n_vars)]\n",
        "        else:\n",
        "            names += [('var%d(t+%d)' % (df.columns[j], i)) for j in range(n_vars)]\n",
        "# put it all together\n",
        "    agg = pd.concat(cols, axis=1)\n",
        "    agg.columns = names\n",
        "    # drop rows with NaN values\n",
        "    if dropnan:\n",
        "        agg.dropna(inplace=True)\n",
        "    return agg\n",
        " \n",
        "# integer encode direction\n",
        "encoder = LabelEncoder()\n",
        "xx[:,3] = encoder.fit_transform(xx[:,3])\n",
        "# ensure all data is float\n",
        "xx = xx.astype('float32')\n",
        "# normalize features\n",
        "scaler = preprocessing.MinMaxScaler(feature_range=(0, 1))\n",
        "scaled = scaler.fit_transform(xx)\n",
        "# frame as supervised learning\n",
        "reframed = series_to_supervised(scaled, 2, 1)\n",
        "# drop columns we don't want to predict\n",
        "reframed.drop(reframed.columns[[8,9,10]], axis=1, inplace=True)\n",
        "print(reframed.head())\n"
      ],
      "execution_count": 5,
      "outputs": [
        {
          "output_type": "stream",
          "text": [
            "   var0(t-2)  var1(t-2)  var2(t-2)  ...  var2(t-1)  var3(t-1)  var3(t)\n",
            "2   0.353247   0.000000   0.000000  ...   0.000219        1.0      0.0\n",
            "3   0.370977   0.000275   0.000219  ...   0.000000        0.0      1.0\n",
            "4   0.370977   0.000267   0.000000  ...   0.000000        1.0      1.0\n",
            "5   0.370977   0.001308   0.000000  ...   0.000000        1.0      0.0\n",
            "6   0.370977   0.001381   0.000000  ...   0.000000        0.0      1.0\n",
            "\n",
            "[5 rows x 9 columns]\n"
          ],
          "name": "stdout"
        }
      ]
    },
    {
      "cell_type": "markdown",
      "metadata": {
        "id": "cleUTUBqpfzO"
      },
      "source": [
        "# LSTM MODEL \n"
      ]
    },
    {
      "cell_type": "code",
      "metadata": {
        "id": "6ub5w8UupfzO"
      },
      "source": [
        "import keras\n",
        "from keras.datasets import reuters, imdb\n",
        "from keras.models import Sequential\n",
        "from keras.layers import LSTM, SimpleRNN, GRU, Dense, Dropout, Activation, Embedding, ConvLSTM2D,Bidirectional, Conv2D,Conv1D\n",
        "from keras.preprocessing.text import Tokenizer\n",
        "from keras.preprocessing import sequence\n",
        "from sklearn.model_selection import train_test_split\n",
        "from sklearn.metrics import mean_squared_error\n",
        "from sklearn import metrics\n",
        "from keras import metrics as met2\n",
        "import math\n",
        "from numpy import concatenate"
      ],
      "execution_count": 6,
      "outputs": []
    },
    {
      "cell_type": "markdown",
      "metadata": {
        "id": "wMIOmMLWpfzP"
      },
      "source": [
        "# train test split and reshaping"
      ]
    },
    {
      "cell_type": "code",
      "metadata": {
        "colab": {
          "base_uri": "https://localhost:8080/"
        },
        "id": "pBNuLjIvpfzQ",
        "outputId": "e05995e2-58ba-4f8f-9d14-7e2f97e29b33"
      },
      "source": [
        "labels = reframed.values[:,-1]\n",
        "#labels = labels.astype('int')\n",
        "print(reframed.shape)\n",
        "features = reframed.values[:,:8]\n",
        "print(features.shape,labels.shape)\n",
        "x_train, x_test, y_train, y_test = train_test_split(features, labels, test_size=0.2)\n",
        "x_train = x_train.reshape((x_train.shape[0], 2, 4))\n",
        "x_test = x_test.reshape((x_test.shape[0],2, 4))\n",
        "print(x_train.shape)"
      ],
      "execution_count": 7,
      "outputs": [
        {
          "output_type": "stream",
          "text": [
            "(2318, 9)\n",
            "(2318, 8) (2318,)\n",
            "(1854, 2, 4)\n"
          ],
          "name": "stdout"
        }
      ]
    },
    {
      "cell_type": "code",
      "metadata": {
        "scrolled": true,
        "id": "dZzjKYxFpfzQ"
      },
      "source": [
        ""
      ],
      "execution_count": null,
      "outputs": []
    },
    {
      "cell_type": "markdown",
      "metadata": {
        "id": "HjuCW278pfzR"
      },
      "source": [
        "# Compiling model"
      ]
    },
    {
      "cell_type": "code",
      "metadata": {
        "scrolled": true,
        "colab": {
          "base_uri": "https://localhost:8080/"
        },
        "id": "mQ7ZyYnSpfzS",
        "outputId": "cea0757f-8320-4012-e17c-20969109a745"
      },
      "source": [
        "\n",
        "# design network\n",
        "#for i in range(1,10):\n",
        "model = Sequential()\n",
        "#model.add(Conv2D(100, 2, activation='relu'))\n",
        "#model.add(SimpleRNN(32))\n",
        "model.add(Bidirectional(LSTM((50), input_shape=(x_train.shape[1], x_train.shape[2]))))\n",
        "#model.add(ConvLSTM2D(2,kernel_size = (3,3),input_shape =(None,x_train.shape[1], x_train.shape[2],1) ,padding='same', return_sequences=True))\n",
        "model.add(Dropout(0.2))\n",
        "model.add(Dense(1))\n",
        "model.add(Activation(\"sigmoid\"))\n",
        "\n",
        "model.compile(loss='binary_crossentropy', metrics=[met2.binary_accuracy], optimizer='adam')\n",
        "# fit network\n",
        "history = model.fit(x_train, y_train, epochs=50, batch_size=100, validation_data=(x_test, y_test), verbose=2, shuffle=False)\n",
        "# plot history\n",
        "print(model.summary())\n",
        "\n"
      ],
      "execution_count": 8,
      "outputs": [
        {
          "output_type": "stream",
          "text": [
            "Epoch 1/50\n",
            "19/19 - 7s - loss: 0.6922 - binary_accuracy: 0.5054 - val_loss: 0.6891 - val_binary_accuracy: 0.5496\n",
            "Epoch 2/50\n",
            "19/19 - 0s - loss: 0.6908 - binary_accuracy: 0.5361 - val_loss: 0.6884 - val_binary_accuracy: 0.5496\n",
            "Epoch 3/50\n",
            "19/19 - 0s - loss: 0.6905 - binary_accuracy: 0.5361 - val_loss: 0.6881 - val_binary_accuracy: 0.5496\n",
            "Epoch 4/50\n",
            "19/19 - 0s - loss: 0.6908 - binary_accuracy: 0.5356 - val_loss: 0.6879 - val_binary_accuracy: 0.5496\n",
            "Epoch 5/50\n",
            "19/19 - 0s - loss: 0.6902 - binary_accuracy: 0.5356 - val_loss: 0.6878 - val_binary_accuracy: 0.5496\n",
            "Epoch 6/50\n",
            "19/19 - 0s - loss: 0.6908 - binary_accuracy: 0.5345 - val_loss: 0.6875 - val_binary_accuracy: 0.5496\n",
            "Epoch 7/50\n",
            "19/19 - 0s - loss: 0.6902 - binary_accuracy: 0.5345 - val_loss: 0.6874 - val_binary_accuracy: 0.5496\n",
            "Epoch 8/50\n",
            "19/19 - 0s - loss: 0.6907 - binary_accuracy: 0.5329 - val_loss: 0.6872 - val_binary_accuracy: 0.5496\n",
            "Epoch 9/50\n",
            "19/19 - 0s - loss: 0.6898 - binary_accuracy: 0.5356 - val_loss: 0.6871 - val_binary_accuracy: 0.5496\n",
            "Epoch 10/50\n",
            "19/19 - 0s - loss: 0.6900 - binary_accuracy: 0.5345 - val_loss: 0.6870 - val_binary_accuracy: 0.5496\n",
            "Epoch 11/50\n",
            "19/19 - 0s - loss: 0.6903 - binary_accuracy: 0.5351 - val_loss: 0.6868 - val_binary_accuracy: 0.5496\n",
            "Epoch 12/50\n",
            "19/19 - 0s - loss: 0.6905 - binary_accuracy: 0.5356 - val_loss: 0.6867 - val_binary_accuracy: 0.5496\n",
            "Epoch 13/50\n",
            "19/19 - 0s - loss: 0.6904 - binary_accuracy: 0.5351 - val_loss: 0.6866 - val_binary_accuracy: 0.5496\n",
            "Epoch 14/50\n",
            "19/19 - 0s - loss: 0.6898 - binary_accuracy: 0.5307 - val_loss: 0.6865 - val_binary_accuracy: 0.5496\n",
            "Epoch 15/50\n",
            "19/19 - 0s - loss: 0.6896 - binary_accuracy: 0.5356 - val_loss: 0.6864 - val_binary_accuracy: 0.5496\n",
            "Epoch 16/50\n",
            "19/19 - 0s - loss: 0.6901 - binary_accuracy: 0.5351 - val_loss: 0.6863 - val_binary_accuracy: 0.5496\n",
            "Epoch 17/50\n",
            "19/19 - 0s - loss: 0.6900 - binary_accuracy: 0.5372 - val_loss: 0.6862 - val_binary_accuracy: 0.5496\n",
            "Epoch 18/50\n",
            "19/19 - 0s - loss: 0.6903 - binary_accuracy: 0.5372 - val_loss: 0.6862 - val_binary_accuracy: 0.5496\n",
            "Epoch 19/50\n",
            "19/19 - 0s - loss: 0.6903 - binary_accuracy: 0.5351 - val_loss: 0.6861 - val_binary_accuracy: 0.5496\n",
            "Epoch 20/50\n",
            "19/19 - 0s - loss: 0.6897 - binary_accuracy: 0.5356 - val_loss: 0.6861 - val_binary_accuracy: 0.5496\n",
            "Epoch 21/50\n",
            "19/19 - 0s - loss: 0.6902 - binary_accuracy: 0.5313 - val_loss: 0.6860 - val_binary_accuracy: 0.5496\n",
            "Epoch 22/50\n",
            "19/19 - 0s - loss: 0.6897 - binary_accuracy: 0.5394 - val_loss: 0.6860 - val_binary_accuracy: 0.5496\n",
            "Epoch 23/50\n",
            "19/19 - 0s - loss: 0.6897 - binary_accuracy: 0.5324 - val_loss: 0.6859 - val_binary_accuracy: 0.5496\n",
            "Epoch 24/50\n",
            "19/19 - 0s - loss: 0.6896 - binary_accuracy: 0.5351 - val_loss: 0.6859 - val_binary_accuracy: 0.5474\n",
            "Epoch 25/50\n",
            "19/19 - 0s - loss: 0.6902 - binary_accuracy: 0.5324 - val_loss: 0.6859 - val_binary_accuracy: 0.5474\n",
            "Epoch 26/50\n",
            "19/19 - 0s - loss: 0.6902 - binary_accuracy: 0.5378 - val_loss: 0.6859 - val_binary_accuracy: 0.5474\n",
            "Epoch 27/50\n",
            "19/19 - 0s - loss: 0.6902 - binary_accuracy: 0.5361 - val_loss: 0.6858 - val_binary_accuracy: 0.5474\n",
            "Epoch 28/50\n",
            "19/19 - 0s - loss: 0.6893 - binary_accuracy: 0.5437 - val_loss: 0.6858 - val_binary_accuracy: 0.5474\n",
            "Epoch 29/50\n",
            "19/19 - 0s - loss: 0.6902 - binary_accuracy: 0.5334 - val_loss: 0.6857 - val_binary_accuracy: 0.5474\n",
            "Epoch 30/50\n",
            "19/19 - 0s - loss: 0.6895 - binary_accuracy: 0.5324 - val_loss: 0.6857 - val_binary_accuracy: 0.5474\n",
            "Epoch 31/50\n",
            "19/19 - 0s - loss: 0.6902 - binary_accuracy: 0.5388 - val_loss: 0.6857 - val_binary_accuracy: 0.5474\n",
            "Epoch 32/50\n",
            "19/19 - 0s - loss: 0.6897 - binary_accuracy: 0.5356 - val_loss: 0.6857 - val_binary_accuracy: 0.5474\n",
            "Epoch 33/50\n",
            "19/19 - 0s - loss: 0.6895 - binary_accuracy: 0.5405 - val_loss: 0.6856 - val_binary_accuracy: 0.5474\n",
            "Epoch 34/50\n",
            "19/19 - 0s - loss: 0.6901 - binary_accuracy: 0.5356 - val_loss: 0.6856 - val_binary_accuracy: 0.5474\n",
            "Epoch 35/50\n",
            "19/19 - 0s - loss: 0.6893 - binary_accuracy: 0.5383 - val_loss: 0.6855 - val_binary_accuracy: 0.5474\n",
            "Epoch 36/50\n",
            "19/19 - 0s - loss: 0.6899 - binary_accuracy: 0.5318 - val_loss: 0.6855 - val_binary_accuracy: 0.5474\n",
            "Epoch 37/50\n",
            "19/19 - 0s - loss: 0.6900 - binary_accuracy: 0.5264 - val_loss: 0.6855 - val_binary_accuracy: 0.5474\n",
            "Epoch 38/50\n",
            "19/19 - 0s - loss: 0.6898 - binary_accuracy: 0.5324 - val_loss: 0.6855 - val_binary_accuracy: 0.5474\n",
            "Epoch 39/50\n",
            "19/19 - 0s - loss: 0.6899 - binary_accuracy: 0.5394 - val_loss: 0.6855 - val_binary_accuracy: 0.5474\n",
            "Epoch 40/50\n",
            "19/19 - 0s - loss: 0.6895 - binary_accuracy: 0.5345 - val_loss: 0.6855 - val_binary_accuracy: 0.5474\n",
            "Epoch 41/50\n",
            "19/19 - 0s - loss: 0.6895 - binary_accuracy: 0.5345 - val_loss: 0.6855 - val_binary_accuracy: 0.5474\n",
            "Epoch 42/50\n",
            "19/19 - 0s - loss: 0.6896 - binary_accuracy: 0.5388 - val_loss: 0.6854 - val_binary_accuracy: 0.5474\n",
            "Epoch 43/50\n",
            "19/19 - 0s - loss: 0.6895 - binary_accuracy: 0.5453 - val_loss: 0.6854 - val_binary_accuracy: 0.5474\n",
            "Epoch 44/50\n",
            "19/19 - 0s - loss: 0.6898 - binary_accuracy: 0.5297 - val_loss: 0.6854 - val_binary_accuracy: 0.5474\n",
            "Epoch 45/50\n",
            "19/19 - 0s - loss: 0.6898 - binary_accuracy: 0.5378 - val_loss: 0.6854 - val_binary_accuracy: 0.5474\n",
            "Epoch 46/50\n",
            "19/19 - 0s - loss: 0.6897 - binary_accuracy: 0.5410 - val_loss: 0.6854 - val_binary_accuracy: 0.5517\n",
            "Epoch 47/50\n",
            "19/19 - 0s - loss: 0.6896 - binary_accuracy: 0.5388 - val_loss: 0.6854 - val_binary_accuracy: 0.5474\n",
            "Epoch 48/50\n",
            "19/19 - 0s - loss: 0.6896 - binary_accuracy: 0.5383 - val_loss: 0.6853 - val_binary_accuracy: 0.5474\n",
            "Epoch 49/50\n",
            "19/19 - 0s - loss: 0.6899 - binary_accuracy: 0.5405 - val_loss: 0.6853 - val_binary_accuracy: 0.5474\n",
            "Epoch 50/50\n",
            "19/19 - 0s - loss: 0.6895 - binary_accuracy: 0.5345 - val_loss: 0.6854 - val_binary_accuracy: 0.5496\n",
            "Model: \"sequential\"\n",
            "_________________________________________________________________\n",
            "Layer (type)                 Output Shape              Param #   \n",
            "=================================================================\n",
            "bidirectional (Bidirectional (None, 100)               22000     \n",
            "_________________________________________________________________\n",
            "dropout (Dropout)            (None, 100)               0         \n",
            "_________________________________________________________________\n",
            "dense (Dense)                (None, 1)                 101       \n",
            "_________________________________________________________________\n",
            "activation (Activation)      (None, 1)                 0         \n",
            "=================================================================\n",
            "Total params: 22,101\n",
            "Trainable params: 22,101\n",
            "Non-trainable params: 0\n",
            "_________________________________________________________________\n",
            "None\n"
          ],
          "name": "stdout"
        }
      ]
    },
    {
      "cell_type": "code",
      "metadata": {
        "colab": {
          "base_uri": "https://localhost:8080/",
          "height": 265
        },
        "id": "2eSvE3japfzS",
        "outputId": "e301b26e-d672-4290-edd5-d1139d76707e"
      },
      "source": [
        "from matplotlib import pyplot\n",
        "pyplot.plot(history.history['loss'], label='train')\n",
        "pyplot.show()"
      ],
      "execution_count": 9,
      "outputs": [
        {
          "output_type": "display_data",
          "data": {
            "image/png": "[encoded data removed]",
            "text/plain": [
              "<Figure size 432x288 with 1 Axes>"
            ]
          },
          "metadata": {
            "tags": [],
            "needs_background": "light"
          }
        }
      ]
    },
    {
      "cell_type": "markdown",
      "metadata": {
        "id": "U6ZLFLMtpfzT"
      },
      "source": [
        "# Evaluation"
      ]
    },
    {
      "cell_type": "code",
      "metadata": {
        "colab": {
          "base_uri": "https://localhost:8080/"
        },
        "id": "EllAaLfXpfzT",
        "outputId": "7a59e812-6b0e-49bf-ed0d-b2571c6a3400"
      },
      "source": [
        "# make a prediction\n",
        "\n",
        "#x_test = test_X.reshape((x_test.shape[0], x_test.shape[2]))\n",
        "yhat = model.predict(x_test)\n",
        "#print(yhat.score)\n",
        "rmse = math.sqrt(mean_squared_error(y_test, yhat))\n",
        "print('Test RMSE: %.3f' % rmse)"
      ],
      "execution_count": 10,
      "outputs": [
        {
          "output_type": "stream",
          "text": [
            "Test RMSE: 0.496\n"
          ],
          "name": "stdout"
        }
      ]
    },
    {
      "cell_type": "code",
      "metadata": {
        "colab": {
          "base_uri": "https://localhost:8080/"
        },
        "id": "X5gWuiWepfzT",
        "outputId": "c449269f-9685-45d8-e0f7-6844f1be8348"
      },
      "source": [
        "\n",
        "#print(yhat[0:90])\n",
        "yhat = yhat.astype(\"float64\")\n",
        "y2 = yhat\n",
        "for i in range(yhat.shape[0]):\n",
        "    if y2[i] >0.5:\n",
        "        y2[i] = 1\n",
        "    else:\n",
        "        y2[i] = 0\n",
        "matrix = metrics.confusion_matrix(y_test,yhat)\n",
        "#acc = met2.binary_accuracy(y_test,keras.backend.round(yhat),threshold=0.5)\n",
        "print(matrix)\n",
        "#print(acc)\n",
        "\n",
        "score = model.evaluate(x_test, y_test, batch_size=72, verbose=1)\n",
        "print('Test score:', score[1])\n"
      ],
      "execution_count": 11,
      "outputs": [
        {
          "output_type": "stream",
          "text": [
            "[[  2 207]\n",
            " [  2 253]]\n",
            "7/7 [==============================] - 0s 3ms/step - loss: 0.6854 - binary_accuracy: 0.5496\n",
            "Test score: 0.5495689511299133\n"
          ],
          "name": "stdout"
        }
      ]
    },
    {
      "cell_type": "code",
      "metadata": {
        "id": "Ft_AxH7dpfzU"
      },
      "source": [
        ""
      ],
      "execution_count": null,
      "outputs": []
    },
    {
      "cell_type": "code",
      "metadata": {
        "id": "dyVPyzGTpfzU"
      },
      "source": [
        ""
      ],
      "execution_count": null,
      "outputs": []
    }
  ]
}